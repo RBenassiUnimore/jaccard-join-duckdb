{
 "cells": [
  {
   "cell_type": "code",
   "execution_count": 2,
   "outputs": [],
   "source": [
    "import duckdb"
   ],
   "metadata": {
    "collapsed": false,
    "pycharm": {
     "name": "#%%\n"
    }
   }
  },
  {
   "cell_type": "code",
   "execution_count": 3,
   "outputs": [],
   "source": [
    "con = duckdb.connect(database=':memory:')"
   ],
   "metadata": {
    "collapsed": false,
    "pycharm": {
     "name": "#%%\n"
    }
   }
  },
  {
   "cell_type": "code",
   "execution_count": 19,
   "outputs": [
    {
     "data": {
      "text/plain": "<duckdb.DuckDBPyConnection at 0x1d53b6c7bf0>"
     },
     "execution_count": 19,
     "metadata": {},
     "output_type": "execute_result"
    }
   ],
   "source": [
    "con.execute(\"drop table my_table\")"
   ],
   "metadata": {
    "collapsed": false,
    "pycharm": {
     "name": "#%%\n"
    }
   }
  },
  {
   "cell_type": "code",
   "execution_count": 21,
   "outputs": [
    {
     "data": {
      "text/plain": "<duckdb.DuckDBPyConnection at 0x1d53b6c7bf0>"
     },
     "execution_count": 21,
     "metadata": {},
     "output_type": "execute_result"
    }
   ],
   "source": [
    "con.execute(\"CREATE TABLE my_table AS \"\n",
    "            \"SELECT id, concat(given_name, ' ', surname) as name \"\n",
    "            \"FROM 'data/S1_clean_.csv'\")"
   ],
   "metadata": {
    "collapsed": false,
    "pycharm": {
     "name": "#%%\n"
    }
   }
  },
  {
   "cell_type": "code",
   "execution_count": 22,
   "outputs": [
    {
     "data": {
      "text/plain": "[('S1_0', 'joshua morrison'),\n ('S1_1', 'jordan white'),\n ('S1_2', 'emmerson lock'),\n ('S1_3', 'alexandra grosser'),\n ('S1_4', 'michael wuchatsch'),\n ('S1_5', 'emmerson loyck'),\n ('S1_6', 'rhys schuetz'),\n ('S1_7', 'joshua greenj'),\n ('S1_8', 'olivia hobson'),\n ('S1_9', 'michael lierach'),\n ('S1_10', 'elisabett domiten'),\n ('S1_11', 'genoveffa hylander')]"
     },
     "execution_count": 22,
     "metadata": {},
     "output_type": "execute_result"
    }
   ],
   "source": [
    "con.execute(\"select * from my_table\")\n",
    "con.fetchall()"
   ],
   "metadata": {
    "collapsed": false,
    "pycharm": {
     "name": "#%%\n"
    }
   }
  },
  {
   "cell_type": "code",
   "execution_count": 80,
   "outputs": [],
   "source": [
    "q = 3"
   ],
   "metadata": {
    "collapsed": false,
    "pycharm": {
     "name": "#%%\n"
    }
   }
  },
  {
   "cell_type": "code",
   "execution_count": 99,
   "outputs": [],
   "source": [
    "maxlen = con.execute(\"select max(length(name)) from my_table\").fetchall()[0][0]"
   ],
   "metadata": {
    "collapsed": false,
    "pycharm": {
     "name": "#%%\n"
    }
   }
  },
  {
   "cell_type": "code",
   "execution_count": 102,
   "outputs": [
    {
     "data": {
      "text/plain": "[('S1_1', 1, '##j'),\n ('S1_1', 2, '#jo'),\n ('S1_1', 3, 'jor'),\n ('S1_1', 4, 'ord'),\n ('S1_1', 5, 'rda'),\n ('S1_1', 6, 'dan'),\n ('S1_1', 7, 'an '),\n ('S1_1', 8, 'n w'),\n ('S1_1', 9, ' wh'),\n ('S1_1', 10, 'whi'),\n ('S1_1', 11, 'hit'),\n ('S1_1', 12, 'ite'),\n ('S1_1', 13, 'te#'),\n ('S1_1', 14, 'e##'),\n ('S1_6', 1, '##r'),\n ('S1_6', 2, '#rh'),\n ('S1_6', 3, 'rhy'),\n ('S1_6', 4, 'hys'),\n ('S1_6', 5, 'ys '),\n ('S1_6', 6, 's s'),\n ('S1_6', 7, ' sc'),\n ('S1_6', 8, 'sch'),\n ('S1_6', 9, 'chu'),\n ('S1_6', 10, 'hue'),\n ('S1_6', 11, 'uet'),\n ('S1_6', 12, 'etz'),\n ('S1_6', 13, 'tz#'),\n ('S1_6', 14, 'z##'),\n ('S1_2', 1, '##e'),\n ('S1_2', 2, '#em'),\n ('S1_2', 3, 'emm'),\n ('S1_2', 4, 'mme'),\n ('S1_2', 5, 'mer'),\n ('S1_2', 6, 'ers'),\n ('S1_2', 7, 'rso'),\n ('S1_2', 8, 'son'),\n ('S1_2', 9, 'on '),\n ('S1_2', 10, 'n l'),\n ('S1_2', 11, ' lo'),\n ('S1_2', 12, 'loc'),\n ('S1_2', 13, 'ock'),\n ('S1_2', 14, 'ck#'),\n ('S1_2', 15, 'k##'),\n ('S1_7', 1, '##j'),\n ('S1_7', 2, '#jo'),\n ('S1_7', 3, 'jos'),\n ('S1_7', 4, 'osh'),\n ('S1_7', 5, 'shu'),\n ('S1_7', 6, 'hua'),\n ('S1_7', 7, 'ua '),\n ('S1_7', 8, 'a g'),\n ('S1_7', 9, ' gr'),\n ('S1_7', 10, 'gre'),\n ('S1_7', 11, 'ree'),\n ('S1_7', 12, 'een'),\n ('S1_7', 13, 'enj'),\n ('S1_7', 14, 'nj#'),\n ('S1_7', 15, 'j##'),\n ('S1_8', 1, '##o'),\n ('S1_8', 2, '#ol'),\n ('S1_8', 3, 'oli'),\n ('S1_8', 4, 'liv'),\n ('S1_8', 5, 'ivi'),\n ('S1_8', 6, 'via'),\n ('S1_8', 7, 'ia '),\n ('S1_8', 8, 'a h'),\n ('S1_8', 9, ' ho'),\n ('S1_8', 10, 'hob'),\n ('S1_8', 11, 'obs'),\n ('S1_8', 12, 'bso'),\n ('S1_8', 13, 'son'),\n ('S1_8', 14, 'on#'),\n ('S1_8', 15, 'n##'),\n ('S1_5', 1, '##e'),\n ('S1_5', 2, '#em'),\n ('S1_5', 3, 'emm'),\n ('S1_5', 4, 'mme'),\n ('S1_5', 5, 'mer'),\n ('S1_5', 6, 'ers'),\n ('S1_5', 7, 'rso'),\n ('S1_5', 8, 'son'),\n ('S1_5', 9, 'on '),\n ('S1_5', 10, 'n l'),\n ('S1_5', 11, ' lo'),\n ('S1_5', 12, 'loy'),\n ('S1_5', 13, 'oyc'),\n ('S1_5', 14, 'yck'),\n ('S1_5', 15, 'ck#'),\n ('S1_5', 16, 'k##'),\n ('S1_0', 1, '##j'),\n ('S1_0', 2, '#jo'),\n ('S1_0', 3, 'jos'),\n ('S1_0', 4, 'osh'),\n ('S1_0', 5, 'shu'),\n ('S1_0', 6, 'hua'),\n ('S1_0', 7, 'ua '),\n ('S1_0', 8, 'a m'),\n ('S1_0', 9, ' mo'),\n ('S1_0', 10, 'mor'),\n ('S1_0', 11, 'orr'),\n ('S1_0', 12, 'rri'),\n ('S1_0', 13, 'ris'),\n ('S1_0', 14, 'iso'),\n ('S1_0', 15, 'son'),\n ('S1_0', 16, 'on#'),\n ('S1_0', 17, 'n##'),\n ('S1_9', 1, '##m'),\n ('S1_9', 2, '#mi'),\n ('S1_9', 3, 'mic'),\n ('S1_9', 4, 'ich'),\n ('S1_9', 5, 'cha'),\n ('S1_9', 6, 'hae'),\n ('S1_9', 7, 'ael'),\n ('S1_9', 8, 'el '),\n ('S1_9', 9, 'l l'),\n ('S1_9', 10, ' li'),\n ('S1_9', 11, 'lie'),\n ('S1_9', 12, 'ier'),\n ('S1_9', 13, 'era'),\n ('S1_9', 14, 'rac'),\n ('S1_9', 15, 'ach'),\n ('S1_9', 16, 'ch#'),\n ('S1_9', 17, 'h##'),\n ('S1_3', 1, '##a'),\n ('S1_3', 2, '#al'),\n ('S1_3', 3, 'ale'),\n ('S1_3', 4, 'lex'),\n ('S1_3', 5, 'exa'),\n ('S1_3', 6, 'xan'),\n ('S1_3', 7, 'and'),\n ('S1_3', 8, 'ndr'),\n ('S1_3', 9, 'dra'),\n ('S1_3', 10, 'ra '),\n ('S1_3', 11, 'a g'),\n ('S1_3', 12, ' gr'),\n ('S1_3', 13, 'gro'),\n ('S1_3', 14, 'ros'),\n ('S1_3', 15, 'oss'),\n ('S1_3', 16, 'sse'),\n ('S1_3', 17, 'ser'),\n ('S1_3', 18, 'er#'),\n ('S1_3', 19, 'r##'),\n ('S1_4', 1, '##m'),\n ('S1_4', 2, '#mi'),\n ('S1_4', 3, 'mic'),\n ('S1_4', 4, 'ich'),\n ('S1_4', 5, 'cha'),\n ('S1_4', 6, 'hae'),\n ('S1_4', 7, 'ael'),\n ('S1_4', 8, 'el '),\n ('S1_4', 9, 'l w'),\n ('S1_4', 10, ' wu'),\n ('S1_4', 11, 'wuc'),\n ('S1_4', 12, 'uch'),\n ('S1_4', 13, 'cha'),\n ('S1_4', 14, 'hat'),\n ('S1_4', 15, 'ats'),\n ('S1_4', 16, 'tsc'),\n ('S1_4', 17, 'sch'),\n ('S1_4', 18, 'ch#'),\n ('S1_4', 19, 'h##'),\n ('S1_10', 1, '##e'),\n ('S1_10', 2, '#el'),\n ('S1_10', 3, 'eli'),\n ('S1_10', 4, 'lis'),\n ('S1_10', 5, 'isa'),\n ('S1_10', 6, 'sab'),\n ('S1_10', 7, 'abe'),\n ('S1_10', 8, 'bet'),\n ('S1_10', 9, 'ett'),\n ('S1_10', 10, 'tt '),\n ('S1_10', 11, 't d'),\n ('S1_10', 12, ' do'),\n ('S1_10', 13, 'dom'),\n ('S1_10', 14, 'omi'),\n ('S1_10', 15, 'mit'),\n ('S1_10', 16, 'ite'),\n ('S1_10', 17, 'ten'),\n ('S1_10', 18, 'en#'),\n ('S1_10', 19, 'n##'),\n ('S1_11', 1, '##g'),\n ('S1_11', 2, '#ge'),\n ('S1_11', 3, 'gen'),\n ('S1_11', 4, 'eno'),\n ('S1_11', 5, 'nov'),\n ('S1_11', 6, 'ove'),\n ('S1_11', 7, 'vef'),\n ('S1_11', 8, 'eff'),\n ('S1_11', 9, 'ffa'),\n ('S1_11', 10, 'fa '),\n ('S1_11', 11, 'a h'),\n ('S1_11', 12, ' hy'),\n ('S1_11', 13, 'hyl'),\n ('S1_11', 14, 'yla'),\n ('S1_11', 15, 'lan'),\n ('S1_11', 16, 'and'),\n ('S1_11', 17, 'nde'),\n ('S1_11', 18, 'der'),\n ('S1_11', 19, 'er#'),\n ('S1_11', 20, 'r##')]"
     },
     "execution_count": 102,
     "metadata": {},
     "output_type": "execute_result"
    }
   ],
   "source": [
    "con.execute(\"with cte as (select max(length(name)) as maxlen from my_table)\"\n",
    "            f\"select id, x as pos, substring(concat(repeat('#', {q} - 1), \"\n",
    "            \"lower(name), \"\n",
    "            \"repeat('#',3-1)),\"\n",
    "            \"x, 3) as qgram \"\n",
    "            f\"from my_table, range(1, {maxlen + q}) tbl(x) \"\n",
    "            f\"where x <= length(name) + {q} - 1\"\n",
    "            \"\").fetchall()"
   ],
   "metadata": {
    "collapsed": false,
    "pycharm": {
     "name": "#%%\n"
    }
   }
  },
  {
   "cell_type": "code",
   "execution_count": 102,
   "outputs": [],
   "source": [],
   "metadata": {
    "collapsed": false,
    "pycharm": {
     "name": "#%%\n"
    }
   }
  }
 ],
 "metadata": {
  "kernelspec": {
   "display_name": "Python 3",
   "language": "python",
   "name": "python3"
  },
  "language_info": {
   "codemirror_mode": {
    "name": "ipython",
    "version": 2
   },
   "file_extension": ".py",
   "mimetype": "text/x-python",
   "name": "python",
   "nbconvert_exporter": "python",
   "pygments_lexer": "ipython2",
   "version": "2.7.6"
  }
 },
 "nbformat": 4,
 "nbformat_minor": 0
}