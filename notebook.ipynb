{
 "cells": [
  {
   "cell_type": "code",
   "execution_count": 1,
   "outputs": [
    {
     "name": "stdout",
     "output_type": "stream",
     "text": [
      "Requirement already satisfied: duckdb in c:\\python39\\lib\\site-packages (0.6.1)\n",
      "Requirement already satisfied: numpy>=1.14 in c:\\python39\\lib\\site-packages (from duckdb) (1.23.5)\n"
     ]
    }
   ],
   "source": [
    "!pip install duckdb"
   ],
   "metadata": {
    "collapsed": false,
    "pycharm": {
     "name": "#%%\n"
    }
   }
  },
  {
   "cell_type": "code",
   "execution_count": 48,
   "outputs": [],
   "source": [
    "import duckdb\n",
    "import time"
   ],
   "metadata": {
    "collapsed": false,
    "pycharm": {
     "name": "#%%\n"
    }
   }
  },
  {
   "cell_type": "code",
   "execution_count": 49,
   "outputs": [
    {
     "name": "stdout",
     "output_type": "stream",
     "text": [
      "The autoreload extension is already loaded. To reload it, use:\n",
      "  %reload_ext autoreload\n"
     ]
    }
   ],
   "source": [
    "%load_ext autoreload\n",
    "%autoreload 2"
   ],
   "metadata": {
    "collapsed": false,
    "pycharm": {
     "name": "#%%\n"
    }
   }
  },
  {
   "cell_type": "code",
   "execution_count": 24,
   "outputs": [],
   "source": [
    "from py_duckdb.similarity_join import tokenizers\n",
    "from py_duckdb.similarity_join import jaccard_join\n",
    "from py_duckdb.similarity_join import jaccard_join_brute_force"
   ],
   "metadata": {
    "collapsed": false,
    "pycharm": {
     "name": "#%%\n"
    }
   }
  },
  {
   "cell_type": "code",
   "execution_count": 5,
   "outputs": [],
   "source": [
    "con = duckdb.connect(database=':memory:')"
   ],
   "metadata": {
    "collapsed": false,
    "pycharm": {
     "name": "#%%\n"
    }
   }
  },
  {
   "cell_type": "markdown",
   "source": [
    "# Source data"
   ],
   "metadata": {
    "collapsed": false,
    "pycharm": {
     "name": "#%% md\n"
    }
   }
  },
  {
   "cell_type": "code",
   "execution_count": 6,
   "outputs": [
    {
     "data": {
      "text/plain": "[('S1_0', 'joshua morrison 19101123'),\n ('S1_1', 'jordan white 19371126'),\n ('S1_2', 'emmerson lock 19211129'),\n ('S1_3', 'alexandra grosser 19720305'),\n ('S1_4', 'michael wuchatsch 19190110'),\n ('S1_5', 'emmerson loyck 19211129'),\n ('S1_6', 'rhys schuetz 19440909'),\n ('S1_7', 'joshua greenj 19790110'),\n ('S1_8', 'olivia hobson 19760812'),\n ('S1_9', 'michael lierach 19360816'),\n ('S1_10', 'elisabett domiten 19081008'),\n ('S1_11', 'genoveffa hylander 19071008')]"
     },
     "execution_count": 6,
     "metadata": {},
     "output_type": "execute_result"
    }
   ],
   "source": [
    "con.execute(\"drop table if exists src1\").execute(\n",
    "    \"CREATE TABLE src1 AS \"\n",
    "    \"SELECT id as rid, concat(given_name, ' ', surname, ' ', date_of_birth) as val \"\n",
    "    \"FROM 'data/S1_clean_.csv'\"\n",
    ").execute(\"select * from src1\").fetchall()"
   ],
   "metadata": {
    "collapsed": false,
    "pycharm": {
     "name": "#%%\n"
    }
   }
  },
  {
   "cell_type": "code",
   "execution_count": 7,
   "outputs": [
    {
     "data": {
      "text/plain": "[('S2_0', 'braecon schuetz 19440909'),\n ('S2_1', 'alexandra grosvenor 19930305'),\n ('S2_2', 'michael liersch 19360816'),\n ('S2_3', 'emmeron loyk 19321129'),\n ('S2_4', 'olivia hobson 19760812'),\n ('S2_5', 'joshua green 19010219'),\n ('S2_6', 'charlotte hyland 19340909'),\n ('S2_7', 'elisabet domitienn 19071008')]"
     },
     "execution_count": 7,
     "metadata": {},
     "output_type": "execute_result"
    }
   ],
   "source": [
    "con.execute(\"drop table if exists src2\").execute(\n",
    "    \"CREATE TABLE src2 AS \"\n",
    "    \"SELECT id as rid, concat(given_name, ' ', surname, ' ', date_of_birth) as val \"\n",
    "    \"FROM 'data/S2_clean_.csv'\"\n",
    ").execute(\"select * from src2\").fetchall()"
   ],
   "metadata": {
    "collapsed": false,
    "pycharm": {
     "name": "#%%\n"
    }
   }
  },
  {
   "cell_type": "code",
   "execution_count": 8,
   "outputs": [
    {
     "data": {
      "text/plain": "[('S3_0', 'emmerson loyck 19211129'),\n ('S3_1', 'michel wuchatsch 19190110'),\n ('S3_3', 'liersch michael 19360816'),\n ('S3_4', 'charlotte hyland 19460401'),\n ('S3_5', 'braedon schuetz 19440909'),\n ('S3_6', 'olivia hobson 19760812'),\n ('S3_7', 'joshua green 19790110'),\n ('S3_8', 'keely clarke 19050410'),\n ('S3_9', 'joshua morriosn 19101123'),\n ('S3_11', 'genovefa hyllande 19071008')]"
     },
     "execution_count": 8,
     "metadata": {},
     "output_type": "execute_result"
    }
   ],
   "source": [
    "con.execute(\"drop table if exists src3\").execute(\n",
    "    \"CREATE TABLE src3 AS \"\n",
    "    \"SELECT id as rid, concat(given_name, ' ', surname, ' ', date_of_birth) as val \"\n",
    "    \"FROM 'data/S3_clean_.csv'\"\n",
    ").execute(\"select * from src3\").fetchall()"
   ],
   "metadata": {
    "collapsed": false,
    "pycharm": {
     "name": "#%%\n"
    }
   }
  },
  {
   "cell_type": "code",
   "execution_count": 9,
   "outputs": [
    {
     "data": {
      "text/plain": "[('S3_0', 'emmerson loyck 19211129'),\n ('S3_1', 'michel wuchatsch 19190110'),\n ('S3_3', 'liersch michael 19360816'),\n ('S3_4', 'charlotte hyland 19460401'),\n ('S3_5', 'braedon schuetz 19440909'),\n ('S3_6', 'olivia hobson 19760812'),\n ('S3_7', 'joshua green 19790110'),\n ('S3_8', 'keely clarke 19050410'),\n ('S3_9', 'joshua morriosn 19101123'),\n ('S3_11', 'genovefa hyllande 19071008'),\n ('S2_0', 'braecon schuetz 19440909'),\n ('S2_1', 'alexandra grosvenor 19930305'),\n ('S2_2', 'michael liersch 19360816'),\n ('S2_3', 'emmeron loyk 19321129'),\n ('S2_4', 'olivia hobson 19760812'),\n ('S2_5', 'joshua green 19010219'),\n ('S2_6', 'charlotte hyland 19340909'),\n ('S2_7', 'elisabet domitienn 19071008'),\n ('S1_0', 'joshua morrison 19101123'),\n ('S1_1', 'jordan white 19371126'),\n ('S1_2', 'emmerson lock 19211129'),\n ('S1_3', 'alexandra grosser 19720305'),\n ('S1_4', 'michael wuchatsch 19190110'),\n ('S1_5', 'emmerson loyck 19211129'),\n ('S1_6', 'rhys schuetz 19440909'),\n ('S1_7', 'joshua greenj 19790110'),\n ('S1_8', 'olivia hobson 19760812'),\n ('S1_9', 'michael lierach 19360816'),\n ('S1_10', 'elisabett domiten 19081008'),\n ('S1_11', 'genoveffa hylander 19071008')]"
     },
     "execution_count": 9,
     "metadata": {},
     "output_type": "execute_result"
    }
   ],
   "source": [
    "con.execute(\"drop view if exists srcall\").execute(\n",
    "    \"create view srcall as \"\n",
    "    \"select * from src1 \"\n",
    "    \"union \"\n",
    "    \"select * from src2 \"\n",
    "    \"union \"\n",
    "    \"select * from src3 \"\n",
    ").execute(\"select * from srcall\").fetchall()"
   ],
   "metadata": {
    "collapsed": false,
    "pycharm": {
     "name": "#%%\n"
    }
   }
  },
  {
   "cell_type": "markdown",
   "source": [
    "# Test: actors"
   ],
   "metadata": {
    "collapsed": false,
    "pycharm": {
     "name": "#%% md\n"
    }
   }
  },
  {
   "cell_type": "code",
   "execution_count": 27,
   "outputs": [],
   "source": [
    "# function args\n",
    "l_table = 'srcall'\n",
    "# r_table = 'srcall'\n",
    "r_table = ''\n",
    "\n",
    "l_key_attr = 'rid'\n",
    "r_key_attr = 'rid'\n",
    "l_join_attr = 'val'\n",
    "r_join_attr = 'val'\n",
    "# tokenizer = tokenizers.WordsTokzr()\n",
    "tokenizer = tokenizers.QGramsTokzr(3)\n",
    "threshold = 0.5\n",
    "out_table_name = 'matches'\n",
    "bf_out_table_name = 'bfmatches'"
   ],
   "metadata": {
    "collapsed": false,
    "pycharm": {
     "name": "#%%\n"
    }
   }
  },
  {
   "cell_type": "code",
   "execution_count": 63,
   "outputs": [
    {
     "data": {
      "text/plain": "0.06242847442626953"
     },
     "execution_count": 63,
     "metadata": {},
     "output_type": "execute_result"
    }
   ],
   "source": [
    "start_time = time.time()\n",
    "jaccard_join(\n",
    "    con, l_table, r_table, l_key_attr, r_key_attr, l_join_attr, r_join_attr, tokenizer, threshold, out_table_name\n",
    ").execute(f\"select * from {out_table_name}\").fetchall()\n",
    "end_time = time.time()\n",
    "end_time - start_time"
   ],
   "metadata": {
    "collapsed": false,
    "pycharm": {
     "name": "#%%\n"
    }
   }
  },
  {
   "cell_type": "code",
   "execution_count": 64,
   "outputs": [
    {
     "data": {
      "text/plain": "0.005068778991699219"
     },
     "execution_count": 64,
     "metadata": {},
     "output_type": "execute_result"
    }
   ],
   "source": [
    "start_time = time.time()\n",
    "jaccard_join_brute_force(\n",
    "    con, l_table, r_table, l_key_attr, r_key_attr, l_join_attr, r_join_attr, tokenizer, threshold, bf_out_table_name\n",
    ").execute(f\"select * from {bf_out_table_name}\").fetchall()\n",
    "end_time = time.time()\n",
    "end_time - start_time"
   ],
   "metadata": {
    "collapsed": false,
    "pycharm": {
     "name": "#%%\n"
    }
   }
  },
  {
   "cell_type": "code",
   "execution_count": 65,
   "outputs": [
    {
     "data": {
      "text/plain": "[]"
     },
     "execution_count": 65,
     "metadata": {},
     "output_type": "execute_result"
    }
   ],
   "source": [
    "con.execute(\n",
    "    \"select * \"\n",
    "    f\"from {out_table_name} m \"\n",
    "    f\"full outer join {bf_out_table_name} b on b.rid1 = m.rid1 and b.rid2 = m.rid2 \"\n",
    "    \"where m.rid1 is null \"\n",
    ").fetchall()"
   ],
   "metadata": {
    "collapsed": false,
    "pycharm": {
     "name": "#%%\n"
    }
   }
  },
  {
   "cell_type": "code",
   "execution_count": 44,
   "outputs": [],
   "source": [
    "# function args\n",
    "l_table = 'src1'\n",
    "r_table = 'src2'\n",
    "\n",
    "l_key_attr = 'rid'\n",
    "r_key_attr = 'rid'\n",
    "l_join_attr = 'val'\n",
    "r_join_attr = 'val'\n",
    "# tokenizer = tokenizers.WordsTokzr()\n",
    "tokenizer = tokenizers.QGramsTokzr(3)\n",
    "threshold = 0.5\n",
    "out_table_name = 'matches'\n",
    "bf_out_table_name = 'bfmatches'"
   ],
   "metadata": {
    "collapsed": false,
    "pycharm": {
     "name": "#%%\n"
    }
   }
  },
  {
   "cell_type": "code",
   "execution_count": 45,
   "outputs": [
    {
     "data": {
      "text/plain": "[('S1_10', 'S2_7'),\n ('S1_3', 'S2_1'),\n ('S1_5', 'S2_3'),\n ('S1_6', 'S2_0'),\n ('S1_8', 'S2_4'),\n ('S1_9', 'S2_2')]"
     },
     "execution_count": 45,
     "metadata": {},
     "output_type": "execute_result"
    }
   ],
   "source": [
    "jaccard_join(\n",
    "    con, l_table, r_table, l_key_attr, r_key_attr, l_join_attr, r_join_attr, tokenizer, threshold, out_table_name\n",
    ").execute(f\"select * from {out_table_name}\").fetchall()"
   ],
   "metadata": {
    "collapsed": false,
    "pycharm": {
     "name": "#%%\n"
    }
   }
  },
  {
   "cell_type": "code",
   "execution_count": 46,
   "outputs": [
    {
     "data": {
      "text/plain": "[('S1_3', 'S2_1'),\n ('S1_5', 'S2_3'),\n ('S1_6', 'S2_0'),\n ('S1_8', 'S2_4'),\n ('S1_9', 'S2_2'),\n ('S1_10', 'S2_7')]"
     },
     "execution_count": 46,
     "metadata": {},
     "output_type": "execute_result"
    }
   ],
   "source": [
    "jaccard_join_brute_force(\n",
    "    con, l_table, r_table, l_key_attr, r_key_attr, l_join_attr, r_join_attr, tokenizer, threshold, bf_out_table_name\n",
    ").execute(f\"select * from {bf_out_table_name}\").fetchall()"
   ],
   "metadata": {
    "collapsed": false,
    "pycharm": {
     "name": "#%%\n"
    }
   }
  },
  {
   "cell_type": "code",
   "execution_count": 47,
   "outputs": [
    {
     "data": {
      "text/plain": "[]"
     },
     "execution_count": 47,
     "metadata": {},
     "output_type": "execute_result"
    }
   ],
   "source": [
    "con.execute(\n",
    "    \"select * \"\n",
    "    f\"from {out_table_name} m \"\n",
    "    f\"full outer join {bf_out_table_name} b on b.rid1 = m.rid1 and b.rid2 = m.rid2 \"\n",
    "    \"where m.rid1 is null \"\n",
    ").fetchall()"
   ],
   "metadata": {
    "collapsed": false,
    "pycharm": {
     "name": "#%%\n"
    }
   }
  },
  {
   "cell_type": "markdown",
   "source": [
    "# Test: NCVR"
   ],
   "metadata": {
    "collapsed": false,
    "pycharm": {
     "name": "#%% md\n"
    }
   }
  },
  {
   "cell_type": "code",
   "execution_count": 67,
   "outputs": [
    {
     "data": {
      "text/plain": "[('0_22_9865350',\n  '22 9865350 whitney baker female29 in 400 orange poplar 27510  '),\n ('0_40_12768214',\n  '40 12768214 abbington pope female23 nc 1221 wake westview 27605  '),\n ('0_122_9112102',\n  '122 9112102 rebecca wilkins female49 nc 811 new hanover magnolia 28428 8120512'),\n ('0_140_9704280',\n  '140 9704280 justin brown male34 ca 3225 orange us hwy 70 27243  '),\n ('0_222_3198122',\n  '222 3198122 stephanie eissens female38 nc 100 durham village circle 27713  '),\n ('0_240_94472',\n  '240 94472 danielle peschon female28 tn 1049 alamance kelso 27215 6758354'),\n ('0_251_6640272',\n  '251 6640272 michelle hinnant female45 nc 130 johnston braswell 27577 2024737'),\n ('0_340_10179287',\n  '340 10179287 mark caccio male64 ct 213 pender scottsdale 28411 6008095'),\n ('0_351_6376559',\n  '351 6376559 nancy hoover female55 ny 618 iredell isle of pines 28117  '),\n ('0_451_1422321',\n  '451 1422321 thomas johnson male29 nc 501 caswell cherry grove 27379 2696260'),\n ('0_522_12340214',\n  '522 12340214 judy parker unk56   1929 wake hodge 27545  '),\n ('0_551_12722768',\n  '551 12722768 michael bode male42 in 2416 wake barton oaks 27614  '),\n ('0_622_2403315',\n  '622 2403315 karen palmer female57 ma 206 cumberland mcfadyen 28314  '),\n ('0_651_13155309',\n  '651 13155309 ernest jamison male54 nc 1215 wake collington 27511  '),\n ('0_722_11491604',\n  '722 11491604 philip hall male47 wv 7541 sampson newton grove 28334 3663787'),\n ('0_740_6154279',\n  '740 6154279 vanessa wright female36 oh 10 henderson rice 28732 6069593'),\n ('0_751_2581542',\n  '751 2581542 adrian madsen male46   324 cumberland bitteroot 28314 2910409'),\n ('0_851_1058989',\n  '851 1058989 sara plante unk30   2000 cabarrus ramble 28107  '),\n ('0_922_12748976',\n  '922 12748976 delton brown male57 nc 5904 wake spring glen 27616  '),\n ('0_940_10339747',\n  '940 10339747 keven painter male29 nc 2241 pitt university suites 27834 7418850'),\n ('0_951_1693517',\n  '951 1693517 james wilson male75 wv 20005 chatham bragg 27517 9290155'),\n ('0_1022_7968679',\n  '1022 7968679 courtney mackey female23   1319 mecklenburg rising oak 28206  '),\n ('0_1040_10986345',\n  '1040 10986345 anniatha frazier mcmillan female67 nc 91 robeson parrot 28360  '),\n ('0_1051_2878768',\n  '1051 2878768 vera minton female69 sc 126 davidson st dylan 27295  '),\n ('0_1140_6460300',\n  '1140 6460300 amber broach female32 sc 825 iredell vintage 28115  '),\n ('0_1151_536912',\n  '1151 536912 dillon whatley male26 az 170 buncombe palmer ford 28787 6454743'),\n ('0_1222_1130018',\n  '1222 1130018 leshondar mcmullen female47 nc 814 cabarrus concord chase 28025 8868123'),\n ('0_1240_1391987',\n  '1240 1391987 teresa starnes female63 nc 635 carteret pearson 28570 3932875'),\n ('0_1251_10408103',\n  '1251 10408103 jennifer barber female46 nc 1309 pitt sonata 27858  '),\n ('0_1322_9545049',\n  '1322 9545049 mary flowers female54 ma 621 onslow prospect 28460 4376705'),\n ('0_1351_6909311',\n  '1351 6909311 andreas trump male30 dc 300 lee queens 27330 2586509'),\n ('0_1422_13489670',\n  '1422 13489670 marion covington male64 nc 649 wake pendleton lake 27614  '),\n ('0_1451_11959513',\n  '1451 11959513 rebecca jones female42 va 6702 union wesley glen 28173  '),\n ('0_1622_7186788',\n  '1622 7186788 susan abernathy female64 nc 221 madison dallas jack 28753 6838719'),\n ('0_1640_12169622',\n  '1640 12169622 judy degernes female65 mn 1316 union crane 28173  '),\n ('0_1651_757921',\n  '1651 757921 ceyanne brooks female44 ms 500 buncombe kensington 28803 6912475'),\n ('0_1740_13855498',\n  '1740 13855498 kathren woodham female38   562 wayne providence church 27530 7357046'),\n ('0_1822_3015982',\n  '1822 3015982 courtney harper female23 sc 262 davidson hudson 27107  '),\n ('0_1840_7447052',\n  '1840 7447052 joseph baker male46   2417 mecklenburg normancrest 28270  '),\n ('0_1851_3586283',\n  '1851 3586283 monica swisher female46 tx 75 durham forest oaks 27705  '),\n ('0_1940_8280393',\n  '1940 8280393 jeffery sturdivant male56 nc 14016 mecklenburg millers creek 28278  '),\n ('0_1951_12140921',\n  '1951 12140921 ross brigman male90 nc 3816 union fox run 28104  '),\n ('0_2051_11228680',\n  '2051 11228680 kevin johnson male45 ny 217 rowan 13th 28144  '),\n ('0_2122_9589555',\n  '2122 9589555 jasmine sobalvarro female31 ca 115 onslow spring branch 28555  '),\n ('0_2222_10067806',\n  '2222 10067806 leigh jenkins unk29   191 beaufort sabre pointe 27808  '),\n ('0_2240_11945491',\n  '2240 11945491 latricia hunter female46   620 union beauhaven 28173  '),\n ('0_2340_948059',\n  '2340 948059 logan shuman female30 nc 1628 cabarrus eastwood 28083  '),\n ('0_2451_12188650',\n  '2451 12188650 jung kim female28 oc 3641 union fox run 28104  '),\n ('0_2651_8462590',\n  '2651 8462590 sacha bias female43 sc 4920 mecklenburg misty oaks 28269  '),\n ('0_2740_8889689',\n  '2740 8889689 tammy ruzbacki female56 ca 808 nash colony 27804 4889636'),\n ('0_2840_8536075',\n  '2840 8536075 jeramy sinclair male37 nc 9161 mecklenburg meadow vista 28213  '),\n ('0_2922_12142977',\n  '2922 12142977 branden lee male28 il 1014 union spanish moss 28079  '),\n ('0_3122_8935054',\n  '3122 8935054 tamika kirksey female41 sc 609 nash lakeview 27856 8223116'),\n ('0_3140_907191',\n  '3140 907191 angel johnson female41   135 burke ribet 28690  '),\n ('0_3222_10322974',\n  '3222 10322974 ramari thomas male20 nc 826 pitt davenport farm 28590 6261096'),\n ('0_3240_2257371',\n  '3240 2257371 william long male59 nc 211 craven glenburnie 28560 6580447'),\n ('0_3251_12404944',\n  '3251 12404944 edward finch male30 ny 6221 wake hills 27609  '),\n ('0_3351_2455593',\n  '3351 2455593 hannelore ringer female32 va 5716 cumberland crepe myrtle 28348  '),\n ('0_3440_2048840',\n  '3440 2048840 emily smith female41 nc 611 columbus pine circle 28463 6545619'),\n ('0_3522_2877261',\n  '3522 2877261 timothy brinkley male39 nc 1335 davidson craver 27295  '),\n ('0_3551_2874784',\n  '3551 2874784 christopher hines male21 nc 136 davidson lakeview 27360  '),\n ('0_3640_12658601',\n  '3640 12658601 peter mcdaniel male47   6201 wake grace park 27560  '),\n ('0_3722_2623328',\n  '3722 2623328 cedric mclain male46 ny 8429 cumberland english saddle 28314 5061091'),\n ('0_3740_10998806',\n  '3740 10998806 carlton jones male62 wa 205 robeson 21st 28358 9645618'),\n ('0_3751_1179043',\n  '3751 1179043 james kelly male68 mi 416 cabarrus summerlake 28025 9604005'),\n ('0_3822_11913154',\n  '3822 11913154 david troy male73 nc 209 bladen mercer mill 28337  '),\n ('0_3840_11013021',\n  '3840 11013021 jason allen male22 nc 1 robeson university 28372 3760186'),\n ('0_4040_10400866',\n  '4040 10400866 george mills male70 nc 3682 pitt ivy 27858 7147279'),\n ('0_4140_13775206',\n  '4140 13775206 wayne harris male61 nc 129 watauga lazy lake 28607 4571070'),\n ('0_4240_10599887',\n  '4240 10599887 katherine pendergast female19 nc 3323 pitt 10th 27858  '),\n ('0_4322_13076031',\n  '4322 13076031 james norris male43 nc 205 wake hyannis 27540  '),\n ('0_4340_13125274',\n  '4340 13125274 stephen petitjean male27 nj 3200 wake madison farm 27529  '),\n ('0_4440_6109000',\n  '4440 6109000 vivian lutz female83 mi 45 henderson perseverance pathway 28739 6984701'),\n ('0_4622_6336957',\n  '4622 6336957 erick echevarria male26 pr 114 iredell greylin 28625  '),\n ('0_4651_6284216',\n  '4651 6284216 phillip collins male54 nc 122 hoke eagle 28306 8187263'),\n ('0_4722_1134568',\n  '4722 1134568 rosemary hyman female66   11495 cabarrus mooresville 28036  '),\n ('0_4740_11511493',\n  '4740 11511493 esthephanie chavira female22 nc 4044 sampson beulah 28328 9862925'),\n ('0_4751_1617470',\n  '4751 1617470 jerry eckard male70   6777 catawba little mountain 28673  '),\n ('0_4822_7212329',\n  '4822 7212329 jeremy hayden male38 va 6562 martin fire dept 27892 6615595'),\n ('0_4840_7246686',\n  '4840 7246686 sue miller female61 nc 486 mcdowell bear den mountain 28777 7666298'),\n ('0_4851_10323341',\n  '4851 10323341 abby brown female25 nc 888 pitt winterfield 28590 7144919'),\n ('0_4922_6825581',\n  '4922 6825581 christian banks male52 oh 97 johnston neighbor 27524 9890082'),\n ('0_4940_6724474',\n  '4940 6724474 dominique ellis female25 nc 296 johnston big pine 27520 6336952'),\n ('0_5022_683957',\n  '5022 683957 michael elliott male65   144 buncombe colony 28704 6872423'),\n ('0_5251_13015724',\n  '5251 13015724 ruth jaworski female45 nc 403 wake new rail 27513  '),\n ('0_5340_12561570',\n  '5340 12561570 emily blanchard female30   1736 wake talking rock 27519  '),\n ('0_5451_2369736',\n  '5451 2369736 charles thomas male40 tn 70 cumberland cambridge arms 28303 8167767'),\n ('0_5540_10712750',\n  '5540 10712750 billy foote male41 va 3251 randolph flynt 27298  '),\n ('0_5551_4038316',\n  '5551 4038316 krishauna rolle female38 nc 212 forsyth wake 27106  '),\n ('0_5622_10171010',\n  '5622 10171010 terry houser male53 nc 1203 pender topsail 28445 9107786'),\n ('0_5640_563518',\n  '5640 563518 amanda conard female34 nc 9 buncombe sunny ridge 28804 6458096'),\n ('0_5751_1267326',\n  '5751 1267326 kristi whitaker female39 nc 316 caldwell delmar 28638 7268155'),\n ('0_5851_2880373',\n  '5851 2880373 robin van pelt wilson female51 nj 6718 davidson planters 27265  '),\n ('0_5940_3559041',\n  '5940 3559041 kossi agbeve male42 oc 300 durham lynn forest 27713  '),\n ('0_6051_6245092',\n  '6051 6245092 maureen reavis female91   612 hoke health 28376 8756067'),\n ('0_6122_7393104',\n  '6122 7393104 william shaw male32 nc 6032 mecklenburg plaza 28215 5350526'),\n ('0_6651_13543847',\n  '6651 13543847 elizabeth townsend female25 nc 1211 wake apache 27502  ')]"
     },
     "execution_count": 67,
     "metadata": {},
     "output_type": "execute_result"
    }
   ],
   "source": [
    "con.execute(\"drop table if exists src1\").execute(\n",
    "    \"CREATE TABLE src1 AS \"\n",
    "    \"SELECT id as rid, concat(entity, ' ', rec_id, ' ', first_name, ' ', last_name, ' ', sex,age, ' ', birth_place, ' ', house_num, ' ', county_desc, ' ', street_name, ' ', zip_code, ' ', phone_num) as val \"\n",
    "    \"FROM 'data/NCVR_AF_clean.csv'\"\n",
    ").execute(\"select * from src1\").fetchall()"
   ],
   "metadata": {
    "collapsed": false,
    "pycharm": {
     "name": "#%%\n"
    }
   }
  },
  {
   "cell_type": "code",
   "execution_count": 68,
   "outputs": [
    {
     "data": {
      "text/plain": "[('1_40_13913995',\n  '40 13913995 abbington pope female23 nc 104 wayne breezewood 27534  '),\n ('1_41_520429',\n  '41 520429 angelon smith female40 nc 119 buncombe flint 28801  '),\n ('1_122_9000404',\n  '122 9000404 rebecca wilkins female49   1501 nash lafayette 27803  '),\n ('1_140_9350108',\n  '140 9350108 justin brown male34 ca 211 new hanover queen 28401 7417817'),\n ('1_222_13226442',\n  '222 13226442 stephanie eissens meacomes female38 nc 4033 wake enfield ridge 27519  '),\n ('1_240_116265',\n  '240 116265 danielle peschon female28   730 alamance boone station 27215 2789980'),\n ('1_241_8517073',\n  '241 8517073 lovie matthews female26 tn 5634 mecklenburg via romano 28270  '),\n ('1_322_6614729',\n  '322 6614729 sandra creech female52 nc 1347 johnston crocker 27577 4645707'),\n ('1_340_9418808',\n  '340 9418808 mark caccio male64 ct 605 onslow windsong north 28584 6008095'),\n ('1_341_6619987',\n  '341 6619987 amanda spencer female37 nc 607 johnston preston 27576  '),\n ('1_422_10444451',\n  '422 10444451 teri mcewen female42 nc 2003 pitt brook 27858  '),\n ('1_440_9332209',\n  '440 9332209 heather spence female33 nc 4611 new hanover mcclelland 28405 2155058'),\n ('1_441_13264527',\n  '441 13264527 katherine lumb female56 pa 2103 wake stonewater glen 27519  '),\n ('1_540_1765721',\n  '540 1765721 kathleen padgett unk53   78 chatham timber creek 27517  '),\n ('1_541_10807443',\n  '541 10807443 janine kube female56 mi 112 randolph parkview 27263  '),\n ('1_640_6287229',\n  '640 6287229 brandon ash male26   249 hyde squires 27810  '),\n ('1_641_1428440',\n  '641 1428440 brandon poteat male37   1386 caswell old nc highway 86 n 27379  '),\n ('1_740_654455',\n  '740 654455 vanessa wright female36 oh 155 buncombe laurel 28806 4895731'),\n ('1_822_10931036',\n  '822 10931036 katrina hanson female40 nc 3750 robeson meadowview 28358  '),\n ('1_840_2956302',\n  '840 2956302 nancy stafford female56 nc 243 davidson clay 27299  '),\n ('1_922_12317422',\n  '922 12317422 delton brown male57 nc 5904 wake spring glen 27616  '),\n ('1_940_13138863',\n  '940 13138863 keven painter male29 nc 2500 wake batterhayes 27615  '),\n ('1_941_2537030',\n  '941 2537030 anita freeman female43 tx 2078 cumberland lothbury 28304 9759447'),\n ('1_1022_8529932',\n  '1022 8529932 courtney hackey female23   1319 mecklenburg rising oak 28206  '),\n ('1_1040_10950068',\n  '1040 10950068 anniatha frazier female67 nc 91 robeson parrot 28360  '),\n ('1_1122_9842647',\n  '1122 9842647 patricia kurt female58 ny 716 orange churchill 27517  '),\n ('1_1141_8499728',\n  '1141 8499728 stacy mccuen female39 nc 8337 mecklenburg meadow lakes 28210  '),\n ('1_1222_1104748',\n  '1222 1104748 leshondar mcmullen female47 nc 179 cabarrus corban 28025 8868123'),\n ('1_1240_1340473',\n  '1240 1340473 teresa pender female63 nc 136 carteret avis 28570 2694984'),\n ('1_1241_13886807',\n  '1241 13886807 george aycock male72 nc 2236 wayne nc 581 27863  '),\n ('1_1322_6645830',\n  '1322 6645830 mary flowers female54 ma 617 johnston rudy 27520 6703152'),\n ('1_1340_3795261',\n  '1340 3795261 denise hines female37   525 edgecombe lincoln 27801  '),\n ('1_1440_7654663',\n  '1440 7654663 christopher brophy male36   9141 mecklenburg windknob 28078  '),\n ('1_1441_13723023',\n  '1441 13723023 leah chandler female24 nc 242 watauga hampton 28607  '),\n ('1_1540_7933001',\n  '1540 7933001 miguel mauriz male31 ca 4800 mecklenburg statesville 28269  '),\n ('1_1541_1078201',\n  '1541 1078201 kelli christian female34   10682 cabarrus sweethaven 28075 6148158'),\n ('1_1622_7646766',\n  '1622 7646766 susan abernathy female64   822 mecklenburg oak 28214  '),\n ('1_1641_12075684',\n  '1641 12075684 leslie brafford female57 nc 1032 union kensrowe 28104  '),\n ('1_1722_11226351',\n  '1722 11226351 adrain hunt female34 nc 410 rowan 15th 28144  '),\n ('1_1741_7343057',\n  '1741 7343057 christopher miller male29 ga 7208 mecklenburg walterboro 28227  '),\n ('1_1922_8247946',\n  '1922 8247946 adam allen male32 tx 3030 mecklenburg karen 28205 2893018'),\n ('1_1941_7943494',\n  '1941 7943494 asrat kidane male46 oc 3419 mecklenburg biscayne 28205  '),\n ('1_2022_788286',\n  '2022 788286 lisa brennan female43 ny 27 buncombe fulton 28801 8088554'),\n ('1_2040_12686173',\n  '2040 12686173 anna mccarthy female69 pa 4808 wake cypress ford 27526  '),\n ('1_2140_9382586',\n  '2140 9382586 chelsea donovan female36 il 509 new hanover 2nd 28401 6464606'),\n ('1_2141_9339895',\n  '2141 9339895 jeremy schwison male28   4166 new hanover spirea 28403  '),\n ('1_2222_9637253',\n  '2222 9637253 leigh jenkins female29 nc 1802 orange granville towers 27514  '),\n ('1_2322_9434637',\n  '2322 9434637 craig baysden unk39   103 onslow old fountain 28574  '),\n ('1_2341_478005',\n  '2341 478005 jesseca bryant female32 sc 24 buncombe ravenwood 28732  '),\n ('1_2422_3744443',\n  '2422 3744443 ricky pitts male48   2405 edgecombe sarah 27801 9851430'),\n ('1_2440_7987650',\n  '2440 7987650 lisa hanami female32 ny 8009 mecklenburg andover creek 28210  '),\n ('1_2522_9723262',\n  '2522 9723262 alyson helms female23 nc 213 orange summerwalk 27517  '),\n ('1_2540_2370497',\n  '2540 2370497 george howard male51 nc 313 cumberland abbottswood 28301 3393453'),\n ('1_2541_13176126',\n  '2541 13176126 lisa boyd female55 ma 2901 wake springsweet 27612  '),\n ('1_2622_9753093',\n  '2622 9753093 briana lefler female26 nc 4206 orange mill creek 27231  '),\n ('1_2640_977594',\n  '2640 977594 christopher wattie male38   5669 cabarrus hammermill 28075 8404383'),\n ('1_2722_10836165',\n  '2722 10836165 christine jones female36 nc 148 richmond perkins 28347 4612525'),\n ('1_2740_3773605',\n  '2740 3773605 tammy ruzbacki female56 ca 101 edgecombe church 27886 4889636'),\n ('1_2741_8891564',\n  '2741 8891564 sherry rogers female43 md 1609 nash briar glenn 27804  '),\n ('1_2822_8605310',\n  '2822 8605310 joshua colenda male26 va 20605 mecklenburg willow pond 28031  '),\n ('1_2840_8464582',\n  '2840 8464582 jeramy sinclair male37 nc 7324 mecklenburg creekwood quorum 28212  '),\n ('1_2841_8536461',\n  '2841 8536461 daniel fellenzer male21 oc 1530 mecklenburg mallard creek church 28262  '),\n ('1_2922_8646097',\n  '2922 8646097 branden lee male28   1616 mecklenburg chasewood 28212  '),\n ('1_3022_363535',\n  '3022 363535 casey nolan male27 md 3048 brunswick yorkstone 28451 6153103'),\n ('1_3041_12401522',\n  '3041 12401522 andrea smaxwell female34 in 6207 wake creek glen 27502  '),\n ('1_3141_13928423',\n  '3141 13928423 sebastian woodlock male19 nc 1503 wayne beech 27530 2214591'),\n ('1_3241_10003710',\n  '3241 10003710 beulah hawkins female57 nc 8319 pamlico nc hwy 304 28515 4740199'),\n ('1_3322_248471',\n  '3322 248471 albert caylor male74   138 brunswick park 28461  '),\n ('1_3340_2405081',\n  '3340 2405081 john smith male25 ny 1067 cumberland pleasant oak 28314 4873616'),\n ('1_3440_2047934',\n  '3440 2047934 emily smith female41   410 columbus lewis 28472  '),\n ('1_3441_203150',\n  '3441 203150 rhonda teague female56 nc 8749 alamance pleasant hill church 27298 3286408'),\n ('1_3522_3103379',\n  '3522 3103379 timothy brinkley male39 nc 205 davie old homeplace 27006  '),\n ('1_3540_3176455',\n  '3540 3176455 william hodan male46 mi 4301 durham waterford valley 27713  '),\n ('1_3541_3168895',\n  '3541 3168895 william mcghee male76 nc 3503 durham brightwood 27703  '),\n ('1_3622_3298829',\n  '3622 3298829 sarah thornton female27   2523 durham chapel hill 27707  '),\n ('1_3722_11566856',\n  '3722 11566856 cedric mclain male46 ny 12940 scotland stratford 28352 2911655'),\n ('1_3822_11891631',\n  '3822 11891631 david troy male67 nc 209 bladen mercer mill 28337 8720913'),\n ('1_4022_10236169',\n  '4022 10236169 john williams male65 ny 1115 pender lillington 28457 6023496'),\n ('1_4140_14001411',\n  '4140 14001411 wayne harris male61 nc 2200 wilkes nc hwy 16 28697  '),\n ('1_4222_1542168',\n  '4222 1542168 dakotah ledford male29 nc 1125 catawba fairgrove church 28613  '),\n ('1_4241_10301138',\n  '4241 10301138 darlene sutton female47 oh 358 person gravitte 27573  '),\n ('1_4341_10364870',\n  '4341 10364870 mary bodmer female21 va 304 pitt gateway west hall 27858  '),\n ('1_4422_1365826',\n  '4422 1365826 edwin stetter male95 ky 303 carteret barbour 28557 2220401'),\n ('1_4441_6596725',\n  '4441 6596725 blythe rose male87 nc 708 jackson riverbend 28779 6311584'),\n ('1_4522_13046599',\n  '4522 13046599 edgardo agosto male53 pr 603 wake park 27511  '),\n ('1_4541_13015274',\n  '4541 13015274 katherine sommerville female66 tn 117 wake gettysburg 27513  '),\n ('1_4622_3075690',\n  '4622 3075690 erick echevarria male26   107 davie morning glory 27028  '),\n ('1_4640_2274654',\n  '4640 2274654 rashauna bethea female32 nc 1226 cumberland skyline 28314 3549520'),\n ('1_4841_416666',\n  '4841 416666 crystal beaver female41 nc 270 yancey molly 28714 2847364'),\n ('1_5040_6886105',\n  '5040 6886105 kenneth neilsen male54 va 1106 lee hawkins 27330  '),\n ('1_5041_6885017',\n  '5041 6885017 james grace male68 ny 1827 lee irish 27332  '),\n ('1_5122_3877854',\n  '5122 3877854 beverly terry female58   2931 forsyth new walkertown 27105  '),\n ('1_5140_3940114',\n  '5140 3940114 tiffany mcguinn female37 nc 977 forsyth benjamins 27103 9617464'),\n ('1_5222_3277797',\n  '5222 3277797 kenndra quiles female44 nj 1301 durham rosedale 27707  '),\n ('1_5241_3351392',\n  '5241 3351392 jana roberts female25 nc 1313 durham hudson 27705  '),\n ('1_5340_3567721',\n  '5340 3567721 emily blanchard female30 oh 2750 durham campus walk 27705  '),\n ('1_5422_5960577',\n  '5422 5960577 peter forfa male59 ny 55 haywood skyline 28716  '),\n ('1_5440_490351',\n  '5440 490351 joshua young male39 ky 600 buncombe merrimon 28804 2271030'),\n ('1_5441_443700',\n  '5441 443700 thomas defrange male66   214 buncombe governors view 28805 2583346'),\n ('1_5540_4174258',\n  '5540 4174258 billy foote male41 va 4405 forsyth kinnamon 27103 9861737'),\n ('1_5541_3900284',\n  '5541 3900284 courtney snell female27 va 825 forsyth moravia 27107  '),\n ('1_5622_498377',\n  '5622 498377 terry ouser male53 nc 205 buncombe chamwood 28804 7128774'),\n ('1_5640_3369336',\n  '5640 3369336 amanda waldrop female34   5146 durham willowhaven 27712  '),\n ('1_5722_659298',\n  '5722 659298 james keefer male52 in 78 buncombe colton 28748  '),\n ('1_5740_1049954',\n  '5740 1049954 jacqueline campbell female57 ga 404 cabarrus wood 28083 9337764'),\n ('1_5741_1051353',\n  '5741 1051353 gregory stealey male32   403 cabarrus ludwig 28027  '),\n ('1_5840_2845620',\n  '5840 2845620 monica tyler female39 nc 701 davidson hitchcock 27265  '),\n ('1_5841_2845992',\n  '5841 2845992 andrew henry male44 mi 361 davidson country acres 27107  '),\n ('1_5941_3640821',\n  '5941 3640821 barney lawrence male45 va 704 durham orindo 27713  '),\n ('1_6022_4110437',\n  '6022 4110437 shirley johnson female74 ny 5215 forsyth york place 27051 2599166'),\n ('1_6040_5998315',\n  '6040 5998315 charles grice male35 nc 926 haywood dogwood 28751  '),\n ('1_6140_7590796',\n  '6140 7590796 daryl larner male46 az 428 mecklenburg walnut 28208  '),\n ('1_6141_7624860',\n  '6141 7624860 joseph blumberg male38 nc 2501 mecklenburg eargle 28269  '),\n ('1_6222_8429473',\n  '6222 8429473 christian maldonado male24   9201 mecklenburg university city 28223  '),\n ('1_6322_9816283',\n  '6322 9816283 david krivonak female66 ri 522 orange dogwood 27516  '),\n ('1_6422_11048266',\n  '6422 11048266 mary knight female60 nc 1338 rockingham wolf island 27320  '),\n ('1_6440_11129641',\n  '6440 11129641 cynthia farmer female63 nc 170 rockingham jarrell 27320 3493763'),\n ('1_6522_12272592',\n  '6522 12272592 james defrancisco male57 ny 3220 wake lynn ridge 27613  '),\n ('1_6541_12401827',\n  '6541 12401827 beverly johnson female70 nc 2701 wake brookwood 27603  '),\n ('1_6641_13463311',\n  '6641 13463311 gabriela moore female66 oc 5512 wake cotton top 27545  ')]"
     },
     "execution_count": 68,
     "metadata": {},
     "output_type": "execute_result"
    }
   ],
   "source": [
    "con.execute(\"drop table if exists src2\").execute(\n",
    "    \"CREATE TABLE src2 AS \"\n",
    "    \"SELECT id as rid, concat(entity, ' ', rec_id, ' ', first_name, ' ', last_name, ' ', sex,age, ' ', birth_place, ' ', house_num, ' ', county_desc, ' ', street_name, ' ', zip_code, ' ', phone_num) as val \"\n",
    "    \"FROM 'data/NCVR_BF_clean.csv'\"\n",
    ").execute(\"select * from src2\").fetchall()"
   ],
   "metadata": {
    "collapsed": false,
    "pycharm": {
     "name": "#%%\n"
    }
   }
  },
  {
   "cell_type": "code",
   "execution_count": 80,
   "outputs": [
    {
     "data": {
      "text/plain": "[('2_22_3326652',\n  '22 3326652 whitney baker female29 in 709 durham green 27701  '),\n ('2_31_3904957',\n  '31 3904957 latonya mciver female40 va 30 forsyth glenwood 27106 9166714'),\n ('2_131_12315539',\n  '131 12315539 alice feldbusch female29 nc 119 wake fawn 27587  '),\n ('2_140_12924542',\n  '140 12924542 justin brown male34 ca 8510 wake silhouette 27613  '),\n ('2_222_12748029',\n  '222 12748029 stephanie eissens female38 nc 133 wake wards ridge 27513  '),\n ('2_231_9728052',\n  '231 9728052 william mcinerney male29 nc 265 orange severin 27516  '),\n ('2_240_13265262',\n  '240 13265262 danielle peschon female28 tn 2319 wake hinton 27612  '),\n ('2_331_13927418',\n  '331 13927418 james byrd male53 nc 610 wayne park 27530 9152245'),\n ('2_431_2134645',\n  '431 2134645 ainslie guion female57 ky 323 craven trenton 28523 8144405'),\n ('2_440_12811452',\n  '440 12811452 heather spence female33 nc 6009 wake splitrock 27539  '),\n ('2_522_12715739',\n  '522 12715739 judy parker female56 nc 249 wake money tree 27545  '),\n ('2_531_12623108',\n  '531 12623108 alessandra geboff female42 nc 3508 wake peach haven 27607  '),\n ('2_540_3173387',\n  '540 3173387 kathleen padgett female53 nh 12 durham willow creek 27705  '),\n ('2_622_6223703',\n  '622 6223703 karen gollins female57 ma 425 hoke barefoot 28306 2297174'),\n ('2_631_6262784',\n  '631 6262784 zusmekia harrington male41 nc 312 hoke stubbs 28376  '),\n ('2_640_13837034',\n  '640 13837034 brandon ash unk26   112 wayne oak summit 27863  '),\n ('2_722_13865294',\n  '722 13865294 philip hall male47 wv 3445 wayne nc 111 27534  '),\n ('2_731_7871103',\n  '731 7871103 kenneth hannah male59 mi 1016 mecklenburg clearbrook 28105  '),\n ('2_840_12375716',\n  '840 12375716 nancy stafford female56 nc 720 wake little leaf 27540  '),\n ('2_922_12843169',\n  '922 12843169 delton brown male57 nc 5904 wake spring glen 27616  '),\n ('2_1022_7999709',\n  '1022 7999709 courtney mackey female23   1319 mecklenburg rising oak 28206  '),\n ('2_1040_10986386',\n  '1040 10986386 anniatha frazier mcmillan female67 nc 91 robeson parrot 28360  '),\n ('2_1122_68628',\n  '1122 68628 patricia kurt female58 ny 609 alamance westbrook 27215 9234263'),\n ('2_1131_984576',\n  '1131 984576 mary lou iantosca female53 nj 9414 cabarrus leverwood 28027 7952380'),\n ('2_1140_12513318',\n  '1140 12513318 amber smith female32 sc 7405 wake peppercorn 27613  '),\n ('2_1222_962821',\n  '1222 962821 le shondra mcmullen female47   152 cabarrus robbins 28025  '),\n ('2_1240_13627651',\n  '1240 13627651 teresa starnes female63 nc 3809 wake bosco 27562  '),\n ('2_1340_13807668',\n  '1340 13807668 denise wells female37 nc 312 wayne whitfield 27530  '),\n ('2_1422_12819023',\n  '1422 12819023 marion covington male64 nc 6800 wake madison ridge 27613  '),\n ('2_1431_13734344',\n  '1431 13734344 elena kyriakoulis female25   140 watauga brown white dorm 28608 6103595'),\n ('2_1440_1699467',\n  '1440 1699467 christopher brophy male36 sc 1572 chatham lystra 27517 6361622'),\n ('2_1522_8428365',\n  '1522 8428365 michael brenneman male40 co 2905 mecklenburg shady reach 28214  '),\n ('2_1531_13717497',\n  '1531 13717497 alexandra belk female35 nc 276 watauga oak 28607 2681451'),\n ('2_1722_7762190',\n  '1722 7762190 adrain hunt female34   310 mecklenburg 28th 28206  '),\n ('2_1731_7826253',\n  '1731 7826253 lisa goodspeed female60 nj 719 mecklenburg museum 28207  '),\n ('2_1740_7342937',\n  '1740 7342937 kathren hayes female38 fl 3600 mecklenburg conway 28209  '),\n ('2_1822_7471657',\n  '1822 7471657 courtney harper female23 sc 3009 mecklenburg westwinds 28214  '),\n ('2_1831_7434013',\n  '1831 7434013 dana hawkins female48 ny 3236 mecklenburg park 28209  '),\n ('2_1840_11606714',\n  '1840 11606714 joseph baker male46 va 614 stanly scarlet leaf 28129  '),\n ('2_1922_11398449',\n  '1922 11398449 adam allen male32 tx 262 rutherford kanipe ranch 28114 7487457'),\n ('2_1940_7342755',\n  '1940 7342755 jeffery sturdivant male56 nc 14016 mecklenburg millers creek 28278  '),\n ('2_2022_11297689',\n  '2022 11297689 lisa brennan female43 ny 148 rowan fellowship park 28023  '),\n ('2_2040_7971862',\n  '2040 7971862 anna mccarthy female69 pa 14716 mecklenburg old vermillion 28078  '),\n ('2_2122_2121722',\n  '2122 2121722 jasmine sobalvarro female31 ca 3253 craven brunswick 28562 6757667'),\n ('2_2131_2164783',\n  '2131 2164783 mary noell female44 nc 1115 craven plymouth 28562  '),\n ('2_2140_9520173',\n  '2140 9520173 chelsea donovan female36   514 onslow court 28540  '),\n ('2_2240_934374',\n  '2240 934374 latricia hunter female46 nc 7806 cabarrus peach blossom 28075 4556292'),\n ('2_2322_3138469',\n  '2322 3138469 craig baysden male39 fl 2501 duplin fountaintown 28521 3884532'),\n ('2_2340_11298432',\n  '2340 11298432 logan morgan female30 nc 2117 rowan bertha 28083  '),\n ('2_2422_9841190',\n  '2422 9841190 ricky pitts male48   1012 orange saluda 27514  '),\n ('2_2440_9861937',\n  '2440 9861937 lisa hanami female32   201 orange poplar 27510  '),\n ('2_2540_9729641',\n  '2540 9729641 george howard male51 nc 115 orange merritt mill 27516  '),\n ('2_2622_148884',\n  '2622 148884 briana orr female26 nc 722 alamance oakgrove 27253  '),\n ('2_2631_9769629',\n  '2631 9769629 samuel demers male31 oh 106 orange legion 27517  '),\n ('2_2722_8809482',\n  '2722 8809482 christine horton female36 nc 125 moore clyburn 28373 4614341'),\n ('2_2822_13756405',\n  '2822 13756405 joshua colenda male26   521 watauga meadowview 28607 6031072'),\n ('2_2831_13129625',\n  '2831 13129625 jerry thomas male75 nc 12323 wake basketweave 27614  '),\n ('2_2931_6172769',\n  '2931 6172769 dorothy carmean female77 nc 331 henderson terrys gap 28732 6519789'),\n ('2_2940_9137590',\n  '2940 9137590 david brown male51 il 7418 new hanover myrtle grove 28409 4426777'),\n ('2_3022_9267608',\n  '3022 9267608 casey nolan male27 md 4173 new hanover hearthside 28412 6153103'),\n ('2_3031_9273324',\n  '3031 9273324 william jarratt male26 nc 4524 new hanover tesla park 28412 4257054'),\n ('2_3040_9210232',\n  '3040 9210232 todd christiansen male49 ny 320 new hanover windsong 28411 2596374'),\n ('2_3131_3768537',\n  '3131 3768537 veronica hill female51 nc 143 edgecombe spaulding 27801  '),\n ('2_3140_1207977',\n  '3140 1207977 angel mcclellan female41 nc 3205 caldwell bowman 28630 3131181'),\n ('2_3222_2215461',\n  '3222 2215461 ramari thomas male20 nc 4020 craven copperfield 28562 5719120'),\n ('2_3231_11011533',\n  '3231 11011533 daniel rogers male44 nc 3619 robeson glenn 28371 5687262'),\n ('2_3240_2224503',\n  '3240 2224503 william long male59 nc 115 craven james 28560 6334362'),\n ('2_3322_1860880',\n  '3322 1860880 albert caylor male74 ga 240 cherokee white pine 28906 6449478'),\n ('2_3331_2393804',\n  '3331 2393804 patricia wortham female56 dc 2564 cumberland lull water 28306 4252288'),\n ('2_3422_1731845',\n  '3422 1731845 jaclyn johnson female39 nc 1230 chatham rosser 27207  '),\n ('2_3431_12631487',\n  '3431 12631487 charles mcginn male32 il 8412 wake pilots view 27617  '),\n ('2_3531_1540613',\n  '3531 1540613 charles williams male67 nc 4500 catawba red hill 28037 9417429'),\n ('2_3622_2399678',\n  '3622 2399678 sarah thornton female27 nc 2127 cumberland clinchfield 28304 8185171'),\n ('2_3731_2428298',\n  '3731 2428298 delores moore female43 al 1917 cumberland cherokee 28303 5875043'),\n ('2_3740_2668171',\n  '3740 2668171 carlton jones male62 wa 4115 cumberland mckinnon 28312 4835759'),\n ('2_3840_11920108',\n  '3840 11920108 jason allen male22 nc 314 bladen 4th 28320 8760186'),\n ('2_3922_11160521',\n  '3922 11160521 paul williams male34 nc 105 bertie martin luther king jr 27849 3482399'),\n ('2_3931_12807391',\n  '3931 12807391 patrick wiggs male43 nc 625 wake washington 27605  '),\n ('2_3940_10586713',\n  '3940 10586713 dawn lewis female43 nc 40 pitt carriage house apts 27858  '),\n ('2_4022_10221011',\n  '4022 10221011 john williams male65 ny 1115 pender lillington 28457  '),\n ('2_4031_10289123',\n  '4031 10289123 raynard blackwell male58 nc 1984 person flat river church 27574  '),\n ('2_4122_1075119',\n  '4122 1075119 ibn zawdie stevenson male46 pa 1381 cabarrus kison 28027 2538166'),\n ('2_4131_13153808',\n  '4131 13153808 dustin spivey male25 nc 1131 wake hodge 27545  '),\n ('2_4231_1619930',\n  '4231 1619930 redonna skinner female54 nc 4199 catawba fisherman s 28650 4280299'),\n ('2_4322_12282793',\n  '4322 12282793 james norris male43 nc 6841 wake madison ridge 27613  '),\n ('2_4331_11407687',\n  '4331 11407687 elizabeth wood unk38   233 rutherford crestview 28139 2864772'),\n ('2_4340_13163864',\n  '4340 13163864 stephen petitjean male27 nj 5304 wake neuse ridge 27610  '),\n ('2_4422_1365827',\n  '4422 1365827 edwin stetter male95 ky 303 carteret barbour 28557 2220401'),\n ('2_4431_12305798',\n  '4431 12305798 traci tiemann female32   3417 wake renaissance park 27513  '),\n ('2_4522_6732526',\n  '4522 6732526 edgardo agosto female53 pr 39 johnston forest glade 27527 4846442'),\n ('2_4531_6261089',\n  '4531 6261089 victoria mcrae female28 nc 1393 hoke main 28376  '),\n ('2_4540_6751985',\n  '4540 6751985 victoria vaughn female40 ky 117 johnston windy hill 27577 3375742'),\n ('2_4640_6238137',\n  '4640 6238137 rashauna bethea female32 nc 163 hoke yellowstone 28376 3549520'),\n ('2_4740_6760160',\n  '4740 6760160 esthephanie chavira female22 nc 866 johnston webb mill 27524 9862925'),\n ('2_4822_10138133',\n  '4822 10138133 jeremy hayden male38 va 1169 pasquotank double bridge 27909 6615595'),\n ('2_4831_7197961',\n  '4831 7197961 amanda oakley female41 nc 1256 martin sunset 27846 6619806'),\n ('2_4840_7261567',\n  '4840 7261567 sue miller female61 nc 486 mcdowell bear den mountain 28777 7666298'),\n ('2_4922_11476487',\n  '4922 11476487 christian banks male52   2386 sampson beulah church 28393 5331759'),\n ('2_4931_12491631',\n  '4931 12491631 anthony smith male59 nc 9001 wake heavenly 27592  '),\n ('2_4940_6769191',\n  '4940 6769191 dominique ellis unk25   296 johnston big pine 27520  '),\n ('2_5022_6173481',\n  '5022 6173481 michael elliott male65 nc 18 henderson meadow 28742 8908186'),\n ('2_5031_6902696',\n  '5031 6902696 jason murray male37 ny 104 lee wildflower 27330 7779636'),\n ('2_5040_12309857',\n  '5040 12309857 kenneth neilsen male54 va 215 wake kilbreck 27511  '),\n ('2_5131_3974984',\n  '5131 3974984 kayla dineen female29 va 4269 forsyth yadkinville 27106  '),\n ('2_5140_2931420',\n  '5140 2931420 tiffany mcguinn female37 nc 862 davidson meadowlands 27107  '),\n ('2_5222_3462830',\n  '5222 3462830 kenndra johnson female44 nj 3300 durham shannon 27707  '),\n ('2_5240_11213130',\n  '5240 11213130 elizabeth weaver female22 nc 729 rowan riverwalk 28146  '),\n ('2_5322_12833790',\n  '5322 12833790 nadia aram female42 sc 1341 wake cameron view 27607  '),\n ('2_5422_556532',\n  '5422 556532 peter forfa male59 ny 38 buncombe hartshorn 28715 3331855'),\n ('2_5440_6170477',\n  '5440 6170477 joshua young male39 ky 45 henderson westview 28732  '),\n ('2_5522_4086982',\n  '5522 4086982 denise mathews female55 ok 1522 forsyth janita 27127  '),\n ('2_5631_13782222',\n  '5631 13782222 brooke reaves female20 nc 172 watauga tulip tree 28607  '),\n ('2_5822_2617816',\n  '5822 2617816 clinetta silver female28 nc 921 cumberland crescent commons 28314 9046017'),\n ('2_5922_3208399',\n  '5922 3208399 kenneth gaither male50 nc 518 durham cove hollow 27703  '),\n ('2_6231_8493344',\n  '6231 8493344 jay weigel male60 in 8932 mecklenburg elkins park 28105  '),\n ('2_6240_8579713',\n  '6240 8579713 carol blake female82 sc 5101 mecklenburg prosperity church 28269  '),\n ('2_6340_10171286',\n  '6340 10171286 charles winley male34   15840 pender nc hwy 210 28457 2312159'),\n ('2_6540_12396430',\n  '6540 12396430 gretchen gary female52 ny 1200 wake silver sage 27606  '),\n ('2_6622_13160699',\n  '6622 13160699 katherine aiken female29 nc 2000 wake university woods 27603  '),\n ('2_6631_13273810',\n  '6631 13273810 hampton apple male27   2119 wake scarlet maple 27606  '),\n ('2_6640_13424510',\n  '6640 13424510 james cobbett male51 nh 2709 wake woodie 27591  ')]"
     },
     "execution_count": 80,
     "metadata": {},
     "output_type": "execute_result"
    }
   ],
   "source": [
    "con.execute(\"drop table if exists src3\").execute(\n",
    "    \"CREATE TABLE src3 AS \"\n",
    "    \"SELECT id as rid, concat(entity, ' ', rec_id, ' ', first_name, ' ', last_name, ' ', sex,age, ' ', birth_place, ' ', house_num, ' ', county_desc, ' ', street_name, ' ', zip_code, ' ', phone_num) as val \"\n",
    "    \"FROM 'data/NCVR_CF_clean.csv'\"\n",
    ").execute(\"select * from src3\").fetchall()"
   ],
   "metadata": {
    "collapsed": false,
    "pycharm": {
     "name": "#%%\n"
    }
   }
  },
  {
   "cell_type": "code",
   "execution_count": 87,
   "outputs": [
    {
     "data": {
      "text/plain": "[('2_22_3326652',\n  '22 3326652 whitney baker female29 in 709 durham green 27701  '),\n ('2_31_3904957',\n  '31 3904957 latonya mciver female40 va 30 forsyth glenwood 27106 9166714'),\n ('2_131_12315539',\n  '131 12315539 alice feldbusch female29 nc 119 wake fawn 27587  '),\n ('2_140_12924542',\n  '140 12924542 justin brown male34 ca 8510 wake silhouette 27613  '),\n ('2_222_12748029',\n  '222 12748029 stephanie eissens female38 nc 133 wake wards ridge 27513  '),\n ('2_231_9728052',\n  '231 9728052 william mcinerney male29 nc 265 orange severin 27516  '),\n ('2_240_13265262',\n  '240 13265262 danielle peschon female28 tn 2319 wake hinton 27612  '),\n ('2_331_13927418',\n  '331 13927418 james byrd male53 nc 610 wayne park 27530 9152245'),\n ('2_431_2134645',\n  '431 2134645 ainslie guion female57 ky 323 craven trenton 28523 8144405'),\n ('2_440_12811452',\n  '440 12811452 heather spence female33 nc 6009 wake splitrock 27539  '),\n ('2_522_12715739',\n  '522 12715739 judy parker female56 nc 249 wake money tree 27545  '),\n ('2_531_12623108',\n  '531 12623108 alessandra geboff female42 nc 3508 wake peach haven 27607  '),\n ('2_540_3173387',\n  '540 3173387 kathleen padgett female53 nh 12 durham willow creek 27705  '),\n ('2_622_6223703',\n  '622 6223703 karen gollins female57 ma 425 hoke barefoot 28306 2297174'),\n ('2_631_6262784',\n  '631 6262784 zusmekia harrington male41 nc 312 hoke stubbs 28376  '),\n ('2_640_13837034',\n  '640 13837034 brandon ash unk26   112 wayne oak summit 27863  '),\n ('2_722_13865294',\n  '722 13865294 philip hall male47 wv 3445 wayne nc 111 27534  '),\n ('2_731_7871103',\n  '731 7871103 kenneth hannah male59 mi 1016 mecklenburg clearbrook 28105  '),\n ('2_840_12375716',\n  '840 12375716 nancy stafford female56 nc 720 wake little leaf 27540  '),\n ('2_922_12843169',\n  '922 12843169 delton brown male57 nc 5904 wake spring glen 27616  '),\n ('2_1022_7999709',\n  '1022 7999709 courtney mackey female23   1319 mecklenburg rising oak 28206  '),\n ('2_1040_10986386',\n  '1040 10986386 anniatha frazier mcmillan female67 nc 91 robeson parrot 28360  '),\n ('2_1122_68628',\n  '1122 68628 patricia kurt female58 ny 609 alamance westbrook 27215 9234263'),\n ('2_1131_984576',\n  '1131 984576 mary lou iantosca female53 nj 9414 cabarrus leverwood 28027 7952380'),\n ('2_1140_12513318',\n  '1140 12513318 amber smith female32 sc 7405 wake peppercorn 27613  '),\n ('2_1222_962821',\n  '1222 962821 le shondra mcmullen female47   152 cabarrus robbins 28025  '),\n ('2_1240_13627651',\n  '1240 13627651 teresa starnes female63 nc 3809 wake bosco 27562  '),\n ('2_1340_13807668',\n  '1340 13807668 denise wells female37 nc 312 wayne whitfield 27530  '),\n ('2_1422_12819023',\n  '1422 12819023 marion covington male64 nc 6800 wake madison ridge 27613  '),\n ('2_1431_13734344',\n  '1431 13734344 elena kyriakoulis female25   140 watauga brown white dorm 28608 6103595'),\n ('2_1440_1699467',\n  '1440 1699467 christopher brophy male36 sc 1572 chatham lystra 27517 6361622'),\n ('2_1522_8428365',\n  '1522 8428365 michael brenneman male40 co 2905 mecklenburg shady reach 28214  '),\n ('2_1531_13717497',\n  '1531 13717497 alexandra belk female35 nc 276 watauga oak 28607 2681451'),\n ('2_1731_7826253',\n  '1731 7826253 lisa goodspeed female60 nj 719 mecklenburg museum 28207  '),\n ('2_1740_7342937',\n  '1740 7342937 kathren hayes female38 fl 3600 mecklenburg conway 28209  '),\n ('2_1822_7471657',\n  '1822 7471657 courtney harper female23 sc 3009 mecklenburg westwinds 28214  '),\n ('2_1831_7434013',\n  '1831 7434013 dana hawkins female48 ny 3236 mecklenburg park 28209  '),\n ('2_1840_11606714',\n  '1840 11606714 joseph baker male46 va 614 stanly scarlet leaf 28129  '),\n ('2_1922_11398449',\n  '1922 11398449 adam allen male32 tx 262 rutherford kanipe ranch 28114 7487457'),\n ('2_1940_7342755',\n  '1940 7342755 jeffery sturdivant male56 nc 14016 mecklenburg millers creek 28278  '),\n ('2_2022_11297689',\n  '2022 11297689 lisa brennan female43 ny 148 rowan fellowship park 28023  '),\n ('2_2040_7971862',\n  '2040 7971862 anna mccarthy female69 pa 14716 mecklenburg old vermillion 28078  '),\n ('2_2122_2121722',\n  '2122 2121722 jasmine sobalvarro female31 ca 3253 craven brunswick 28562 6757667'),\n ('2_2131_2164783',\n  '2131 2164783 mary noell female44 nc 1115 craven plymouth 28562  '),\n ('2_2140_9520173',\n  '2140 9520173 chelsea donovan female36   514 onslow court 28540  '),\n ('2_2322_3138469',\n  '2322 3138469 craig baysden male39 fl 2501 duplin fountaintown 28521 3884532'),\n ('2_2340_11298432',\n  '2340 11298432 logan morgan female30 nc 2117 rowan bertha 28083  '),\n ('2_2422_9841190',\n  '2422 9841190 ricky pitts male48   1012 orange saluda 27514  '),\n ('2_2440_9861937',\n  '2440 9861937 lisa hanami female32   201 orange poplar 27510  '),\n ('2_2540_9729641',\n  '2540 9729641 george howard male51 nc 115 orange merritt mill 27516  '),\n ('2_2622_148884',\n  '2622 148884 briana orr female26 nc 722 alamance oakgrove 27253  '),\n ('2_2631_9769629',\n  '2631 9769629 samuel demers male31 oh 106 orange legion 27517  '),\n ('2_2722_8809482',\n  '2722 8809482 christine horton female36 nc 125 moore clyburn 28373 4614341'),\n ('2_2822_13756405',\n  '2822 13756405 joshua colenda male26   521 watauga meadowview 28607 6031072'),\n ('2_2831_13129625',\n  '2831 13129625 jerry thomas male75 nc 12323 wake basketweave 27614  '),\n ('2_2931_6172769',\n  '2931 6172769 dorothy carmean female77 nc 331 henderson terrys gap 28732 6519789'),\n ('2_2940_9137590',\n  '2940 9137590 david brown male51 il 7418 new hanover myrtle grove 28409 4426777'),\n ('2_3022_9267608',\n  '3022 9267608 casey nolan male27 md 4173 new hanover hearthside 28412 6153103'),\n ('2_3031_9273324',\n  '3031 9273324 william jarratt male26 nc 4524 new hanover tesla park 28412 4257054'),\n ('2_3040_9210232',\n  '3040 9210232 todd christiansen male49 ny 320 new hanover windsong 28411 2596374'),\n ('2_3131_3768537',\n  '3131 3768537 veronica hill female51 nc 143 edgecombe spaulding 27801  '),\n ('2_3140_1207977',\n  '3140 1207977 angel mcclellan female41 nc 3205 caldwell bowman 28630 3131181'),\n ('2_3222_2215461',\n  '3222 2215461 ramari thomas male20 nc 4020 craven copperfield 28562 5719120'),\n ('2_3231_11011533',\n  '3231 11011533 daniel rogers male44 nc 3619 robeson glenn 28371 5687262'),\n ('2_3240_2224503',\n  '3240 2224503 william long male59 nc 115 craven james 28560 6334362'),\n ('2_3322_1860880',\n  '3322 1860880 albert caylor male74 ga 240 cherokee white pine 28906 6449478'),\n ('2_3331_2393804',\n  '3331 2393804 patricia wortham female56 dc 2564 cumberland lull water 28306 4252288'),\n ('2_3422_1731845',\n  '3422 1731845 jaclyn johnson female39 nc 1230 chatham rosser 27207  '),\n ('2_3431_12631487',\n  '3431 12631487 charles mcginn male32 il 8412 wake pilots view 27617  '),\n ('2_3531_1540613',\n  '3531 1540613 charles williams male67 nc 4500 catawba red hill 28037 9417429'),\n ('2_3622_2399678',\n  '3622 2399678 sarah thornton female27 nc 2127 cumberland clinchfield 28304 8185171'),\n ('2_3731_2428298',\n  '3731 2428298 delores moore female43 al 1917 cumberland cherokee 28303 5875043'),\n ('2_3740_2668171',\n  '3740 2668171 carlton jones male62 wa 4115 cumberland mckinnon 28312 4835759'),\n ('2_3840_11920108',\n  '3840 11920108 jason allen male22 nc 314 bladen 4th 28320 8760186'),\n ('2_3922_11160521',\n  '3922 11160521 paul williams male34 nc 105 bertie martin luther king jr 27849 3482399'),\n ('2_3931_12807391',\n  '3931 12807391 patrick wiggs male43 nc 625 wake washington 27605  '),\n ('2_3940_10586713',\n  '3940 10586713 dawn lewis female43 nc 40 pitt carriage house apts 27858  '),\n ('2_4022_10221011',\n  '4022 10221011 john williams male65 ny 1115 pender lillington 28457  '),\n ('2_4031_10289123',\n  '4031 10289123 raynard blackwell male58 nc 1984 person flat river church 27574  '),\n ('2_4122_1075119',\n  '4122 1075119 ibn zawdie stevenson male46 pa 1381 cabarrus kison 28027 2538166'),\n ('2_4131_13153808',\n  '4131 13153808 dustin spivey male25 nc 1131 wake hodge 27545  '),\n ('2_4231_1619930',\n  '4231 1619930 redonna skinner female54 nc 4199 catawba fisherman s 28650 4280299'),\n ('2_4331_11407687',\n  '4331 11407687 elizabeth wood unk38   233 rutherford crestview 28139 2864772'),\n ('2_4340_13163864',\n  '4340 13163864 stephen petitjean male27 nj 5304 wake neuse ridge 27610  '),\n ('2_4431_12305798',\n  '4431 12305798 traci tiemann female32   3417 wake renaissance park 27513  '),\n ('2_4522_6732526',\n  '4522 6732526 edgardo agosto female53 pr 39 johnston forest glade 27527 4846442'),\n ('2_4531_6261089',\n  '4531 6261089 victoria mcrae female28 nc 1393 hoke main 28376  '),\n ('2_4540_6751985',\n  '4540 6751985 victoria vaughn female40 ky 117 johnston windy hill 27577 3375742'),\n ('2_4640_6238137',\n  '4640 6238137 rashauna bethea female32 nc 163 hoke yellowstone 28376 3549520'),\n ('2_4740_6760160',\n  '4740 6760160 esthephanie chavira female22 nc 866 johnston webb mill 27524 9862925'),\n ('2_4822_10138133',\n  '4822 10138133 jeremy hayden male38 va 1169 pasquotank double bridge 27909 6615595'),\n ('2_4831_7197961',\n  '4831 7197961 amanda oakley female41 nc 1256 martin sunset 27846 6619806'),\n ('2_4840_7261567',\n  '4840 7261567 sue miller female61 nc 486 mcdowell bear den mountain 28777 7666298'),\n ('2_4922_11476487',\n  '4922 11476487 christian banks male52   2386 sampson beulah church 28393 5331759'),\n ('2_4931_12491631',\n  '4931 12491631 anthony smith male59 nc 9001 wake heavenly 27592  '),\n ('2_4940_6769191',\n  '4940 6769191 dominique ellis unk25   296 johnston big pine 27520  '),\n ('2_5022_6173481',\n  '5022 6173481 michael elliott male65 nc 18 henderson meadow 28742 8908186'),\n ('2_5031_6902696',\n  '5031 6902696 jason murray male37 ny 104 lee wildflower 27330 7779636'),\n ('2_5040_12309857',\n  '5040 12309857 kenneth neilsen male54 va 215 wake kilbreck 27511  '),\n ('2_5131_3974984',\n  '5131 3974984 kayla dineen female29 va 4269 forsyth yadkinville 27106  '),\n ('2_5222_3462830',\n  '5222 3462830 kenndra johnson female44 nj 3300 durham shannon 27707  '),\n ('2_5240_11213130',\n  '5240 11213130 elizabeth weaver female22 nc 729 rowan riverwalk 28146  '),\n ('2_5322_12833790',\n  '5322 12833790 nadia aram female42 sc 1341 wake cameron view 27607  '),\n ('2_5422_556532',\n  '5422 556532 peter forfa male59 ny 38 buncombe hartshorn 28715 3331855'),\n ('2_5440_6170477',\n  '5440 6170477 joshua young male39 ky 45 henderson westview 28732  '),\n ('2_5522_4086982',\n  '5522 4086982 denise mathews female55 ok 1522 forsyth janita 27127  '),\n ('2_5631_13782222',\n  '5631 13782222 brooke reaves female20 nc 172 watauga tulip tree 28607  '),\n ('2_5822_2617816',\n  '5822 2617816 clinetta silver female28 nc 921 cumberland crescent commons 28314 9046017'),\n ('2_5922_3208399',\n  '5922 3208399 kenneth gaither male50 nc 518 durham cove hollow 27703  '),\n ('2_6231_8493344',\n  '6231 8493344 jay weigel male60 in 8932 mecklenburg elkins park 28105  '),\n ('2_6240_8579713',\n  '6240 8579713 carol blake female82 sc 5101 mecklenburg prosperity church 28269  '),\n ('2_6340_10171286',\n  '6340 10171286 charles winley male34   15840 pender nc hwy 210 28457 2312159'),\n ('2_6540_12396430',\n  '6540 12396430 gretchen gary female52 ny 1200 wake silver sage 27606  '),\n ('2_6622_13160699',\n  '6622 13160699 katherine aiken female29 nc 2000 wake university woods 27603  '),\n ('2_6631_13273810',\n  '6631 13273810 hampton apple male27   2119 wake scarlet maple 27606  '),\n ('2_6640_13424510',\n  '6640 13424510 james cobbett male51 nh 2709 wake woodie 27591  '),\n ('2_1722_7762190',\n  '1722 7762190 adrain hunt female34   310 mecklenburg 28th 28206  '),\n ('2_2240_934374',\n  '2240 934374 latricia hunter female46 nc 7806 cabarrus peach blossom 28075 4556292'),\n ('2_4322_12282793',\n  '4322 12282793 james norris male43 nc 6841 wake madison ridge 27613  '),\n ('2_4422_1365827',\n  '4422 1365827 edwin stetter male95 ky 303 carteret barbour 28557 2220401'),\n ('2_5140_2931420',\n  '5140 2931420 tiffany mcguinn female37 nc 862 davidson meadowlands 27107  '),\n ('0_22_9865350',\n  '22 9865350 whitney baker female29 in 400 orange poplar 27510  '),\n ('0_40_12768214',\n  '40 12768214 abbington pope female23 nc 1221 wake westview 27605  '),\n ('0_122_9112102',\n  '122 9112102 rebecca wilkins female49 nc 811 new hanover magnolia 28428 8120512'),\n ('0_140_9704280',\n  '140 9704280 justin brown male34 ca 3225 orange us hwy 70 27243  '),\n ('0_222_3198122',\n  '222 3198122 stephanie eissens female38 nc 100 durham village circle 27713  '),\n ('0_240_94472',\n  '240 94472 danielle peschon female28 tn 1049 alamance kelso 27215 6758354'),\n ('0_251_6640272',\n  '251 6640272 michelle hinnant female45 nc 130 johnston braswell 27577 2024737'),\n ('0_340_10179287',\n  '340 10179287 mark caccio male64 ct 213 pender scottsdale 28411 6008095'),\n ('0_351_6376559',\n  '351 6376559 nancy hoover female55 ny 618 iredell isle of pines 28117  '),\n ('0_451_1422321',\n  '451 1422321 thomas johnson male29 nc 501 caswell cherry grove 27379 2696260'),\n ('0_522_12340214',\n  '522 12340214 judy parker unk56   1929 wake hodge 27545  '),\n ('0_551_12722768',\n  '551 12722768 michael bode male42 in 2416 wake barton oaks 27614  '),\n ('0_622_2403315',\n  '622 2403315 karen palmer female57 ma 206 cumberland mcfadyen 28314  '),\n ('0_651_13155309',\n  '651 13155309 ernest jamison male54 nc 1215 wake collington 27511  '),\n ('0_722_11491604',\n  '722 11491604 philip hall male47 wv 7541 sampson newton grove 28334 3663787'),\n ('0_740_6154279',\n  '740 6154279 vanessa wright female36 oh 10 henderson rice 28732 6069593'),\n ('0_751_2581542',\n  '751 2581542 adrian madsen male46   324 cumberland bitteroot 28314 2910409'),\n ('0_851_1058989',\n  '851 1058989 sara plante unk30   2000 cabarrus ramble 28107  '),\n ('0_922_12748976',\n  '922 12748976 delton brown male57 nc 5904 wake spring glen 27616  '),\n ('0_940_10339747',\n  '940 10339747 keven painter male29 nc 2241 pitt university suites 27834 7418850'),\n ('0_951_1693517',\n  '951 1693517 james wilson male75 wv 20005 chatham bragg 27517 9290155'),\n ('0_1022_7968679',\n  '1022 7968679 courtney mackey female23   1319 mecklenburg rising oak 28206  '),\n ('0_1040_10986345',\n  '1040 10986345 anniatha frazier mcmillan female67 nc 91 robeson parrot 28360  '),\n ('0_1051_2878768',\n  '1051 2878768 vera minton female69 sc 126 davidson st dylan 27295  '),\n ('0_1140_6460300',\n  '1140 6460300 amber broach female32 sc 825 iredell vintage 28115  '),\n ('0_1151_536912',\n  '1151 536912 dillon whatley male26 az 170 buncombe palmer ford 28787 6454743'),\n ('0_1222_1130018',\n  '1222 1130018 leshondar mcmullen female47 nc 814 cabarrus concord chase 28025 8868123'),\n ('0_1240_1391987',\n  '1240 1391987 teresa starnes female63 nc 635 carteret pearson 28570 3932875'),\n ('0_1251_10408103',\n  '1251 10408103 jennifer barber female46 nc 1309 pitt sonata 27858  '),\n ('0_1322_9545049',\n  '1322 9545049 mary flowers female54 ma 621 onslow prospect 28460 4376705'),\n ('0_1351_6909311',\n  '1351 6909311 andreas trump male30 dc 300 lee queens 27330 2586509'),\n ('0_1422_13489670',\n  '1422 13489670 marion covington male64 nc 649 wake pendleton lake 27614  '),\n ('0_1451_11959513',\n  '1451 11959513 rebecca jones female42 va 6702 union wesley glen 28173  '),\n ('0_1622_7186788',\n  '1622 7186788 susan abernathy female64 nc 221 madison dallas jack 28753 6838719'),\n ('0_1640_12169622',\n  '1640 12169622 judy degernes female65 mn 1316 union crane 28173  '),\n ('0_1651_757921',\n  '1651 757921 ceyanne brooks female44 ms 500 buncombe kensington 28803 6912475'),\n ('0_1740_13855498',\n  '1740 13855498 kathren woodham female38   562 wayne providence church 27530 7357046'),\n ('0_1822_3015982',\n  '1822 3015982 courtney harper female23 sc 262 davidson hudson 27107  '),\n ('0_1840_7447052',\n  '1840 7447052 joseph baker male46   2417 mecklenburg normancrest 28270  '),\n ('0_1851_3586283',\n  '1851 3586283 monica swisher female46 tx 75 durham forest oaks 27705  '),\n ('0_1951_12140921',\n  '1951 12140921 ross brigman male90 nc 3816 union fox run 28104  '),\n ('0_2051_11228680',\n  '2051 11228680 kevin johnson male45 ny 217 rowan 13th 28144  '),\n ('0_2122_9589555',\n  '2122 9589555 jasmine sobalvarro female31 ca 115 onslow spring branch 28555  '),\n ('0_2222_10067806',\n  '2222 10067806 leigh jenkins unk29   191 beaufort sabre pointe 27808  '),\n ('0_2240_11945491',\n  '2240 11945491 latricia hunter female46   620 union beauhaven 28173  '),\n ('0_2340_948059',\n  '2340 948059 logan shuman female30 nc 1628 cabarrus eastwood 28083  '),\n ('0_2451_12188650',\n  '2451 12188650 jung kim female28 oc 3641 union fox run 28104  '),\n ('0_2651_8462590',\n  '2651 8462590 sacha bias female43 sc 4920 mecklenburg misty oaks 28269  '),\n ('0_2740_8889689',\n  '2740 8889689 tammy ruzbacki female56 ca 808 nash colony 27804 4889636'),\n ('0_2840_8536075',\n  '2840 8536075 jeramy sinclair male37 nc 9161 mecklenburg meadow vista 28213  '),\n ('0_2922_12142977',\n  '2922 12142977 branden lee male28 il 1014 union spanish moss 28079  '),\n ('0_3122_8935054',\n  '3122 8935054 tamika kirksey female41 sc 609 nash lakeview 27856 8223116'),\n ('0_3140_907191',\n  '3140 907191 angel johnson female41   135 burke ribet 28690  '),\n ('0_3222_10322974',\n  '3222 10322974 ramari thomas male20 nc 826 pitt davenport farm 28590 6261096'),\n ('0_3240_2257371',\n  '3240 2257371 william long male59 nc 211 craven glenburnie 28560 6580447'),\n ('0_3251_12404944',\n  '3251 12404944 edward finch male30 ny 6221 wake hills 27609  '),\n ('0_3351_2455593',\n  '3351 2455593 hannelore ringer female32 va 5716 cumberland crepe myrtle 28348  '),\n ('0_3440_2048840',\n  '3440 2048840 emily smith female41 nc 611 columbus pine circle 28463 6545619'),\n ('0_3522_2877261',\n  '3522 2877261 timothy brinkley male39 nc 1335 davidson craver 27295  '),\n ('0_3551_2874784',\n  '3551 2874784 christopher hines male21 nc 136 davidson lakeview 27360  '),\n ('0_3640_12658601',\n  '3640 12658601 peter mcdaniel male47   6201 wake grace park 27560  '),\n ('0_3722_2623328',\n  '3722 2623328 cedric mclain male46 ny 8429 cumberland english saddle 28314 5061091'),\n ('0_3740_10998806',\n  '3740 10998806 carlton jones male62 wa 205 robeson 21st 28358 9645618'),\n ('0_3751_1179043',\n  '3751 1179043 james kelly male68 mi 416 cabarrus summerlake 28025 9604005'),\n ('0_3822_11913154',\n  '3822 11913154 david troy male73 nc 209 bladen mercer mill 28337  '),\n ('0_3840_11013021',\n  '3840 11013021 jason allen male22 nc 1 robeson university 28372 3760186'),\n ('0_4040_10400866',\n  '4040 10400866 george mills male70 nc 3682 pitt ivy 27858 7147279'),\n ('0_4140_13775206',\n  '4140 13775206 wayne harris male61 nc 129 watauga lazy lake 28607 4571070'),\n ('0_4240_10599887',\n  '4240 10599887 katherine pendergast female19 nc 3323 pitt 10th 27858  '),\n ('0_4322_13076031',\n  '4322 13076031 james norris male43 nc 205 wake hyannis 27540  '),\n ('0_4340_13125274',\n  '4340 13125274 stephen petitjean male27 nj 3200 wake madison farm 27529  '),\n ('0_4440_6109000',\n  '4440 6109000 vivian lutz female83 mi 45 henderson perseverance pathway 28739 6984701'),\n ('0_4622_6336957',\n  '4622 6336957 erick echevarria male26 pr 114 iredell greylin 28625  '),\n ('0_4651_6284216',\n  '4651 6284216 phillip collins male54 nc 122 hoke eagle 28306 8187263'),\n ('0_4722_1134568',\n  '4722 1134568 rosemary hyman female66   11495 cabarrus mooresville 28036  '),\n ('0_4740_11511493',\n  '4740 11511493 esthephanie chavira female22 nc 4044 sampson beulah 28328 9862925'),\n ('0_4751_1617470',\n  '4751 1617470 jerry eckard male70   6777 catawba little mountain 28673  '),\n ('0_4822_7212329',\n  '4822 7212329 jeremy hayden male38 va 6562 martin fire dept 27892 6615595'),\n ('0_4840_7246686',\n  '4840 7246686 sue miller female61 nc 486 mcdowell bear den mountain 28777 7666298'),\n ('0_4851_10323341',\n  '4851 10323341 abby brown female25 nc 888 pitt winterfield 28590 7144919'),\n ('0_4922_6825581',\n  '4922 6825581 christian banks male52 oh 97 johnston neighbor 27524 9890082'),\n ('0_4940_6724474',\n  '4940 6724474 dominique ellis female25 nc 296 johnston big pine 27520 6336952'),\n ('0_5022_683957',\n  '5022 683957 michael elliott male65   144 buncombe colony 28704 6872423'),\n ('0_5251_13015724',\n  '5251 13015724 ruth jaworski female45 nc 403 wake new rail 27513  '),\n ('0_5340_12561570',\n  '5340 12561570 emily blanchard female30   1736 wake talking rock 27519  '),\n ('0_5451_2369736',\n  '5451 2369736 charles thomas male40 tn 70 cumberland cambridge arms 28303 8167767'),\n ('0_5540_10712750',\n  '5540 10712750 billy foote male41 va 3251 randolph flynt 27298  '),\n ('0_5551_4038316',\n  '5551 4038316 krishauna rolle female38 nc 212 forsyth wake 27106  '),\n ('0_5622_10171010',\n  '5622 10171010 terry houser male53 nc 1203 pender topsail 28445 9107786'),\n ('0_5640_563518',\n  '5640 563518 amanda conard female34 nc 9 buncombe sunny ridge 28804 6458096'),\n ('0_5751_1267326',\n  '5751 1267326 kristi whitaker female39 nc 316 caldwell delmar 28638 7268155'),\n ('0_5851_2880373',\n  '5851 2880373 robin van pelt wilson female51 nj 6718 davidson planters 27265  '),\n ('0_5940_3559041',\n  '5940 3559041 kossi agbeve male42 oc 300 durham lynn forest 27713  '),\n ('0_6122_7393104',\n  '6122 7393104 william shaw male32 nc 6032 mecklenburg plaza 28215 5350526'),\n ('0_6651_13543847',\n  '6651 13543847 elizabeth townsend female25 nc 1211 wake apache 27502  '),\n ('1_40_13913995',\n  '40 13913995 abbington pope female23 nc 104 wayne breezewood 27534  '),\n ('1_41_520429',\n  '41 520429 angelon smith female40 nc 119 buncombe flint 28801  '),\n ('1_122_9000404',\n  '122 9000404 rebecca wilkins female49   1501 nash lafayette 27803  '),\n ('1_140_9350108',\n  '140 9350108 justin brown male34 ca 211 new hanover queen 28401 7417817'),\n ('1_222_13226442',\n  '222 13226442 stephanie eissens meacomes female38 nc 4033 wake enfield ridge 27519  '),\n ('1_240_116265',\n  '240 116265 danielle peschon female28   730 alamance boone station 27215 2789980'),\n ('1_241_8517073',\n  '241 8517073 lovie matthews female26 tn 5634 mecklenburg via romano 28270  '),\n ('1_322_6614729',\n  '322 6614729 sandra creech female52 nc 1347 johnston crocker 27577 4645707'),\n ('1_340_9418808',\n  '340 9418808 mark caccio male64 ct 605 onslow windsong north 28584 6008095'),\n ('1_341_6619987',\n  '341 6619987 amanda spencer female37 nc 607 johnston preston 27576  '),\n ('1_422_10444451',\n  '422 10444451 teri mcewen female42 nc 2003 pitt brook 27858  '),\n ('1_440_9332209',\n  '440 9332209 heather spence female33 nc 4611 new hanover mcclelland 28405 2155058'),\n ('1_441_13264527',\n  '441 13264527 katherine lumb female56 pa 2103 wake stonewater glen 27519  '),\n ('1_540_1765721',\n  '540 1765721 kathleen padgett unk53   78 chatham timber creek 27517  '),\n ('1_541_10807443',\n  '541 10807443 janine kube female56 mi 112 randolph parkview 27263  '),\n ('1_640_6287229',\n  '640 6287229 brandon ash male26   249 hyde squires 27810  '),\n ('1_641_1428440',\n  '641 1428440 brandon poteat male37   1386 caswell old nc highway 86 n 27379  '),\n ('1_740_654455',\n  '740 654455 vanessa wright female36 oh 155 buncombe laurel 28806 4895731'),\n ('1_822_10931036',\n  '822 10931036 katrina hanson female40 nc 3750 robeson meadowview 28358  '),\n ('1_840_2956302',\n  '840 2956302 nancy stafford female56 nc 243 davidson clay 27299  '),\n ('1_922_12317422',\n  '922 12317422 delton brown male57 nc 5904 wake spring glen 27616  '),\n ('1_940_13138863',\n  '940 13138863 keven painter male29 nc 2500 wake batterhayes 27615  '),\n ('1_941_2537030',\n  '941 2537030 anita freeman female43 tx 2078 cumberland lothbury 28304 9759447'),\n ('1_1022_8529932',\n  '1022 8529932 courtney hackey female23   1319 mecklenburg rising oak 28206  '),\n ('1_1040_10950068',\n  '1040 10950068 anniatha frazier female67 nc 91 robeson parrot 28360  '),\n ('1_1122_9842647',\n  '1122 9842647 patricia kurt female58 ny 716 orange churchill 27517  '),\n ('1_1141_8499728',\n  '1141 8499728 stacy mccuen female39 nc 8337 mecklenburg meadow lakes 28210  '),\n ('1_1222_1104748',\n  '1222 1104748 leshondar mcmullen female47 nc 179 cabarrus corban 28025 8868123'),\n ('1_1240_1340473',\n  '1240 1340473 teresa pender female63 nc 136 carteret avis 28570 2694984'),\n ('1_1241_13886807',\n  '1241 13886807 george aycock male72 nc 2236 wayne nc 581 27863  '),\n ('1_1322_6645830',\n  '1322 6645830 mary flowers female54 ma 617 johnston rudy 27520 6703152'),\n ('1_1440_7654663',\n  '1440 7654663 christopher brophy male36   9141 mecklenburg windknob 28078  '),\n ('1_1441_13723023',\n  '1441 13723023 leah chandler female24 nc 242 watauga hampton 28607  '),\n ('1_1540_7933001',\n  '1540 7933001 miguel mauriz male31 ca 4800 mecklenburg statesville 28269  '),\n ('1_1541_1078201',\n  '1541 1078201 kelli christian female34   10682 cabarrus sweethaven 28075 6148158'),\n ('1_1622_7646766',\n  '1622 7646766 susan abernathy female64   822 mecklenburg oak 28214  '),\n ('1_1722_11226351',\n  '1722 11226351 adrain hunt female34 nc 410 rowan 15th 28144  '),\n ('1_1741_7343057',\n  '1741 7343057 christopher miller male29 ga 7208 mecklenburg walterboro 28227  '),\n ('1_1922_8247946',\n  '1922 8247946 adam allen male32 tx 3030 mecklenburg karen 28205 2893018'),\n ('1_1941_7943494',\n  '1941 7943494 asrat kidane male46 oc 3419 mecklenburg biscayne 28205  '),\n ('1_2040_12686173',\n  '2040 12686173 anna mccarthy female69 pa 4808 wake cypress ford 27526  '),\n ('1_2140_9382586',\n  '2140 9382586 chelsea donovan female36 il 509 new hanover 2nd 28401 6464606'),\n ('1_2141_9339895',\n  '2141 9339895 jeremy schwison male28   4166 new hanover spirea 28403  '),\n ('1_2222_9637253',\n  '2222 9637253 leigh jenkins female29 nc 1802 orange granville towers 27514  '),\n ('1_2322_9434637',\n  '2322 9434637 craig baysden unk39   103 onslow old fountain 28574  '),\n ('1_2341_478005',\n  '2341 478005 jesseca bryant female32 sc 24 buncombe ravenwood 28732  '),\n ('1_2422_3744443',\n  '2422 3744443 ricky pitts male48   2405 edgecombe sarah 27801 9851430'),\n ('1_2440_7987650',\n  '2440 7987650 lisa hanami female32 ny 8009 mecklenburg andover creek 28210  '),\n ('1_2522_9723262',\n  '2522 9723262 alyson helms female23 nc 213 orange summerwalk 27517  '),\n ('1_2540_2370497',\n  '2540 2370497 george howard male51 nc 313 cumberland abbottswood 28301 3393453'),\n ('1_2541_13176126',\n  '2541 13176126 lisa boyd female55 ma 2901 wake springsweet 27612  '),\n ('1_2622_9753093',\n  '2622 9753093 briana lefler female26 nc 4206 orange mill creek 27231  '),\n ('1_2640_977594',\n  '2640 977594 christopher wattie male38   5669 cabarrus hammermill 28075 8404383'),\n ('1_2722_10836165',\n  '2722 10836165 christine jones female36 nc 148 richmond perkins 28347 4612525'),\n ('1_2740_3773605',\n  '2740 3773605 tammy ruzbacki female56 ca 101 edgecombe church 27886 4889636'),\n ('1_2741_8891564',\n  '2741 8891564 sherry rogers female43 md 1609 nash briar glenn 27804  '),\n ('1_2822_8605310',\n  '2822 8605310 joshua colenda male26 va 20605 mecklenburg willow pond 28031  '),\n ('1_2840_8464582',\n  '2840 8464582 jeramy sinclair male37 nc 7324 mecklenburg creekwood quorum 28212  '),\n ('1_2841_8536461',\n  '2841 8536461 daniel fellenzer male21 oc 1530 mecklenburg mallard creek church 28262  '),\n ('1_2922_8646097',\n  '2922 8646097 branden lee male28   1616 mecklenburg chasewood 28212  '),\n ('1_3022_363535',\n  '3022 363535 casey nolan male27 md 3048 brunswick yorkstone 28451 6153103'),\n ('1_3041_12401522',\n  '3041 12401522 andrea smaxwell female34 in 6207 wake creek glen 27502  '),\n ('1_3141_13928423',\n  '3141 13928423 sebastian woodlock male19 nc 1503 wayne beech 27530 2214591'),\n ('1_3241_10003710',\n  '3241 10003710 beulah hawkins female57 nc 8319 pamlico nc hwy 304 28515 4740199'),\n ('1_3322_248471',\n  '3322 248471 albert caylor male74   138 brunswick park 28461  '),\n ('1_3340_2405081',\n  '3340 2405081 john smith male25 ny 1067 cumberland pleasant oak 28314 4873616'),\n ('1_3441_203150',\n  '3441 203150 rhonda teague female56 nc 8749 alamance pleasant hill church 27298 3286408'),\n ('1_3540_3176455',\n  '3540 3176455 william hodan male46 mi 4301 durham waterford valley 27713  '),\n ('1_3541_3168895',\n  '3541 3168895 william mcghee male76 nc 3503 durham brightwood 27703  '),\n ('1_3622_3298829',\n  '3622 3298829 sarah thornton female27   2523 durham chapel hill 27707  '),\n ('1_3722_11566856',\n  '3722 11566856 cedric mclain male46 ny 12940 scotland stratford 28352 2911655'),\n ('1_3822_11891631',\n  '3822 11891631 david troy male67 nc 209 bladen mercer mill 28337 8720913'),\n ('1_4022_10236169',\n  '4022 10236169 john williams male65 ny 1115 pender lillington 28457 6023496'),\n ('1_4140_14001411',\n  '4140 14001411 wayne harris male61 nc 2200 wilkes nc hwy 16 28697  '),\n ('1_4341_10364870',\n  '4341 10364870 mary bodmer female21 va 304 pitt gateway west hall 27858  '),\n ('1_4422_1365826',\n  '4422 1365826 edwin stetter male95 ky 303 carteret barbour 28557 2220401'),\n ('1_4522_13046599',\n  '4522 13046599 edgardo agosto male53 pr 603 wake park 27511  '),\n ('1_4541_13015274',\n  '4541 13015274 katherine sommerville female66 tn 117 wake gettysburg 27513  '),\n ('1_4622_3075690',\n  '4622 3075690 erick echevarria male26   107 davie morning glory 27028  '),\n ('1_4640_2274654',\n  '4640 2274654 rashauna bethea female32 nc 1226 cumberland skyline 28314 3549520'),\n ('1_4841_416666',\n  '4841 416666 crystal beaver female41 nc 270 yancey molly 28714 2847364'),\n ('1_5040_6886105',\n  '5040 6886105 kenneth neilsen male54 va 1106 lee hawkins 27330  '),\n ('1_5041_6885017',\n  '5041 6885017 james grace male68 ny 1827 lee irish 27332  '),\n ('1_5122_3877854',\n  '5122 3877854 beverly terry female58   2931 forsyth new walkertown 27105  '),\n ('1_5140_3940114',\n  '5140 3940114 tiffany mcguinn female37 nc 977 forsyth benjamins 27103 9617464'),\n ('1_5222_3277797',\n  '5222 3277797 kenndra quiles female44 nj 1301 durham rosedale 27707  '),\n ('1_5241_3351392',\n  '5241 3351392 jana roberts female25 nc 1313 durham hudson 27705  '),\n ('1_5340_3567721',\n  '5340 3567721 emily blanchard female30 oh 2750 durham campus walk 27705  '),\n ('1_5440_490351',\n  '5440 490351 joshua young male39 ky 600 buncombe merrimon 28804 2271030'),\n ('1_5441_443700',\n  '5441 443700 thomas defrange male66   214 buncombe governors view 28805 2583346'),\n ('1_5540_4174258',\n  '5540 4174258 billy foote male41 va 4405 forsyth kinnamon 27103 9861737'),\n ('1_5541_3900284',\n  '5541 3900284 courtney snell female27 va 825 forsyth moravia 27107  '),\n ('1_5622_498377',\n  '5622 498377 terry ouser male53 nc 205 buncombe chamwood 28804 7128774'),\n ('1_5640_3369336',\n  '5640 3369336 amanda waldrop female34   5146 durham willowhaven 27712  '),\n ('1_5722_659298',\n  '5722 659298 james keefer male52 in 78 buncombe colton 28748  '),\n ('1_5740_1049954',\n  '5740 1049954 jacqueline campbell female57 ga 404 cabarrus wood 28083 9337764'),\n ('1_5741_1051353',\n  '5741 1051353 gregory stealey male32   403 cabarrus ludwig 28027  '),\n ('1_5840_2845620',\n  '5840 2845620 monica tyler female39 nc 701 davidson hitchcock 27265  '),\n ('1_5841_2845992',\n  '5841 2845992 andrew henry male44 mi 361 davidson country acres 27107  '),\n ('1_5941_3640821',\n  '5941 3640821 barney lawrence male45 va 704 durham orindo 27713  '),\n ('1_6022_4110437',\n  '6022 4110437 shirley johnson female74 ny 5215 forsyth york place 27051 2599166'),\n ('1_6040_5998315',\n  '6040 5998315 charles grice male35 nc 926 haywood dogwood 28751  '),\n ('1_6140_7590796',\n  '6140 7590796 daryl larner male46 az 428 mecklenburg walnut 28208  '),\n ('1_6222_8429473',\n  '6222 8429473 christian maldonado male24   9201 mecklenburg university city 28223  '),\n ('1_6322_9816283',\n  '6322 9816283 david krivonak female66 ri 522 orange dogwood 27516  '),\n ('1_6422_11048266',\n  '6422 11048266 mary knight female60 nc 1338 rockingham wolf island 27320  '),\n ('1_6440_11129641',\n  '6440 11129641 cynthia farmer female63 nc 170 rockingham jarrell 27320 3493763'),\n ('1_6522_12272592',\n  '6522 12272592 james defrancisco male57 ny 3220 wake lynn ridge 27613  '),\n ('1_6541_12401827',\n  '6541 12401827 beverly johnson female70 nc 2701 wake brookwood 27603  '),\n ('1_6641_13463311',\n  '6641 13463311 gabriela moore female66 oc 5512 wake cotton top 27545  '),\n ('1_1340_3795261',\n  '1340 3795261 denise hines female37   525 edgecombe lincoln 27801  '),\n ('1_1641_12075684',\n  '1641 12075684 leslie brafford female57 nc 1032 union kensrowe 28104  '),\n ('1_4241_10301138',\n  '4241 10301138 darlene sutton female47 oh 358 person gravitte 27573  '),\n ('1_4441_6596725',\n  '4441 6596725 blythe rose male87 nc 708 jackson riverbend 28779 6311584'),\n ('1_5422_5960577',\n  '5422 5960577 peter forfa male59 ny 55 haywood skyline 28716  '),\n ('0_1940_8280393',\n  '1940 8280393 jeffery sturdivant male56 nc 14016 mecklenburg millers creek 28278  '),\n ('0_6051_6245092',\n  '6051 6245092 maureen reavis female91   612 hoke health 28376 8756067'),\n ('1_2022_788286',\n  '2022 788286 lisa brennan female43 ny 27 buncombe fulton 28801 8088554'),\n ('1_3522_3103379',\n  '3522 3103379 timothy brinkley male39 nc 205 davie old homeplace 27006  '),\n ('1_3440_2047934',\n  '3440 2047934 emily smith female41   410 columbus lewis 28472  '),\n ('1_4222_1542168',\n  '4222 1542168 dakotah ledford male29 nc 1125 catawba fairgrove church 28613  '),\n ('1_6141_7624860',\n  '6141 7624860 joseph blumberg male38 nc 2501 mecklenburg eargle 28269  ')]"
     },
     "execution_count": 87,
     "metadata": {},
     "output_type": "execute_result"
    }
   ],
   "source": [
    "con.execute(\"drop view if exists srcall\").execute(\n",
    "    \"create view srcall as \"\n",
    "    \"select * from src1 \"\n",
    "    \"union \"\n",
    "    \"select * from src2 \"\n",
    "    \"union \"\n",
    "    \"select * from src3 \"\n",
    ").execute(\"select * from srcall\").fetchall()"
   ],
   "metadata": {
    "collapsed": false,
    "pycharm": {
     "name": "#%%\n"
    }
   }
  },
  {
   "cell_type": "code",
   "execution_count": 88,
   "outputs": [],
   "source": [
    "# function args\n",
    "l_table = 'srcall'\n",
    "r_table = 'srcall'\n",
    "\n",
    "l_key_attr = 'rid'\n",
    "r_key_attr = 'rid'\n",
    "l_join_attr = 'val'\n",
    "r_join_attr = 'val'\n",
    "# tokenizer = tokenizers.WordsTokzr()\n",
    "tokenizer = tokenizers.QGramsTokzr(3)\n",
    "threshold = 0.5\n",
    "out_table_name = 'matches'\n",
    "bf_out_table_name = 'bfmatches'"
   ],
   "metadata": {
    "collapsed": false,
    "pycharm": {
     "name": "#%%\n"
    }
   }
  },
  {
   "cell_type": "code",
   "execution_count": 89,
   "outputs": [
    {
     "data": {
      "text/plain": "0.002909421920776367"
     },
     "execution_count": 89,
     "metadata": {},
     "output_type": "execute_result"
    }
   ],
   "source": [
    "start_time = time.time()\n",
    "jaccard_join_brute_force(\n",
    "    con, l_table, r_table, l_key_attr, r_key_attr, l_join_attr, r_join_attr, tokenizer, threshold, bf_out_table_name\n",
    ")\n",
    "end_time = time.time()\n",
    "end_time - start_time"
   ],
   "metadata": {
    "collapsed": false,
    "pycharm": {
     "name": "#%%\n"
    }
   }
  },
  {
   "cell_type": "code",
   "execution_count": 90,
   "outputs": [
    {
     "data": {
      "text/plain": "[('0_4840_7246686', '2_4840_7261567'),\n ('1_4422_1365826', '2_4422_1365827'),\n ('0_3822_11913154', '1_3822_11891631'),\n ('0_1022_7968679', '2_1022_7999709'),\n ('0_1022_7968679', '1_1022_8529932'),\n ('1_922_12317422', '2_922_12843169'),\n ('1_1040_10950068', '2_1040_10986386'),\n ('0_1040_10986345', '2_1040_10986386'),\n ('1_1022_8529932', '2_1022_7999709'),\n ('0_922_12748976', '2_922_12843169'),\n ('0_1040_10986345', '1_1040_10950068'),\n ('0_1222_1130018', '1_1222_1104748'),\n ('0_4940_6724474', '2_4940_6769191'),\n ('1_4022_10236169', '2_4022_10221011'),\n ('0_922_12748976', '1_922_12317422'),\n ('0_1940_8280393', '2_1940_7342755')]"
     },
     "execution_count": 90,
     "metadata": {},
     "output_type": "execute_result"
    }
   ],
   "source": [
    "con.execute(f\"select * from {bf_out_table_name}\").fetchall()"
   ],
   "metadata": {
    "collapsed": false,
    "pycharm": {
     "name": "#%%\n"
    }
   }
  },
  {
   "cell_type": "code",
   "execution_count": 91,
   "outputs": [
    {
     "data": {
      "text/plain": "0.01742410659790039"
     },
     "execution_count": 91,
     "metadata": {},
     "output_type": "execute_result"
    }
   ],
   "source": [
    "start_time = time.time()\n",
    "jaccard_join(\n",
    "    con, l_table, r_table, l_key_attr, r_key_attr, l_join_attr, r_join_attr, tokenizer, threshold, out_table_name\n",
    ")\n",
    "end_time = time.time()\n",
    "end_time - start_time"
   ],
   "metadata": {
    "collapsed": false,
    "pycharm": {
     "name": "#%%\n"
    }
   }
  },
  {
   "cell_type": "code",
   "execution_count": 92,
   "outputs": [
    {
     "data": {
      "text/plain": "[('0_1022_7968679', '2_1022_7999709'),\n ('0_1040_10986345', '1_1040_10950068'),\n ('0_1040_10986345', '2_1040_10986386'),\n ('0_1222_1130018', '1_1222_1104748'),\n ('0_1940_8280393', '2_1940_7342755'),\n ('0_1022_7968679', '1_1022_8529932'),\n ('0_3822_11913154', '1_3822_11891631'),\n ('0_4940_6724474', '2_4940_6769191'),\n ('0_922_12748976', '2_922_12843169'),\n ('1_1022_8529932', '2_1022_7999709'),\n ('1_1040_10950068', '2_1040_10986386'),\n ('0_4840_7246686', '2_4840_7261567'),\n ('0_922_12748976', '1_922_12317422'),\n ('1_4422_1365826', '2_4422_1365827'),\n ('1_4022_10236169', '2_4022_10221011'),\n ('1_922_12317422', '2_922_12843169')]"
     },
     "execution_count": 92,
     "metadata": {},
     "output_type": "execute_result"
    }
   ],
   "source": [
    "con.execute(f\"select * from {out_table_name}\").fetchall()"
   ],
   "metadata": {
    "collapsed": false,
    "pycharm": {
     "name": "#%%\n"
    }
   }
  },
  {
   "cell_type": "code",
   "execution_count": 93,
   "outputs": [
    {
     "data": {
      "text/plain": "[]"
     },
     "execution_count": 93,
     "metadata": {},
     "output_type": "execute_result"
    }
   ],
   "source": [
    "con.execute(\n",
    "    \"select * \"\n",
    "    f\"from {out_table_name} m \"\n",
    "    f\"full outer join {bf_out_table_name} b on b.rid1 = m.rid1 and b.rid2 = m.rid2 \"\n",
    "    \"where m.rid1 is null \"\n",
    ").fetchall()"
   ],
   "metadata": {
    "collapsed": false,
    "pycharm": {
     "name": "#%%\n"
    }
   }
  },
  {
   "cell_type": "code",
   "execution_count": null,
   "outputs": [],
   "source": [],
   "metadata": {
    "collapsed": false,
    "pycharm": {
     "name": "#%%\n"
    }
   }
  }
 ],
 "metadata": {
  "kernelspec": {
   "display_name": "Python 3",
   "language": "python",
   "name": "python3"
  },
  "language_info": {
   "codemirror_mode": {
    "name": "ipython",
    "version": 2
   },
   "file_extension": ".py",
   "mimetype": "text/x-python",
   "name": "python",
   "nbconvert_exporter": "python",
   "pygments_lexer": "ipython2",
   "version": "2.7.6"
  }
 },
 "nbformat": 4,
 "nbformat_minor": 0
}