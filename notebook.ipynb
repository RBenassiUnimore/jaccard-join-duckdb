{
 "cells": [
  {
   "cell_type": "code",
   "execution_count": 1,
   "outputs": [
    {
     "name": "stdout",
     "output_type": "stream",
     "text": [
      "Requirement already satisfied: duckdb in c:\\python39\\lib\\site-packages (0.6.1)\n",
      "Requirement already satisfied: numpy>=1.14 in c:\\python39\\lib\\site-packages (from duckdb) (1.23.5)\n"
     ]
    }
   ],
   "source": [
    "!pip install duckdb"
   ],
   "metadata": {
    "collapsed": false,
    "pycharm": {
     "name": "#%%\n"
    }
   }
  },
  {
   "cell_type": "code",
   "execution_count": 43,
   "outputs": [],
   "source": [
    "import duckdb"
   ],
   "metadata": {
    "collapsed": false,
    "pycharm": {
     "name": "#%%\n"
    }
   }
  },
  {
   "cell_type": "code",
   "execution_count": 46,
   "outputs": [
    {
     "name": "stdout",
     "output_type": "stream",
     "text": [
      "The autoreload extension is already loaded. To reload it, use:\n",
      "  %reload_ext autoreload\n"
     ]
    }
   ],
   "source": [
    "%load_ext autoreload\n",
    "%autoreload 2"
   ],
   "metadata": {
    "collapsed": false,
    "pycharm": {
     "name": "#%%\n"
    }
   }
  },
  {
   "cell_type": "code",
   "execution_count": 47,
   "outputs": [],
   "source": [
    "import pack"
   ],
   "metadata": {
    "collapsed": false,
    "pycharm": {
     "name": "#%%\n"
    }
   }
  },
  {
   "cell_type": "code",
   "execution_count": 3,
   "outputs": [],
   "source": [
    "con = duckdb.connect(database=':memory:')"
   ],
   "metadata": {
    "collapsed": false,
    "pycharm": {
     "name": "#%%\n"
    }
   }
  },
  {
   "cell_type": "code",
   "execution_count": 4,
   "outputs": [
    {
     "data": {
      "text/plain": "<duckdb.DuckDBPyConnection at 0x191ccf21b30>"
     },
     "execution_count": 4,
     "metadata": {},
     "output_type": "execute_result"
    }
   ],
   "source": [
    "# must be a table to use INSERT afterwards\n",
    "con.execute(\"drop table if exists input\").execute(\n",
    "    \"CREATE TABLE input AS \"\n",
    "    \"SELECT id as rid, concat(given_name, ' ', surname, ' ', date_of_birth) as val \"\n",
    "    \"FROM 'data/S1_clean_.csv'\")"
   ],
   "metadata": {
    "collapsed": false,
    "pycharm": {
     "name": "#%%\n"
    }
   }
  },
  {
   "cell_type": "code",
   "execution_count": 5,
   "outputs": [
    {
     "data": {
      "text/plain": "<duckdb.DuckDBPyConnection at 0x191ccf21b30>"
     },
     "execution_count": 5,
     "metadata": {},
     "output_type": "execute_result"
    }
   ],
   "source": [
    "con.execute(\n",
    "    \"insert into input \"\n",
    "    \"select id, concat(given_name, ' ', surname, ' ', date_of_birth) \"\n",
    "    \"from 'data/S2_clean_.csv'\")"
   ],
   "metadata": {
    "collapsed": false,
    "pycharm": {
     "name": "#%%\n"
    }
   }
  },
  {
   "cell_type": "code",
   "execution_count": 6,
   "outputs": [
    {
     "data": {
      "text/plain": "<duckdb.DuckDBPyConnection at 0x191ccf21b30>"
     },
     "execution_count": 6,
     "metadata": {},
     "output_type": "execute_result"
    }
   ],
   "source": [
    "con.execute(\n",
    "    \"insert into input \"\n",
    "    \"select id, concat(given_name, ' ', surname, ' ', date_of_birth) \"\n",
    "    \"from 'data/S3_clean_.csv'\")"
   ],
   "metadata": {
    "collapsed": false,
    "pycharm": {
     "name": "#%%\n"
    }
   }
  },
  {
   "cell_type": "code",
   "execution_count": 7,
   "outputs": [
    {
     "data": {
      "text/plain": "[('S1_0', 'joshua morrison 19101123'),\n ('S1_1', 'jordan white 19371126'),\n ('S1_2', 'emmerson lock 19211129'),\n ('S1_3', 'alexandra grosser 19720305'),\n ('S1_4', 'michael wuchatsch 19190110'),\n ('S1_5', 'emmerson loyck 19211129'),\n ('S1_6', 'rhys schuetz 19440909'),\n ('S1_7', 'joshua greenj 19790110'),\n ('S1_8', 'olivia hobson 19760812'),\n ('S1_9', 'michael lierach 19360816'),\n ('S1_10', 'elisabett domiten 19081008'),\n ('S1_11', 'genoveffa hylander 19071008'),\n ('S2_0', 'braecon schuetz 19440909'),\n ('S2_1', 'alexandra grosvenor 19930305'),\n ('S2_2', 'michael liersch 19360816'),\n ('S2_3', 'emmeron loyk 19321129'),\n ('S2_4', 'olivia hobson 19760812'),\n ('S2_5', 'joshua green 19010219'),\n ('S2_6', 'charlotte hyland 19340909'),\n ('S2_7', 'elisabet domitienn 19071008'),\n ('S3_0', 'emmerson loyck 19211129'),\n ('S3_1', 'michel wuchatsch 19190110'),\n ('S3_3', 'liersch michael 19360816'),\n ('S3_4', 'charlotte hyland 19460401'),\n ('S3_5', 'braedon schuetz 19440909'),\n ('S3_6', 'olivia hobson 19760812'),\n ('S3_7', 'joshua green 19790110'),\n ('S3_8', 'keely clarke 19050410'),\n ('S3_9', 'joshua morriosn 19101123'),\n ('S3_11', 'genovefa hyllande 19071008')]"
     },
     "execution_count": 7,
     "metadata": {},
     "output_type": "execute_result"
    }
   ],
   "source": [
    "con.execute(\"select * from input\").fetchall()"
   ],
   "metadata": {
    "collapsed": false,
    "pycharm": {
     "name": "#%%\n"
    }
   }
  },
  {
   "cell_type": "code",
   "execution_count": 49,
   "outputs": [
    {
     "data": {
      "text/plain": "[('S1_0', 3, 'joshua'),\n ('S1_0', 3, 'morrison'),\n ('S1_0', 3, '19101123'),\n ('S1_1', 3, 'jordan'),\n ('S1_1', 3, 'white'),\n ('S1_1', 3, '19371126'),\n ('S1_2', 3, 'emmerson'),\n ('S1_2', 3, 'lock'),\n ('S1_2', 3, '19211129'),\n ('S1_3', 3, 'alexandra'),\n ('S1_3', 3, 'grosser'),\n ('S1_3', 3, '19720305'),\n ('S1_4', 3, 'michael'),\n ('S1_4', 3, 'wuchatsch'),\n ('S1_4', 3, '19190110'),\n ('S1_5', 3, 'emmerson'),\n ('S1_5', 3, 'loyck'),\n ('S1_5', 3, '19211129'),\n ('S1_6', 3, 'rhys'),\n ('S1_6', 3, 'schuetz'),\n ('S1_6', 3, '19440909'),\n ('S1_7', 3, 'joshua'),\n ('S1_7', 3, 'greenj'),\n ('S1_7', 3, '19790110'),\n ('S1_8', 3, 'olivia'),\n ('S1_8', 3, 'hobson'),\n ('S1_8', 3, '19760812'),\n ('S1_9', 3, 'michael'),\n ('S1_9', 3, 'lierach'),\n ('S1_9', 3, '19360816'),\n ('S1_10', 3, 'elisabett'),\n ('S1_10', 3, 'domiten'),\n ('S1_10', 3, '19081008'),\n ('S1_11', 3, 'genoveffa'),\n ('S1_11', 3, 'hylander'),\n ('S1_11', 3, '19071008'),\n ('S2_0', 3, 'braecon'),\n ('S2_0', 3, 'schuetz'),\n ('S2_0', 3, '19440909'),\n ('S2_1', 3, 'alexandra'),\n ('S2_1', 3, 'grosvenor'),\n ('S2_1', 3, '19930305'),\n ('S2_2', 3, 'michael'),\n ('S2_2', 3, 'liersch'),\n ('S2_2', 3, '19360816'),\n ('S2_3', 3, 'emmeron'),\n ('S2_3', 3, 'loyk'),\n ('S2_3', 3, '19321129'),\n ('S2_4', 3, 'olivia'),\n ('S2_4', 3, 'hobson'),\n ('S2_4', 3, '19760812'),\n ('S2_5', 3, 'joshua'),\n ('S2_5', 3, 'green'),\n ('S2_5', 3, '19010219'),\n ('S2_6', 3, 'charlotte'),\n ('S2_6', 3, 'hyland'),\n ('S2_6', 3, '19340909'),\n ('S2_7', 3, 'elisabet'),\n ('S2_7', 3, 'domitienn'),\n ('S2_7', 3, '19071008'),\n ('S3_0', 3, 'emmerson'),\n ('S3_0', 3, 'loyck'),\n ('S3_0', 3, '19211129'),\n ('S3_1', 3, 'michel'),\n ('S3_1', 3, 'wuchatsch'),\n ('S3_1', 3, '19190110'),\n ('S3_3', 3, 'liersch'),\n ('S3_3', 3, 'michael'),\n ('S3_3', 3, '19360816'),\n ('S3_4', 3, 'charlotte'),\n ('S3_4', 3, 'hyland'),\n ('S3_4', 3, '19460401'),\n ('S3_5', 3, 'braedon'),\n ('S3_5', 3, 'schuetz'),\n ('S3_5', 3, '19440909'),\n ('S3_6', 3, 'olivia'),\n ('S3_6', 3, 'hobson'),\n ('S3_6', 3, '19760812'),\n ('S3_7', 3, 'joshua'),\n ('S3_7', 3, 'green'),\n ('S3_7', 3, '19790110'),\n ('S3_8', 3, 'keely'),\n ('S3_8', 3, 'clarke'),\n ('S3_8', 3, '19050410'),\n ('S3_9', 3, 'joshua'),\n ('S3_9', 3, 'morriosn'),\n ('S3_9', 3, '19101123'),\n ('S3_11', 3, 'genovefa'),\n ('S3_11', 3, 'hyllande'),\n ('S3_11', 3, '19071008')]"
     },
     "execution_count": 49,
     "metadata": {},
     "output_type": "execute_result"
    }
   ],
   "source": [
    "con.execute(\"drop view if exists tokens\").execute(\n",
    "    \"create view tokens as \" +\n",
    "    pack.WordsTokzr().get_query()\n",
    ")\n",
    "con.execute(\"select * from tokens\").fetchall()"
   ],
   "metadata": {
    "collapsed": false,
    "pycharm": {
     "name": "#%%\n"
    }
   }
  },
  {
   "cell_type": "code",
   "execution_count": 14,
   "outputs": [],
   "source": [
    "q = 3"
   ],
   "metadata": {
    "collapsed": false,
    "pycharm": {
     "name": "#%%\n"
    }
   }
  },
  {
   "cell_type": "code",
   "execution_count": 29,
   "outputs": [
    {
     "data": {
      "text/plain": "[('S1_0', 26, '##j'),\n ('S1_0', 26, '#jo'),\n ('S1_0', 26, 'jos'),\n ('S1_0', 26, 'osh'),\n ('S1_0', 26, 'shu'),\n ('S1_0', 26, 'hua'),\n ('S1_0', 26, 'ua '),\n ('S1_0', 26, 'a m'),\n ('S1_0', 26, ' mo'),\n ('S1_0', 26, 'mor'),\n ('S1_0', 26, 'orr'),\n ('S1_0', 26, 'rri'),\n ('S1_0', 26, 'ris'),\n ('S1_0', 26, 'iso'),\n ('S1_0', 26, 'son'),\n ('S1_0', 26, 'on '),\n ('S1_0', 26, 'n 1'),\n ('S1_0', 26, ' 19'),\n ('S1_0', 26, '191'),\n ('S1_0', 26, '910'),\n ('S1_0', 26, '101'),\n ('S1_0', 26, '011'),\n ('S1_0', 26, '112'),\n ('S1_0', 26, '123'),\n ('S1_0', 26, '23#'),\n ('S1_0', 26, '3##'),\n ('S1_1', 23, '##j'),\n ('S1_1', 23, '#jo'),\n ('S1_1', 23, 'jor'),\n ('S1_1', 23, 'ord'),\n ('S1_1', 23, 'rda'),\n ('S1_1', 23, 'dan'),\n ('S1_1', 23, 'an '),\n ('S1_1', 23, 'n w'),\n ('S1_1', 23, ' wh'),\n ('S1_1', 23, 'whi'),\n ('S1_1', 23, 'hit'),\n ('S1_1', 23, 'ite'),\n ('S1_1', 23, 'te '),\n ('S1_1', 23, 'e 1'),\n ('S1_1', 23, ' 19'),\n ('S1_1', 23, '193'),\n ('S1_1', 23, '937'),\n ('S1_1', 23, '371'),\n ('S1_1', 23, '711'),\n ('S1_1', 23, '112'),\n ('S1_1', 23, '126'),\n ('S1_1', 23, '26#'),\n ('S1_1', 23, '6##'),\n ('S1_2', 24, '##e'),\n ('S1_2', 24, '#em'),\n ('S1_2', 24, 'emm'),\n ('S1_2', 24, 'mme'),\n ('S1_2', 24, 'mer'),\n ('S1_2', 24, 'ers'),\n ('S1_2', 24, 'rso'),\n ('S1_2', 24, 'son'),\n ('S1_2', 24, 'on '),\n ('S1_2', 24, 'n l'),\n ('S1_2', 24, ' lo'),\n ('S1_2', 24, 'loc'),\n ('S1_2', 24, 'ock'),\n ('S1_2', 24, 'ck '),\n ('S1_2', 24, 'k 1'),\n ('S1_2', 24, ' 19'),\n ('S1_2', 24, '192'),\n ('S1_2', 24, '921'),\n ('S1_2', 24, '211'),\n ('S1_2', 24, '111'),\n ('S1_2', 24, '112'),\n ('S1_2', 24, '129'),\n ('S1_3', 28, '##a'),\n ('S1_3', 28, '#al'),\n ('S1_3', 28, 'ale'),\n ('S1_3', 28, 'lex'),\n ('S1_3', 28, 'exa'),\n ('S1_3', 28, 'xan'),\n ('S1_3', 28, 'and'),\n ('S1_3', 28, 'ndr'),\n ('S1_3', 28, 'ra '),\n ('S1_3', 28, 'a g'),\n ('S1_3', 28, ' gr'),\n ('S1_3', 28, 'gro'),\n ('S1_3', 28, 'ros'),\n ('S1_3', 28, 'oss'),\n ('S1_3', 28, 'sse'),\n ('S1_3', 28, 'ser'),\n ('S1_3', 28, 'er '),\n ('S1_3', 28, 'r 1'),\n ('S1_3', 28, ' 19'),\n ('S1_3', 28, '197'),\n ('S1_3', 28, '972'),\n ('S1_3', 28, '720'),\n ('S1_3', 28, '203'),\n ('S1_3', 28, '030'),\n ('S1_3', 28, '305'),\n ('S1_3', 28, '05#'),\n ('S1_3', 28, '5##'),\n ('S1_4', 28, '##m'),\n ('S1_4', 28, '#mi'),\n ('S1_4', 28, 'mic'),\n ('S1_4', 28, 'ich'),\n ('S1_4', 28, 'cha'),\n ('S1_4', 28, 'hae'),\n ('S1_4', 28, 'ael'),\n ('S1_4', 28, 'el '),\n ('S1_4', 28, 'l w'),\n ('S1_4', 28, ' wu'),\n ('S1_4', 28, 'wuc'),\n ('S1_4', 28, 'uch'),\n ('S1_4', 28, 'hat'),\n ('S1_4', 28, 'ats'),\n ('S1_4', 28, 'tsc'),\n ('S1_4', 28, 'sch'),\n ('S1_4', 28, 'ch '),\n ('S1_4', 28, 'h 1'),\n ('S1_4', 28, ' 19'),\n ('S1_4', 28, '191'),\n ('S1_4', 28, '919'),\n ('S1_4', 28, '190'),\n ('S1_4', 28, '901'),\n ('S1_4', 28, '011'),\n ('S1_4', 28, '110'),\n ('S1_4', 28, '10#'),\n ('S1_4', 28, '0##'),\n ('S1_5', 25, '##e'),\n ('S1_5', 25, '#em'),\n ('S1_5', 25, 'emm'),\n ('S1_5', 25, 'mme'),\n ('S1_5', 25, 'mer'),\n ('S1_5', 25, 'ers'),\n ('S1_5', 25, 'son'),\n ('S1_5', 25, 'on '),\n ('S1_5', 25, 'n l'),\n ('S1_5', 25, ' lo'),\n ('S1_5', 25, 'loy'),\n ('S1_5', 25, 'oyc'),\n ('S1_5', 25, 'ck '),\n ('S1_5', 25, 'k 1'),\n ('S1_5', 25, ' 19'),\n ('S1_5', 25, '192'),\n ('S1_5', 25, '921'),\n ('S1_5', 25, '211'),\n ('S1_5', 25, '111'),\n ('S1_5', 25, '112'),\n ('S1_5', 25, '129'),\n ('S1_5', 25, '29#'),\n ('S1_6', 23, '##r'),\n ('S1_6', 23, 'rhy'),\n ('S1_6', 23, 'hys'),\n ('S1_6', 23, 'ys '),\n ('S1_6', 23, 's s'),\n ('S1_6', 23, ' sc'),\n ('S1_6', 23, 'sch'),\n ('S1_6', 23, 'chu'),\n ('S1_6', 23, 'hue'),\n ('S1_6', 23, 'uet'),\n ('S1_6', 23, 'etz'),\n ('S1_6', 23, 'tz '),\n ('S1_6', 23, 'z 1'),\n ('S1_6', 23, ' 19'),\n ('S1_6', 23, '194'),\n ('S1_6', 23, '944'),\n ('S1_6', 23, '440'),\n ('S1_6', 23, '409'),\n ('S1_6', 23, '090'),\n ('S1_6', 23, '909'),\n ('S1_6', 23, '09#'),\n ('S1_7', 24, '#jo'),\n ('S1_7', 24, 'jos'),\n ('S1_7', 24, 'osh'),\n ('S1_7', 24, 'shu'),\n ('S1_7', 24, 'hua'),\n ('S1_7', 24, 'ua '),\n ('S1_7', 24, 'a g'),\n ('S1_7', 24, ' gr'),\n ('S1_7', 24, 'gre'),\n ('S1_7', 24, 'ree'),\n ('S1_7', 24, 'enj'),\n ('S1_7', 24, 'nj '),\n ('S1_7', 24, 'j 1'),\n ('S1_7', 24, ' 19'),\n ('S1_7', 24, '197'),\n ('S1_7', 24, '790'),\n ('S1_7', 24, '011'),\n ('S1_7', 24, '110'),\n ('S1_7', 24, '10#'),\n ('S1_7', 24, '0##'),\n ('S1_8', 24, '##o'),\n ('S1_8', 24, '#ol'),\n ('S1_8', 24, 'oli'),\n ('S1_8', 24, 'liv'),\n ('S1_8', 24, 'ivi'),\n ('S1_8', 24, 'via'),\n ('S1_8', 24, 'ia '),\n ('S1_8', 24, 'a h'),\n ('S1_8', 24, ' ho'),\n ('S1_8', 24, 'hob'),\n ('S1_8', 24, 'obs'),\n ('S1_8', 24, 'bso'),\n ('S1_8', 24, 'son'),\n ('S1_8', 24, 'on '),\n ('S1_8', 24, 'n 1'),\n ('S1_8', 24, ' 19'),\n ('S1_8', 24, '197'),\n ('S1_8', 24, '976'),\n ('S1_8', 24, '760'),\n ('S1_8', 24, '608'),\n ('S1_8', 24, '081'),\n ('S1_8', 24, '812'),\n ('S1_8', 24, '12#'),\n ('S1_8', 24, '2##'),\n ('S1_9', 26, '##m'),\n ('S1_9', 26, '#mi'),\n ('S1_9', 26, 'ich'),\n ('S1_9', 26, 'cha'),\n ('S1_9', 26, 'hae'),\n ('S1_9', 26, 'ael'),\n ('S1_9', 26, 'el '),\n ('S1_9', 26, 'l l'),\n ('S1_9', 26, ' li'),\n ('S1_9', 26, 'lie'),\n ('S1_9', 26, 'ier'),\n ('S1_9', 26, 'era'),\n ('S1_9', 26, 'rac'),\n ('S1_9', 26, 'ach'),\n ('S1_9', 26, 'ch '),\n ('S1_9', 26, ' 19'),\n ('S1_9', 26, '193'),\n ('S1_9', 26, '936'),\n ('S1_9', 26, '360'),\n ('S1_9', 26, '608'),\n ('S1_9', 26, '081'),\n ('S1_9', 26, '816'),\n ('S1_9', 26, '16#'),\n ('S1_9', 26, '6##'),\n ('S1_10', 28, '##e'),\n ('S1_10', 28, '#el'),\n ('S1_10', 28, 'eli'),\n ('S1_10', 28, 'lis'),\n ('S1_10', 28, 'isa'),\n ('S1_10', 28, 'sab'),\n ('S1_10', 28, 'abe'),\n ('S1_10', 28, 'bet'),\n ('S1_10', 28, 'ett'),\n ('S1_10', 28, 'tt '),\n ('S1_10', 28, 't d'),\n ('S1_10', 28, ' do'),\n ('S1_10', 28, 'dom'),\n ('S1_10', 28, 'omi'),\n ('S1_10', 28, 'mit'),\n ('S1_10', 28, 'ite'),\n ('S1_10', 28, 'ten'),\n ('S1_10', 28, 'en '),\n ('S1_10', 28, 'n 1'),\n ('S1_10', 28, ' 19'),\n ('S1_10', 28, '190'),\n ('S1_10', 28, '908'),\n ('S1_10', 28, '810'),\n ('S1_10', 28, '100'),\n ('S1_10', 28, '08#'),\n ('S1_10', 28, '8##'),\n ('S1_11', 29, '##g'),\n ('S1_11', 29, '#ge'),\n ('S1_11', 29, 'eno'),\n ('S1_11', 29, 'nov'),\n ('S1_11', 29, 'ove'),\n ('S1_11', 29, 'vef'),\n ('S1_11', 29, 'eff'),\n ('S1_11', 29, 'ffa'),\n ('S1_11', 29, 'fa '),\n ('S1_11', 29, 'a h'),\n ('S1_11', 29, ' hy'),\n ('S1_11', 29, 'hyl'),\n ('S1_11', 29, 'yla'),\n ('S1_11', 29, 'lan'),\n ('S1_11', 29, 'and'),\n ('S1_11', 29, 'nde'),\n ('S1_11', 29, 'der'),\n ('S1_11', 29, 'er '),\n ('S1_11', 29, 'r 1'),\n ('S1_11', 29, ' 19'),\n ('S1_11', 29, '190'),\n ('S1_11', 29, '907'),\n ('S1_11', 29, '071'),\n ('S1_11', 29, '710'),\n ('S1_11', 29, '100'),\n ('S1_11', 29, '008'),\n ('S1_11', 29, '08#'),\n ('S2_0', 26, '##b'),\n ('S2_0', 26, '#br'),\n ('S2_0', 26, 'bra'),\n ('S2_0', 26, 'rae'),\n ('S2_0', 26, 'aec'),\n ('S2_0', 26, 'eco'),\n ('S2_0', 26, 'con'),\n ('S2_0', 26, 'on '),\n ('S2_0', 26, 'n s'),\n ('S2_0', 26, ' sc'),\n ('S2_0', 26, 'sch'),\n ('S2_0', 26, 'chu'),\n ('S2_0', 26, 'hue'),\n ('S2_0', 26, 'uet'),\n ('S2_0', 26, 'tz '),\n ('S2_0', 26, 'z 1'),\n ('S2_0', 26, ' 19'),\n ('S2_0', 26, '194'),\n ('S2_0', 26, '409'),\n ('S2_0', 26, '090'),\n ('S2_0', 26, '909'),\n ('S2_0', 26, '09#'),\n ('S2_1', 30, '##a'),\n ('S2_1', 30, '#al'),\n ('S2_1', 30, 'lex'),\n ('S2_1', 30, 'exa'),\n ('S2_1', 30, 'xan'),\n ('S2_1', 30, 'and'),\n ('S2_1', 30, 'ndr'),\n ('S2_1', 30, 'dra'),\n ('S2_1', 30, 'ra '),\n ('S2_1', 30, 'a g'),\n ('S2_1', 30, ' gr'),\n ('S2_1', 30, 'gro'),\n ('S2_1', 30, 'ros'),\n ('S2_1', 30, 'osv'),\n ('S2_1', 30, 'sve'),\n ('S2_1', 30, 'ven'),\n ('S2_1', 30, 'eno'),\n ('S2_1', 30, 'nor'),\n ('S2_1', 30, 'or '),\n ('S2_1', 30, 'r 1'),\n ('S2_1', 30, '199'),\n ('S2_1', 30, '993'),\n ('S2_1', 30, '930'),\n ('S2_1', 30, '303'),\n ('S2_1', 30, '030'),\n ('S2_1', 30, '305'),\n ('S2_1', 30, '05#'),\n ('S2_1', 30, 'ale'),\n ('S2_2', 26, '##m'),\n ('S2_2', 26, '#mi'),\n ('S2_2', 26, 'mic'),\n ('S2_2', 26, 'ich'),\n ('S2_2', 26, 'cha'),\n ('S2_2', 26, 'hae'),\n ('S2_2', 26, 'ael'),\n ('S2_2', 26, 'el '),\n ('S2_2', 26, 'l l'),\n ('S2_2', 26, ' li'),\n ('S2_2', 26, 'lie'),\n ('S2_2', 26, 'ier'),\n ('S2_2', 26, 'ers'),\n ('S2_2', 26, 'rsc'),\n ('S2_2', 26, 'sch'),\n ('S2_2', 26, 'ch '),\n ('S2_2', 26, 'h 1'),\n ('S2_2', 26, ' 19'),\n ('S2_2', 26, '936'),\n ('S2_2', 26, '360'),\n ('S2_2', 26, '608'),\n ('S2_2', 26, '081'),\n ('S2_2', 26, '816'),\n ('S2_2', 26, '16#'),\n ('S2_2', 26, '6##'),\n ('S2_3', 23, '##e'),\n ('S2_3', 23, '#em'),\n ('S2_3', 23, 'emm'),\n ('S2_3', 23, 'mme'),\n ('S2_3', 23, 'mer'),\n ('S2_3', 23, 'ero'),\n ('S2_3', 23, 'ron'),\n ('S2_3', 23, 'on '),\n ('S2_3', 23, 'n l'),\n ('S2_3', 23, ' lo'),\n ('S2_3', 23, 'loy'),\n ('S2_3', 23, 'oyk'),\n ('S2_3', 23, ' 19'),\n ('S2_3', 23, '193'),\n ('S2_3', 23, '932'),\n ('S2_3', 23, '321'),\n ('S2_3', 23, '211'),\n ('S2_3', 23, '112'),\n ('S2_3', 23, '129'),\n ('S2_3', 23, 'yk '),\n ('S2_4', 24, '##o'),\n ('S2_4', 24, '#ol'),\n ('S2_4', 24, 'oli'),\n ('S2_4', 24, 'liv'),\n ('S2_4', 24, 'ivi'),\n ('S2_4', 24, 'via'),\n ('S2_4', 24, 'ia '),\n ('S2_4', 24, 'a h'),\n ('S2_4', 24, ' ho'),\n ('S2_4', 24, 'hob'),\n ('S2_4', 24, 'obs'),\n ('S2_4', 24, 'bso'),\n ('S2_4', 24, 'son'),\n ('S2_4', 24, 'on '),\n ('S2_4', 24, ' 19'),\n ('S2_4', 24, '976'),\n ('S2_4', 24, '760'),\n ('S2_4', 24, '608'),\n ('S2_4', 24, '081'),\n ('S2_4', 24, '812'),\n ('S2_4', 24, '2##'),\n ('S2_5', 23, '##j'),\n ('S2_5', 23, '#jo'),\n ('S2_5', 23, 'jos'),\n ('S2_5', 23, 'osh'),\n ('S2_5', 23, 'shu'),\n ('S2_5', 23, 'hua'),\n ('S2_5', 23, 'ua '),\n ('S2_5', 23, 'a g'),\n ('S2_5', 23, ' gr'),\n ('S2_5', 23, 'ree'),\n ('S2_5', 23, 'een'),\n ('S2_5', 23, 'en '),\n ('S2_5', 23, 'n 1'),\n ('S2_5', 23, ' 19'),\n ('S2_5', 23, '190'),\n ('S2_5', 23, '901'),\n ('S2_5', 23, '010'),\n ('S2_5', 23, '102'),\n ('S2_5', 23, '021'),\n ('S2_5', 23, '219'),\n ('S2_5', 23, '19#'),\n ('S2_6', 27, '#ch'),\n ('S2_6', 27, 'cha'),\n ('S2_6', 27, 'har'),\n ('S2_6', 27, 'arl'),\n ('S2_6', 27, 'rlo'),\n ('S2_6', 27, 'ott'),\n ('S2_6', 27, 'tte'),\n ('S2_6', 27, 'e h'),\n ('S2_6', 27, ' hy'),\n ('S2_6', 27, 'hyl'),\n ('S2_6', 27, 'yla'),\n ('S2_6', 27, 'lan'),\n ('S2_6', 27, 'and'),\n ('S2_6', 27, 'nd '),\n ('S2_6', 27, ' 19'),\n ('S2_6', 27, '193'),\n ('S2_6', 27, '409'),\n ('S2_6', 27, '090'),\n ('S2_6', 27, '909'),\n ('S2_6', 27, '09#'),\n ('S2_7', 29, '#el'),\n ('S2_7', 29, 'lis'),\n ('S2_7', 29, 'isa'),\n ('S2_7', 29, 'sab'),\n ('S2_7', 29, 'abe'),\n ('S2_7', 29, 'bet'),\n ('S2_7', 29, 'et '),\n ('S2_7', 29, 't d'),\n ('S2_7', 29, ' do'),\n ('S2_7', 29, 'dom'),\n ('S2_7', 29, 'omi'),\n ('S2_7', 29, 'mit'),\n ('S2_7', 29, 'iti'),\n ('S2_7', 29, 'tie'),\n ('S2_7', 29, 'ien'),\n ('S2_7', 29, 'enn'),\n ('S2_7', 29, 'nn '),\n ('S2_7', 29, ' 19'),\n ('S2_7', 29, '190'),\n ('S2_7', 29, '907'),\n ('S2_7', 29, '071'),\n ('S2_7', 29, '710'),\n ('S2_7', 29, '100'),\n ('S2_7', 29, '008'),\n ('S2_7', 29, '08#'),\n ('S2_7', 29, '8##'),\n ('S2_7', 29, '##e'),\n ('S3_0', 25, '##e'),\n ('S3_0', 25, '#em'),\n ('S3_0', 25, 'mme'),\n ('S3_0', 25, 'mer'),\n ('S3_0', 25, 'ers'),\n ('S3_0', 25, 'rso'),\n ('S3_0', 25, 'son'),\n ('S3_0', 25, 'on '),\n ('S3_0', 25, 'n l'),\n ('S3_0', 25, ' lo'),\n ('S3_0', 25, 'loy'),\n ('S3_0', 25, 'oyc'),\n ('S3_0', 25, 'ck '),\n ('S3_0', 25, 'k 1'),\n ('S3_0', 25, ' 19'),\n ('S3_0', 25, '192'),\n ('S3_0', 25, '921'),\n ('S3_0', 25, '211'),\n ('S3_0', 25, '111'),\n ('S3_0', 25, '112'),\n ('S3_0', 25, '129'),\n ('S3_0', 25, '29#'),\n ('S3_1', 27, '##m'),\n ('S3_1', 27, '#mi'),\n ('S3_1', 27, 'ich'),\n ('S3_1', 27, 'che'),\n ('S3_1', 27, 'hel'),\n ('S3_1', 27, 'el '),\n ('S3_1', 27, 'l w'),\n ('S3_1', 27, ' wu'),\n ('S3_1', 27, 'wuc'),\n ('S3_1', 27, 'uch'),\n ('S3_1', 27, 'cha'),\n ('S3_1', 27, 'hat'),\n ('S3_1', 27, 'ats'),\n ('S3_1', 27, 'tsc'),\n ('S3_1', 27, 'sch'),\n ('S3_1', 27, 'ch '),\n ('S3_1', 27, 'h 1'),\n ('S3_1', 27, ' 19'),\n ('S3_1', 27, '191'),\n ('S3_1', 27, '919'),\n ('S3_1', 27, '190'),\n ('S3_1', 27, '901'),\n ('S3_1', 27, '110'),\n ('S3_1', 27, '10#'),\n ('S3_1', 27, '0##'),\n ('S3_1', 27, '011'),\n ('S3_1', 27, 'mic'),\n ('S3_3', 26, '##l'),\n ('S3_3', 26, '#li'),\n ('S3_3', 26, 'lie'),\n ('S3_3', 26, 'ier'),\n ('S3_3', 26, 'ers'),\n ('S3_3', 26, 'rsc'),\n ('S3_3', 26, 'ch '),\n ('S3_3', 26, 'h m'),\n ('S3_3', 26, 'mic'),\n ('S3_3', 26, 'ich'),\n ('S3_3', 26, 'cha'),\n ('S3_3', 26, 'hae'),\n ('S3_3', 26, 'ael'),\n ('S3_3', 26, 'l 1'),\n ('S3_3', 26, ' 19'),\n ('S3_3', 26, '193'),\n ('S3_3', 26, '936'),\n ('S3_3', 26, '360'),\n ('S3_3', 26, '608'),\n ('S3_3', 26, '081'),\n ('S3_3', 26, '816'),\n ('S3_3', 26, '16#'),\n ('S3_4', 27, '##c'),\n ('S3_4', 27, '#ch'),\n ('S3_4', 27, 'cha'),\n ('S3_4', 27, 'har'),\n ('S3_4', 27, 'arl'),\n ('S3_4', 27, 'rlo'),\n ('S3_4', 27, 'lot'),\n ('S3_4', 27, 'ott'),\n ('S3_4', 27, 'tte'),\n ('S3_4', 27, 'te '),\n ('S3_4', 27, 'e h'),\n ('S3_4', 27, ' hy'),\n ('S3_4', 27, 'hyl'),\n ('S3_4', 27, 'yla'),\n ('S3_4', 27, 'lan'),\n ('S3_4', 27, 'and'),\n ('S3_4', 27, 'nd '),\n ('S3_4', 27, ' 19'),\n ('S3_4', 27, '194'),\n ('S3_4', 27, '946'),\n ('S3_4', 27, '460'),\n ('S3_4', 27, '604'),\n ('S3_4', 27, '040'),\n ('S3_4', 27, '401'),\n ('S3_4', 27, '01#'),\n ('S3_4', 27, '1##'),\n ('S3_5', 26, '##b'),\n ('S3_5', 26, '#br'),\n ('S3_5', 26, 'bra'),\n ('S3_5', 26, 'rae'),\n ('S3_5', 26, 'aed'),\n ('S3_5', 26, 'edo'),\n ('S3_5', 26, 'don'),\n ('S3_5', 26, 'n s'),\n ('S3_5', 26, 'chu'),\n ('S3_5', 26, 'hue'),\n ('S3_5', 26, 'uet'),\n ('S3_5', 26, 'etz'),\n ('S3_5', 26, 'tz '),\n ('S3_5', 26, 'z 1'),\n ('S3_5', 26, ' 19'),\n ('S3_5', 26, '194'),\n ('S3_5', 26, '944'),\n ('S3_5', 26, '409'),\n ('S3_5', 26, '090'),\n ('S3_5', 26, '909'),\n ('S3_5', 26, '09#'),\n ('S3_6', 24, '##o'),\n ('S3_6', 24, '#ol'),\n ('S3_6', 24, 'liv'),\n ('S3_6', 24, 'ivi'),\n ('S3_6', 24, 'via'),\n ('S3_6', 24, 'a h'),\n ('S3_6', 24, ' ho'),\n ('S3_6', 24, 'hob'),\n ('S3_6', 24, 'obs'),\n ('S3_6', 24, 'bso'),\n ('S3_6', 24, 'son'),\n ('S3_6', 24, 'on '),\n ('S3_6', 24, ' 19'),\n ('S3_6', 24, '976'),\n ('S3_6', 24, '760'),\n ('S3_6', 24, '608'),\n ('S3_6', 24, '081'),\n ('S3_6', 24, '812'),\n ('S3_6', 24, '12#'),\n ('S3_6', 24, '2##'),\n ('S3_7', 23, '##j'),\n ('S3_7', 23, '#jo'),\n ('S3_7', 23, 'jos'),\n ('S3_7', 23, 'osh'),\n ('S3_7', 23, 'shu'),\n ('S3_7', 23, 'hua'),\n ('S3_7', 23, 'ua '),\n ('S3_7', 23, 'a g'),\n ('S3_7', 23, ' gr'),\n ('S3_7', 23, 'gre'),\n ('S3_7', 23, 'een'),\n ('S3_7', 23, 'en '),\n ('S3_7', 23, 'n 1'),\n ('S3_7', 23, ' 19'),\n ('S3_7', 23, '197'),\n ('S3_7', 23, '790'),\n ('S3_7', 23, '901'),\n ('S3_7', 23, '011'),\n ('S3_7', 23, '110'),\n ('S3_7', 23, '10#'),\n ('S3_7', 23, '0##'),\n ('S3_8', 23, '##k'),\n ('S3_8', 23, '#ke'),\n ('S3_8', 23, 'kee'),\n ('S3_8', 23, 'eel'),\n ('S3_8', 23, 'ely'),\n ('S3_8', 23, 'ly '),\n ('S3_8', 23, 'y c'),\n ('S3_8', 23, ' cl'),\n ('S3_8', 23, 'cla'),\n ('S3_8', 23, 'lar'),\n ('S3_8', 23, 'ark'),\n ('S3_8', 23, 'rke'),\n ('S3_8', 23, ' 19'),\n ('S3_8', 23, '190'),\n ('S3_8', 23, '050'),\n ('S3_8', 23, '041'),\n ('S3_8', 23, '410'),\n ('S3_8', 23, '10#'),\n ('S3_8', 23, '0##'),\n ('S3_9', 26, '##j'),\n ('S3_9', 26, '#jo'),\n ('S3_9', 26, 'jos'),\n ('S3_9', 26, 'osh'),\n ('S3_9', 26, 'shu'),\n ('S3_9', 26, 'hua'),\n ('S3_9', 26, 'ua '),\n ('S3_9', 26, 'a m'),\n ('S3_9', 26, ' mo'),\n ('S3_9', 26, 'orr'),\n ('S3_9', 26, 'rio'),\n ('S3_9', 26, 'osn'),\n ('S3_9', 26, 'sn '),\n ('S3_9', 26, ' 19'),\n ('S3_9', 26, '191'),\n ('S3_9', 26, '910'),\n ('S3_9', 26, '011'),\n ('S3_9', 26, '123'),\n ('S3_9', 26, '23#'),\n ('S3_9', 26, '3##'),\n ('S3_11', 28, '##g'),\n ('S3_11', 28, '#ge'),\n ('S3_11', 28, 'gen'),\n ('S3_11', 28, 'eno'),\n ('S3_11', 28, 'nov'),\n ('S3_11', 28, 'ove'),\n ('S3_11', 28, 'vef'),\n ('S3_11', 28, 'efa'),\n ('S3_11', 28, 'fa '),\n ('S3_11', 28, 'a h'),\n ('S3_11', 28, ' hy'),\n ('S3_11', 28, 'hyl'),\n ('S3_11', 28, 'yll'),\n ('S3_11', 28, 'lla'),\n ('S3_11', 28, 'lan'),\n ('S3_11', 28, 'and'),\n ('S3_11', 28, 'nde'),\n ('S3_11', 28, 'de '),\n ('S3_11', 28, 'e 1'),\n ('S3_11', 28, ' 19'),\n ('S3_11', 28, '190'),\n ('S3_11', 28, '907'),\n ('S3_11', 28, '071'),\n ('S3_11', 28, '710'),\n ('S3_11', 28, '08#'),\n ('S3_11', 28, '8##'),\n ('S1_2', 24, '29#'),\n ('S1_3', 28, 'dra'),\n ('S1_5', 25, 'rso'),\n ('S1_5', 25, 'yck'),\n ('S1_5', 25, '9##'),\n ('S1_6', 23, '9##'),\n ('S1_7', 24, '979'),\n ('S1_9', 26, 'mic'),\n ('S1_9', 26, 'h 1'),\n ('S1_10', 28, '081'),\n ('S1_10', 28, '008'),\n ('S1_11', 29, 'gen'),\n ('S1_11', 29, '8##'),\n ('S2_0', 26, 'etz'),\n ('S2_0', 26, '944'),\n ('S2_0', 26, '9##'),\n ('S2_1', 30, ' 19'),\n ('S2_1', 30, '5##'),\n ('S2_2', 26, '193'),\n ('S2_3', 23, 'k 1'),\n ('S2_3', 23, '9##'),\n ('S2_4', 24, 'n 1'),\n ('S2_4', 24, '197'),\n ('S2_4', 24, '12#'),\n ('S2_5', 23, 'gre'),\n ('S2_5', 23, '9##'),\n ('S2_6', 27, '##c'),\n ('S2_6', 27, 'lot'),\n ('S2_6', 27, 'te '),\n ('S2_6', 27, '934'),\n ('S2_6', 27, '340'),\n ('S2_6', 27, '9##'),\n ('S2_7', 29, 'eli'),\n ('S3_0', 25, 'emm'),\n ('S3_0', 25, 'yck'),\n ('S3_3', 26, 'sch'),\n ('S3_3', 26, ' mi'),\n ('S3_3', 26, 'el '),\n ('S3_3', 26, '6##'),\n ('S3_4', 27, 'd 1'),\n ('S3_5', 26, 'on '),\n ('S3_5', 26, ' sc'),\n ('S3_5', 26, 'sch'),\n ('S3_5', 26, '440'),\n ('S3_5', 26, '9##'),\n ('S3_6', 24, 'oli'),\n ('S3_6', 24, 'ia '),\n ('S3_6', 24, 'n 1'),\n ('S3_6', 24, '197'),\n ('S3_7', 23, 'ree'),\n ('S3_7', 23, '979'),\n ('S3_8', 23, 'ke '),\n ('S3_8', 23, '905'),\n ('S3_8', 23, '504'),\n ('S3_9', 26, 'mor'),\n ('S3_9', 26, 'rri'),\n ('S3_9', 26, 'ios'),\n ('S3_9', 26, 'n 1'),\n ('S3_11', 28, '008'),\n ('S1_6', 23, '#rh'),\n ('S1_7', 24, '##j'),\n ('S1_7', 24, 'een'),\n ('S1_7', 24, '901'),\n ('S2_0', 26, '440'),\n ('S2_6', 27, 'd 1'),\n ('S3_0', 25, '9##'),\n ('S3_8', 23, 'e 1'),\n ('S3_9', 26, '101'),\n ('S3_11', 28, '100'),\n ('S1_2', 24, '9##'),\n ('S2_3', 23, '29#'),\n ('S2_7', 29, 'n 1'),\n ('S3_9', 26, '112')]"
     },
     "execution_count": 29,
     "metadata": {},
     "output_type": "execute_result"
    }
   ],
   "source": [
    "con.execute(\"drop view if exists tokens\").execute(\n",
    "    \"create view tokens as \" +\n",
    "    pack.QGramsTokzr(q).get_query()\n",
    ")\n",
    "con.execute(\"select * from tokens\").fetchall()"
   ],
   "metadata": {
    "collapsed": false,
    "pycharm": {
     "name": "#%%\n"
    }
   }
  },
  {
   "cell_type": "code",
   "execution_count": 21,
   "outputs": [
    {
     "data": {
      "text/plain": "[('S1_0', 3, 'joshua'),\n ('S1_0', 3, 'morrison'),\n ('S1_0', 3, '19101123'),\n ('S1_1', 3, 'jordan'),\n ('S1_1', 3, 'white'),\n ('S1_1', 3, '19371126'),\n ('S1_2', 3, 'emmerson'),\n ('S1_2', 3, 'lock'),\n ('S1_2', 3, '19211129'),\n ('S1_3', 3, 'alexandra'),\n ('S1_3', 3, 'grosser'),\n ('S1_3', 3, '19720305'),\n ('S1_4', 3, 'michael'),\n ('S1_4', 3, 'wuchatsch'),\n ('S1_4', 3, '19190110'),\n ('S1_5', 3, 'emmerson'),\n ('S1_5', 3, 'loyck'),\n ('S1_5', 3, '19211129'),\n ('S1_6', 3, 'rhys'),\n ('S1_6', 3, 'schuetz'),\n ('S1_6', 3, '19440909'),\n ('S1_7', 3, 'joshua'),\n ('S1_7', 3, 'greenj'),\n ('S1_7', 3, '19790110'),\n ('S1_8', 3, 'olivia'),\n ('S1_8', 3, 'hobson'),\n ('S1_8', 3, '19760812'),\n ('S1_9', 3, 'michael'),\n ('S1_9', 3, 'lierach'),\n ('S1_9', 3, '19360816'),\n ('S1_10', 3, 'elisabett'),\n ('S1_10', 3, 'domiten'),\n ('S1_10', 3, '19081008'),\n ('S1_11', 3, 'genoveffa'),\n ('S1_11', 3, 'hylander'),\n ('S1_11', 3, '19071008'),\n ('S2_0', 3, 'braecon'),\n ('S2_0', 3, 'schuetz'),\n ('S2_0', 3, '19440909'),\n ('S2_1', 3, 'alexandra'),\n ('S2_1', 3, 'grosvenor'),\n ('S2_1', 3, '19930305'),\n ('S2_2', 3, 'michael'),\n ('S2_2', 3, 'liersch'),\n ('S2_2', 3, '19360816'),\n ('S2_3', 3, 'emmeron'),\n ('S2_3', 3, 'loyk'),\n ('S2_3', 3, '19321129'),\n ('S2_4', 3, 'olivia'),\n ('S2_4', 3, 'hobson'),\n ('S2_4', 3, '19760812'),\n ('S2_5', 3, 'joshua'),\n ('S2_5', 3, 'green'),\n ('S2_5', 3, '19010219'),\n ('S2_6', 3, 'charlotte'),\n ('S2_6', 3, 'hyland'),\n ('S2_6', 3, '19340909'),\n ('S2_7', 3, 'elisabet'),\n ('S2_7', 3, 'domitienn'),\n ('S2_7', 3, '19071008'),\n ('S3_0', 3, 'emmerson'),\n ('S3_0', 3, 'loyck'),\n ('S3_0', 3, '19211129'),\n ('S3_1', 3, 'michel'),\n ('S3_1', 3, 'wuchatsch'),\n ('S3_1', 3, '19190110'),\n ('S3_3', 3, 'liersch'),\n ('S3_3', 3, 'michael'),\n ('S3_3', 3, '19360816'),\n ('S3_4', 3, 'charlotte'),\n ('S3_4', 3, 'hyland'),\n ('S3_4', 3, '19460401'),\n ('S3_5', 3, 'braedon'),\n ('S3_5', 3, 'schuetz'),\n ('S3_5', 3, '19440909'),\n ('S3_6', 3, 'olivia'),\n ('S3_6', 3, 'hobson'),\n ('S3_6', 3, '19760812'),\n ('S3_7', 3, 'joshua'),\n ('S3_7', 3, 'green'),\n ('S3_7', 3, '19790110'),\n ('S3_8', 3, 'keely'),\n ('S3_8', 3, 'clarke'),\n ('S3_8', 3, '19050410'),\n ('S3_9', 3, 'joshua'),\n ('S3_9', 3, 'morriosn'),\n ('S3_9', 3, '19101123'),\n ('S3_11', 3, 'genovefa'),\n ('S3_11', 3, 'hyllande'),\n ('S3_11', 3, '19071008')]"
     },
     "execution_count": 21,
     "metadata": {},
     "output_type": "execute_result"
    }
   ],
   "source": [
    "con.execute(\"select * from tokens\").fetchall()"
   ],
   "metadata": {
    "collapsed": false,
    "pycharm": {
     "name": "#%%\n"
    }
   }
  },
  {
   "cell_type": "code",
   "execution_count": 24,
   "outputs": [],
   "source": [
    "t = 0.5"
   ],
   "metadata": {
    "collapsed": false,
    "pycharm": {
     "name": "#%%\n"
    }
   }
  },
  {
   "cell_type": "code",
   "execution_count": 27,
   "outputs": [
    {
     "data": {
      "text/plain": "<duckdb.DuckDBPyConnection at 0x191ccf21b30>"
     },
     "execution_count": 27,
     "metadata": {},
     "output_type": "execute_result"
    }
   ],
   "source": [
    "# brute force join, to get the gold standard\n",
    "con.execute(\"drop view if exists bfjoin\").execute(\n",
    "    \"create view bfjoin as \"\n",
    "    \"select r1.rid as rid1, r2.rid as rid2, count(*) as overlap \"\n",
    "    \"from tokens as r1, tokens as r2 \"\n",
    "    \"where r1.token = r2.token \"\n",
    "    \"and r1.rid < r2.rid \"\n",
    "    \"group by r1.rid, r1.rlen, r2.rid, r2.rlen \"\n",
    "    f\"having count(*) >= ceil({t} / (1+{t}) * (r1.rlen + r2.rlen))\"\n",
    ")"
   ],
   "metadata": {
    "collapsed": false,
    "pycharm": {
     "name": "#%%\n"
    }
   }
  },
  {
   "cell_type": "code",
   "execution_count": 28,
   "outputs": [
    {
     "data": {
      "text/plain": "[('S1_0', 'S3_9', 2),\n ('S1_2', 'S3_0', 2),\n ('S1_2', 'S1_5', 2),\n ('S1_4', 'S3_1', 2),\n ('S1_5', 'S3_0', 3),\n ('S1_6', 'S3_5', 2),\n ('S1_6', 'S2_0', 2),\n ('S1_7', 'S3_7', 2),\n ('S1_8', 'S3_6', 3),\n ('S1_8', 'S2_4', 3),\n ('S1_9', 'S3_3', 2),\n ('S1_9', 'S2_2', 2),\n ('S2_0', 'S3_5', 2),\n ('S2_2', 'S3_3', 3),\n ('S2_4', 'S3_6', 3),\n ('S2_5', 'S3_7', 2),\n ('S2_6', 'S3_4', 2)]"
     },
     "execution_count": 28,
     "metadata": {},
     "output_type": "execute_result"
    }
   ],
   "source": [
    "con.execute(\"select * from bfjoin\").fetchall()"
   ],
   "metadata": {
    "collapsed": false,
    "pycharm": {
     "name": "#%%\n"
    }
   }
  },
  {
   "cell_type": "markdown",
   "source": [
    "## PrefixR"
   ],
   "metadata": {
    "collapsed": false,
    "pycharm": {
     "name": "#%% md\n"
    }
   }
  },
  {
   "cell_type": "code",
   "execution_count": 31,
   "outputs": [
    {
     "data": {
      "text/plain": "<duckdb.DuckDBPyConnection at 0x191ccf21b30>"
     },
     "execution_count": 31,
     "metadata": {},
     "output_type": "execute_result"
    }
   ],
   "source": [
    "con.execute(\"drop view if exists doc_frequency\").execute(\n",
    "    \"CREATE VIEW doc_frequency AS \"\n",
    "    \"SELECT token, count(*) AS df \"\n",
    "    \"FROM tokens \"\n",
    "    \"GROUP BY token \"\n",
    "    # ORDER BY later!\n",
    ")"
   ],
   "metadata": {
    "collapsed": false,
    "pycharm": {
     "name": "#%%\n"
    }
   }
  },
  {
   "cell_type": "code",
   "execution_count": 32,
   "outputs": [
    {
     "data": {
      "text/plain": "[('joshua', 5),\n ('morrison', 1),\n ('19101123', 2),\n ('jordan', 1),\n ('white', 1),\n ('19371126', 1),\n ('emmerson', 3),\n ('lock', 1),\n ('19211129', 3),\n ('alexandra', 2),\n ('grosser', 1),\n ('19720305', 1),\n ('michael', 4),\n ('wuchatsch', 2),\n ('19190110', 2),\n ('loyck', 2),\n ('rhys', 1),\n ('schuetz', 3),\n ('19440909', 3),\n ('greenj', 1),\n ('19790110', 2),\n ('olivia', 3),\n ('hobson', 3),\n ('19760812', 3),\n ('lierach', 1),\n ('19360816', 3),\n ('elisabett', 1),\n ('domiten', 1),\n ('19081008', 1),\n ('genoveffa', 1),\n ('hylander', 1),\n ('19071008', 3),\n ('braecon', 1),\n ('grosvenor', 1),\n ('19930305', 1),\n ('liersch', 2),\n ('emmeron', 1),\n ('loyk', 1),\n ('19321129', 1),\n ('green', 2),\n ('19010219', 1),\n ('charlotte', 2),\n ('hyland', 2),\n ('19340909', 1),\n ('elisabet', 1),\n ('domitienn', 1),\n ('michel', 1),\n ('19460401', 1),\n ('braedon', 1),\n ('keely', 1),\n ('clarke', 1),\n ('19050410', 1),\n ('morriosn', 1),\n ('genovefa', 1),\n ('hyllande', 1)]"
     },
     "execution_count": 32,
     "metadata": {},
     "output_type": "execute_result"
    }
   ],
   "source": [
    "con.execute(\"SELECT * FROM doc_frequency\").fetchall()"
   ],
   "metadata": {
    "collapsed": false,
    "pycharm": {
     "name": "#%%\n"
    }
   }
  },
  {
   "cell_type": "code",
   "execution_count": 33,
   "outputs": [
    {
     "data": {
      "text/plain": "<duckdb.DuckDBPyConnection at 0x191ccf21b30>"
     },
     "execution_count": 33,
     "metadata": {},
     "output_type": "execute_result"
    }
   ],
   "source": [
    "con.execute(\"drop view if exists R\").execute(\n",
    "    \"CREATE VIEW R AS (\"\n",
    "    \"select rid, rlen, token \"\n",
    "    \", row_number() OVER (PARTITION BY rid ORDER BY df, token) as pos \"\n",
    "    \"from (\"\n",
    "    \"SELECT tt.*, df.df \"\n",
    "    \"FROM tokens AS tt \"\n",
    "    \"JOIN doc_frequency AS df ON tt.token = df.token \"\n",
    "    \")\"\n",
    "    \")\"\n",
    ")"
   ],
   "metadata": {
    "collapsed": false,
    "pycharm": {
     "name": "#%%\n"
    }
   }
  },
  {
   "cell_type": "code",
   "execution_count": 34,
   "outputs": [
    {
     "data": {
      "text/plain": "(90,\n [('S1_0', 3, 'morrison', 1),\n  ('S1_0', 3, '19101123', 2),\n  ('S1_0', 3, 'joshua', 3),\n  ('S1_1', 3, '19371126', 1),\n  ('S1_1', 3, 'jordan', 2),\n  ('S1_1', 3, 'white', 3),\n  ('S1_10', 3, '19081008', 1),\n  ('S1_10', 3, 'domiten', 2),\n  ('S1_10', 3, 'elisabett', 3),\n  ('S1_11', 3, 'genoveffa', 1),\n  ('S1_11', 3, 'hylander', 2),\n  ('S1_11', 3, '19071008', 3),\n  ('S1_2', 3, 'lock', 1),\n  ('S1_2', 3, '19211129', 2),\n  ('S1_2', 3, 'emmerson', 3),\n  ('S1_3', 3, '19720305', 1),\n  ('S1_3', 3, 'grosser', 2),\n  ('S1_3', 3, 'alexandra', 3),\n  ('S1_4', 3, '19190110', 1),\n  ('S1_4', 3, 'wuchatsch', 2),\n  ('S1_4', 3, 'michael', 3),\n  ('S1_5', 3, 'loyck', 1),\n  ('S1_5', 3, '19211129', 2),\n  ('S1_5', 3, 'emmerson', 3),\n  ('S1_6', 3, 'rhys', 1),\n  ('S1_6', 3, '19440909', 2),\n  ('S1_6', 3, 'schuetz', 3),\n  ('S1_7', 3, 'greenj', 1),\n  ('S1_7', 3, '19790110', 2),\n  ('S1_7', 3, 'joshua', 3),\n  ('S1_8', 3, '19760812', 1),\n  ('S1_8', 3, 'hobson', 2),\n  ('S1_8', 3, 'olivia', 3),\n  ('S1_9', 3, 'lierach', 1),\n  ('S1_9', 3, '19360816', 2),\n  ('S1_9', 3, 'michael', 3),\n  ('S2_0', 3, 'braecon', 1),\n  ('S2_0', 3, '19440909', 2),\n  ('S2_0', 3, 'schuetz', 3),\n  ('S2_1', 3, '19930305', 1),\n  ('S2_1', 3, 'grosvenor', 2),\n  ('S2_1', 3, 'alexandra', 3),\n  ('S2_2', 3, 'liersch', 1),\n  ('S2_2', 3, '19360816', 2),\n  ('S2_2', 3, 'michael', 3),\n  ('S2_3', 3, '19321129', 1),\n  ('S2_3', 3, 'emmeron', 2),\n  ('S2_3', 3, 'loyk', 3),\n  ('S2_4', 3, '19760812', 1),\n  ('S2_4', 3, 'hobson', 2),\n  ('S2_4', 3, 'olivia', 3),\n  ('S2_5', 3, '19010219', 1),\n  ('S2_5', 3, 'green', 2),\n  ('S2_5', 3, 'joshua', 3),\n  ('S2_6', 3, '19340909', 1),\n  ('S2_6', 3, 'charlotte', 2),\n  ('S2_6', 3, 'hyland', 3),\n  ('S2_7', 3, 'domitienn', 1),\n  ('S2_7', 3, 'elisabet', 2),\n  ('S2_7', 3, '19071008', 3),\n  ('S3_0', 3, 'loyck', 1),\n  ('S3_0', 3, '19211129', 2),\n  ('S3_0', 3, 'emmerson', 3),\n  ('S3_1', 3, 'michel', 1),\n  ('S3_1', 3, '19190110', 2),\n  ('S3_1', 3, 'wuchatsch', 3),\n  ('S3_11', 3, 'genovefa', 1),\n  ('S3_11', 3, 'hyllande', 2),\n  ('S3_11', 3, '19071008', 3),\n  ('S3_3', 3, 'liersch', 1),\n  ('S3_3', 3, '19360816', 2),\n  ('S3_3', 3, 'michael', 3),\n  ('S3_4', 3, '19460401', 1),\n  ('S3_4', 3, 'charlotte', 2),\n  ('S3_4', 3, 'hyland', 3),\n  ('S3_5', 3, 'braedon', 1),\n  ('S3_5', 3, '19440909', 2),\n  ('S3_5', 3, 'schuetz', 3),\n  ('S3_6', 3, '19760812', 1),\n  ('S3_6', 3, 'hobson', 2),\n  ('S3_6', 3, 'olivia', 3),\n  ('S3_7', 3, '19790110', 1),\n  ('S3_7', 3, 'green', 2),\n  ('S3_7', 3, 'joshua', 3),\n  ('S3_8', 3, '19050410', 1),\n  ('S3_8', 3, 'clarke', 2),\n  ('S3_8', 3, 'keely', 3),\n  ('S3_9', 3, 'morriosn', 1),\n  ('S3_9', 3, '19101123', 2),\n  ('S3_9', 3, 'joshua', 3)])"
     },
     "execution_count": 34,
     "metadata": {},
     "output_type": "execute_result"
    }
   ],
   "source": [
    "x = con.execute(\"select * from R\").fetchall()\n",
    "len(x), x"
   ],
   "metadata": {
    "collapsed": false,
    "pycharm": {
     "name": "#%%\n"
    }
   }
  },
  {
   "cell_type": "code",
   "execution_count": 35,
   "outputs": [
    {
     "data": {
      "text/plain": "<duckdb.DuckDBPyConnection at 0x191ccf21b30>"
     },
     "execution_count": 35,
     "metadata": {},
     "output_type": "execute_result"
    }
   ],
   "source": [
    "con.execute(\"drop view if exists PrefixR\").execute(\n",
    "    \"create view PrefixR as \"\n",
    "    \"select rid, rlen, token, pos \"\n",
    "    \"from R \"\n",
    "    f\"where rlen - pos + 1 >= ceil(rlen * {t}) \"\n",
    ")"
   ],
   "metadata": {
    "collapsed": false,
    "pycharm": {
     "name": "#%%\n"
    }
   }
  },
  {
   "cell_type": "code",
   "execution_count": 36,
   "outputs": [
    {
     "data": {
      "text/plain": "(60,\n [('S1_0', 3, 'morrison', 1),\n  ('S1_0', 3, '19101123', 2),\n  ('S1_1', 3, '19371126', 1),\n  ('S1_1', 3, 'jordan', 2),\n  ('S1_10', 3, '19081008', 1),\n  ('S1_10', 3, 'domiten', 2),\n  ('S1_11', 3, 'genoveffa', 1),\n  ('S1_11', 3, 'hylander', 2),\n  ('S1_2', 3, 'lock', 1),\n  ('S1_2', 3, '19211129', 2),\n  ('S1_3', 3, '19720305', 1),\n  ('S1_3', 3, 'grosser', 2),\n  ('S1_4', 3, '19190110', 1),\n  ('S1_4', 3, 'wuchatsch', 2),\n  ('S1_5', 3, 'loyck', 1),\n  ('S1_5', 3, '19211129', 2),\n  ('S1_6', 3, 'rhys', 1),\n  ('S1_6', 3, '19440909', 2),\n  ('S1_7', 3, 'greenj', 1),\n  ('S1_7', 3, '19790110', 2),\n  ('S1_8', 3, '19760812', 1),\n  ('S1_8', 3, 'hobson', 2),\n  ('S1_9', 3, 'lierach', 1),\n  ('S1_9', 3, '19360816', 2),\n  ('S2_0', 3, 'braecon', 1),\n  ('S2_0', 3, '19440909', 2),\n  ('S2_1', 3, '19930305', 1),\n  ('S2_1', 3, 'grosvenor', 2),\n  ('S2_2', 3, 'liersch', 1),\n  ('S2_2', 3, '19360816', 2),\n  ('S2_3', 3, '19321129', 1),\n  ('S2_3', 3, 'emmeron', 2),\n  ('S2_4', 3, '19760812', 1),\n  ('S2_4', 3, 'hobson', 2),\n  ('S2_5', 3, '19010219', 1),\n  ('S2_5', 3, 'green', 2),\n  ('S2_6', 3, '19340909', 1),\n  ('S2_6', 3, 'charlotte', 2),\n  ('S2_7', 3, 'domitienn', 1),\n  ('S2_7', 3, 'elisabet', 2),\n  ('S3_0', 3, 'loyck', 1),\n  ('S3_0', 3, '19211129', 2),\n  ('S3_1', 3, 'michel', 1),\n  ('S3_1', 3, '19190110', 2),\n  ('S3_11', 3, 'genovefa', 1),\n  ('S3_11', 3, 'hyllande', 2),\n  ('S3_3', 3, 'liersch', 1),\n  ('S3_3', 3, '19360816', 2),\n  ('S3_4', 3, '19460401', 1),\n  ('S3_4', 3, 'charlotte', 2),\n  ('S3_5', 3, 'braedon', 1),\n  ('S3_5', 3, '19440909', 2),\n  ('S3_6', 3, '19760812', 1),\n  ('S3_6', 3, 'hobson', 2),\n  ('S3_7', 3, '19790110', 1),\n  ('S3_7', 3, 'green', 2),\n  ('S3_8', 3, '19050410', 1),\n  ('S3_8', 3, 'clarke', 2),\n  ('S3_9', 3, 'morriosn', 1),\n  ('S3_9', 3, '19101123', 2)])"
     },
     "execution_count": 36,
     "metadata": {},
     "output_type": "execute_result"
    }
   ],
   "source": [
    "x = con.execute(\"select * from PrefixR\").fetchall()\n",
    "len(x), x"
   ],
   "metadata": {
    "collapsed": false,
    "pycharm": {
     "name": "#%%\n"
    }
   }
  },
  {
   "cell_type": "code",
   "execution_count": 37,
   "outputs": [
    {
     "data": {
      "text/plain": "<duckdb.DuckDBPyConnection at 0x191ccf21b30>"
     },
     "execution_count": 37,
     "metadata": {},
     "output_type": "execute_result"
    }
   ],
   "source": [
    "con.execute(\"drop view if exists candset\").execute(\n",
    "    \"CREATE VIEW candset AS (\"\n",
    "    \"SELECT R1.rid AS rid1, R2.rid AS rid2 \"\n",
    "    \", MAX(R1.pos) as maxPos1, MAX(R2.pos) as maxPos2, count(*) as prOverlap \"\n",
    "    \"FROM PrefixR R1, PrefixR R2 \"\n",
    "    \"WHERE R1.rid < R2.rid \"\n",
    "    \"AND R1.token = R2.token \"\n",
    "    # length filter\n",
    "    f\"AND R1.rlen >= ceil({t} * R2.rlen)\"\n",
    "    # prefix filter\n",
    "    f\"AND R1.rlen - R1.pos + 1 >= CEIL(R1.rlen * 2 * {t} / (1+{t})) \"\n",
    "    # positional filter\n",
    "    \"AND LEAST((R1.rlen - R1.pos + 1), (R2.rlen - R2.pos + 1)) >= \"\n",
    "    f\"CEIL((R1.rlen + R2.rlen) * {t} / (1 + {t})) \"\n",
    "    \"GROUP BY R1.rid, R2.rid \"\n",
    "    \")\"\n",
    ")"
   ],
   "metadata": {
    "collapsed": false,
    "pycharm": {
     "name": "#%%\n"
    }
   }
  },
  {
   "cell_type": "code",
   "execution_count": 38,
   "outputs": [
    {
     "data": {
      "text/plain": "[('S1_0', 'S3_9', 2, 2, 1),\n ('S1_2', 'S3_0', 2, 2, 1),\n ('S1_4', 'S3_1', 1, 2, 1),\n ('S1_5', 'S3_0', 2, 2, 2),\n ('S1_6', 'S3_5', 2, 2, 1),\n ('S1_7', 'S3_7', 2, 1, 1),\n ('S1_8', 'S3_6', 2, 2, 2),\n ('S1_9', 'S3_3', 2, 2, 1),\n ('S2_0', 'S3_5', 2, 2, 1),\n ('S2_2', 'S3_3', 2, 2, 2),\n ('S2_4', 'S3_6', 2, 2, 2),\n ('S2_5', 'S3_7', 2, 2, 1),\n ('S2_6', 'S3_4', 2, 2, 1),\n ('S1_2', 'S1_5', 2, 2, 1),\n ('S1_6', 'S2_0', 2, 2, 1),\n ('S1_8', 'S2_4', 2, 2, 2),\n ('S1_9', 'S2_2', 2, 2, 1)]"
     },
     "execution_count": 38,
     "metadata": {},
     "output_type": "execute_result"
    }
   ],
   "source": [
    "con.execute(\"select * from candset\").fetchall()"
   ],
   "metadata": {
    "collapsed": false,
    "pycharm": {
     "name": "#%%\n"
    }
   }
  },
  {
   "cell_type": "code",
   "execution_count": 39,
   "outputs": [
    {
     "data": {
      "text/plain": "<duckdb.DuckDBPyConnection at 0x191ccf21b30>"
     },
     "execution_count": 39,
     "metadata": {},
     "output_type": "execute_result"
    }
   ],
   "source": [
    "con.execute(\"drop view if exists matches\").execute(\n",
    "    \"create view matches as \"\n",
    "    \"select r1.rid as rid1, r2.rid as rid2 \"\n",
    "    \"from R r1, R r2, candset c \"\n",
    "    \"where c.rid1 = r1.rid \"\n",
    "    \"and c.rid2 = r2.rid \"\n",
    "    \"and r1.token = r2.token \"\n",
    "    \"and r1.pos > maxPos1 \"\n",
    "    \"and r2.pos > maxPos2 \"\n",
    "    \"group by r1.rid, r2.rid, r1.rlen, r2.rlen, prOverlap \"\n",
    "    f\"having count(*) + prOverlap >= (r1.rlen + r2.rlen) * {t} / (1+{t})\"\n",
    ")"
   ],
   "metadata": {
    "collapsed": false,
    "pycharm": {
     "name": "#%%\n"
    }
   }
  },
  {
   "cell_type": "code",
   "execution_count": 40,
   "outputs": [
    {
     "data": {
      "text/plain": "[('S1_0', 'S3_9'),\n ('S1_2', 'S3_0'),\n ('S1_4', 'S3_1'),\n ('S1_5', 'S3_0'),\n ('S1_6', 'S3_5'),\n ('S1_7', 'S3_7'),\n ('S1_8', 'S3_6'),\n ('S1_9', 'S3_3'),\n ('S2_0', 'S3_5'),\n ('S2_2', 'S3_3'),\n ('S2_4', 'S3_6'),\n ('S2_5', 'S3_7'),\n ('S2_6', 'S3_4'),\n ('S1_2', 'S1_5'),\n ('S1_6', 'S2_0'),\n ('S1_8', 'S2_4'),\n ('S1_9', 'S2_2')]"
     },
     "execution_count": 40,
     "metadata": {},
     "output_type": "execute_result"
    }
   ],
   "source": [
    "con.execute(\"select * from matches\").fetchall()"
   ],
   "metadata": {
    "collapsed": false,
    "pycharm": {
     "name": "#%%\n"
    }
   }
  },
  {
   "cell_type": "code",
   "execution_count": 41,
   "outputs": [
    {
     "data": {
      "text/plain": "[('joshua morrison 19101123', 'joshua morriosn 19101123'),\n ('emmerson lock 19211129', 'emmerson loyck 19211129'),\n ('michael wuchatsch 19190110', 'michel wuchatsch 19190110'),\n ('emmerson loyck 19211129', 'emmerson loyck 19211129'),\n ('rhys schuetz 19440909', 'braedon schuetz 19440909'),\n ('joshua greenj 19790110', 'joshua green 19790110'),\n ('olivia hobson 19760812', 'olivia hobson 19760812'),\n ('michael lierach 19360816', 'liersch michael 19360816'),\n ('braecon schuetz 19440909', 'braedon schuetz 19440909'),\n ('michael liersch 19360816', 'liersch michael 19360816'),\n ('olivia hobson 19760812', 'olivia hobson 19760812'),\n ('joshua green 19010219', 'joshua green 19790110'),\n ('charlotte hyland 19340909', 'charlotte hyland 19460401'),\n ('emmerson lock 19211129', 'emmerson loyck 19211129'),\n ('rhys schuetz 19440909', 'braecon schuetz 19440909'),\n ('olivia hobson 19760812', 'olivia hobson 19760812'),\n ('michael lierach 19360816', 'michael liersch 19360816')]"
     },
     "execution_count": 41,
     "metadata": {},
     "output_type": "execute_result"
    }
   ],
   "source": [
    "con.execute(\n",
    "    \"select i1.val, i2.val \"\n",
    "    # \", i1.rid, i2.rid \"\n",
    "    \"from matches m \"\n",
    "    \"join input i1 on i1.rid = m.rid1 \"\n",
    "    \"join input i2 on i2.rid = m.rid2\"\n",
    ").fetchall()"
   ],
   "metadata": {
    "collapsed": false,
    "pycharm": {
     "name": "#%%\n"
    }
   }
  },
  {
   "cell_type": "markdown",
   "source": [
    "# Debug"
   ],
   "metadata": {
    "collapsed": false,
    "pycharm": {
     "name": "#%% md\n"
    }
   }
  },
  {
   "cell_type": "code",
   "execution_count": 42,
   "outputs": [
    {
     "data": {
      "text/plain": "[]"
     },
     "execution_count": 42,
     "metadata": {},
     "output_type": "execute_result"
    }
   ],
   "source": [
    "con.execute(\n",
    "    \"select * \"\n",
    "    \"from matches m \"\n",
    "    \"full outer join bfjoin b on b.rid1 = m.rid1 and b.rid2 = m.rid2 \"\n",
    "    \"where m.rid1 is null \"\n",
    ").fetchall()"
   ],
   "metadata": {
    "collapsed": false,
    "pycharm": {
     "name": "#%%\n"
    }
   }
  },
  {
   "cell_type": "code",
   "execution_count": 181,
   "outputs": [],
   "source": [],
   "metadata": {
    "collapsed": false,
    "pycharm": {
     "name": "#%%\n"
    }
   }
  }
 ],
 "metadata": {
  "kernelspec": {
   "display_name": "Python 3",
   "language": "python",
   "name": "python3"
  },
  "language_info": {
   "codemirror_mode": {
    "name": "ipython",
    "version": 2
   },
   "file_extension": ".py",
   "mimetype": "text/x-python",
   "name": "python",
   "nbconvert_exporter": "python",
   "pygments_lexer": "ipython2",
   "version": "2.7.6"
  }
 },
 "nbformat": 4,
 "nbformat_minor": 0
}