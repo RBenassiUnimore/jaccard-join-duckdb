{
 "cells": [
  {
   "cell_type": "code",
   "execution_count": 188,
   "outputs": [
    {
     "name": "stdout",
     "output_type": "stream",
     "text": [
      "Requirement already satisfied: duckdb in c:\\python39\\lib\\site-packages (0.6.1)\n",
      "Requirement already satisfied: numpy>=1.14 in c:\\python39\\lib\\site-packages (from duckdb) (1.23.5)\n"
     ]
    }
   ],
   "source": [
    "!pip install duckdb"
   ],
   "metadata": {
    "collapsed": false,
    "pycharm": {
     "name": "#%%\n"
    }
   }
  },
  {
   "cell_type": "code",
   "execution_count": 189,
   "outputs": [],
   "source": [
    "import duckdb"
   ],
   "metadata": {
    "collapsed": false,
    "pycharm": {
     "name": "#%%\n"
    }
   }
  },
  {
   "cell_type": "code",
   "execution_count": 190,
   "outputs": [
    {
     "name": "stdout",
     "output_type": "stream",
     "text": [
      "The autoreload extension is already loaded. To reload it, use:\n",
      "  %reload_ext autoreload\n"
     ]
    }
   ],
   "source": [
    "%load_ext autoreload\n",
    "%autoreload 2"
   ],
   "metadata": {
    "collapsed": false,
    "pycharm": {
     "name": "#%%\n"
    }
   }
  },
  {
   "cell_type": "code",
   "execution_count": 191,
   "outputs": [],
   "source": [
    "from py_duckdb.similarity_join import tokenizers"
   ],
   "metadata": {
    "collapsed": false,
    "pycharm": {
     "name": "#%%\n"
    }
   }
  },
  {
   "cell_type": "code",
   "execution_count": 192,
   "outputs": [],
   "source": [
    "con = duckdb.connect(database=':memory:')"
   ],
   "metadata": {
    "collapsed": false,
    "pycharm": {
     "name": "#%%\n"
    }
   }
  },
  {
   "cell_type": "code",
   "execution_count": 193,
   "outputs": [],
   "source": [
    "q = 3\n",
    "t = 0.5"
   ],
   "metadata": {
    "collapsed": false,
    "pycharm": {
     "name": "#%%\n"
    }
   }
  },
  {
   "cell_type": "markdown",
   "source": [
    "## Self join"
   ],
   "metadata": {
    "collapsed": false,
    "pycharm": {
     "name": "#%% md\n"
    }
   }
  },
  {
   "cell_type": "code",
   "execution_count": 194,
   "outputs": [
    {
     "data": {
      "text/plain": "<duckdb.DuckDBPyConnection at 0x1a681a5d970>"
     },
     "execution_count": 194,
     "metadata": {},
     "output_type": "execute_result"
    }
   ],
   "source": [
    "# must be a table to use INSERT afterwards\n",
    "con.execute(\"drop table if exists input\").execute(\n",
    "    \"CREATE TABLE input AS \"\n",
    "    \"SELECT id as rid, concat(given_name, ' ', surname, ' ', date_of_birth) as val \"\n",
    "    \"FROM 'data/S1_clean_.csv'\")"
   ],
   "metadata": {
    "collapsed": false,
    "pycharm": {
     "name": "#%%\n"
    }
   }
  },
  {
   "cell_type": "code",
   "execution_count": 195,
   "outputs": [
    {
     "data": {
      "text/plain": "<duckdb.DuckDBPyConnection at 0x1a681a5d970>"
     },
     "execution_count": 195,
     "metadata": {},
     "output_type": "execute_result"
    }
   ],
   "source": [
    "con.execute(\n",
    "    \"insert into input \"\n",
    "    \"select id, concat(given_name, ' ', surname, ' ', date_of_birth) \"\n",
    "    \"from 'data/S2_clean_.csv'\")"
   ],
   "metadata": {
    "collapsed": false,
    "pycharm": {
     "name": "#%%\n"
    }
   }
  },
  {
   "cell_type": "code",
   "execution_count": 196,
   "outputs": [
    {
     "data": {
      "text/plain": "<duckdb.DuckDBPyConnection at 0x1a681a5d970>"
     },
     "execution_count": 196,
     "metadata": {},
     "output_type": "execute_result"
    }
   ],
   "source": [
    "con.execute(\n",
    "    \"insert into input \"\n",
    "    \"select id, concat(given_name, ' ', surname, ' ', date_of_birth) \"\n",
    "    \"from 'data/S3_clean_.csv'\")"
   ],
   "metadata": {
    "collapsed": false,
    "pycharm": {
     "name": "#%%\n"
    }
   }
  },
  {
   "cell_type": "code",
   "execution_count": 197,
   "outputs": [
    {
     "data": {
      "text/plain": "[('S1_0', 'joshua morrison 19101123'),\n ('S1_1', 'jordan white 19371126'),\n ('S1_2', 'emmerson lock 19211129'),\n ('S1_3', 'alexandra grosser 19720305'),\n ('S1_4', 'michael wuchatsch 19190110'),\n ('S1_5', 'emmerson loyck 19211129'),\n ('S1_6', 'rhys schuetz 19440909'),\n ('S1_7', 'joshua greenj 19790110'),\n ('S1_8', 'olivia hobson 19760812'),\n ('S1_9', 'michael lierach 19360816'),\n ('S1_10', 'elisabett domiten 19081008'),\n ('S1_11', 'genoveffa hylander 19071008'),\n ('S2_0', 'braecon schuetz 19440909'),\n ('S2_1', 'alexandra grosvenor 19930305'),\n ('S2_2', 'michael liersch 19360816'),\n ('S2_3', 'emmeron loyk 19321129'),\n ('S2_4', 'olivia hobson 19760812'),\n ('S2_5', 'joshua green 19010219'),\n ('S2_6', 'charlotte hyland 19340909'),\n ('S2_7', 'elisabet domitienn 19071008'),\n ('S3_0', 'emmerson loyck 19211129'),\n ('S3_1', 'michel wuchatsch 19190110'),\n ('S3_3', 'liersch michael 19360816'),\n ('S3_4', 'charlotte hyland 19460401'),\n ('S3_5', 'braedon schuetz 19440909'),\n ('S3_6', 'olivia hobson 19760812'),\n ('S3_7', 'joshua green 19790110'),\n ('S3_8', 'keely clarke 19050410'),\n ('S3_9', 'joshua morriosn 19101123'),\n ('S3_11', 'genovefa hyllande 19071008')]"
     },
     "execution_count": 197,
     "metadata": {},
     "output_type": "execute_result"
    }
   ],
   "source": [
    "con.execute(\"select * from input\").fetchall()"
   ],
   "metadata": {
    "collapsed": false,
    "pycharm": {
     "name": "#%%\n"
    }
   }
  },
  {
   "cell_type": "code",
   "execution_count": 198,
   "outputs": [
    {
     "data": {
      "text/plain": "'select rid, len(tks) as rlen, lower(unnest(tks)) as token from ( select distinct rid, str_split_regex(val, \\'[!\"#$%&()*+,-./:;<=>?@[\\\\]^_`{|}~ \\t\\n\\r\\x0b\\x0c]\\') as tks from input ) '"
     },
     "execution_count": 198,
     "metadata": {},
     "output_type": "execute_result"
    }
   ],
   "source": [
    "tokenizer = tokenizers.WordsTokzr()\n",
    "#tokenizer = tokenizers.QGramsTokzr(3)\n",
    "tokzr_query = ''\n",
    "\n",
    "table = \"input\"\n",
    "key_attr = \"rid\"\n",
    "join_attr = \"val\"\n",
    "\n",
    "if isinstance(tokenizer, tokenizers.WordsTokzr):\n",
    "    separators = tokenizer.get_info()\n",
    "    tokzr_query = (f\"select {key_attr}, len(tks) as rlen, lower(unnest(tks)) as token \"\n",
    "                   \"from ( \"\n",
    "                   f\"select distinct {key_attr}, str_split_regex({join_attr}, {separators}) as tks \"\"\"\n",
    "                   f\"from {table} \"\n",
    "                   \") \")\n",
    "elif isinstance(tokenizer, tokenizers.QGramsTokzr):\n",
    "    q = tokenizer.get_info()\n",
    "    tokzr_query = (f\"select distinct {key_attr}, rlen \"\n",
    "                   f\", substring(concat(repeat('#', {q} - 1), \"\n",
    "                   f\"lower({join_attr}), \"\n",
    "                   f\"repeat('#',{q} - 1)),\"\n",
    "                   f\"x, {q}) as token \"\n",
    "                   \"from (\"\n",
    "                   f\"select *, len({join_attr}) + {q} - 1 as rlen, unnest(generate_series(1, rlen)) as x \"\n",
    "                   f\"from {table} \"\n",
    "                   \")\")\n",
    "\n",
    "tokzr_query"
   ],
   "metadata": {
    "collapsed": false,
    "pycharm": {
     "name": "#%%\n"
    }
   }
  },
  {
   "cell_type": "code",
   "execution_count": 199,
   "outputs": [
    {
     "data": {
      "text/plain": "<duckdb.DuckDBPyConnection at 0x1a681a5d970>"
     },
     "execution_count": 199,
     "metadata": {},
     "output_type": "execute_result"
    }
   ],
   "source": [
    "con.execute(\"drop view if exists tokens\").execute(\n",
    "    \"create view tokens as \" + tokzr_query\n",
    ")"
   ],
   "metadata": {
    "collapsed": false,
    "pycharm": {
     "name": "#%%\n"
    }
   }
  },
  {
   "cell_type": "code",
   "execution_count": 200,
   "outputs": [
    {
     "data": {
      "text/plain": "[('S1_0', 3, 'joshua'),\n ('S1_0', 3, 'morrison'),\n ('S1_0', 3, '19101123'),\n ('S1_1', 3, 'jordan'),\n ('S1_1', 3, 'white'),\n ('S1_1', 3, '19371126'),\n ('S1_2', 3, 'emmerson'),\n ('S1_2', 3, 'lock'),\n ('S1_2', 3, '19211129'),\n ('S1_3', 3, 'alexandra'),\n ('S1_3', 3, 'grosser'),\n ('S1_3', 3, '19720305'),\n ('S1_4', 3, 'michael'),\n ('S1_4', 3, 'wuchatsch'),\n ('S1_4', 3, '19190110'),\n ('S1_5', 3, 'emmerson'),\n ('S1_5', 3, 'loyck'),\n ('S1_5', 3, '19211129'),\n ('S1_6', 3, 'rhys'),\n ('S1_6', 3, 'schuetz'),\n ('S1_6', 3, '19440909'),\n ('S1_7', 3, 'joshua'),\n ('S1_7', 3, 'greenj'),\n ('S1_7', 3, '19790110'),\n ('S1_8', 3, 'olivia'),\n ('S1_8', 3, 'hobson'),\n ('S1_8', 3, '19760812'),\n ('S1_9', 3, 'michael'),\n ('S1_9', 3, 'lierach'),\n ('S1_9', 3, '19360816'),\n ('S1_10', 3, 'elisabett'),\n ('S1_10', 3, 'domiten'),\n ('S1_10', 3, '19081008'),\n ('S1_11', 3, 'genoveffa'),\n ('S1_11', 3, 'hylander'),\n ('S1_11', 3, '19071008'),\n ('S2_0', 3, 'braecon'),\n ('S2_0', 3, 'schuetz'),\n ('S2_0', 3, '19440909'),\n ('S2_1', 3, 'alexandra'),\n ('S2_1', 3, 'grosvenor'),\n ('S2_1', 3, '19930305'),\n ('S2_2', 3, 'michael'),\n ('S2_2', 3, 'liersch'),\n ('S2_2', 3, '19360816'),\n ('S2_3', 3, 'emmeron'),\n ('S2_3', 3, 'loyk'),\n ('S2_3', 3, '19321129'),\n ('S2_4', 3, 'olivia'),\n ('S2_4', 3, 'hobson'),\n ('S2_4', 3, '19760812'),\n ('S2_5', 3, 'joshua'),\n ('S2_5', 3, 'green'),\n ('S2_5', 3, '19010219'),\n ('S2_6', 3, 'charlotte'),\n ('S2_6', 3, 'hyland'),\n ('S2_6', 3, '19340909'),\n ('S2_7', 3, 'elisabet'),\n ('S2_7', 3, 'domitienn'),\n ('S2_7', 3, '19071008'),\n ('S3_0', 3, 'emmerson'),\n ('S3_0', 3, 'loyck'),\n ('S3_0', 3, '19211129'),\n ('S3_1', 3, 'michel'),\n ('S3_1', 3, 'wuchatsch'),\n ('S3_1', 3, '19190110'),\n ('S3_3', 3, 'liersch'),\n ('S3_3', 3, 'michael'),\n ('S3_3', 3, '19360816'),\n ('S3_4', 3, 'charlotte'),\n ('S3_4', 3, 'hyland'),\n ('S3_4', 3, '19460401'),\n ('S3_5', 3, 'braedon'),\n ('S3_5', 3, 'schuetz'),\n ('S3_5', 3, '19440909'),\n ('S3_6', 3, 'olivia'),\n ('S3_6', 3, 'hobson'),\n ('S3_6', 3, '19760812'),\n ('S3_7', 3, 'joshua'),\n ('S3_7', 3, 'green'),\n ('S3_7', 3, '19790110'),\n ('S3_8', 3, 'keely'),\n ('S3_8', 3, 'clarke'),\n ('S3_8', 3, '19050410'),\n ('S3_9', 3, 'joshua'),\n ('S3_9', 3, 'morriosn'),\n ('S3_9', 3, '19101123'),\n ('S3_11', 3, 'genovefa'),\n ('S3_11', 3, 'hyllande'),\n ('S3_11', 3, '19071008')]"
     },
     "execution_count": 200,
     "metadata": {},
     "output_type": "execute_result"
    }
   ],
   "source": [
    "con.execute(\"select * from tokens\").fetchall()"
   ],
   "metadata": {
    "collapsed": false,
    "pycharm": {
     "name": "#%%\n"
    }
   }
  },
  {
   "cell_type": "code",
   "execution_count": 201,
   "outputs": [
    {
     "data": {
      "text/plain": "<duckdb.DuckDBPyConnection at 0x1a681a5d970>"
     },
     "execution_count": 201,
     "metadata": {},
     "output_type": "execute_result"
    }
   ],
   "source": [
    "# brute force join, to get the gold standard\n",
    "con.execute(\"drop view if exists bfjoin\").execute(\n",
    "    \"create view bfjoin as \"\n",
    "    \"select r1.rid as rid1, r2.rid as rid2, count(*) as overlap \"\n",
    "    \"from tokens as r1, tokens as r2 \"\n",
    "    \"where r1.token = r2.token \"\n",
    "    \"and r1.rid < r2.rid \"\n",
    "    \"group by r1.rid, r1.rlen, r2.rid, r2.rlen \"\n",
    "    f\"having count(*) >= ceil({t} / (1+{t}) * (r1.rlen + r2.rlen))\"\n",
    ")"
   ],
   "metadata": {
    "collapsed": false,
    "pycharm": {
     "name": "#%%\n"
    }
   }
  },
  {
   "cell_type": "code",
   "execution_count": 202,
   "outputs": [
    {
     "data": {
      "text/plain": "[('S1_0', 'S3_9', 2),\n ('S1_2', 'S3_0', 2),\n ('S1_2', 'S1_5', 2),\n ('S1_4', 'S3_1', 2),\n ('S1_5', 'S3_0', 3),\n ('S1_6', 'S3_5', 2),\n ('S1_6', 'S2_0', 2),\n ('S1_7', 'S3_7', 2),\n ('S1_8', 'S3_6', 3),\n ('S1_8', 'S2_4', 3),\n ('S1_9', 'S3_3', 2),\n ('S1_9', 'S2_2', 2),\n ('S2_0', 'S3_5', 2),\n ('S2_2', 'S3_3', 3),\n ('S2_4', 'S3_6', 3),\n ('S2_5', 'S3_7', 2),\n ('S2_6', 'S3_4', 2)]"
     },
     "execution_count": 202,
     "metadata": {},
     "output_type": "execute_result"
    }
   ],
   "source": [
    "con.execute(\"select * from bfjoin\").fetchall()"
   ],
   "metadata": {
    "collapsed": false,
    "pycharm": {
     "name": "#%%\n"
    }
   }
  },
  {
   "cell_type": "markdown",
   "source": [
    "## PrefixR"
   ],
   "metadata": {
    "collapsed": false,
    "pycharm": {
     "name": "#%% md\n"
    }
   }
  },
  {
   "cell_type": "code",
   "execution_count": 203,
   "outputs": [
    {
     "data": {
      "text/plain": "<duckdb.DuckDBPyConnection at 0x1a681a5d970>"
     },
     "execution_count": 203,
     "metadata": {},
     "output_type": "execute_result"
    }
   ],
   "source": [
    "con.execute(\"drop view if exists doc_frequency\").execute(\n",
    "    \"CREATE VIEW doc_frequency AS \"\n",
    "    \"SELECT token, count(*) AS df \"\n",
    "    \"FROM tokens \"\n",
    "    \"GROUP BY token \"\n",
    "    # ORDER BY later!\n",
    ")"
   ],
   "metadata": {
    "collapsed": false,
    "pycharm": {
     "name": "#%%\n"
    }
   }
  },
  {
   "cell_type": "code",
   "execution_count": 204,
   "outputs": [
    {
     "data": {
      "text/plain": "[('joshua', 5),\n ('morrison', 1),\n ('19101123', 2),\n ('jordan', 1),\n ('white', 1),\n ('19371126', 1),\n ('emmerson', 3),\n ('lock', 1),\n ('19211129', 3),\n ('alexandra', 2),\n ('grosser', 1),\n ('19720305', 1),\n ('michael', 4),\n ('wuchatsch', 2),\n ('19190110', 2),\n ('loyck', 2),\n ('rhys', 1),\n ('schuetz', 3),\n ('19440909', 3),\n ('greenj', 1),\n ('19790110', 2),\n ('olivia', 3),\n ('hobson', 3),\n ('19760812', 3),\n ('lierach', 1),\n ('19360816', 3),\n ('elisabett', 1),\n ('domiten', 1),\n ('19081008', 1),\n ('genoveffa', 1),\n ('hylander', 1),\n ('19071008', 3),\n ('braecon', 1),\n ('grosvenor', 1),\n ('19930305', 1),\n ('liersch', 2),\n ('emmeron', 1),\n ('loyk', 1),\n ('19321129', 1),\n ('green', 2),\n ('19010219', 1),\n ('charlotte', 2),\n ('hyland', 2),\n ('19340909', 1),\n ('elisabet', 1),\n ('domitienn', 1),\n ('michel', 1),\n ('19460401', 1),\n ('braedon', 1),\n ('keely', 1),\n ('clarke', 1),\n ('19050410', 1),\n ('morriosn', 1),\n ('genovefa', 1),\n ('hyllande', 1)]"
     },
     "execution_count": 204,
     "metadata": {},
     "output_type": "execute_result"
    }
   ],
   "source": [
    "con.execute(\"SELECT * FROM doc_frequency\").fetchall()"
   ],
   "metadata": {
    "collapsed": false,
    "pycharm": {
     "name": "#%%\n"
    }
   }
  },
  {
   "cell_type": "code",
   "execution_count": 205,
   "outputs": [
    {
     "data": {
      "text/plain": "<duckdb.DuckDBPyConnection at 0x1a681a5d970>"
     },
     "execution_count": 205,
     "metadata": {},
     "output_type": "execute_result"
    }
   ],
   "source": [
    "con.execute(\"drop view if exists R\").execute(\n",
    "    \"CREATE VIEW R AS (\"\n",
    "    \"select rid, rlen, token \"\n",
    "    \", row_number() OVER (PARTITION BY rid ORDER BY df, token) as pos \"\n",
    "    \"from (\"\n",
    "    \"SELECT tt.*, df.df \"\n",
    "    \"FROM tokens AS tt \"\n",
    "    \"JOIN doc_frequency AS df ON tt.token = df.token \"\n",
    "    \")\"\n",
    "    \")\"\n",
    ")"
   ],
   "metadata": {
    "collapsed": false,
    "pycharm": {
     "name": "#%%\n"
    }
   }
  },
  {
   "cell_type": "code",
   "execution_count": 206,
   "outputs": [
    {
     "data": {
      "text/plain": "(90,\n [('S1_0', 3, 'morrison', 1),\n  ('S1_0', 3, '19101123', 2),\n  ('S1_0', 3, 'joshua', 3),\n  ('S1_1', 3, '19371126', 1),\n  ('S1_1', 3, 'jordan', 2),\n  ('S1_1', 3, 'white', 3),\n  ('S1_10', 3, '19081008', 1),\n  ('S1_10', 3, 'domiten', 2),\n  ('S1_10', 3, 'elisabett', 3),\n  ('S1_11', 3, 'genoveffa', 1),\n  ('S1_11', 3, 'hylander', 2),\n  ('S1_11', 3, '19071008', 3),\n  ('S1_2', 3, 'lock', 1),\n  ('S1_2', 3, '19211129', 2),\n  ('S1_2', 3, 'emmerson', 3),\n  ('S1_3', 3, '19720305', 1),\n  ('S1_3', 3, 'grosser', 2),\n  ('S1_3', 3, 'alexandra', 3),\n  ('S1_4', 3, '19190110', 1),\n  ('S1_4', 3, 'wuchatsch', 2),\n  ('S1_4', 3, 'michael', 3),\n  ('S1_5', 3, 'loyck', 1),\n  ('S1_5', 3, '19211129', 2),\n  ('S1_5', 3, 'emmerson', 3),\n  ('S1_6', 3, 'rhys', 1),\n  ('S1_6', 3, '19440909', 2),\n  ('S1_6', 3, 'schuetz', 3),\n  ('S1_7', 3, 'greenj', 1),\n  ('S1_7', 3, '19790110', 2),\n  ('S1_7', 3, 'joshua', 3),\n  ('S1_8', 3, '19760812', 1),\n  ('S1_8', 3, 'hobson', 2),\n  ('S1_8', 3, 'olivia', 3),\n  ('S1_9', 3, 'lierach', 1),\n  ('S1_9', 3, '19360816', 2),\n  ('S1_9', 3, 'michael', 3),\n  ('S2_0', 3, 'braecon', 1),\n  ('S2_0', 3, '19440909', 2),\n  ('S2_0', 3, 'schuetz', 3),\n  ('S2_1', 3, '19930305', 1),\n  ('S2_1', 3, 'grosvenor', 2),\n  ('S2_1', 3, 'alexandra', 3),\n  ('S2_2', 3, 'liersch', 1),\n  ('S2_2', 3, '19360816', 2),\n  ('S2_2', 3, 'michael', 3),\n  ('S2_3', 3, '19321129', 1),\n  ('S2_3', 3, 'emmeron', 2),\n  ('S2_3', 3, 'loyk', 3),\n  ('S2_4', 3, '19760812', 1),\n  ('S2_4', 3, 'hobson', 2),\n  ('S2_4', 3, 'olivia', 3),\n  ('S2_5', 3, '19010219', 1),\n  ('S2_5', 3, 'green', 2),\n  ('S2_5', 3, 'joshua', 3),\n  ('S2_6', 3, '19340909', 1),\n  ('S2_6', 3, 'charlotte', 2),\n  ('S2_6', 3, 'hyland', 3),\n  ('S2_7', 3, 'domitienn', 1),\n  ('S2_7', 3, 'elisabet', 2),\n  ('S2_7', 3, '19071008', 3),\n  ('S3_0', 3, 'loyck', 1),\n  ('S3_0', 3, '19211129', 2),\n  ('S3_0', 3, 'emmerson', 3),\n  ('S3_1', 3, 'michel', 1),\n  ('S3_1', 3, '19190110', 2),\n  ('S3_1', 3, 'wuchatsch', 3),\n  ('S3_11', 3, 'genovefa', 1),\n  ('S3_11', 3, 'hyllande', 2),\n  ('S3_11', 3, '19071008', 3),\n  ('S3_3', 3, 'liersch', 1),\n  ('S3_3', 3, '19360816', 2),\n  ('S3_3', 3, 'michael', 3),\n  ('S3_4', 3, '19460401', 1),\n  ('S3_4', 3, 'charlotte', 2),\n  ('S3_4', 3, 'hyland', 3),\n  ('S3_5', 3, 'braedon', 1),\n  ('S3_5', 3, '19440909', 2),\n  ('S3_5', 3, 'schuetz', 3),\n  ('S3_6', 3, '19760812', 1),\n  ('S3_6', 3, 'hobson', 2),\n  ('S3_6', 3, 'olivia', 3),\n  ('S3_7', 3, '19790110', 1),\n  ('S3_7', 3, 'green', 2),\n  ('S3_7', 3, 'joshua', 3),\n  ('S3_8', 3, '19050410', 1),\n  ('S3_8', 3, 'clarke', 2),\n  ('S3_8', 3, 'keely', 3),\n  ('S3_9', 3, 'morriosn', 1),\n  ('S3_9', 3, '19101123', 2),\n  ('S3_9', 3, 'joshua', 3)])"
     },
     "execution_count": 206,
     "metadata": {},
     "output_type": "execute_result"
    }
   ],
   "source": [
    "x = con.execute(\"select * from R\").fetchall()\n",
    "len(x), x"
   ],
   "metadata": {
    "collapsed": false,
    "pycharm": {
     "name": "#%%\n"
    }
   }
  },
  {
   "cell_type": "code",
   "execution_count": 207,
   "outputs": [
    {
     "data": {
      "text/plain": "<duckdb.DuckDBPyConnection at 0x1a681a5d970>"
     },
     "execution_count": 207,
     "metadata": {},
     "output_type": "execute_result"
    }
   ],
   "source": [
    "con.execute(\"drop view if exists PrefixR\").execute(\n",
    "    \"create view PrefixR as \"\n",
    "    \"select rid, rlen, token, pos \"\n",
    "    \"from R \"\n",
    "    f\"where rlen - pos + 1 >= ceil(rlen * {t}) \"\n",
    ")"
   ],
   "metadata": {
    "collapsed": false,
    "pycharm": {
     "name": "#%%\n"
    }
   }
  },
  {
   "cell_type": "code",
   "execution_count": 208,
   "outputs": [
    {
     "data": {
      "text/plain": "(60,\n [('S1_0', 3, 'morrison', 1),\n  ('S1_0', 3, '19101123', 2),\n  ('S1_1', 3, '19371126', 1),\n  ('S1_1', 3, 'jordan', 2),\n  ('S1_10', 3, '19081008', 1),\n  ('S1_10', 3, 'domiten', 2),\n  ('S1_11', 3, 'genoveffa', 1),\n  ('S1_11', 3, 'hylander', 2),\n  ('S1_2', 3, 'lock', 1),\n  ('S1_2', 3, '19211129', 2),\n  ('S1_3', 3, '19720305', 1),\n  ('S1_3', 3, 'grosser', 2),\n  ('S1_4', 3, '19190110', 1),\n  ('S1_4', 3, 'wuchatsch', 2),\n  ('S1_5', 3, 'loyck', 1),\n  ('S1_5', 3, '19211129', 2),\n  ('S1_6', 3, 'rhys', 1),\n  ('S1_6', 3, '19440909', 2),\n  ('S1_7', 3, 'greenj', 1),\n  ('S1_7', 3, '19790110', 2),\n  ('S1_8', 3, '19760812', 1),\n  ('S1_8', 3, 'hobson', 2),\n  ('S1_9', 3, 'lierach', 1),\n  ('S1_9', 3, '19360816', 2),\n  ('S2_0', 3, 'braecon', 1),\n  ('S2_0', 3, '19440909', 2),\n  ('S2_1', 3, '19930305', 1),\n  ('S2_1', 3, 'grosvenor', 2),\n  ('S2_2', 3, 'liersch', 1),\n  ('S2_2', 3, '19360816', 2),\n  ('S2_3', 3, '19321129', 1),\n  ('S2_3', 3, 'emmeron', 2),\n  ('S2_4', 3, '19760812', 1),\n  ('S2_4', 3, 'hobson', 2),\n  ('S2_5', 3, '19010219', 1),\n  ('S2_5', 3, 'green', 2),\n  ('S2_6', 3, '19340909', 1),\n  ('S2_6', 3, 'charlotte', 2),\n  ('S2_7', 3, 'domitienn', 1),\n  ('S2_7', 3, 'elisabet', 2),\n  ('S3_0', 3, 'loyck', 1),\n  ('S3_0', 3, '19211129', 2),\n  ('S3_1', 3, 'michel', 1),\n  ('S3_1', 3, '19190110', 2),\n  ('S3_11', 3, 'genovefa', 1),\n  ('S3_11', 3, 'hyllande', 2),\n  ('S3_3', 3, 'liersch', 1),\n  ('S3_3', 3, '19360816', 2),\n  ('S3_4', 3, '19460401', 1),\n  ('S3_4', 3, 'charlotte', 2),\n  ('S3_5', 3, 'braedon', 1),\n  ('S3_5', 3, '19440909', 2),\n  ('S3_6', 3, '19760812', 1),\n  ('S3_6', 3, 'hobson', 2),\n  ('S3_7', 3, '19790110', 1),\n  ('S3_7', 3, 'green', 2),\n  ('S3_8', 3, '19050410', 1),\n  ('S3_8', 3, 'clarke', 2),\n  ('S3_9', 3, 'morriosn', 1),\n  ('S3_9', 3, '19101123', 2)])"
     },
     "execution_count": 208,
     "metadata": {},
     "output_type": "execute_result"
    }
   ],
   "source": [
    "x = con.execute(\"select * from PrefixR\").fetchall()\n",
    "len(x), x"
   ],
   "metadata": {
    "collapsed": false,
    "pycharm": {
     "name": "#%%\n"
    }
   }
  },
  {
   "cell_type": "code",
   "execution_count": 209,
   "outputs": [
    {
     "data": {
      "text/plain": "<duckdb.DuckDBPyConnection at 0x1a681a5d970>"
     },
     "execution_count": 209,
     "metadata": {},
     "output_type": "execute_result"
    }
   ],
   "source": [
    "con.execute(\"drop view if exists candset\").execute(\n",
    "    \"CREATE VIEW candset AS (\"\n",
    "    \"SELECT R1.rid AS rid1, R2.rid AS rid2 \"\n",
    "    \", MAX(R1.pos) as maxPos1, MAX(R2.pos) as maxPos2, count(*) as prOverlap \"\n",
    "    \"FROM PrefixR R1, PrefixR R2 \"\n",
    "    \"WHERE R1.rid < R2.rid \"\n",
    "    \"AND R1.token = R2.token \"\n",
    "    # length filter\n",
    "    f\"AND R1.rlen >= ceil({t} * R2.rlen)\"\n",
    "    # prefix filter\n",
    "    f\"AND R1.rlen - R1.pos + 1 >= CEIL(R1.rlen * 2 * {t} / (1+{t})) \"\n",
    "    # positional filter\n",
    "    \"AND LEAST((R1.rlen - R1.pos + 1), (R2.rlen - R2.pos + 1)) >= \"\n",
    "    f\"CEIL((R1.rlen + R2.rlen) * {t} / (1 + {t})) \"\n",
    "    \"GROUP BY R1.rid, R2.rid \"\n",
    "    \")\"\n",
    ")"
   ],
   "metadata": {
    "collapsed": false,
    "pycharm": {
     "name": "#%%\n"
    }
   }
  },
  {
   "cell_type": "code",
   "execution_count": 210,
   "outputs": [
    {
     "data": {
      "text/plain": "[('S1_0', 'S3_9', 2, 2, 1),\n ('S1_2', 'S3_0', 2, 2, 1),\n ('S1_4', 'S3_1', 1, 2, 1),\n ('S1_5', 'S3_0', 2, 2, 2),\n ('S1_6', 'S3_5', 2, 2, 1),\n ('S1_7', 'S3_7', 2, 1, 1),\n ('S1_8', 'S3_6', 2, 2, 2),\n ('S1_9', 'S3_3', 2, 2, 1),\n ('S2_0', 'S3_5', 2, 2, 1),\n ('S2_2', 'S3_3', 2, 2, 2),\n ('S2_4', 'S3_6', 2, 2, 2),\n ('S2_5', 'S3_7', 2, 2, 1),\n ('S2_6', 'S3_4', 2, 2, 1),\n ('S1_2', 'S1_5', 2, 2, 1),\n ('S1_6', 'S2_0', 2, 2, 1),\n ('S1_8', 'S2_4', 2, 2, 2),\n ('S1_9', 'S2_2', 2, 2, 1)]"
     },
     "execution_count": 210,
     "metadata": {},
     "output_type": "execute_result"
    }
   ],
   "source": [
    "con.execute(\"select * from candset\").fetchall()"
   ],
   "metadata": {
    "collapsed": false,
    "pycharm": {
     "name": "#%%\n"
    }
   }
  },
  {
   "cell_type": "code",
   "execution_count": 211,
   "outputs": [
    {
     "data": {
      "text/plain": "<duckdb.DuckDBPyConnection at 0x1a681a5d970>"
     },
     "execution_count": 211,
     "metadata": {},
     "output_type": "execute_result"
    }
   ],
   "source": [
    "con.execute(\"drop view if exists matches\").execute(\n",
    "    \"create view matches as \"\n",
    "    \"select r1.rid as rid1, r2.rid as rid2 \"\n",
    "    \"from R r1, R r2, candset c \"\n",
    "    \"where c.rid1 = r1.rid \"\n",
    "    \"and c.rid2 = r2.rid \"\n",
    "    \"and r1.token = r2.token \"\n",
    "    \"and r1.pos > maxPos1 \"\n",
    "    \"and r2.pos > maxPos2 \"\n",
    "    \"group by r1.rid, r2.rid, r1.rlen, r2.rlen, prOverlap \"\n",
    "    f\"having count(*) + prOverlap >= (r1.rlen + r2.rlen) * {t} / (1+{t})\"\n",
    ")"
   ],
   "metadata": {
    "collapsed": false,
    "pycharm": {
     "name": "#%%\n"
    }
   }
  },
  {
   "cell_type": "code",
   "execution_count": 212,
   "outputs": [
    {
     "data": {
      "text/plain": "[('S1_0', 'S3_9'),\n ('S1_2', 'S3_0'),\n ('S1_4', 'S3_1'),\n ('S1_5', 'S3_0'),\n ('S1_6', 'S3_5'),\n ('S1_7', 'S3_7'),\n ('S1_8', 'S3_6'),\n ('S1_9', 'S3_3'),\n ('S2_0', 'S3_5'),\n ('S2_2', 'S3_3'),\n ('S2_4', 'S3_6'),\n ('S2_5', 'S3_7'),\n ('S2_6', 'S3_4'),\n ('S1_2', 'S1_5'),\n ('S1_6', 'S2_0'),\n ('S1_8', 'S2_4'),\n ('S1_9', 'S2_2')]"
     },
     "execution_count": 212,
     "metadata": {},
     "output_type": "execute_result"
    }
   ],
   "source": [
    "con.execute(\"select * from matches\").fetchall()"
   ],
   "metadata": {
    "collapsed": false,
    "pycharm": {
     "name": "#%%\n"
    }
   }
  },
  {
   "cell_type": "code",
   "execution_count": 213,
   "outputs": [
    {
     "data": {
      "text/plain": "[('joshua morrison 19101123', 'joshua morriosn 19101123'),\n ('emmerson lock 19211129', 'emmerson loyck 19211129'),\n ('michael wuchatsch 19190110', 'michel wuchatsch 19190110'),\n ('emmerson loyck 19211129', 'emmerson loyck 19211129'),\n ('rhys schuetz 19440909', 'braedon schuetz 19440909'),\n ('joshua greenj 19790110', 'joshua green 19790110'),\n ('olivia hobson 19760812', 'olivia hobson 19760812'),\n ('michael lierach 19360816', 'liersch michael 19360816'),\n ('braecon schuetz 19440909', 'braedon schuetz 19440909'),\n ('michael liersch 19360816', 'liersch michael 19360816'),\n ('olivia hobson 19760812', 'olivia hobson 19760812'),\n ('joshua green 19010219', 'joshua green 19790110'),\n ('charlotte hyland 19340909', 'charlotte hyland 19460401'),\n ('emmerson lock 19211129', 'emmerson loyck 19211129'),\n ('rhys schuetz 19440909', 'braecon schuetz 19440909'),\n ('olivia hobson 19760812', 'olivia hobson 19760812'),\n ('michael lierach 19360816', 'michael liersch 19360816')]"
     },
     "execution_count": 213,
     "metadata": {},
     "output_type": "execute_result"
    }
   ],
   "source": [
    "con.execute(\n",
    "    \"select i1.val, i2.val \"\n",
    "    # \", i1.rid, i2.rid \"\n",
    "    \"from matches m \"\n",
    "    \"join input i1 on i1.rid = m.rid1 \"\n",
    "    \"join input i2 on i2.rid = m.rid2\"\n",
    ").fetchall()"
   ],
   "metadata": {
    "collapsed": false,
    "pycharm": {
     "name": "#%%\n"
    }
   }
  },
  {
   "cell_type": "markdown",
   "source": [
    "# Debug"
   ],
   "metadata": {
    "collapsed": false,
    "pycharm": {
     "name": "#%% md\n"
    }
   }
  },
  {
   "cell_type": "code",
   "execution_count": 214,
   "outputs": [
    {
     "data": {
      "text/plain": "[]"
     },
     "execution_count": 214,
     "metadata": {},
     "output_type": "execute_result"
    }
   ],
   "source": [
    "con.execute(\n",
    "    \"select * \"\n",
    "    \"from matches m \"\n",
    "    \"full outer join bfjoin b on b.rid1 = m.rid1 and b.rid2 = m.rid2 \"\n",
    "    \"where m.rid1 is null \"\n",
    ").fetchall()"
   ],
   "metadata": {
    "collapsed": false,
    "pycharm": {
     "name": "#%%\n"
    }
   }
  },
  {
   "cell_type": "code",
   "execution_count": 214,
   "outputs": [],
   "source": [],
   "metadata": {
    "collapsed": false,
    "pycharm": {
     "name": "#%%\n"
    }
   }
  }
 ],
 "metadata": {
  "kernelspec": {
   "display_name": "Python 3",
   "language": "python",
   "name": "python3"
  },
  "language_info": {
   "codemirror_mode": {
    "name": "ipython",
    "version": 2
   },
   "file_extension": ".py",
   "mimetype": "text/x-python",
   "name": "python",
   "nbconvert_exporter": "python",
   "pygments_lexer": "ipython2",
   "version": "2.7.6"
  }
 },
 "nbformat": 4,
 "nbformat_minor": 0
}