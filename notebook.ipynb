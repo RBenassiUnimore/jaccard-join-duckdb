{
 "cells": [
  {
   "cell_type": "code",
   "execution_count": null,
   "outputs": [],
   "source": [
    "!pip install duckdb"
   ],
   "metadata": {
    "collapsed": false,
    "pycharm": {
     "name": "#%%\n"
    }
   }
  },
  {
   "cell_type": "code",
   "execution_count": null,
   "outputs": [],
   "source": [
    "import duckdb\n",
    "import time\n",
    "import pandas as pd"
   ],
   "metadata": {
    "collapsed": false,
    "pycharm": {
     "name": "#%%\n"
    }
   }
  },
  {
   "cell_type": "code",
   "execution_count": null,
   "outputs": [],
   "source": [
    "%load_ext autoreload\n",
    "%autoreload 2"
   ],
   "metadata": {
    "collapsed": false,
    "pycharm": {
     "name": "#%%\n"
    }
   }
  },
  {
   "cell_type": "code",
   "execution_count": null,
   "outputs": [],
   "source": [
    "from py_duckdb.similarity_join import tokenizers\n",
    "from py_duckdb.similarity_join import jaccard_join, jaccard_join_brute_force\n",
    "from py_duckdb.similarity_join import evaluate"
   ],
   "metadata": {
    "collapsed": false,
    "pycharm": {
     "name": "#%%\n"
    }
   }
  },
  {
   "cell_type": "code",
   "execution_count": null,
   "outputs": [],
   "source": [
    "def join_fn_exec_time(n, join_fn, *args, **kwargs):\n",
    "    exec_time = []\n",
    "    for i in range(0, n):\n",
    "        start_time = time.time()\n",
    "        join_fn(*args, **kwargs)\n",
    "        end_time = time.time()\n",
    "        exec_time.append(end_time - start_time)\n",
    "        print(end_time - start_time, 's')\n",
    "    return exec_time"
   ],
   "metadata": {
    "collapsed": false,
    "pycharm": {
     "name": "#%%\n"
    }
   }
  },
  {
   "cell_type": "code",
   "execution_count": null,
   "outputs": [],
   "source": [
    "import string\n",
    "import numpy as np\n",
    "\n",
    "def test_vs_brute_force(\n",
    "        con: duckdb.DuckDBPyConnection,\n",
    "        l_table: string,\n",
    "        r_table: string,\n",
    "        l_key_attr: string,\n",
    "        r_key_attr: string,\n",
    "        l_join_attr: string,\n",
    "        r_join_attr: string,\n",
    "        tokenizer: tokenizers.Tokenizer,\n",
    "        threshold: float,\n",
    "        out_table_name: string,\n",
    "        n=1\n",
    "):\n",
    "    exec_times = []\n",
    "    exec_times_bf = []\n",
    "\n",
    "    print(\"FILTERED EXECUTIONS\")\n",
    "    exec_times = join_fn_exec_time(\n",
    "        n, jaccard_join,\n",
    "        con, l_table, r_table, l_key_attr, r_key_attr, l_join_attr, r_join_attr, tokenizer, threshold, out_table_name\n",
    "    )\n",
    "    print(\"Average execution time:\", np.average(exec_times))\n",
    "\n",
    "    print()\n",
    "    print(\"BRUTE FORCE EXECUTIONS\")\n",
    "    exec_times_bf = join_fn_exec_time(\n",
    "        n, jaccard_join_brute_force,\n",
    "        con, l_table, r_table, l_key_attr, r_key_attr, l_join_attr, r_join_attr, tokenizer, threshold, \"bf_\" + out_table_name\n",
    "    )\n",
    "    print(\"Average execution time:\", np.average(exec_times_bf))\n",
    "\n",
    "    print()\n",
    "    cmp_join = con.execute(\n",
    "        \"select * \"\n",
    "        f\"from {out_table_name} m \"\n",
    "        f\"full outer join bf_{out_table_name} b \"\n",
    "        \"on (b.rid1 = m.rid1 and b.rid2 = m.rid2) \"\n",
    "        \"or (b.rid1 = m.rid2 and b.rid2 = m.rid1) \"\n",
    "        \"where m.rid1 is null \"\n",
    "        \"or b.rid1 is null\"\n",
    "    ).fetchall()\n",
    "    if len(cmp_join) == 0:\n",
    "        print(\"SUCCESS! Filtered join and Brute force join returned the same result\")\n",
    "    else:\n",
    "        print(\"ERROR! There are mismatches between Filtered and Brute force joins:\", cmp_join)\n",
    "\n",
    "    return {\n",
    "        'exec_time': exec_times,\n",
    "        'exec_time_bf': exec_times_bf\n",
    "    }"
   ],
   "metadata": {
    "collapsed": false,
    "pycharm": {
     "name": "#%%\n"
    }
   }
  },
  {
   "cell_type": "code",
   "execution_count": null,
   "outputs": [],
   "source": [
    "def test_confusion_mtx(\n",
    "        con: duckdb.DuckDBPyConnection,\n",
    "        l_table: string,\n",
    "        r_table: string,\n",
    "        l_key_attr: string,\n",
    "        r_key_attr: string,\n",
    "        l_join_attr: string,\n",
    "        r_join_attr: string,\n",
    "        tokenizer: tokenizers.Tokenizer,\n",
    "        threshold: float,\n",
    "        out_table_name: string,\n",
    "        ground_truth_table: string,\n",
    "        n=1\n",
    "):\n",
    "    exec_time = join_fn_exec_time(\n",
    "        n, jaccard_join,\n",
    "        con, l_table, r_table, l_key_attr, r_key_attr, l_join_attr, r_join_attr, tokenizer, threshold, out_table_name\n",
    "    )\n",
    "    print(\"Average execution time:\", np.average(exec_time))\n",
    "    print(evaluate(con, ground_truth_table, out_table_name))\n",
    "    print()\n",
    "    return exec_time"
   ],
   "metadata": {
    "collapsed": false,
    "pycharm": {
     "name": "#%%\n"
    }
   }
  },
  {
   "cell_type": "code",
   "execution_count": null,
   "outputs": [],
   "source": [
    "con = duckdb.connect(database=':memory:')"
   ],
   "metadata": {
    "collapsed": false,
    "pycharm": {
     "name": "#%%\n"
    }
   }
  },
  {
   "cell_type": "markdown",
   "source": [
    "# Test case: Actors"
   ],
   "metadata": {
    "collapsed": false,
    "pycharm": {
     "name": "#%% md\n"
    }
   }
  },
  {
   "cell_type": "code",
   "execution_count": null,
   "outputs": [],
   "source": [
    "con.execute(\"drop table if exists src1\").execute(\n",
    "    \"CREATE TABLE src1 AS \"\n",
    "    \"SELECT id as rid, concat(given_name, ' ', surname, ' ', date_of_birth) as val \"\n",
    "    \"FROM 'data/S1_clean_.csv'\"\n",
    ").execute(\"select * from src1\").fetchall()"
   ],
   "metadata": {
    "collapsed": false,
    "pycharm": {
     "name": "#%%\n"
    }
   }
  },
  {
   "cell_type": "code",
   "execution_count": null,
   "outputs": [],
   "source": [
    "con.execute(\"drop table if exists src2\").execute(\n",
    "    \"CREATE TABLE src2 AS \"\n",
    "    \"SELECT id as rid, concat(given_name, ' ', surname, ' ', date_of_birth) as val \"\n",
    "    \"FROM 'data/S2_clean_.csv'\"\n",
    ").execute(\"select * from src2\").fetchall()"
   ],
   "metadata": {
    "collapsed": false,
    "pycharm": {
     "name": "#%%\n"
    }
   }
  },
  {
   "cell_type": "code",
   "execution_count": null,
   "outputs": [],
   "source": [
    "con.execute(\"drop table if exists src3\").execute(\n",
    "    \"CREATE TABLE src3 AS \"\n",
    "    \"SELECT id as rid, concat(given_name, ' ', surname, ' ', date_of_birth) as val \"\n",
    "    \"FROM 'data/S3_clean_.csv'\"\n",
    ").execute(\"select * from src3\").fetchall()"
   ],
   "metadata": {
    "collapsed": false,
    "pycharm": {
     "name": "#%%\n"
    }
   }
  },
  {
   "cell_type": "code",
   "execution_count": null,
   "outputs": [],
   "source": [
    "con.execute(\"drop view if exists srcall\").execute(\n",
    "    \"create view srcall as \"\n",
    "    \"select * from src1 \"\n",
    "    \"union \"\n",
    "    \"select * from src2 \"\n",
    "    \"union \"\n",
    "    \"select * from src3 \"\n",
    ").execute(\"select * from srcall\").fetchall()"
   ],
   "metadata": {
    "collapsed": false,
    "pycharm": {
     "name": "#%%\n"
    }
   }
  },
  {
   "cell_type": "code",
   "execution_count": null,
   "outputs": [],
   "source": [
    "# function args\n",
    "l_table = 'src1'\n",
    "r_table = 'src2'\n",
    "\n",
    "l_key_attr = 'rid'\n",
    "r_key_attr = 'rid'\n",
    "l_join_attr = 'val'\n",
    "r_join_attr = 'val'\n",
    "# tokenizer = tokenizers.WordsTokzr(r\"' '\")\n",
    "tokenizer = tokenizers.QGramsTokzr(3)\n",
    "threshold = 0.5\n",
    "out_table_name = 'matches'"
   ],
   "metadata": {
    "collapsed": false,
    "pycharm": {
     "name": "#%%\n"
    }
   }
  },
  {
   "cell_type": "code",
   "execution_count": null,
   "outputs": [],
   "source": [
    "test_vs_brute_force(\n",
    "    con, 'srcall', '', l_key_attr, r_key_attr, l_join_attr, r_join_attr, tokenizer, threshold, out_table_name, 10\n",
    ")"
   ],
   "metadata": {
    "collapsed": false,
    "pycharm": {
     "name": "#%%\n"
    }
   }
  },
  {
   "cell_type": "code",
   "execution_count": null,
   "outputs": [],
   "source": [
    "test_vs_brute_force(\n",
    "    con, 'src1', 'src2', l_key_attr, r_key_attr, l_join_attr, r_join_attr, tokenizer, threshold, out_table_name, 10\n",
    ")"
   ],
   "metadata": {
    "collapsed": false,
    "pycharm": {
     "name": "#%%\n"
    }
   }
  },
  {
   "cell_type": "markdown",
   "source": [
    "# Test case: NCVR"
   ],
   "metadata": {
    "collapsed": false,
    "pycharm": {
     "name": "#%% md\n"
    }
   }
  },
  {
   "cell_type": "code",
   "execution_count": null,
   "outputs": [],
   "source": [
    "to_concat = \", ' ', \".join([\"entity\", \"rec_id\", \"first_name\", \"last_name\", \"sex\", \"age\", \"birth_place\", \"house_num\", \"county_desc\", \"street_name\", \"zip_code\", \"phone_num\"])\n",
    "to_concat"
   ],
   "metadata": {
    "collapsed": false,
    "pycharm": {
     "name": "#%%\n"
    }
   }
  },
  {
   "cell_type": "code",
   "execution_count": null,
   "outputs": [],
   "source": [
    "con.execute(\"drop table if exists src1\").execute(\n",
    "    \"CREATE TABLE src1 AS \"\n",
    "    f\"SELECT id as rid, concat({to_concat}) as val \"\n",
    "    \"FROM 'data/NCVR_AF_clean.csv'\"\n",
    ").execute(\"select * from src1\").fetchall()"
   ],
   "metadata": {
    "collapsed": false,
    "pycharm": {
     "name": "#%%\n"
    }
   }
  },
  {
   "cell_type": "code",
   "execution_count": null,
   "outputs": [],
   "source": [
    "con.execute(\"drop table if exists src2\").execute(\n",
    "    \"CREATE TABLE src2 AS \"\n",
    "    f\"SELECT id as rid, concat({to_concat}) as val \"\n",
    "    \"FROM 'data/NCVR_BF_clean.csv'\"\n",
    ").execute(\"select * from src2\").fetchall()"
   ],
   "metadata": {
    "collapsed": false,
    "pycharm": {
     "name": "#%%\n"
    }
   }
  },
  {
   "cell_type": "code",
   "execution_count": null,
   "outputs": [],
   "source": [
    "con.execute(\"drop table if exists src3\").execute(\n",
    "    \"CREATE TABLE src3 AS \"\n",
    "    f\"SELECT id as rid, concat({to_concat}) as val \"\n",
    "    \"FROM 'data/NCVR_CF_clean.csv'\"\n",
    ").execute(\"select * from src3\").fetchall()"
   ],
   "metadata": {
    "collapsed": false,
    "pycharm": {
     "name": "#%%\n"
    }
   }
  },
  {
   "cell_type": "code",
   "execution_count": null,
   "outputs": [],
   "source": [
    "con.execute(\"drop view if exists srcall\").execute(\n",
    "    \"create view srcall as \"\n",
    "    \"select * from src1 \"\n",
    "    \"union \"\n",
    "    \"select * from src2 \"\n",
    "    \"union \"\n",
    "    \"select * from src3 \"\n",
    ").execute(\"select * from srcall\").fetchall()"
   ],
   "metadata": {
    "collapsed": false,
    "pycharm": {
     "name": "#%%\n"
    }
   }
  },
  {
   "cell_type": "code",
   "execution_count": null,
   "outputs": [],
   "source": [
    "l_key_attr = 'rid'\n",
    "r_key_attr = 'rid'\n",
    "l_join_attr = 'val'\n",
    "r_join_attr = 'val'\n",
    "tokenizer = tokenizers.WordsTokzr(\"' '\")\n",
    "# tokenizer = tokenizers.QGramsTokzr(3)\n",
    "threshold = 0.5\n",
    "out_table_name = 'matches'"
   ],
   "metadata": {
    "collapsed": false,
    "pycharm": {
     "name": "#%%\n"
    }
   }
  },
  {
   "cell_type": "code",
   "execution_count": null,
   "outputs": [],
   "source": [
    "test_vs_brute_force(\n",
    "    con, 'srcall', '', l_key_attr, r_key_attr, l_join_attr, r_join_attr, tokenizer, threshold, out_table_name, 10\n",
    ")"
   ],
   "metadata": {
    "collapsed": false,
    "pycharm": {
     "name": "#%%\n"
    }
   }
  },
  {
   "cell_type": "code",
   "execution_count": null,
   "outputs": [],
   "source": [
    "test_vs_brute_force(\n",
    "    con, 'src1', 'src2', l_key_attr, r_key_attr, l_join_attr, r_join_attr, tokenizer, threshold, out_table_name, 10\n",
    ")"
   ],
   "metadata": {
    "collapsed": false,
    "pycharm": {
     "name": "#%%\n"
    }
   }
  },
  {
   "cell_type": "code",
   "execution_count": null,
   "outputs": [],
   "source": [
    "con.execute(\"drop table if exists src1\")\n",
    "con.execute(\"drop table if exists src2\")\n",
    "con.execute(\"drop table if exists src3\")\n",
    "con.execute(\"drop view if exists srcall\")"
   ],
   "metadata": {
    "collapsed": false,
    "pycharm": {
     "name": "#%%\n"
    }
   }
  },
  {
   "cell_type": "markdown",
   "source": [
    "## Test Case: Profiles"
   ],
   "metadata": {
    "collapsed": false,
    "pycharm": {
     "name": "#%% md\n"
    }
   }
  },
  {
   "cell_type": "code",
   "execution_count": null,
   "outputs": [],
   "source": [
    "df10 = pd.read_json(\"data/10Kprofiles.json\", lines=True, orient='records', typ='frame')"
   ],
   "metadata": {
    "collapsed": false,
    "pycharm": {
     "name": "#%%\n"
    }
   }
  },
  {
   "cell_type": "code",
   "execution_count": null,
   "outputs": [],
   "source": [
    "df10.head()"
   ],
   "metadata": {
    "collapsed": false,
    "pycharm": {
     "name": "#%%\n"
    }
   }
  },
  {
   "cell_type": "code",
   "execution_count": null,
   "outputs": [],
   "source": [
    "to_concat = \", ' ', \".join([\"date_of_birth\", \"surname\", \"address_1\", \"street_number\", \"postcode\", \"soc_sec_id\", \"suburb\", \"phone_number\", \"state\", \"given_name\", \"age\", \"address_2\"])\n",
    "to_concat"
   ],
   "metadata": {
    "collapsed": false,
    "pycharm": {
     "name": "#%%\n"
    }
   }
  },
  {
   "cell_type": "code",
   "execution_count": null,
   "outputs": [],
   "source": [
    "con.execute(\"drop table if exists db10\").execute(\n",
    "    \"CREATE TABLE db10 AS \"\n",
    "    f\"SELECT realProfileID as rid, concat ({to_concat}) as val \"\n",
    "    \"FROM df10\"\n",
    ").execute(\"select * from db10\").fetchall()"
   ],
   "metadata": {
    "collapsed": false,
    "pycharm": {
     "name": "#%%\n"
    }
   }
  },
  {
   "cell_type": "code",
   "execution_count": null,
   "outputs": [],
   "source": [
    "df10gt = pd.read_json(\"data/10KIdDuplicates.json\", lines=True, orient='records', typ='frame')\n",
    "df10gt.head()"
   ],
   "metadata": {
    "collapsed": false,
    "pycharm": {
     "name": "#%%\n"
    }
   }
  },
  {
   "cell_type": "code",
   "execution_count": null,
   "outputs": [],
   "source": [
    "con.execute(\"drop table if exists db10gt\").execute(\n",
    "    \"CREATE TABLE db10gt AS \"\n",
    "    \"SELECT d1Id as rid1, d2Id as rid2 \"\n",
    "    \"FROM df10gt \"\n",
    ").execute(\"select count(*) from db10gt\").fetchall()"
   ],
   "metadata": {
    "collapsed": false,
    "pycharm": {
     "name": "#%%\n"
    }
   }
  },
  {
   "cell_type": "code",
   "execution_count": null,
   "outputs": [],
   "source": [
    "l_key_attr = 'rid'\n",
    "r_key_attr = 'rid'\n",
    "l_join_attr = 'val'\n",
    "r_join_attr = 'val'\n",
    "out_table_name = 'matches'"
   ],
   "metadata": {
    "collapsed": false,
    "pycharm": {
     "name": "#%%\n"
    }
   }
  },
  {
   "cell_type": "code",
   "execution_count": null,
   "outputs": [],
   "source": [
    "con.execute(\"drop table if exists db10_sample\").execute(\n",
    "    \"CREATE TABLE db10_sample AS \"\n",
    "    \"SELECT * \"\n",
    "    \"FROM db10 \"\n",
    "    \"using sample 2000\"\n",
    ").execute(\"select * from db10_sample\").fetchall()"
   ],
   "metadata": {
    "collapsed": false,
    "pycharm": {
     "name": "#%%\n"
    }
   }
  },
  {
   "cell_type": "code",
   "execution_count": null,
   "outputs": [],
   "source": [
    "con.execute(\"drop view if exists db10gt_sample\").execute(\n",
    "    \"create view db10gt_sample as \"\n",
    "    \"select gt.* \"\n",
    "    \"from db10_sample s1, db10_sample s2, db10gt gt \"\n",
    "    \"where s1.rid = gt.rid1 \"\n",
    "    \"and s2.rid = gt.rid2\"\n",
    ").execute(\"select count(*) from db10gt_sample\").fetchall()"
   ],
   "metadata": {
    "collapsed": false,
    "pycharm": {
     "name": "#%%\n"
    }
   }
  },
  {
   "cell_type": "code",
   "execution_count": null,
   "outputs": [],
   "source": [
    "test_vs_brute_force(\n",
    "    con, 'db10_sample', '', l_key_attr, r_key_attr, l_join_attr, r_join_attr,\n",
    "    tokenizers.WordsTokzr(\"' '\"),\n",
    "    0.5,\n",
    "    out_table_name, 5\n",
    ")\n",
    "evaluate(con, 'db10gt_sample', out_table_name)"
   ],
   "metadata": {
    "collapsed": false,
    "pycharm": {
     "name": "#%%\n"
    }
   }
  },
  {
   "cell_type": "code",
   "execution_count": null,
   "outputs": [],
   "source": [
    "test_confusion_mtx(\n",
    "    con, 'db10_sample', '', l_key_attr, r_key_attr, l_join_attr, r_join_attr,\n",
    "    tokenizers.QGramsTokzr(5),\n",
    "    0.5,\n",
    "    out_table_name, 'db10gt_sample', 5\n",
    ")"
   ],
   "metadata": {
    "collapsed": false,
    "pycharm": {
     "name": "#%%\n"
    }
   }
  },
  {
   "cell_type": "code",
   "execution_count": null,
   "outputs": [],
   "source": [
    "for t in [0.6, 0.5, 0.4, 0.3, 0.2]:\n",
    "    print(\"threshold =\", t)\n",
    "    test_confusion_mtx(con, 'db10_sample', '', l_key_attr, r_key_attr, l_join_attr, r_join_attr,\n",
    "          # tokenizers.QGramsTokzr(5),\n",
    "          tokenizers.WordsTokzr(\"' '\"),\n",
    "          t, out_table_name, \"db10gt_sample\", 5)"
   ],
   "metadata": {
    "collapsed": false,
    "pycharm": {
     "name": "#%%\n"
    }
   }
  },
  {
   "cell_type": "code",
   "execution_count": null,
   "outputs": [],
   "source": [
    "for t in [0.6, 0.5, 0.4, 0.3, 0.2]:\n",
    "    print(\"threshold =\", t)\n",
    "    test_confusion_mtx(con, 'db10', '', l_key_attr, r_key_attr, l_join_attr, r_join_attr,\n",
    "          # tokenizers.QGramsTokzr(5),\n",
    "          tokenizers.WordsTokzr(\"' '\"),\n",
    "          t, out_table_name, \"db10gt\", 5)"
   ],
   "metadata": {
    "collapsed": false,
    "pycharm": {
     "name": "#%%\n"
    }
   }
  },
  {
   "cell_type": "markdown",
   "source": [
    "## Test case: larger Profiles datasets"
   ],
   "metadata": {
    "collapsed": false,
    "pycharm": {
     "name": "#%% md\n"
    }
   }
  },
  {
   "cell_type": "code",
   "execution_count": null,
   "outputs": [],
   "source": [
    "df50 = pd.read_json(\"data/50Kprofiles.json\", lines=True, orient='records', typ='frame')"
   ],
   "metadata": {
    "collapsed": false,
    "pycharm": {
     "name": "#%%\n"
    }
   }
  },
  {
   "cell_type": "code",
   "execution_count": null,
   "outputs": [],
   "source": [
    "con.execute(\"drop table if exists src2\").execute(\n",
    "    \"CREATE TABLE src2 AS \"\n",
    "    f\"SELECT realProfileID as rid, concat ({to_concat}) as val \"\n",
    "    \"FROM df50\"\n",
    ").execute(\"select * from src2\").fetchall()"
   ],
   "metadata": {
    "collapsed": false,
    "pycharm": {
     "name": "#%%\n"
    }
   }
  },
  {
   "cell_type": "code",
   "execution_count": null,
   "outputs": [],
   "source": [
    "df100 = pd.read_json(\"data/100Kprofiles.json\", lines=True, orient='records', typ='frame')"
   ],
   "metadata": {
    "collapsed": false,
    "pycharm": {
     "name": "#%%\n"
    }
   }
  },
  {
   "cell_type": "code",
   "execution_count": null,
   "outputs": [],
   "source": [
    "con.execute(\"drop table if exists src3\").execute(\n",
    "    \"CREATE TABLE src3 AS \"\n",
    "    f\"SELECT realProfileID as rid, concat ({to_concat}) as val \"\n",
    "    \"FROM df100\"\n",
    ").execute(\"select * from src3\").fetchall()"
   ],
   "metadata": {
    "collapsed": false,
    "pycharm": {
     "name": "#%%\n"
    }
   }
  },
  {
   "cell_type": "code",
   "execution_count": null,
   "outputs": [],
   "source": [
    "start_time = time.time()\n",
    "jaccard_join(\n",
    "    con, 'src2', '', l_key_attr, r_key_attr, l_join_attr, r_join_attr, tokenizers.WordsTokzr(\"' '\"), 0.5, out_table_name\n",
    ")\n",
    "time.time() - start_time"
   ],
   "metadata": {
    "collapsed": false,
    "pycharm": {
     "name": "#%%\n"
    }
   }
  },
  {
   "cell_type": "code",
   "execution_count": null,
   "outputs": [],
   "source": [
    "start_time = time.time()\n",
    "jaccard_join(\n",
    "    con, 'src3', '', l_key_attr, r_key_attr, l_join_attr, r_join_attr, tokenizers.QGramsTokzr(\"' '\"), 0.5, out_table_name\n",
    ")\n",
    "time.time() - start_time"
   ],
   "metadata": {
    "collapsed": false,
    "pycharm": {
     "name": "#%%\n"
    }
   }
  },
  {
   "cell_type": "code",
   "execution_count": null,
   "outputs": [],
   "source": [],
   "metadata": {
    "collapsed": false,
    "pycharm": {
     "name": "#%%\n"
    }
   }
  }
 ],
 "metadata": {
  "kernelspec": {
   "display_name": "Python 3",
   "language": "python",
   "name": "python3"
  },
  "language_info": {
   "codemirror_mode": {
    "name": "ipython",
    "version": 2
   },
   "file_extension": ".py",
   "mimetype": "text/x-python",
   "name": "python",
   "nbconvert_exporter": "python",
   "pygments_lexer": "ipython2",
   "version": "2.7.6"
  }
 },
 "nbformat": 4,
 "nbformat_minor": 0
}