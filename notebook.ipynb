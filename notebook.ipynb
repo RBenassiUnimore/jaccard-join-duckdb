{
 "cells": [
  {
   "cell_type": "code",
   "execution_count": 4,
   "outputs": [
    {
     "name": "stdout",
     "output_type": "stream",
     "text": [
      "Requirement already satisfied: duckdb in c:\\python39\\lib\\site-packages (0.6.1)\n",
      "Requirement already satisfied: numpy>=1.14 in c:\\python39\\lib\\site-packages (from duckdb) (1.23.5)\n"
     ]
    }
   ],
   "source": [
    "!pip install duckdb"
   ],
   "metadata": {
    "collapsed": false,
    "pycharm": {
     "name": "#%%\n"
    }
   }
  },
  {
   "cell_type": "code",
   "execution_count": 5,
   "outputs": [],
   "source": [
    "import duckdb"
   ],
   "metadata": {
    "collapsed": false,
    "pycharm": {
     "name": "#%%\n"
    }
   }
  },
  {
   "cell_type": "code",
   "execution_count": 6,
   "outputs": [],
   "source": [
    "%load_ext autoreload\n",
    "%autoreload 2"
   ],
   "metadata": {
    "collapsed": false,
    "pycharm": {
     "name": "#%%\n"
    }
   }
  },
  {
   "cell_type": "code",
   "execution_count": 7,
   "outputs": [],
   "source": [
    "from py_duckdb.similarity_join import tokenizers"
   ],
   "metadata": {
    "collapsed": false,
    "pycharm": {
     "name": "#%%\n"
    }
   }
  },
  {
   "cell_type": "code",
   "execution_count": 8,
   "outputs": [],
   "source": [
    "con = duckdb.connect(database=':memory:')"
   ],
   "metadata": {
    "collapsed": false,
    "pycharm": {
     "name": "#%%\n"
    }
   }
  },
  {
   "cell_type": "markdown",
   "source": [
    "# Source data"
   ],
   "metadata": {
    "collapsed": false,
    "pycharm": {
     "name": "#%% md\n"
    }
   }
  },
  {
   "cell_type": "code",
   "execution_count": 94,
   "outputs": [
    {
     "data": {
      "text/plain": "[('S1_0', 'joshua morrison 19101123'),\n ('S1_1', 'jordan white 19371126'),\n ('S1_2', 'emmerson lock 19211129'),\n ('S1_3', 'alexandra grosser 19720305'),\n ('S1_4', 'michael wuchatsch 19190110'),\n ('S1_5', 'emmerson loyck 19211129'),\n ('S1_6', 'rhys schuetz 19440909'),\n ('S1_7', 'joshua greenj 19790110'),\n ('S1_8', 'olivia hobson 19760812'),\n ('S1_9', 'michael lierach 19360816'),\n ('S1_10', 'elisabett domiten 19081008'),\n ('S1_11', 'genoveffa hylander 19071008')]"
     },
     "execution_count": 94,
     "metadata": {},
     "output_type": "execute_result"
    }
   ],
   "source": [
    "con.execute(\"drop table if exists src1\").execute(\n",
    "    \"CREATE TABLE src1 AS \"\n",
    "    \"SELECT id as rid, concat(given_name, ' ', surname, ' ', date_of_birth) as val \"\n",
    "    \"FROM 'data/S1_clean_.csv'\"\n",
    ").execute(\"select * from src1\").fetchall()"
   ],
   "metadata": {
    "collapsed": false,
    "pycharm": {
     "name": "#%%\n"
    }
   }
  },
  {
   "cell_type": "code",
   "execution_count": 95,
   "outputs": [
    {
     "data": {
      "text/plain": "[('S2_0', 'braecon schuetz 19440909'),\n ('S2_1', 'alexandra grosvenor 19930305'),\n ('S2_2', 'michael liersch 19360816'),\n ('S2_3', 'emmeron loyk 19321129'),\n ('S2_4', 'olivia hobson 19760812'),\n ('S2_5', 'joshua green 19010219'),\n ('S2_6', 'charlotte hyland 19340909'),\n ('S2_7', 'elisabet domitienn 19071008')]"
     },
     "execution_count": 95,
     "metadata": {},
     "output_type": "execute_result"
    }
   ],
   "source": [
    "con.execute(\"drop table if exists src2\").execute(\n",
    "    \"CREATE TABLE src2 AS \"\n",
    "    \"SELECT id as rid, concat(given_name, ' ', surname, ' ', date_of_birth) as val \"\n",
    "    \"FROM 'data/S2_clean_.csv'\"\n",
    ").execute(\"select * from src2\").fetchall()"
   ],
   "metadata": {
    "collapsed": false,
    "pycharm": {
     "name": "#%%\n"
    }
   }
  },
  {
   "cell_type": "code",
   "execution_count": 96,
   "outputs": [
    {
     "data": {
      "text/plain": "[('S3_0', 'emmerson loyck 19211129'),\n ('S3_1', 'michel wuchatsch 19190110'),\n ('S3_3', 'liersch michael 19360816'),\n ('S3_4', 'charlotte hyland 19460401'),\n ('S3_5', 'braedon schuetz 19440909'),\n ('S3_6', 'olivia hobson 19760812'),\n ('S3_7', 'joshua green 19790110'),\n ('S3_8', 'keely clarke 19050410'),\n ('S3_9', 'joshua morriosn 19101123'),\n ('S3_11', 'genovefa hyllande 19071008')]"
     },
     "execution_count": 96,
     "metadata": {},
     "output_type": "execute_result"
    }
   ],
   "source": [
    "con.execute(\"drop table if exists src3\").execute(\n",
    "    \"CREATE TABLE src3 AS \"\n",
    "    \"SELECT id as rid, concat(given_name, ' ', surname, ' ', date_of_birth) as val \"\n",
    "    \"FROM 'data/S3_clean_.csv'\"\n",
    ").execute(\"select * from src3\").fetchall()"
   ],
   "metadata": {
    "collapsed": false,
    "pycharm": {
     "name": "#%%\n"
    }
   }
  },
  {
   "cell_type": "code",
   "execution_count": 138,
   "outputs": [
    {
     "data": {
      "text/plain": "[('S3_0', 'emmerson loyck 19211129'),\n ('S3_1', 'michel wuchatsch 19190110'),\n ('S3_3', 'liersch michael 19360816'),\n ('S3_4', 'charlotte hyland 19460401'),\n ('S3_5', 'braedon schuetz 19440909'),\n ('S3_6', 'olivia hobson 19760812'),\n ('S3_7', 'joshua green 19790110'),\n ('S3_8', 'keely clarke 19050410'),\n ('S3_9', 'joshua morriosn 19101123'),\n ('S3_11', 'genovefa hyllande 19071008'),\n ('S1_0', 'joshua morrison 19101123'),\n ('S1_1', 'jordan white 19371126'),\n ('S1_2', 'emmerson lock 19211129'),\n ('S1_3', 'alexandra grosser 19720305'),\n ('S1_4', 'michael wuchatsch 19190110'),\n ('S1_5', 'emmerson loyck 19211129'),\n ('S1_6', 'rhys schuetz 19440909'),\n ('S1_7', 'joshua greenj 19790110'),\n ('S1_8', 'olivia hobson 19760812'),\n ('S1_9', 'michael lierach 19360816'),\n ('S1_10', 'elisabett domiten 19081008'),\n ('S1_11', 'genoveffa hylander 19071008'),\n ('S2_0', 'braecon schuetz 19440909'),\n ('S2_1', 'alexandra grosvenor 19930305'),\n ('S2_2', 'michael liersch 19360816'),\n ('S2_3', 'emmeron loyk 19321129'),\n ('S2_4', 'olivia hobson 19760812'),\n ('S2_5', 'joshua green 19010219'),\n ('S2_6', 'charlotte hyland 19340909'),\n ('S2_7', 'elisabet domitienn 19071008')]"
     },
     "execution_count": 138,
     "metadata": {},
     "output_type": "execute_result"
    }
   ],
   "source": [
    "con.execute(\"drop view if exists srcall\").execute(\n",
    "    \"create view srcall as \"\n",
    "    \"select * from src1 \"\n",
    "    \"union \"\n",
    "    \"select * from src2 \"\n",
    "    \"union \"\n",
    "    \"select * from src3 \"\n",
    ").execute(\"select * from srcall\").fetchall()"
   ],
   "metadata": {
    "collapsed": false,
    "pycharm": {
     "name": "#%%\n"
    }
   }
  },
  {
   "cell_type": "markdown",
   "source": [
    "# Function call"
   ],
   "metadata": {
    "collapsed": false,
    "pycharm": {
     "name": "#%% md\n"
    }
   }
  },
  {
   "cell_type": "code",
   "execution_count": 166,
   "outputs": [],
   "source": [
    "# function args\n",
    "l_table = 'srcall'\n",
    "r_table = 'srcall'\n",
    "l_key_attr = 'rid'\n",
    "r_key_attr = 'rid'\n",
    "l_join_attr = 'val'\n",
    "r_join_attr = 'val'\n",
    "#tokenizer = tokenizers.WordsTokzr()\n",
    "tokenizer = tokenizers.QGramsTokzr(3)\n",
    "threshold = 0.5\n",
    "out_table_name = 'matches'"
   ],
   "metadata": {
    "collapsed": false,
    "pycharm": {
     "name": "#%%\n"
    }
   }
  },
  {
   "cell_type": "code",
   "execution_count": 167,
   "outputs": [
    {
     "data": {
      "text/plain": "\"select distinct src, rid, rlen , substring(concat(repeat('#', 3 - 1), lower(val), repeat('#',3 - 1)),x, 3) as token from (select *, len(val) + 3 - 1 as rlen, unnest(generate_series(1, rlen)) as x from input )\""
     },
     "execution_count": 167,
     "metadata": {},
     "output_type": "execute_result"
    }
   ],
   "source": [
    "# Works for both self-join and generic join\n",
    "tokzr_query = ''\n",
    "\n",
    "if isinstance(tokenizer, tokenizers.WordsTokzr):\n",
    "    separators = tokenizer.get_info()\n",
    "    tokzr_query = (f\"select src, rid, len(tks) as rlen, lower(unnest(tks)) as token \"\n",
    "                   \"from ( \"\n",
    "                   f\"select distinct src, rid, str_split_regex(val, {separators}) as tks \"\"\"\n",
    "                   f\"from input \"\n",
    "                   \") \")\n",
    "elif isinstance(tokenizer, tokenizers.QGramsTokzr):\n",
    "    q = tokenizer.get_info()\n",
    "    tokzr_query = (f\"select distinct src, rid, rlen \"\n",
    "                   f\", substring(concat(repeat('#', {q} - 1), \"\n",
    "                   f\"lower(val), \"\n",
    "                   f\"repeat('#',{q} - 1)),\"\n",
    "                   f\"x, {q}) as token \"\n",
    "                   \"from (\"\n",
    "                   f\"select *, len(val) + {q} - 1 as rlen, unnest(generate_series(1, rlen)) as x \"\n",
    "                   f\"from input \"\n",
    "                   \")\")\n",
    "\n",
    "tokzr_query"
   ],
   "metadata": {
    "collapsed": false,
    "pycharm": {
     "name": "#%%\n"
    }
   }
  },
  {
   "cell_type": "code",
   "execution_count": 168,
   "outputs": [
    {
     "data": {
      "text/plain": "[('srcall', 'S3_0', 'emmerson loyck 19211129'),\n ('srcall', 'S3_1', 'michel wuchatsch 19190110'),\n ('srcall', 'S3_3', 'liersch michael 19360816'),\n ('srcall', 'S3_4', 'charlotte hyland 19460401'),\n ('srcall', 'S3_5', 'braedon schuetz 19440909'),\n ('srcall', 'S3_6', 'olivia hobson 19760812'),\n ('srcall', 'S3_7', 'joshua green 19790110'),\n ('srcall', 'S3_8', 'keely clarke 19050410'),\n ('srcall', 'S3_9', 'joshua morriosn 19101123'),\n ('srcall', 'S3_11', 'genovefa hyllande 19071008'),\n ('srcall', 'S2_0', 'braecon schuetz 19440909'),\n ('srcall', 'S2_1', 'alexandra grosvenor 19930305'),\n ('srcall', 'S2_2', 'michael liersch 19360816'),\n ('srcall', 'S2_3', 'emmeron loyk 19321129'),\n ('srcall', 'S2_4', 'olivia hobson 19760812'),\n ('srcall', 'S2_5', 'joshua green 19010219'),\n ('srcall', 'S2_6', 'charlotte hyland 19340909'),\n ('srcall', 'S2_7', 'elisabet domitienn 19071008'),\n ('srcall', 'S1_0', 'joshua morrison 19101123'),\n ('srcall', 'S1_1', 'jordan white 19371126'),\n ('srcall', 'S1_2', 'emmerson lock 19211129'),\n ('srcall', 'S1_3', 'alexandra grosser 19720305'),\n ('srcall', 'S1_4', 'michael wuchatsch 19190110'),\n ('srcall', 'S1_5', 'emmerson loyck 19211129'),\n ('srcall', 'S1_6', 'rhys schuetz 19440909'),\n ('srcall', 'S1_7', 'joshua greenj 19790110'),\n ('srcall', 'S1_8', 'olivia hobson 19760812'),\n ('srcall', 'S1_9', 'michael lierach 19360816'),\n ('srcall', 'S1_10', 'elisabett domiten 19081008'),\n ('srcall', 'S1_11', 'genoveffa hylander 19071008')]"
     },
     "execution_count": 168,
     "metadata": {},
     "output_type": "execute_result"
    }
   ],
   "source": [
    "con.execute(\"drop view if exists input\")\n",
    "if l_table == r_table: # self-join\n",
    "    con.execute(\n",
    "        \"create view input as \"\n",
    "        f\"select '{l_table}' as src, {l_key_attr} as rid, {l_join_attr} as val \"\n",
    "        f\"from '{l_table}' \"\n",
    "    )\n",
    "else: # generic join\n",
    "    con.execute(\n",
    "        \"create view input as \"\n",
    "        f\"select '{l_table}' as src, {l_key_attr} as rid, {l_join_attr} as val \"\n",
    "        f\"from '{l_table}' \"\n",
    "        \"union \"\n",
    "        f\"select '{r_table}' as src, {r_key_attr} as rid, {r_join_attr} as val \"\n",
    "        f\"from '{r_table}' \"\n",
    "    )\n",
    "con.execute(\"select * from input\").fetchall()"
   ],
   "metadata": {
    "collapsed": false,
    "pycharm": {
     "name": "#%%\n"
    }
   }
  },
  {
   "cell_type": "code",
   "execution_count": 169,
   "outputs": [
    {
     "data": {
      "text/plain": "[('srcall', 'S3_0', 25, '##e'),\n ('srcall', 'S3_0', 25, '#em'),\n ('srcall', 'S3_0', 25, 'emm'),\n ('srcall', 'S3_0', 25, 'mme'),\n ('srcall', 'S3_0', 25, 'mer'),\n ('srcall', 'S3_0', 25, 'ers'),\n ('srcall', 'S3_0', 25, 'rso'),\n ('srcall', 'S3_0', 25, 'son'),\n ('srcall', 'S3_0', 25, 'on '),\n ('srcall', 'S3_0', 25, 'n l'),\n ('srcall', 'S3_0', 25, ' lo'),\n ('srcall', 'S3_0', 25, 'loy'),\n ('srcall', 'S3_0', 25, 'oyc'),\n ('srcall', 'S3_0', 25, 'ck '),\n ('srcall', 'S3_0', 25, 'k 1'),\n ('srcall', 'S3_0', 25, ' 19'),\n ('srcall', 'S3_0', 25, '192'),\n ('srcall', 'S3_0', 25, '921'),\n ('srcall', 'S3_0', 25, '211'),\n ('srcall', 'S3_0', 25, '111'),\n ('srcall', 'S3_0', 25, '112'),\n ('srcall', 'S3_0', 25, '129'),\n ('srcall', 'S3_0', 25, '29#'),\n ('srcall', 'S3_1', 27, '##m'),\n ('srcall', 'S3_1', 27, '#mi'),\n ('srcall', 'S3_1', 27, 'mic'),\n ('srcall', 'S3_1', 27, 'ich'),\n ('srcall', 'S3_1', 27, 'che'),\n ('srcall', 'S3_1', 27, 'hel'),\n ('srcall', 'S3_1', 27, 'el '),\n ('srcall', 'S3_1', 27, 'l w'),\n ('srcall', 'S3_1', 27, ' wu'),\n ('srcall', 'S3_1', 27, 'wuc'),\n ('srcall', 'S3_1', 27, 'uch'),\n ('srcall', 'S3_1', 27, 'cha'),\n ('srcall', 'S3_1', 27, 'hat'),\n ('srcall', 'S3_1', 27, 'ats'),\n ('srcall', 'S3_1', 27, 'tsc'),\n ('srcall', 'S3_1', 27, 'sch'),\n ('srcall', 'S3_1', 27, 'ch '),\n ('srcall', 'S3_1', 27, 'h 1'),\n ('srcall', 'S3_1', 27, ' 19'),\n ('srcall', 'S3_1', 27, '191'),\n ('srcall', 'S3_1', 27, '919'),\n ('srcall', 'S3_1', 27, '190'),\n ('srcall', 'S3_1', 27, '901'),\n ('srcall', 'S3_1', 27, '011'),\n ('srcall', 'S3_1', 27, '110'),\n ('srcall', 'S3_1', 27, '10#'),\n ('srcall', 'S3_1', 27, '0##'),\n ('srcall', 'S3_3', 26, '##l'),\n ('srcall', 'S3_3', 26, '#li'),\n ('srcall', 'S3_3', 26, 'lie'),\n ('srcall', 'S3_3', 26, 'ier'),\n ('srcall', 'S3_3', 26, 'ers'),\n ('srcall', 'S3_3', 26, 'rsc'),\n ('srcall', 'S3_3', 26, 'sch'),\n ('srcall', 'S3_3', 26, 'ch '),\n ('srcall', 'S3_3', 26, 'h m'),\n ('srcall', 'S3_3', 26, ' mi'),\n ('srcall', 'S3_3', 26, 'mic'),\n ('srcall', 'S3_3', 26, 'ich'),\n ('srcall', 'S3_3', 26, 'cha'),\n ('srcall', 'S3_3', 26, 'hae'),\n ('srcall', 'S3_3', 26, 'ael'),\n ('srcall', 'S3_3', 26, 'el '),\n ('srcall', 'S3_3', 26, 'l 1'),\n ('srcall', 'S3_3', 26, ' 19'),\n ('srcall', 'S3_3', 26, '193'),\n ('srcall', 'S3_3', 26, '936'),\n ('srcall', 'S3_3', 26, '360'),\n ('srcall', 'S3_3', 26, '608'),\n ('srcall', 'S3_3', 26, '081'),\n ('srcall', 'S3_3', 26, '816'),\n ('srcall', 'S3_3', 26, '16#'),\n ('srcall', 'S3_3', 26, '6##'),\n ('srcall', 'S3_4', 27, '##c'),\n ('srcall', 'S3_4', 27, '#ch'),\n ('srcall', 'S3_4', 27, 'cha'),\n ('srcall', 'S3_4', 27, 'har'),\n ('srcall', 'S3_4', 27, 'arl'),\n ('srcall', 'S3_4', 27, 'rlo'),\n ('srcall', 'S3_4', 27, 'lot'),\n ('srcall', 'S3_4', 27, 'ott'),\n ('srcall', 'S3_4', 27, 'tte'),\n ('srcall', 'S3_4', 27, 'te '),\n ('srcall', 'S3_4', 27, 'e h'),\n ('srcall', 'S3_4', 27, ' hy'),\n ('srcall', 'S3_4', 27, 'hyl'),\n ('srcall', 'S3_4', 27, 'yla'),\n ('srcall', 'S3_4', 27, 'lan'),\n ('srcall', 'S3_4', 27, 'and'),\n ('srcall', 'S3_4', 27, 'nd '),\n ('srcall', 'S3_4', 27, 'd 1'),\n ('srcall', 'S3_4', 27, ' 19'),\n ('srcall', 'S3_4', 27, '194'),\n ('srcall', 'S3_4', 27, '946'),\n ('srcall', 'S3_4', 27, '460'),\n ('srcall', 'S3_4', 27, '604'),\n ('srcall', 'S3_4', 27, '040'),\n ('srcall', 'S3_4', 27, '401'),\n ('srcall', 'S3_4', 27, '01#'),\n ('srcall', 'S3_4', 27, '1##'),\n ('srcall', 'S3_5', 26, '##b'),\n ('srcall', 'S3_5', 26, 'bra'),\n ('srcall', 'S3_5', 26, 'rae'),\n ('srcall', 'S3_5', 26, 'aed'),\n ('srcall', 'S3_5', 26, 'edo'),\n ('srcall', 'S3_5', 26, 'don'),\n ('srcall', 'S3_5', 26, 'on '),\n ('srcall', 'S3_5', 26, 'n s'),\n ('srcall', 'S3_5', 26, ' sc'),\n ('srcall', 'S3_5', 26, 'sch'),\n ('srcall', 'S3_5', 26, 'chu'),\n ('srcall', 'S3_5', 26, 'hue'),\n ('srcall', 'S3_5', 26, 'uet'),\n ('srcall', 'S3_5', 26, 'etz'),\n ('srcall', 'S3_5', 26, 'tz '),\n ('srcall', 'S3_5', 26, 'z 1'),\n ('srcall', 'S3_5', 26, ' 19'),\n ('srcall', 'S3_5', 26, '194'),\n ('srcall', 'S3_5', 26, '944'),\n ('srcall', 'S3_5', 26, '409'),\n ('srcall', 'S3_5', 26, '090'),\n ('srcall', 'S3_5', 26, '909'),\n ('srcall', 'S3_5', 26, '09#'),\n ('srcall', 'S3_6', 24, '##o'),\n ('srcall', 'S3_6', 24, '#ol'),\n ('srcall', 'S3_6', 24, 'oli'),\n ('srcall', 'S3_6', 24, 'liv'),\n ('srcall', 'S3_6', 24, 'ivi'),\n ('srcall', 'S3_6', 24, 'via'),\n ('srcall', 'S3_6', 24, 'ia '),\n ('srcall', 'S3_6', 24, 'a h'),\n ('srcall', 'S3_6', 24, ' ho'),\n ('srcall', 'S3_6', 24, 'hob'),\n ('srcall', 'S3_6', 24, 'obs'),\n ('srcall', 'S3_6', 24, 'bso'),\n ('srcall', 'S3_6', 24, 'son'),\n ('srcall', 'S3_6', 24, 'on '),\n ('srcall', 'S3_6', 24, 'n 1'),\n ('srcall', 'S3_6', 24, ' 19'),\n ('srcall', 'S3_6', 24, '197'),\n ('srcall', 'S3_6', 24, '976'),\n ('srcall', 'S3_6', 24, '760'),\n ('srcall', 'S3_6', 24, '608'),\n ('srcall', 'S3_6', 24, '081'),\n ('srcall', 'S3_6', 24, '812'),\n ('srcall', 'S3_6', 24, '12#'),\n ('srcall', 'S3_6', 24, '2##'),\n ('srcall', 'S3_7', 23, '##j'),\n ('srcall', 'S3_7', 23, '#jo'),\n ('srcall', 'S3_7', 23, 'jos'),\n ('srcall', 'S3_7', 23, 'osh'),\n ('srcall', 'S3_7', 23, 'shu'),\n ('srcall', 'S3_7', 23, 'hua'),\n ('srcall', 'S3_7', 23, 'ua '),\n ('srcall', 'S3_7', 23, 'a g'),\n ('srcall', 'S3_7', 23, ' gr'),\n ('srcall', 'S3_7', 23, 'gre'),\n ('srcall', 'S3_7', 23, 'ree'),\n ('srcall', 'S3_7', 23, 'een'),\n ('srcall', 'S3_7', 23, 'en '),\n ('srcall', 'S3_7', 23, 'n 1'),\n ('srcall', 'S3_7', 23, ' 19'),\n ('srcall', 'S3_7', 23, '197'),\n ('srcall', 'S3_7', 23, '979'),\n ('srcall', 'S3_7', 23, '901'),\n ('srcall', 'S3_7', 23, '011'),\n ('srcall', 'S3_7', 23, '110'),\n ('srcall', 'S3_7', 23, '10#'),\n ('srcall', 'S3_7', 23, '0##'),\n ('srcall', 'S3_8', 23, '##k'),\n ('srcall', 'S3_8', 23, '#ke'),\n ('srcall', 'S3_8', 23, 'kee'),\n ('srcall', 'S3_8', 23, 'eel'),\n ('srcall', 'S3_8', 23, 'ely'),\n ('srcall', 'S3_8', 23, 'ly '),\n ('srcall', 'S3_8', 23, ' cl'),\n ('srcall', 'S3_8', 23, 'cla'),\n ('srcall', 'S3_8', 23, 'lar'),\n ('srcall', 'S3_8', 23, 'ark'),\n ('srcall', 'S3_8', 23, 'rke'),\n ('srcall', 'S3_8', 23, 'ke '),\n ('srcall', 'S3_8', 23, 'e 1'),\n ('srcall', 'S3_8', 23, ' 19'),\n ('srcall', 'S3_8', 23, '190'),\n ('srcall', 'S3_8', 23, '905'),\n ('srcall', 'S3_8', 23, '050'),\n ('srcall', 'S3_8', 23, '504'),\n ('srcall', 'S3_8', 23, '041'),\n ('srcall', 'S3_8', 23, '410'),\n ('srcall', 'S3_8', 23, '10#'),\n ('srcall', 'S3_9', 26, '##j'),\n ('srcall', 'S3_9', 26, '#jo'),\n ('srcall', 'S3_9', 26, 'jos'),\n ('srcall', 'S3_9', 26, 'osh'),\n ('srcall', 'S3_9', 26, 'shu'),\n ('srcall', 'S3_9', 26, 'hua'),\n ('srcall', 'S3_9', 26, 'ua '),\n ('srcall', 'S3_9', 26, 'a m'),\n ('srcall', 'S3_9', 26, ' mo'),\n ('srcall', 'S3_9', 26, 'mor'),\n ('srcall', 'S3_9', 26, 'orr'),\n ('srcall', 'S3_9', 26, 'rri'),\n ('srcall', 'S3_9', 26, 'rio'),\n ('srcall', 'S3_9', 26, 'ios'),\n ('srcall', 'S3_9', 26, 'osn'),\n ('srcall', 'S3_9', 26, 'n 1'),\n ('srcall', 'S3_9', 26, ' 19'),\n ('srcall', 'S3_9', 26, '191'),\n ('srcall', 'S3_9', 26, '910'),\n ('srcall', 'S3_9', 26, '101'),\n ('srcall', 'S3_9', 26, '011'),\n ('srcall', 'S3_9', 26, '112'),\n ('srcall', 'S3_9', 26, '23#'),\n ('srcall', 'S3_9', 26, '3##'),\n ('srcall', 'S3_11', 28, '##g'),\n ('srcall', 'S3_11', 28, '#ge'),\n ('srcall', 'S3_11', 28, 'gen'),\n ('srcall', 'S3_11', 28, 'eno'),\n ('srcall', 'S3_11', 28, 'nov'),\n ('srcall', 'S3_11', 28, 'ove'),\n ('srcall', 'S3_11', 28, 'vef'),\n ('srcall', 'S3_11', 28, 'fa '),\n ('srcall', 'S3_11', 28, 'a h'),\n ('srcall', 'S3_11', 28, ' hy'),\n ('srcall', 'S3_11', 28, 'hyl'),\n ('srcall', 'S3_11', 28, 'yll'),\n ('srcall', 'S3_11', 28, 'lan'),\n ('srcall', 'S3_11', 28, 'and'),\n ('srcall', 'S3_11', 28, 'nde'),\n ('srcall', 'S3_11', 28, 'de '),\n ('srcall', 'S3_11', 28, 'e 1'),\n ('srcall', 'S3_11', 28, ' 19'),\n ('srcall', 'S3_11', 28, '190'),\n ('srcall', 'S3_11', 28, '907'),\n ('srcall', 'S3_11', 28, '071'),\n ('srcall', 'S3_11', 28, '710'),\n ('srcall', 'S3_11', 28, '100'),\n ('srcall', 'S3_11', 28, '008'),\n ('srcall', 'S3_11', 28, '08#'),\n ('srcall', 'S3_11', 28, '8##'),\n ('srcall', 'S1_0', 26, '##j'),\n ('srcall', 'S1_0', 26, '#jo'),\n ('srcall', 'S1_0', 26, 'jos'),\n ('srcall', 'S1_0', 26, 'osh'),\n ('srcall', 'S1_0', 26, 'shu'),\n ('srcall', 'S1_0', 26, 'hua'),\n ('srcall', 'S1_0', 26, 'ua '),\n ('srcall', 'S1_0', 26, 'a m'),\n ('srcall', 'S1_0', 26, ' mo'),\n ('srcall', 'S1_0', 26, 'mor'),\n ('srcall', 'S1_0', 26, 'orr'),\n ('srcall', 'S1_0', 26, 'rri'),\n ('srcall', 'S1_0', 26, 'ris'),\n ('srcall', 'S1_0', 26, 'iso'),\n ('srcall', 'S1_0', 26, 'on '),\n ('srcall', 'S1_0', 26, 'n 1'),\n ('srcall', 'S1_0', 26, '191'),\n ('srcall', 'S1_0', 26, '910'),\n ('srcall', 'S1_0', 26, '011'),\n ('srcall', 'S1_0', 26, '112'),\n ('srcall', 'S1_0', 26, '123'),\n ('srcall', 'S1_0', 26, '23#'),\n ('srcall', 'S1_0', 26, '3##'),\n ('srcall', 'S1_1', 23, '##j'),\n ('srcall', 'S1_1', 23, 'jor'),\n ('srcall', 'S1_1', 23, 'ord'),\n ('srcall', 'S1_1', 23, 'rda'),\n ('srcall', 'S1_1', 23, 'dan'),\n ('srcall', 'S1_1', 23, 'an '),\n ('srcall', 'S1_1', 23, 'n w'),\n ('srcall', 'S1_1', 23, ' wh'),\n ('srcall', 'S1_1', 23, 'whi'),\n ('srcall', 'S1_1', 23, 'hit'),\n ('srcall', 'S1_1', 23, 'ite'),\n ('srcall', 'S1_1', 23, 'te '),\n ('srcall', 'S1_1', 23, 'e 1'),\n ('srcall', 'S1_1', 23, ' 19'),\n ('srcall', 'S1_1', 23, '193'),\n ('srcall', 'S1_1', 23, '937'),\n ('srcall', 'S1_1', 23, '371'),\n ('srcall', 'S1_1', 23, '711'),\n ('srcall', 'S1_1', 23, '126'),\n ('srcall', 'S1_1', 23, '26#'),\n ('srcall', 'S1_1', 23, '6##'),\n ('srcall', 'S1_2', 24, '##e'),\n ('srcall', 'S1_2', 24, 'emm'),\n ('srcall', 'S1_2', 24, 'mme'),\n ('srcall', 'S1_2', 24, 'mer'),\n ('srcall', 'S1_2', 24, 'ers'),\n ('srcall', 'S1_2', 24, 'rso'),\n ('srcall', 'S1_2', 24, 'son'),\n ('srcall', 'S1_2', 24, 'on '),\n ('srcall', 'S1_2', 24, 'n l'),\n ('srcall', 'S1_2', 24, ' lo'),\n ('srcall', 'S1_2', 24, 'loc'),\n ('srcall', 'S1_2', 24, 'ock'),\n ('srcall', 'S1_2', 24, 'ck '),\n ('srcall', 'S1_2', 24, 'k 1'),\n ('srcall', 'S1_2', 24, ' 19'),\n ('srcall', 'S1_2', 24, '192'),\n ('srcall', 'S1_2', 24, '921'),\n ('srcall', 'S1_2', 24, '211'),\n ('srcall', 'S1_2', 24, '111'),\n ('srcall', 'S1_2', 24, '112'),\n ('srcall', 'S1_2', 24, '129'),\n ('srcall', 'S1_2', 24, '29#'),\n ('srcall', 'S1_3', 28, '##a'),\n ('srcall', 'S1_3', 28, '#al'),\n ('srcall', 'S1_3', 28, 'ale'),\n ('srcall', 'S1_3', 28, 'lex'),\n ('srcall', 'S1_3', 28, 'and'),\n ('srcall', 'S1_3', 28, 'ndr'),\n ('srcall', 'S1_3', 28, 'dra'),\n ('srcall', 'S1_3', 28, 'ra '),\n ('srcall', 'S1_3', 28, 'a g'),\n ('srcall', 'S1_3', 28, ' gr'),\n ('srcall', 'S1_3', 28, 'gro'),\n ('srcall', 'S1_3', 28, 'oss'),\n ('srcall', 'S1_3', 28, 'ser'),\n ('srcall', 'S1_3', 28, 'er '),\n ('srcall', 'S1_3', 28, 'r 1'),\n ('srcall', 'S1_3', 28, ' 19'),\n ('srcall', 'S1_3', 28, '197'),\n ('srcall', 'S1_3', 28, '972'),\n ('srcall', 'S1_3', 28, '720'),\n ('srcall', 'S1_3', 28, '203'),\n ('srcall', 'S1_3', 28, '030'),\n ('srcall', 'S1_3', 28, '305'),\n ('srcall', 'S1_3', 28, '05#'),\n ('srcall', 'S1_3', 28, '5##'),\n ('srcall', 'S1_4', 28, '#mi'),\n ('srcall', 'S1_4', 28, 'mic'),\n ('srcall', 'S1_4', 28, 'ich'),\n ('srcall', 'S1_4', 28, 'cha'),\n ('srcall', 'S1_4', 28, 'hae'),\n ('srcall', 'S1_4', 28, 'ael'),\n ('srcall', 'S1_4', 28, 'el '),\n ('srcall', 'S1_4', 28, 'l w'),\n ('srcall', 'S1_4', 28, ' wu'),\n ('srcall', 'S1_4', 28, 'wuc'),\n ('srcall', 'S1_4', 28, 'uch'),\n ('srcall', 'S1_4', 28, 'hat'),\n ('srcall', 'S1_4', 28, 'ats'),\n ('srcall', 'S1_4', 28, 'tsc'),\n ('srcall', 'S1_4', 28, 'sch'),\n ('srcall', 'S1_4', 28, 'ch '),\n ('srcall', 'S1_4', 28, 'h 1'),\n ('srcall', 'S1_4', 28, ' 19'),\n ('srcall', 'S1_4', 28, '191'),\n ('srcall', 'S1_4', 28, '919'),\n ('srcall', 'S1_4', 28, '190'),\n ('srcall', 'S1_4', 28, '901'),\n ('srcall', 'S1_4', 28, '011'),\n ('srcall', 'S1_4', 28, '110'),\n ('srcall', 'S1_4', 28, '10#'),\n ('srcall', 'S1_4', 28, '0##'),\n ('srcall', 'S1_5', 25, '##e'),\n ('srcall', 'S1_5', 25, '#em'),\n ('srcall', 'S1_5', 25, 'emm'),\n ('srcall', 'S1_5', 25, 'mme'),\n ('srcall', 'S1_5', 25, 'mer'),\n ('srcall', 'S1_5', 25, 'ers'),\n ('srcall', 'S1_5', 25, 'rso'),\n ('srcall', 'S1_5', 25, 'son'),\n ('srcall', 'S1_5', 25, 'on '),\n ('srcall', 'S1_5', 25, 'n l'),\n ('srcall', 'S1_5', 25, ' lo'),\n ('srcall', 'S1_5', 25, 'loy'),\n ('srcall', 'S1_5', 25, 'oyc'),\n ('srcall', 'S1_5', 25, 'ck '),\n ('srcall', 'S1_5', 25, 'k 1'),\n ('srcall', 'S1_5', 25, ' 19'),\n ('srcall', 'S1_5', 25, '192'),\n ('srcall', 'S1_5', 25, '921'),\n ('srcall', 'S1_5', 25, '211'),\n ('srcall', 'S1_5', 25, '111'),\n ('srcall', 'S1_5', 25, '112'),\n ('srcall', 'S1_5', 25, '129'),\n ('srcall', 'S1_5', 25, '29#'),\n ('srcall', 'S1_6', 23, '##r'),\n ('srcall', 'S1_6', 23, '#rh'),\n ('srcall', 'S1_6', 23, 'rhy'),\n ('srcall', 'S1_6', 23, 'hys'),\n ('srcall', 'S1_6', 23, 'ys '),\n ('srcall', 'S1_6', 23, 's s'),\n ('srcall', 'S1_6', 23, ' sc'),\n ('srcall', 'S1_6', 23, 'sch'),\n ('srcall', 'S1_6', 23, 'chu'),\n ('srcall', 'S1_6', 23, 'hue'),\n ('srcall', 'S1_6', 23, 'uet'),\n ('srcall', 'S1_6', 23, 'etz'),\n ('srcall', 'S1_6', 23, 'tz '),\n ('srcall', 'S1_6', 23, 'z 1'),\n ('srcall', 'S1_6', 23, ' 19'),\n ('srcall', 'S1_6', 23, '194'),\n ('srcall', 'S1_6', 23, '944'),\n ('srcall', 'S1_6', 23, '440'),\n ('srcall', 'S1_6', 23, '409'),\n ('srcall', 'S1_6', 23, '090'),\n ('srcall', 'S1_6', 23, '09#'),\n ('srcall', 'S1_7', 24, '##j'),\n ('srcall', 'S1_7', 24, '#jo'),\n ('srcall', 'S1_7', 24, 'jos'),\n ('srcall', 'S1_7', 24, 'osh'),\n ('srcall', 'S1_7', 24, 'shu'),\n ('srcall', 'S1_7', 24, 'hua'),\n ('srcall', 'S1_7', 24, 'ua '),\n ('srcall', 'S1_7', 24, 'a g'),\n ('srcall', 'S1_7', 24, ' gr'),\n ('srcall', 'S1_7', 24, 'gre'),\n ('srcall', 'S1_7', 24, 'ree'),\n ('srcall', 'S1_7', 24, 'een'),\n ('srcall', 'S1_7', 24, 'enj'),\n ('srcall', 'S1_7', 24, 'nj '),\n ('srcall', 'S1_7', 24, 'j 1'),\n ('srcall', 'S1_7', 24, ' 19'),\n ('srcall', 'S1_7', 24, '197'),\n ('srcall', 'S1_7', 24, '979'),\n ('srcall', 'S1_7', 24, '790'),\n ('srcall', 'S1_7', 24, '901'),\n ('srcall', 'S1_7', 24, '011'),\n ('srcall', 'S1_7', 24, '110'),\n ('srcall', 'S1_7', 24, '10#'),\n ('srcall', 'S1_8', 24, '#ol'),\n ('srcall', 'S1_8', 24, 'liv'),\n ('srcall', 'S1_8', 24, 'ivi'),\n ('srcall', 'S1_8', 24, 'via'),\n ('srcall', 'S1_8', 24, 'ia '),\n ('srcall', 'S1_8', 24, 'a h'),\n ('srcall', 'S1_8', 24, ' ho'),\n ('srcall', 'S1_8', 24, 'hob'),\n ('srcall', 'S1_8', 24, 'obs'),\n ('srcall', 'S1_8', 24, 'bso'),\n ('srcall', 'S1_8', 24, 'son'),\n ('srcall', 'S1_8', 24, 'on '),\n ('srcall', 'S1_8', 24, 'n 1'),\n ('srcall', 'S1_8', 24, '197'),\n ('srcall', 'S1_8', 24, '976'),\n ('srcall', 'S1_8', 24, '608'),\n ('srcall', 'S1_8', 24, '12#'),\n ('srcall', 'S1_8', 24, '2##'),\n ('srcall', 'S1_8', 24, ' 19'),\n ('srcall', 'S1_9', 26, '#mi'),\n ('srcall', 'S1_9', 26, 'mic'),\n ('srcall', 'S1_9', 26, 'cha'),\n ('srcall', 'S1_9', 26, 'hae'),\n ('srcall', 'S1_9', 26, 'ael'),\n ('srcall', 'S1_9', 26, 'el '),\n ('srcall', 'S1_9', 26, ' li'),\n ('srcall', 'S1_9', 26, 'lie'),\n ('srcall', 'S1_9', 26, 'era'),\n ('srcall', 'S1_9', 26, 'rac'),\n ('srcall', 'S1_9', 26, 'ach'),\n ('srcall', 'S1_9', 26, 'ch '),\n ('srcall', 'S1_9', 26, 'h 1'),\n ('srcall', 'S1_9', 26, ' 19'),\n ('srcall', 'S1_9', 26, '193'),\n ('srcall', 'S1_9', 26, '936'),\n ('srcall', 'S1_9', 26, '360'),\n ('srcall', 'S1_9', 26, '608'),\n ('srcall', 'S1_9', 26, '081'),\n ('srcall', 'S1_9', 26, '6##'),\n ('srcall', 'S1_9', 26, '##m'),\n ('srcall', 'S1_10', 28, '##e'),\n ('srcall', 'S1_10', 28, '#el'),\n ('srcall', 'S1_10', 28, 'eli'),\n ('srcall', 'S1_10', 28, 'lis'),\n ('srcall', 'S1_10', 28, 'isa'),\n ('srcall', 'S1_10', 28, 'sab'),\n ('srcall', 'S1_10', 28, 'abe'),\n ('srcall', 'S1_10', 28, 'bet'),\n ('srcall', 'S1_10', 28, 'ett'),\n ('srcall', 'S1_10', 28, ' do'),\n ('srcall', 'S1_10', 28, 'dom'),\n ('srcall', 'S1_10', 28, 'omi'),\n ('srcall', 'S1_10', 28, 'ten'),\n ('srcall', 'S1_10', 28, 'en '),\n ('srcall', 'S1_10', 28, ' 19'),\n ('srcall', 'S1_10', 28, '190'),\n ('srcall', 'S1_10', 28, '908'),\n ('srcall', 'S1_10', 28, '081'),\n ('srcall', 'S1_10', 28, '810'),\n ('srcall', 'S1_10', 28, '100'),\n ('srcall', 'S1_10', 28, '008'),\n ('srcall', 'S1_10', 28, '08#'),\n ('srcall', 'S1_10', 28, '8##'),\n ('srcall', 'S1_10', 28, 'mit'),\n ('srcall', 'S1_11', 29, '##g'),\n ('srcall', 'S1_11', 29, '#ge'),\n ('srcall', 'S1_11', 29, 'gen'),\n ('srcall', 'S1_11', 29, 'eno'),\n ('srcall', 'S1_11', 29, 'nov'),\n ('srcall', 'S1_11', 29, 'vef'),\n ('srcall', 'S1_11', 29, 'ffa'),\n ('srcall', 'S1_11', 29, 'fa '),\n ('srcall', 'S1_11', 29, 'a h'),\n ('srcall', 'S1_11', 29, ' hy'),\n ('srcall', 'S1_11', 29, 'hyl'),\n ('srcall', 'S1_11', 29, 'yla'),\n ('srcall', 'S1_11', 29, 'lan'),\n ('srcall', 'S1_11', 29, 'der'),\n ('srcall', 'S1_11', 29, 'er '),\n ('srcall', 'S1_11', 29, 'r 1'),\n ('srcall', 'S1_11', 29, ' 19'),\n ('srcall', 'S1_11', 29, '190'),\n ('srcall', 'S1_11', 29, '907'),\n ('srcall', 'S1_11', 29, '071'),\n ('srcall', 'S1_11', 29, '710'),\n ('srcall', 'S1_11', 29, '100'),\n ('srcall', 'S1_11', 29, '008'),\n ('srcall', 'S1_11', 29, '08#'),\n ('srcall', 'S1_11', 29, '8##'),\n ('srcall', 'S2_0', 26, '##b'),\n ('srcall', 'S2_0', 26, '#br'),\n ('srcall', 'S2_0', 26, 'bra'),\n ('srcall', 'S2_0', 26, 'rae'),\n ('srcall', 'S2_0', 26, 'aec'),\n ('srcall', 'S2_0', 26, 'eco'),\n ('srcall', 'S2_0', 26, 'on '),\n ('srcall', 'S2_0', 26, 'n s'),\n ('srcall', 'S2_0', 26, ' sc'),\n ('srcall', 'S2_0', 26, 'sch'),\n ('srcall', 'S2_0', 26, 'chu'),\n ('srcall', 'S2_0', 26, 'hue'),\n ('srcall', 'S2_0', 26, 'uet'),\n ('srcall', 'S2_0', 26, ' 19'),\n ('srcall', 'S2_0', 26, '194'),\n ('srcall', 'S2_0', 26, '944'),\n ('srcall', 'S2_0', 26, '409'),\n ('srcall', 'S2_0', 26, '090'),\n ('srcall', 'S2_0', 26, '09#'),\n ('srcall', 'S2_0', 26, 'con'),\n ('srcall', 'S2_1', 30, '##a'),\n ('srcall', 'S2_1', 30, '#al'),\n ('srcall', 'S2_1', 30, 'ale'),\n ('srcall', 'S2_1', 30, 'exa'),\n ('srcall', 'S2_1', 30, 'and'),\n ('srcall', 'S2_1', 30, 'ndr'),\n ('srcall', 'S2_1', 30, 'dra'),\n ('srcall', 'S2_1', 30, 'ra '),\n ('srcall', 'S2_1', 30, ' gr'),\n ('srcall', 'S2_1', 30, 'gro'),\n ('srcall', 'S2_1', 30, 'ros'),\n ('srcall', 'S2_1', 30, 'osv'),\n ('srcall', 'S2_1', 30, 'sve'),\n ('srcall', 'S2_1', 30, 'ven'),\n ('srcall', 'S2_1', 30, 'eno'),\n ('srcall', 'S2_1', 30, 'nor'),\n ('srcall', 'S2_1', 30, 'or '),\n ('srcall', 'S2_1', 30, 'r 1'),\n ('srcall', 'S2_1', 30, ' 19'),\n ('srcall', 'S2_1', 30, '199'),\n ('srcall', 'S2_1', 30, '993'),\n ('srcall', 'S2_1', 30, '930'),\n ('srcall', 'S2_1', 30, '303'),\n ('srcall', 'S2_1', 30, '030'),\n ('srcall', 'S2_1', 30, '305'),\n ('srcall', 'S2_1', 30, '5##'),\n ('srcall', 'S2_2', 26, '#mi'),\n ('srcall', 'S2_2', 26, 'mic'),\n ('srcall', 'S2_2', 26, 'ich'),\n ('srcall', 'S2_2', 26, 'hae'),\n ('srcall', 'S2_2', 26, 'ael'),\n ('srcall', 'S2_2', 26, 'el '),\n ('srcall', 'S2_2', 26, 'l l'),\n ('srcall', 'S2_2', 26, ' li'),\n ('srcall', 'S2_2', 26, 'lie'),\n ('srcall', 'S2_2', 26, 'ier'),\n ('srcall', 'S2_2', 26, 'ers'),\n ('srcall', 'S2_2', 26, 'rsc'),\n ('srcall', 'S2_2', 26, 'sch'),\n ('srcall', 'S2_2', 26, 'ch '),\n ('srcall', 'S2_2', 26, 'h 1'),\n ('srcall', 'S2_2', 26, '936'),\n ('srcall', 'S2_2', 26, '360'),\n ('srcall', 'S2_2', 26, '081'),\n ('srcall', 'S2_2', 26, '816'),\n ('srcall', 'S2_2', 26, '16#'),\n ('srcall', 'S2_2', 26, '193'),\n ('srcall', 'S2_3', 23, '##e'),\n ('srcall', 'S2_3', 23, 'emm'),\n ('srcall', 'S2_3', 23, 'ero'),\n ('srcall', 'S2_3', 23, 'ron'),\n ('srcall', 'S2_3', 23, 'on '),\n ('srcall', 'S2_3', 23, 'n l'),\n ('srcall', 'S2_3', 23, ' lo'),\n ('srcall', 'S2_3', 23, 'loy'),\n ('srcall', 'S2_3', 23, 'oyk'),\n ('srcall', 'S2_3', 23, ' 19'),\n ('srcall', 'S2_3', 23, '932'),\n ('srcall', 'S2_3', 23, '321'),\n ('srcall', 'S2_3', 23, '211'),\n ('srcall', 'S2_3', 23, '112'),\n ('srcall', 'S2_3', 23, '129'),\n ('srcall', 'S2_3', 23, '29#'),\n ('srcall', 'S2_3', 23, '#em'),\n ('srcall', 'S2_3', 23, 'mme'),\n ('srcall', 'S2_4', 24, '#ol'),\n ('srcall', 'S2_4', 24, 'oli'),\n ('srcall', 'S2_4', 24, 'liv'),\n ('srcall', 'S2_4', 24, 'ivi'),\n ('srcall', 'S2_4', 24, 'via'),\n ('srcall', 'S2_4', 24, 'ia '),\n ('srcall', 'S2_4', 24, 'a h'),\n ('srcall', 'S2_4', 24, ' ho'),\n ('srcall', 'S2_4', 24, 'obs'),\n ('srcall', 'S2_4', 24, 'son'),\n ('srcall', 'S2_4', 24, 'on '),\n ('srcall', 'S2_4', 24, 'n 1'),\n ('srcall', 'S2_4', 24, ' 19'),\n ('srcall', 'S2_4', 24, '976'),\n ('srcall', 'S2_4', 24, '760'),\n ('srcall', 'S2_4', 24, '608'),\n ('srcall', 'S2_4', 24, '081'),\n ('srcall', 'S2_4', 24, '812'),\n ('srcall', 'S2_4', 24, '12#'),\n ('srcall', 'S2_4', 24, 'hob'),\n ('srcall', 'S2_5', 23, '##j'),\n ('srcall', 'S2_5', 23, '#jo'),\n ('srcall', 'S2_5', 23, 'osh'),\n ('srcall', 'S2_5', 23, 'shu'),\n ('srcall', 'S2_5', 23, 'hua'),\n ('srcall', 'S2_5', 23, 'ua '),\n ('srcall', 'S2_5', 23, 'gre'),\n ('srcall', 'S2_5', 23, 'en '),\n ('srcall', 'S2_5', 23, 'n 1'),\n ('srcall', 'S2_5', 23, ' 19'),\n ('srcall', 'S2_5', 23, '190'),\n ('srcall', 'S2_5', 23, '010'),\n ('srcall', 'S2_5', 23, '102'),\n ('srcall', 'S2_5', 23, '021'),\n ('srcall', 'S2_5', 23, '219'),\n ('srcall', 'S2_5', 23, '19#'),\n ('srcall', 'S2_6', 27, '##c'),\n ('srcall', 'S2_6', 27, '#ch'),\n ('srcall', 'S2_6', 27, 'cha'),\n ('srcall', 'S2_6', 27, 'har'),\n ('srcall', 'S2_6', 27, 'rlo'),\n ('srcall', 'S2_6', 27, 'lot'),\n ('srcall', 'S2_6', 27, 'ott'),\n ('srcall', 'S2_6', 27, 'tte'),\n ('srcall', 'S2_6', 27, 'te '),\n ('srcall', 'S2_6', 27, 'e h'),\n ('srcall', 'S2_6', 27, ' hy'),\n ('srcall', 'S2_6', 27, 'hyl'),\n ('srcall', 'S2_6', 27, 'and'),\n ('srcall', 'S2_6', 27, 'nd '),\n ('srcall', 'S2_6', 27, '193'),\n ('srcall', 'S2_6', 27, '934'),\n ('srcall', 'S2_6', 27, '340'),\n ('srcall', 'S2_6', 27, '409'),\n ('srcall', 'S2_6', 27, '090'),\n ('srcall', 'S2_6', 27, '909'),\n ('srcall', 'S2_6', 27, '09#'),\n ('srcall', 'S2_7', 29, '##e'),\n ('srcall', 'S2_7', 29, '#el'),\n ('srcall', 'S2_7', 29, 'eli'),\n ('srcall', 'S2_7', 29, 'isa'),\n ('srcall', 'S2_7', 29, 'sab'),\n ('srcall', 'S2_7', 29, 'abe'),\n ('srcall', 'S2_7', 29, ' do'),\n ('srcall', 'S2_7', 29, 'dom'),\n ('srcall', 'S2_7', 29, 'omi'),\n ('srcall', 'S2_7', 29, 'mit'),\n ('srcall', 'S2_7', 29, 'iti'),\n ('srcall', 'S2_7', 29, 'tie'),\n ('srcall', 'S2_7', 29, 'ien'),\n ('srcall', 'S2_7', 29, 'enn'),\n ('srcall', 'S2_7', 29, 'nn '),\n ('srcall', 'S2_7', 29, 'n 1'),\n ('srcall', 'S2_7', 29, ' 19'),\n ('srcall', 'S2_7', 29, '907'),\n ('srcall', 'S2_7', 29, '071'),\n ('srcall', 'S2_7', 29, '710'),\n ('srcall', 'S2_7', 29, '100'),\n ('srcall', 'S2_7', 29, '008'),\n ('srcall', 'S2_7', 29, '08#'),\n ('srcall', 'S2_7', 29, '8##'),\n ('srcall', 'S3_0', 25, 'yck'),\n ('srcall', 'S3_0', 25, '9##'),\n ('srcall', 'S3_5', 26, '#br'),\n ('srcall', 'S3_5', 26, '9##'),\n ('srcall', 'S3_7', 23, '790'),\n ('srcall', 'S3_9', 26, 'sn '),\n ('srcall', 'S3_9', 26, '123'),\n ('srcall', 'S3_11', 28, 'efa'),\n ('srcall', 'S3_11', 28, 'lla'),\n ('srcall', 'S1_0', 26, 'son'),\n ('srcall', 'S1_0', 26, ' 19'),\n ('srcall', 'S1_0', 26, '101'),\n ('srcall', 'S1_1', 23, '112'),\n ('srcall', 'S1_2', 24, '#em'),\n ('srcall', 'S1_2', 24, '9##'),\n ('srcall', 'S1_3', 28, 'exa'),\n ('srcall', 'S1_3', 28, 'xan'),\n ('srcall', 'S1_3', 28, 'ros'),\n ('srcall', 'S1_4', 28, '##m'),\n ('srcall', 'S1_5', 25, 'yck'),\n ('srcall', 'S1_5', 25, '9##'),\n ('srcall', 'S1_6', 23, '909'),\n ('srcall', 'S1_6', 23, '9##'),\n ('srcall', 'S1_8', 24, '##o'),\n ('srcall', 'S1_8', 24, '760'),\n ('srcall', 'S1_8', 24, '081'),\n ('srcall', 'S1_8', 24, '812'),\n ('srcall', 'S1_9', 26, 'l l'),\n ('srcall', 'S1_9', 26, 'ier'),\n ('srcall', 'S1_9', 26, '816'),\n ('srcall', 'S1_9', 26, '16#'),\n ('srcall', 'S1_10', 28, 'tt '),\n ('srcall', 'S1_10', 28, 'n 1'),\n ('srcall', 'S1_11', 29, 'ove'),\n ('srcall', 'S1_11', 29, 'eff'),\n ('srcall', 'S1_11', 29, 'nde'),\n ('srcall', 'S2_0', 26, 'etz'),\n ('srcall', 'S2_0', 26, 'tz '),\n ('srcall', 'S2_0', 26, 'z 1'),\n ('srcall', 'S2_0', 26, '909'),\n ('srcall', 'S2_0', 26, '9##'),\n ('srcall', 'S2_1', 30, 'lex'),\n ('srcall', 'S2_1', 30, 'xan'),\n ('srcall', 'S2_1', 30, '05#'),\n ('srcall', 'S2_2', 26, '##m'),\n ('srcall', 'S2_2', 26, ' 19'),\n ('srcall', 'S2_2', 26, '608'),\n ('srcall', 'S2_3', 23, 'mer'),\n ('srcall', 'S2_3', 23, 'yk '),\n ('srcall', 'S2_3', 23, 'k 1'),\n ('srcall', 'S2_3', 23, '193'),\n ('srcall', 'S2_3', 23, '9##'),\n ('srcall', 'S2_4', 24, '##o'),\n ('srcall', 'S2_4', 24, 'bso'),\n ('srcall', 'S2_4', 24, '197'),\n ('srcall', 'S2_4', 24, '2##'),\n ('srcall', 'S2_5', 23, 'jos'),\n ('srcall', 'S2_5', 23, ' gr'),\n ('srcall', 'S2_5', 23, 'ree'),\n ('srcall', 'S2_5', 23, 'een'),\n ('srcall', 'S2_5', 23, '901'),\n ('srcall', 'S2_5', 23, '9##'),\n ('srcall', 'S2_6', 27, 'arl'),\n ('srcall', 'S2_6', 27, 'lan'),\n ('srcall', 'S2_6', 27, 'd 1'),\n ('srcall', 'S2_7', 29, 'lis'),\n ('srcall', 'S2_7', 29, 'et '),\n ('srcall', 'S3_5', 26, '440'),\n ('srcall', 'S3_8', 23, '0##'),\n ('srcall', 'S1_1', 23, '#jo'),\n ('srcall', 'S1_3', 28, 'sse'),\n ('srcall', 'S1_8', 24, 'oli'),\n ('srcall', 'S1_9', 26, 'ich'),\n ('srcall', 'S1_10', 28, 'ite'),\n ('srcall', 'S1_10', 28, 't d'),\n ('srcall', 'S1_11', 29, 'and'),\n ('srcall', 'S2_0', 26, '440'),\n ('srcall', 'S2_1', 30, 'a g'),\n ('srcall', 'S2_2', 26, 'cha'),\n ('srcall', 'S2_2', 26, '6##'),\n ('srcall', 'S2_5', 23, 'a g'),\n ('srcall', 'S2_6', 27, ' 19'),\n ('srcall', 'S2_7', 29, 't d'),\n ('srcall', 'S2_7', 29, '190'),\n ('srcall', 'S3_8', 23, 'y c'),\n ('srcall', 'S1_7', 24, '0##'),\n ('srcall', 'S2_6', 27, 'yla'),\n ('srcall', 'S2_7', 29, 'bet'),\n ('srcall', 'S2_6', 27, '9##')]"
     },
     "execution_count": 169,
     "metadata": {},
     "output_type": "execute_result"
    }
   ],
   "source": [
    "# Works for both self-join and generic join\n",
    "con.execute(\"drop view if exists tokens\").execute(\n",
    "    \"create view tokens as \" + tokzr_query\n",
    ").execute(\"select * from tokens\").fetchall()"
   ],
   "metadata": {
    "collapsed": false,
    "pycharm": {
     "name": "#%%\n"
    }
   }
  },
  {
   "cell_type": "code",
   "execution_count": 170,
   "outputs": [],
   "source": [
    "t = threshold # shorter name"
   ],
   "metadata": {
    "collapsed": false,
    "pycharm": {
     "name": "#%%\n"
    }
   }
  },
  {
   "cell_type": "markdown",
   "source": [
    "# Generic join"
   ],
   "metadata": {
    "collapsed": false,
    "pycharm": {
     "name": "#%% md\n"
    }
   }
  },
  {
   "cell_type": "code",
   "execution_count": 159,
   "outputs": [
    {
     "data": {
      "text/plain": "<duckdb.DuckDBPyConnection at 0x180e8390ab0>"
     },
     "execution_count": 159,
     "metadata": {},
     "output_type": "execute_result"
    }
   ],
   "source": [
    "# brute force join, to get the gold standard\n",
    "con.execute(\"drop view if exists bfjoin\").execute(\n",
    "    \"create view bfjoin as \"\n",
    "    \"select r1.rid as rid1, r2.rid as rid2, count(*) as overlap \"\n",
    "    \"from tokens as r1, tokens as r2 \"\n",
    "    \"where r1.token = r2.token \"\n",
    "    #\"and r1.rid < r2.rid \"\n",
    "    f\"and r1.src = '{l_table}' and r2.src = '{r_table}' \"\n",
    "    \"group by r1.rid, r1.rlen, r2.rid, r2.rlen \"\n",
    "    f\"having count(*) >= ceil({t} / (1+{t}) * (r1.rlen + r2.rlen))\"\n",
    ")"
   ],
   "metadata": {
    "collapsed": false,
    "pycharm": {
     "name": "#%%\n"
    }
   }
  },
  {
   "cell_type": "code",
   "execution_count": 160,
   "outputs": [
    {
     "data": {
      "text/plain": "[('S1_3', 'S2_1', 20),\n ('S1_5', 'S2_3', 16),\n ('S1_6', 'S2_0', 17),\n ('S1_8', 'S2_4', 24),\n ('S1_9', 'S2_2', 23),\n ('S1_10', 'S2_7', 20)]"
     },
     "execution_count": 160,
     "metadata": {},
     "output_type": "execute_result"
    }
   ],
   "source": [
    "con.execute(\"select * from bfjoin\").fetchall()"
   ],
   "metadata": {
    "collapsed": false,
    "pycharm": {
     "name": "#%%\n"
    }
   }
  },
  {
   "cell_type": "markdown",
   "source": [
    "## Document frequency"
   ],
   "metadata": {
    "collapsed": false,
    "pycharm": {
     "name": "#%% md\n"
    }
   }
  },
  {
   "cell_type": "code",
   "execution_count": 161,
   "outputs": [
    {
     "data": {
      "text/plain": "[('##j', 3, '##j', 1),\n ('#jo', 3, '#jo', 1),\n ('jos', 2, 'jos', 1),\n ('osh', 2, 'osh', 1),\n ('shu', 2, 'shu', 1),\n ('hua', 2, 'hua', 1),\n ('ua ', 2, 'ua ', 1),\n ('son', 4, 'son', 1),\n ('on ', 4, 'on ', 3),\n ('n 1', 3, 'n 1', 3),\n ('te ', 1, 'te ', 1),\n ('193', 2, '193', 3),\n ('6##', 2, '6##', 1),\n ('##e', 3, '##e', 2),\n ('#em', 2, '#em', 1),\n ('emm', 2, 'emm', 1),\n ('mme', 2, 'mme', 1),\n ('ers', 2, 'ers', 1),\n ('n l', 2, 'n l', 1),\n ('k 1', 2, 'k 1', 1),\n ('211', 2, '211', 1),\n ('129', 2, '129', 1),\n ('29#', 2, '29#', 1),\n ('##a', 1, '##a', 1),\n ('ale', 1, 'ale', 1),\n ('exa', 1, 'exa', 1),\n ('xan', 1, 'xan', 1),\n ('ndr', 1, 'ndr', 1),\n ('ra ', 1, 'ra ', 1),\n ('a g', 2, 'a g', 2),\n (' gr', 2, ' gr', 2),\n ('ros', 1, 'ros', 1),\n ('r 1', 2, 'r 1', 1),\n ('197', 3, '197', 1),\n ('030', 1, '030', 1),\n ('05#', 1, '05#', 1),\n ('5##', 1, '5##', 1),\n ('##m', 2, '##m', 1),\n ('#mi', 2, '#mi', 1),\n ('mic', 2, 'mic', 1),\n ('ich', 2, 'ich', 1),\n ('hae', 2, 'hae', 1),\n ('ael', 2, 'ael', 1),\n ('el ', 2, 'el ', 1),\n ('sch', 2, 'sch', 2),\n ('ch ', 2, 'ch ', 1),\n ('h 1', 2, 'h 1', 1),\n ('190', 3, '190', 2),\n ('901', 2, '901', 1),\n ('loy', 1, 'loy', 1),\n (' sc', 1, ' sc', 1),\n ('chu', 1, 'chu', 1),\n ('hue', 1, 'hue', 1),\n ('etz', 1, 'etz', 1),\n ('tz ', 1, 'tz ', 1),\n ('z 1', 1, 'z 1', 1),\n ('194', 1, '194', 1),\n ('944', 1, '944', 1),\n ('440', 1, '440', 1),\n ('409', 1, '409', 2),\n ('090', 1, '090', 2),\n ('909', 1, '909', 2),\n ('09#', 1, '09#', 2),\n ('ree', 1, 'ree', 1),\n ('een', 1, 'een', 1),\n ('##o', 1, '##o', 1),\n ('#ol', 1, '#ol', 1),\n ('oli', 1, 'oli', 1),\n ('liv', 1, 'liv', 1),\n ('ivi', 1, 'ivi', 1),\n ('via', 1, 'via', 1),\n ('ia ', 1, 'ia ', 1),\n ('a h', 2, 'a h', 1),\n (' ho', 1, ' ho', 1),\n ('hob', 1, 'hob', 1),\n ('obs', 1, 'obs', 1),\n ('bso', 1, 'bso', 1),\n ('976', 1, '976', 1),\n ('608', 2, '608', 2),\n ('081', 3, '081', 2),\n ('812', 1, '812', 1),\n ('12#', 1, '12#', 1),\n ('2##', 1, '2##', 1),\n ('cha', 2, 'cha', 2),\n ('l l', 1, 'l l', 1),\n ('lie', 1, 'lie', 1),\n ('ier', 1, 'ier', 1),\n ('936', 1, '936', 1),\n ('360', 1, '360', 1),\n ('816', 1, '816', 1),\n ('16#', 1, '16#', 1),\n ('#el', 1, '#el', 1),\n ('lis', 1, 'lis', 1),\n ('isa', 1, 'isa', 1),\n ('sab', 1, 'sab', 1),\n ('abe', 1, 'abe', 1),\n ('bet', 1, 'bet', 1),\n (' do', 1, ' do', 1),\n ('dom', 1, 'dom', 1),\n ('omi', 1, 'omi', 1),\n ('mit', 1, 'mit', 1),\n ('en ', 1, 'en ', 1),\n ('100', 2, '100', 1),\n ('008', 2, '008', 1),\n ('08#', 2, '08#', 1),\n ('8##', 2, '8##', 1),\n ('eno', 1, 'eno', 1),\n (' hy', 1, ' hy', 1),\n ('hyl', 1, 'hyl', 1),\n ('lan', 1, 'lan', 1),\n ('and', 2, 'and', 2),\n ('907', 1, '907', 1),\n ('710', 1, '710', 1),\n ('eli', 1, 'eli', 1),\n ('t d', 1, 't d', 1),\n ('071', 1, '071', 1),\n ('gre', 1, 'gre', 1),\n ('9##', 3, '9##', 4),\n ('yla', 1, 'yla', 1),\n ('a m', 1, None, None),\n (' mo', 1, None, None),\n ('mor', 1, None, None),\n ('orr', 1, None, None),\n ('rri', 1, None, None),\n ('ris', 1, None, None),\n ('iso', 1, None, None),\n ('191', 2, None, None),\n ('910', 1, None, None),\n ('101', 1, None, None),\n ('011', 3, None, None),\n ('123', 1, None, None),\n ('23#', 1, None, None),\n ('3##', 1, None, None),\n ('jor', 1, None, None),\n ('ord', 1, None, None),\n ('rda', 1, None, None),\n ('dan', 1, None, None),\n ('an ', 1, None, None),\n ('n w', 1, None, None),\n (' wh', 1, None, None),\n ('whi', 1, None, None),\n ('hit', 1, None, None),\n ('ite', 2, None, None),\n ('e 1', 1, None, None),\n ('937', 1, None, None),\n ('371', 1, None, None),\n ('711', 1, None, None),\n ('126', 1, None, None),\n ('26#', 1, None, None),\n ('rso', 2, None, None),\n ('loc', 1, None, None),\n ('ock', 1, None, None),\n ('ck ', 2, None, None),\n ('192', 2, None, None),\n ('921', 2, None, None),\n ('111', 2, None, None),\n ('oss', 1, None, None),\n ('sse', 1, None, None),\n ('ser', 1, None, None),\n ('er ', 2, None, None),\n ('972', 1, None, None),\n ('720', 1, None, None),\n ('203', 1, None, None),\n ('l w', 1, None, None),\n (' wu', 1, None, None),\n ('wuc', 1, None, None),\n ('uch', 1, None, None),\n ('hat', 1, None, None),\n ('ats', 1, None, None),\n ('tsc', 1, None, None),\n ('919', 1, None, None),\n ('110', 2, None, None),\n ('10#', 2, None, None),\n ('0##', 2, None, None),\n ('oyc', 1, None, None),\n ('##r', 1, None, None),\n ('#rh', 1, None, None),\n ('rhy', 1, None, None),\n ('hys', 1, None, None),\n ('ys ', 1, None, None),\n ('s s', 1, None, None),\n ('enj', 1, None, None),\n ('nj ', 1, None, None),\n ('790', 1, None, None),\n ('era', 1, None, None),\n ('ach', 1, None, None),\n ('908', 1, None, None),\n ('810', 1, None, None),\n ('##g', 1, None, None),\n ('#ge', 1, None, None),\n ('gen', 1, None, None),\n ('nov', 1, None, None),\n ('vef', 1, None, None),\n ('eff', 1, None, None),\n ('ffa', 1, None, None),\n ('fa ', 1, None, None),\n ('der', 1, None, None),\n ('979', 1, None, None),\n ('rac', 1, None, None),\n ('ove', 1, None, None),\n ('j 1', 1, None, None),\n ('ett', 1, None, None),\n ('tt ', 1, None, None),\n ('ten', 1, None, None),\n ('yck', 1, None, None),\n ('nde', 1, None, None),\n (' 19', 12, ' 19', 8),\n ('112', 4, '112', 1),\n ('mer', 2, 'mer', 1),\n (' lo', 2, ' lo', 1),\n ('#al', 1, '#al', 1),\n ('lex', 1, 'lex', 1),\n ('dra', 1, 'dra', 1),\n ('305', 1, '305', 1),\n ('uet', 1, 'uet', 1),\n (' li', 1, ' li', 1),\n ('760', 1, '760', 1),\n ('gro', 1, 'gro', 1),\n (None, None, '##b', 1),\n (None, None, '#br', 1),\n (None, None, 'bra', 1),\n (None, None, 'rae', 1),\n (None, None, 'aec', 1),\n (None, None, 'eco', 1),\n (None, None, 'con', 1),\n (None, None, 'n s', 1),\n (None, None, 'osv', 1),\n (None, None, 'sve', 1),\n (None, None, 'ven', 1),\n (None, None, 'nor', 1),\n (None, None, 'or ', 1),\n (None, None, '199', 1),\n (None, None, '993', 1),\n (None, None, '930', 1),\n (None, None, '303', 1),\n (None, None, 'rsc', 1),\n (None, None, 'ero', 1),\n (None, None, 'ron', 1),\n (None, None, 'oyk', 1),\n (None, None, 'yk ', 1),\n (None, None, '932', 1),\n (None, None, '321', 1),\n (None, None, '010', 1),\n (None, None, '102', 1),\n (None, None, '021', 1),\n (None, None, '219', 1),\n (None, None, '19#', 1),\n (None, None, '##c', 1),\n (None, None, '#ch', 1),\n (None, None, 'har', 1),\n (None, None, 'arl', 1),\n (None, None, 'rlo', 1),\n (None, None, 'ott', 1),\n (None, None, 'tte', 1),\n (None, None, 'e h', 1),\n (None, None, 'nd ', 1),\n (None, None, 'd 1', 1),\n (None, None, '934', 1),\n (None, None, '340', 1),\n (None, None, 'et ', 1),\n (None, None, 'iti', 1),\n (None, None, 'tie', 1),\n (None, None, 'ien', 1),\n (None, None, 'enn', 1),\n (None, None, 'nn ', 1),\n (None, None, 'lot', 1)]"
     },
     "execution_count": 161,
     "metadata": {},
     "output_type": "execute_result"
    }
   ],
   "source": [
    "con.execute(\"drop view if exists full_outer_df\").execute(\n",
    "    \"create view full_outer_df as \"\n",
    "    \"select s1.token as tk1, s1.df as df1, s2.token as tk2, s2.df as df2 \"\n",
    "    \"from (\"\n",
    "    \"SELECT token, count(*) AS df \"\n",
    "    \"FROM tokens \"\n",
    "    f\"where src = '{l_table}' \"\n",
    "    \"GROUP BY token \"\n",
    "    \") as s1 \"\n",
    "    \"full outer join (\"\n",
    "    \"SELECT token, count(*) AS df \"\n",
    "    \"FROM tokens \"\n",
    "    f\"where src = '{r_table}' \"\n",
    "    \"GROUP BY token \"\n",
    "    \") as s2 \"\n",
    "    \"on s1.token = s2.token\"\n",
    ").execute(\"select * from full_outer_df\").fetchall()"
   ],
   "metadata": {
    "collapsed": false,
    "pycharm": {
     "name": "#%%\n"
    }
   }
  },
  {
   "cell_type": "code",
   "execution_count": 162,
   "outputs": [
    {
     "data": {
      "text/plain": "[('##j', 3),\n ('#jo', 3),\n ('jos', 2),\n ('osh', 2),\n ('shu', 2),\n ('hua', 2),\n ('ua ', 2),\n ('son', 4),\n ('on ', 12),\n ('n 1', 9),\n ('te ', 1),\n ('193', 6),\n ('6##', 2),\n ('##e', 6),\n ('#em', 2),\n ('emm', 2),\n ('mme', 2),\n ('ers', 2),\n ('n l', 2),\n ('k 1', 2),\n ('211', 2),\n ('129', 2),\n ('29#', 2),\n ('##a', 1),\n ('ale', 1),\n ('exa', 1),\n ('xan', 1),\n ('ndr', 1),\n ('ra ', 1),\n ('a g', 4),\n (' gr', 4),\n ('ros', 1),\n ('r 1', 2),\n ('197', 3),\n ('030', 1),\n ('05#', 1),\n ('5##', 1),\n ('##m', 2),\n ('#mi', 2),\n ('mic', 2),\n ('ich', 2),\n ('hae', 2),\n ('ael', 2),\n ('el ', 2),\n ('sch', 4),\n ('ch ', 2),\n ('h 1', 2),\n ('190', 6),\n ('901', 2),\n ('loy', 1),\n (' sc', 1),\n ('chu', 1),\n ('hue', 1),\n ('etz', 1),\n ('tz ', 1),\n ('z 1', 1),\n ('194', 1),\n ('944', 1),\n ('440', 1),\n ('409', 2),\n ('090', 2),\n ('909', 2),\n ('09#', 2),\n ('ree', 1),\n ('een', 1),\n ('##o', 1),\n ('#ol', 1),\n ('oli', 1),\n ('liv', 1),\n ('ivi', 1),\n ('via', 1),\n ('ia ', 1),\n ('a h', 2),\n (' ho', 1),\n ('hob', 1),\n ('obs', 1),\n ('bso', 1),\n ('976', 1),\n ('608', 4),\n ('081', 6),\n ('812', 1),\n ('12#', 1),\n ('2##', 1),\n ('cha', 4),\n ('l l', 1),\n ('lie', 1),\n ('ier', 1),\n ('936', 1),\n ('360', 1),\n ('816', 1),\n ('16#', 1),\n ('#el', 1),\n ('lis', 1),\n ('isa', 1),\n ('sab', 1),\n ('abe', 1),\n ('bet', 1),\n (' do', 1),\n ('dom', 1),\n ('omi', 1),\n ('mit', 1),\n ('en ', 1),\n ('100', 2),\n ('008', 2),\n ('08#', 2),\n ('8##', 2),\n ('eno', 1),\n (' hy', 1),\n ('hyl', 1),\n ('lan', 1),\n ('and', 4),\n ('907', 1),\n ('710', 1),\n ('eli', 1),\n ('t d', 1),\n ('071', 1),\n ('gre', 1),\n ('9##', 12),\n ('yla', 1),\n (' 19', 96),\n ('112', 4),\n ('mer', 2),\n (' lo', 2),\n ('#al', 1),\n ('lex', 1),\n ('dra', 1),\n ('305', 1),\n ('uet', 1),\n (' li', 1),\n ('760', 1),\n ('gro', 1)]"
     },
     "execution_count": 162,
     "metadata": {},
     "output_type": "execute_result"
    }
   ],
   "source": [
    "con.execute(\"drop view if exists df\").execute(\n",
    "    \"create view df as \"\n",
    "    \"select tk1 as token, df1 * df2 as df \"\n",
    "    \"from full_outer_df \"\n",
    "    \"where tk1 is not null \"\n",
    "    \"and tk2 is not null\"\n",
    ").execute(\"select * from df\").fetchall()"
   ],
   "metadata": {
    "collapsed": false,
    "pycharm": {
     "name": "#%%\n"
    }
   }
  },
  {
   "cell_type": "code",
   "execution_count": 163,
   "outputs": [
    {
     "data": {
      "text/plain": "('src1', 'src2')"
     },
     "execution_count": 163,
     "metadata": {},
     "output_type": "execute_result"
    }
   ],
   "source": [
    "widows1 = con.execute(\n",
    "    \"select count(*) \"\n",
    "    \"from full_outer_df \"\n",
    "    \"where tk2 is null\"\n",
    ").fetchall()[0][0]\n",
    "\n",
    "widows2 = con.execute(\n",
    "    \"select count(*) \"\n",
    "    \"from full_outer_df \"\n",
    "    \"where tk1 is null\"\n",
    ").fetchall()[0][0]\n",
    "\n",
    "R, S = (l_table, r_table) if widows1 > widows2 else (r_table, l_table)\n",
    "R, S"
   ],
   "metadata": {
    "collapsed": false,
    "pycharm": {
     "name": "#%%\n"
    }
   }
  },
  {
   "cell_type": "code",
   "execution_count": 164,
   "outputs": [
    {
     "data": {
      "text/plain": "[('src1', 'S1_0', 26, 'hua', 1),\n ('src1', 'S1_0', 26, 'jos', 2),\n ('src1', 'S1_0', 26, 'osh', 3),\n ('src1', 'S1_0', 26, 'shu', 4),\n ('src1', 'S1_0', 26, 'ua ', 5),\n ('src1', 'S1_0', 26, '##j', 6),\n ('src1', 'S1_0', 26, '#jo', 7),\n ('src1', 'S1_0', 26, '112', 8),\n ('src1', 'S1_0', 26, 'son', 9),\n ('src1', 'S1_0', 26, 'n 1', 10),\n ('src1', 'S1_0', 26, 'on ', 11),\n ('src1', 'S1_0', 26, ' 19', 12),\n ('src1', 'S1_1', 23, 'te ', 1),\n ('src1', 'S1_1', 23, '6##', 2),\n ('src1', 'S1_1', 23, '##j', 3),\n ('src1', 'S1_1', 23, '#jo', 4),\n ('src1', 'S1_1', 23, '112', 5),\n ('src1', 'S1_1', 23, '193', 6),\n ('src1', 'S1_1', 23, ' 19', 7),\n ('src1', 'S1_10', 28, ' do', 1),\n ('src1', 'S1_10', 28, '#el', 2),\n ('src1', 'S1_10', 28, 'abe', 3),\n ('src1', 'S1_10', 28, 'bet', 4),\n ('src1', 'S1_10', 28, 'dom', 5),\n ('src1', 'S1_10', 28, 'eli', 6),\n ('src1', 'S1_10', 28, 'en ', 7),\n ('src1', 'S1_10', 28, 'isa', 8),\n ('src1', 'S1_10', 28, 'lis', 9),\n ('src1', 'S1_10', 28, 'mit', 10),\n ('src1', 'S1_10', 28, 'omi', 11),\n ('src1', 'S1_10', 28, 'sab', 12),\n ('src1', 'S1_10', 28, 't d', 13),\n ('src1', 'S1_10', 28, '008', 14),\n ('src1', 'S1_10', 28, '08#', 15),\n ('src1', 'S1_10', 28, '100', 16),\n ('src1', 'S1_10', 28, '8##', 17),\n ('src1', 'S1_10', 28, '##e', 18),\n ('src1', 'S1_10', 28, '081', 19),\n ('src1', 'S1_10', 28, '190', 20),\n ('src1', 'S1_10', 28, 'n 1', 21),\n ('src1', 'S1_10', 28, ' 19', 22),\n ('src1', 'S1_11', 29, ' hy', 1),\n ('src1', 'S1_11', 29, '071', 2),\n ('src1', 'S1_11', 29, '710', 3),\n ('src1', 'S1_11', 29, '907', 4),\n ('src1', 'S1_11', 29, 'eno', 5),\n ('src1', 'S1_11', 29, 'hyl', 6),\n ('src1', 'S1_11', 29, 'lan', 7),\n ('src1', 'S1_11', 29, 'yla', 8),\n ('src1', 'S1_11', 29, '008', 9),\n ('src1', 'S1_11', 29, '08#', 10),\n ('src1', 'S1_11', 29, '100', 11),\n ('src1', 'S1_11', 29, '8##', 12),\n ('src1', 'S1_11', 29, 'a h', 13),\n ('src1', 'S1_11', 29, 'r 1', 14),\n ('src1', 'S1_11', 29, 'and', 15),\n ('src1', 'S1_11', 29, '190', 16),\n ('src1', 'S1_11', 29, ' 19', 17),\n ('src1', 'S1_2', 24, ' lo', 1),\n ('src1', 'S1_2', 24, '#em', 2),\n ('src1', 'S1_2', 24, '129', 3),\n ('src1', 'S1_2', 24, '211', 4),\n ('src1', 'S1_2', 24, '29#', 5),\n ('src1', 'S1_2', 24, 'emm', 6),\n ('src1', 'S1_2', 24, 'ers', 7),\n ('src1', 'S1_2', 24, 'k 1', 8),\n ('src1', 'S1_2', 24, 'mer', 9),\n ('src1', 'S1_2', 24, 'mme', 10),\n ('src1', 'S1_2', 24, 'n l', 11),\n ('src1', 'S1_2', 24, '112', 12),\n ('src1', 'S1_2', 24, 'son', 13),\n ('src1', 'S1_2', 24, '##e', 14),\n ('src1', 'S1_2', 24, '9##', 15),\n ('src1', 'S1_2', 24, 'on ', 16),\n ('src1', 'S1_2', 24, ' 19', 17),\n ('src1', 'S1_3', 28, '##a', 1),\n ('src1', 'S1_3', 28, '#al', 2),\n ('src1', 'S1_3', 28, '030', 3),\n ('src1', 'S1_3', 28, '05#', 4),\n ('src1', 'S1_3', 28, '305', 5),\n ('src1', 'S1_3', 28, '5##', 6),\n ('src1', 'S1_3', 28, 'ale', 7),\n ('src1', 'S1_3', 28, 'dra', 8),\n ('src1', 'S1_3', 28, 'exa', 9),\n ('src1', 'S1_3', 28, 'gro', 10),\n ('src1', 'S1_3', 28, 'lex', 11),\n ('src1', 'S1_3', 28, 'ndr', 12),\n ('src1', 'S1_3', 28, 'ra ', 13),\n ('src1', 'S1_3', 28, 'ros', 14),\n ('src1', 'S1_3', 28, 'xan', 15),\n ('src1', 'S1_3', 28, 'r 1', 16),\n ('src1', 'S1_3', 28, '197', 17),\n ('src1', 'S1_3', 28, ' gr', 18),\n ('src1', 'S1_3', 28, 'a g', 19),\n ('src1', 'S1_3', 28, 'and', 20),\n ('src1', 'S1_3', 28, ' 19', 21),\n ('src1', 'S1_4', 28, '##m', 1),\n ('src1', 'S1_4', 28, '#mi', 2),\n ('src1', 'S1_4', 28, '901', 3),\n ('src1', 'S1_4', 28, 'ael', 4),\n ('src1', 'S1_4', 28, 'ch ', 5),\n ('src1', 'S1_4', 28, 'el ', 6),\n ('src1', 'S1_4', 28, 'h 1', 7),\n ('src1', 'S1_4', 28, 'hae', 8),\n ('src1', 'S1_4', 28, 'ich', 9),\n ('src1', 'S1_4', 28, 'mic', 10),\n ('src1', 'S1_4', 28, 'cha', 11),\n ('src1', 'S1_4', 28, 'sch', 12),\n ('src1', 'S1_4', 28, '190', 13),\n ('src1', 'S1_4', 28, ' 19', 14),\n ('src1', 'S1_5', 25, 'loy', 1),\n ('src1', 'S1_5', 25, ' lo', 2),\n ('src1', 'S1_5', 25, '#em', 3),\n ('src1', 'S1_5', 25, '129', 4),\n ('src1', 'S1_5', 25, '211', 5),\n ('src1', 'S1_5', 25, '29#', 6),\n ('src1', 'S1_5', 25, 'emm', 7),\n ('src1', 'S1_5', 25, 'ers', 8),\n ('src1', 'S1_5', 25, 'k 1', 9),\n ('src1', 'S1_5', 25, 'mer', 10),\n ('src1', 'S1_5', 25, 'mme', 11),\n ('src1', 'S1_5', 25, 'n l', 12),\n ('src1', 'S1_5', 25, '112', 13),\n ('src1', 'S1_5', 25, 'son', 14),\n ('src1', 'S1_5', 25, '##e', 15),\n ('src1', 'S1_5', 25, '9##', 16),\n ('src1', 'S1_5', 25, 'on ', 17),\n ('src1', 'S1_5', 25, ' 19', 18),\n ('src1', 'S1_6', 23, ' sc', 1),\n ('src1', 'S1_6', 23, '194', 2),\n ('src1', 'S1_6', 23, '440', 3),\n ('src1', 'S1_6', 23, '944', 4),\n ('src1', 'S1_6', 23, 'chu', 5),\n ('src1', 'S1_6', 23, 'etz', 6),\n ('src1', 'S1_6', 23, 'hue', 7),\n ('src1', 'S1_6', 23, 'tz ', 8),\n ('src1', 'S1_6', 23, 'uet', 9),\n ('src1', 'S1_6', 23, 'z 1', 10),\n ('src1', 'S1_6', 23, '09#', 11),\n ('src1', 'S1_6', 23, '090', 12),\n ('src1', 'S1_6', 23, '409', 13),\n ('src1', 'S1_6', 23, '909', 14),\n ('src1', 'S1_6', 23, 'sch', 15),\n ('src1', 'S1_6', 23, '9##', 16),\n ('src1', 'S1_6', 23, ' 19', 17),\n ('src1', 'S1_7', 24, 'een', 1),\n ('src1', 'S1_7', 24, 'gre', 2),\n ('src1', 'S1_7', 24, 'ree', 3),\n ('src1', 'S1_7', 24, '901', 4),\n ('src1', 'S1_7', 24, 'hua', 5),\n ('src1', 'S1_7', 24, 'jos', 6),\n ('src1', 'S1_7', 24, 'osh', 7),\n ('src1', 'S1_7', 24, 'shu', 8),\n ('src1', 'S1_7', 24, 'ua ', 9),\n ('src1', 'S1_7', 24, '##j', 10),\n ('src1', 'S1_7', 24, '#jo', 11),\n ('src1', 'S1_7', 24, '197', 12),\n ('src1', 'S1_7', 24, ' gr', 13),\n ('src1', 'S1_7', 24, 'a g', 14),\n ('src1', 'S1_7', 24, ' 19', 15),\n ('src1', 'S1_8', 24, ' ho', 1),\n ('src1', 'S1_8', 24, '##o', 2),\n ('src1', 'S1_8', 24, '#ol', 3),\n ('src1', 'S1_8', 24, '12#', 4),\n ('src1', 'S1_8', 24, '2##', 5),\n ('src1', 'S1_8', 24, '760', 6),\n ('src1', 'S1_8', 24, '812', 7),\n ('src1', 'S1_8', 24, '976', 8),\n ('src1', 'S1_8', 24, 'bso', 9),\n ('src1', 'S1_8', 24, 'hob', 10),\n ('src1', 'S1_8', 24, 'ia ', 11),\n ('src1', 'S1_8', 24, 'ivi', 12),\n ('src1', 'S1_8', 24, 'liv', 13),\n ('src1', 'S1_8', 24, 'obs', 14),\n ('src1', 'S1_8', 24, 'oli', 15),\n ('src1', 'S1_8', 24, 'via', 16),\n ('src1', 'S1_8', 24, 'a h', 17),\n ('src1', 'S1_8', 24, '197', 18),\n ('src1', 'S1_8', 24, '608', 19),\n ('src1', 'S1_8', 24, 'son', 20),\n ('src1', 'S1_8', 24, '081', 21),\n ('src1', 'S1_8', 24, 'n 1', 22),\n ('src1', 'S1_8', 24, 'on ', 23),\n ('src1', 'S1_8', 24, ' 19', 24),\n ('src1', 'S1_9', 26, ' li', 1),\n ('src1', 'S1_9', 26, '16#', 2),\n ('src1', 'S1_9', 26, '360', 3),\n ('src1', 'S1_9', 26, '816', 4),\n ('src1', 'S1_9', 26, '936', 5),\n ('src1', 'S1_9', 26, 'ier', 6),\n ('src1', 'S1_9', 26, 'l l', 7),\n ('src1', 'S1_9', 26, 'lie', 8),\n ('src1', 'S1_9', 26, '##m', 9),\n ('src1', 'S1_9', 26, '#mi', 10),\n ('src1', 'S1_9', 26, '6##', 11),\n ('src1', 'S1_9', 26, 'ael', 12),\n ('src1', 'S1_9', 26, 'ch ', 13),\n ('src1', 'S1_9', 26, 'el ', 14),\n ('src1', 'S1_9', 26, 'h 1', 15),\n ('src1', 'S1_9', 26, 'hae', 16),\n ('src1', 'S1_9', 26, 'ich', 17),\n ('src1', 'S1_9', 26, 'mic', 18),\n ('src1', 'S1_9', 26, '608', 19),\n ('src1', 'S1_9', 26, 'cha', 20),\n ('src1', 'S1_9', 26, '081', 21),\n ('src1', 'S1_9', 26, '193', 22),\n ('src1', 'S1_9', 26, ' 19', 23),\n ('src2', 'S2_0', 26, ' sc', 1),\n ('src2', 'S2_0', 26, '194', 2),\n ('src2', 'S2_0', 26, '440', 3),\n ('src2', 'S2_0', 26, '944', 4),\n ('src2', 'S2_0', 26, 'chu', 5),\n ('src2', 'S2_0', 26, 'etz', 6),\n ('src2', 'S2_0', 26, 'hue', 7),\n ('src2', 'S2_0', 26, 'tz ', 8),\n ('src2', 'S2_0', 26, 'uet', 9),\n ('src2', 'S2_0', 26, 'z 1', 10),\n ('src2', 'S2_0', 26, '09#', 11),\n ('src2', 'S2_0', 26, '090', 12),\n ('src2', 'S2_0', 26, '409', 13),\n ('src2', 'S2_0', 26, '909', 14),\n ('src2', 'S2_0', 26, 'sch', 15),\n ('src2', 'S2_0', 26, '9##', 16),\n ('src2', 'S2_0', 26, 'on ', 17),\n ('src2', 'S2_0', 26, ' 19', 18),\n ('src2', 'S2_1', 30, '##a', 1),\n ('src2', 'S2_1', 30, '#al', 2),\n ('src2', 'S2_1', 30, '030', 3),\n ('src2', 'S2_1', 30, '05#', 4),\n ('src2', 'S2_1', 30, '305', 5),\n ('src2', 'S2_1', 30, '5##', 6),\n ('src2', 'S2_1', 30, 'ale', 7),\n ('src2', 'S2_1', 30, 'dra', 8),\n ('src2', 'S2_1', 30, 'eno', 9),\n ('src2', 'S2_1', 30, 'exa', 10),\n ('src2', 'S2_1', 30, 'gro', 11),\n ('src2', 'S2_1', 30, 'lex', 12),\n ('src2', 'S2_1', 30, 'ndr', 13),\n ('src2', 'S2_1', 30, 'ra ', 14),\n ('src2', 'S2_1', 30, 'ros', 15),\n ('src2', 'S2_1', 30, 'xan', 16),\n ('src2', 'S2_1', 30, 'r 1', 17),\n ('src2', 'S2_1', 30, ' gr', 18),\n ('src2', 'S2_1', 30, 'a g', 19),\n ('src2', 'S2_1', 30, 'and', 20),\n ('src2', 'S2_1', 30, ' 19', 21),\n ('src2', 'S2_2', 26, ' li', 1),\n ('src2', 'S2_2', 26, '16#', 2),\n ('src2', 'S2_2', 26, '360', 3),\n ('src2', 'S2_2', 26, '816', 4),\n ('src2', 'S2_2', 26, '936', 5),\n ('src2', 'S2_2', 26, 'ier', 6),\n ('src2', 'S2_2', 26, 'l l', 7),\n ('src2', 'S2_2', 26, 'lie', 8),\n ('src2', 'S2_2', 26, '##m', 9),\n ('src2', 'S2_2', 26, '#mi', 10),\n ('src2', 'S2_2', 26, '6##', 11),\n ('src2', 'S2_2', 26, 'ael', 12),\n ('src2', 'S2_2', 26, 'ch ', 13),\n ('src2', 'S2_2', 26, 'el ', 14),\n ('src2', 'S2_2', 26, 'ers', 15),\n ('src2', 'S2_2', 26, 'h 1', 16),\n ('src2', 'S2_2', 26, 'hae', 17),\n ('src2', 'S2_2', 26, 'ich', 18),\n ('src2', 'S2_2', 26, 'mic', 19),\n ('src2', 'S2_2', 26, '608', 20),\n ('src2', 'S2_2', 26, 'cha', 21),\n ('src2', 'S2_2', 26, 'sch', 22),\n ('src2', 'S2_2', 26, '081', 23),\n ('src2', 'S2_2', 26, '193', 24),\n ('src2', 'S2_2', 26, ' 19', 25),\n ('src2', 'S2_3', 23, 'loy', 1),\n ('src2', 'S2_3', 23, ' lo', 2),\n ('src2', 'S2_3', 23, '#em', 3),\n ('src2', 'S2_3', 23, '129', 4),\n ('src2', 'S2_3', 23, '211', 5),\n ('src2', 'S2_3', 23, '29#', 6),\n ('src2', 'S2_3', 23, 'emm', 7),\n ('src2', 'S2_3', 23, 'k 1', 8),\n ('src2', 'S2_3', 23, 'mer', 9),\n ('src2', 'S2_3', 23, 'mme', 10),\n ('src2', 'S2_3', 23, 'n l', 11),\n ('src2', 'S2_3', 23, '112', 12),\n ('src2', 'S2_3', 23, '##e', 13),\n ('src2', 'S2_3', 23, '193', 14),\n ('src2', 'S2_3', 23, '9##', 15),\n ('src2', 'S2_3', 23, 'on ', 16),\n ('src2', 'S2_3', 23, ' 19', 17),\n ('src2', 'S2_4', 24, ' ho', 1),\n ('src2', 'S2_4', 24, '##o', 2),\n ('src2', 'S2_4', 24, '#ol', 3),\n ('src2', 'S2_4', 24, '12#', 4),\n ('src2', 'S2_4', 24, '2##', 5),\n ('src2', 'S2_4', 24, '760', 6),\n ('src2', 'S2_4', 24, '812', 7),\n ('src2', 'S2_4', 24, '976', 8),\n ('src2', 'S2_4', 24, 'bso', 9),\n ('src2', 'S2_4', 24, 'hob', 10),\n ('src2', 'S2_4', 24, 'ia ', 11),\n ('src2', 'S2_4', 24, 'ivi', 12),\n ('src2', 'S2_4', 24, 'liv', 13),\n ('src2', 'S2_4', 24, 'obs', 14),\n ('src2', 'S2_4', 24, 'oli', 15),\n ('src2', 'S2_4', 24, 'via', 16),\n ('src2', 'S2_4', 24, 'a h', 17),\n ('src2', 'S2_4', 24, '197', 18),\n ('src2', 'S2_4', 24, '608', 19),\n ('src2', 'S2_4', 24, 'son', 20),\n ('src2', 'S2_4', 24, '081', 21),\n ('src2', 'S2_4', 24, 'n 1', 22),\n ('src2', 'S2_4', 24, 'on ', 23),\n ('src2', 'S2_4', 24, ' 19', 24),\n ('src2', 'S2_5', 23, 'een', 1),\n ('src2', 'S2_5', 23, 'en ', 2),\n ('src2', 'S2_5', 23, 'gre', 3),\n ('src2', 'S2_5', 23, 'ree', 4),\n ('src2', 'S2_5', 23, '901', 5),\n ('src2', 'S2_5', 23, 'hua', 6),\n ('src2', 'S2_5', 23, 'jos', 7),\n ('src2', 'S2_5', 23, 'osh', 8),\n ('src2', 'S2_5', 23, 'shu', 9),\n ('src2', 'S2_5', 23, 'ua ', 10),\n ('src2', 'S2_5', 23, '##j', 11),\n ('src2', 'S2_5', 23, '#jo', 12),\n ('src2', 'S2_5', 23, ' gr', 13),\n ('src2', 'S2_5', 23, 'a g', 14),\n ('src2', 'S2_5', 23, '190', 15),\n ('src2', 'S2_5', 23, 'n 1', 16),\n ('src2', 'S2_5', 23, '9##', 17),\n ('src2', 'S2_5', 23, ' 19', 18),\n ('src2', 'S2_6', 27, ' hy', 1),\n ('src2', 'S2_6', 27, 'hyl', 2),\n ('src2', 'S2_6', 27, 'lan', 3),\n ('src2', 'S2_6', 27, 'te ', 4),\n ('src2', 'S2_6', 27, 'yla', 5),\n ('src2', 'S2_6', 27, '09#', 6),\n ('src2', 'S2_6', 27, '090', 7),\n ('src2', 'S2_6', 27, '409', 8),\n ('src2', 'S2_6', 27, '909', 9),\n ('src2', 'S2_6', 27, 'and', 10),\n ('src2', 'S2_6', 27, 'cha', 11),\n ('src2', 'S2_6', 27, '193', 12),\n ('src2', 'S2_6', 27, '9##', 13),\n ('src2', 'S2_6', 27, ' 19', 14),\n ('src2', 'S2_7', 29, ' do', 1),\n ('src2', 'S2_7', 29, '#el', 2),\n ('src2', 'S2_7', 29, '071', 3),\n ('src2', 'S2_7', 29, '710', 4),\n ('src2', 'S2_7', 29, '907', 5),\n ('src2', 'S2_7', 29, 'abe', 6),\n ('src2', 'S2_7', 29, 'bet', 7),\n ('src2', 'S2_7', 29, 'dom', 8),\n ('src2', 'S2_7', 29, 'eli', 9),\n ('src2', 'S2_7', 29, 'isa', 10),\n ('src2', 'S2_7', 29, 'lis', 11),\n ('src2', 'S2_7', 29, 'mit', 12),\n ('src2', 'S2_7', 29, 'omi', 13),\n ('src2', 'S2_7', 29, 'sab', 14),\n ('src2', 'S2_7', 29, 't d', 15),\n ('src2', 'S2_7', 29, '008', 16),\n ('src2', 'S2_7', 29, '08#', 17),\n ('src2', 'S2_7', 29, '100', 18),\n ('src2', 'S2_7', 29, '8##', 19),\n ('src2', 'S2_7', 29, '##e', 20),\n ('src2', 'S2_7', 29, '190', 21),\n ('src2', 'S2_7', 29, 'n 1', 22),\n ('src2', 'S2_7', 29, ' 19', 23)]"
     },
     "execution_count": 164,
     "metadata": {},
     "output_type": "execute_result"
    }
   ],
   "source": [
    "con.execute(\"drop view if exists tkdf\").execute(\n",
    "    \"create view tkdf as \"\n",
    "    \"select tokens.* \"\n",
    "    \", row_number() OVER (PARTITION BY rid ORDER BY df, tokens.token) as pos \"\n",
    "    \"from tokens \"\n",
    "    \"join df on tokens.token = df.token\"\n",
    ").execute(\"select * from tkdf\").fetchall()"
   ],
   "metadata": {
    "collapsed": false,
    "pycharm": {
     "name": "#%%\n"
    }
   }
  },
  {
   "cell_type": "markdown",
   "source": [
    "## Prefix"
   ],
   "metadata": {
    "collapsed": false,
    "pycharm": {
     "name": "#%% md\n"
    }
   }
  },
  {
   "cell_type": "code",
   "execution_count": 165,
   "outputs": [
    {
     "data": {
      "text/plain": "[('src2', 'S2_0', 26, ' sc', 1),\n ('src2', 'S2_0', 26, '194', 2),\n ('src2', 'S2_0', 26, '440', 3),\n ('src2', 'S2_0', 26, '944', 4),\n ('src2', 'S2_0', 26, 'chu', 5),\n ('src2', 'S2_0', 26, 'etz', 6),\n ('src2', 'S2_0', 26, 'hue', 7),\n ('src2', 'S2_0', 26, 'tz ', 8),\n ('src2', 'S2_0', 26, 'uet', 9),\n ('src2', 'S2_1', 30, '##a', 1),\n ('src2', 'S2_1', 30, '#al', 2),\n ('src2', 'S2_1', 30, '030', 3),\n ('src2', 'S2_1', 30, '05#', 4),\n ('src2', 'S2_1', 30, '305', 5),\n ('src2', 'S2_1', 30, '5##', 6),\n ('src2', 'S2_1', 30, 'ale', 7),\n ('src2', 'S2_1', 30, 'dra', 8),\n ('src2', 'S2_1', 30, 'eno', 9),\n ('src2', 'S2_1', 30, 'exa', 10),\n ('src2', 'S2_1', 30, 'gro', 11),\n ('src2', 'S2_2', 26, ' li', 1),\n ('src2', 'S2_2', 26, '16#', 2),\n ('src2', 'S2_2', 26, '360', 3),\n ('src2', 'S2_2', 26, '816', 4),\n ('src2', 'S2_2', 26, '936', 5),\n ('src2', 'S2_2', 26, 'ier', 6),\n ('src2', 'S2_2', 26, 'l l', 7),\n ('src2', 'S2_2', 26, 'lie', 8),\n ('src2', 'S2_2', 26, '##m', 9),\n ('src2', 'S2_3', 23, 'loy', 1),\n ('src2', 'S2_3', 23, ' lo', 2),\n ('src2', 'S2_3', 23, '#em', 3),\n ('src2', 'S2_3', 23, '129', 4),\n ('src2', 'S2_3', 23, '211', 5),\n ('src2', 'S2_3', 23, '29#', 6),\n ('src2', 'S2_3', 23, 'emm', 7),\n ('src2', 'S2_3', 23, 'k 1', 8),\n ('src2', 'S2_4', 24, ' ho', 1),\n ('src2', 'S2_4', 24, '##o', 2),\n ('src2', 'S2_4', 24, '#ol', 3),\n ('src2', 'S2_4', 24, '12#', 4),\n ('src2', 'S2_4', 24, '2##', 5),\n ('src2', 'S2_4', 24, '760', 6),\n ('src2', 'S2_4', 24, '812', 7),\n ('src2', 'S2_4', 24, '976', 8),\n ('src2', 'S2_4', 24, 'bso', 9),\n ('src2', 'S2_5', 23, 'een', 1),\n ('src2', 'S2_5', 23, 'en ', 2),\n ('src2', 'S2_5', 23, 'gre', 3),\n ('src2', 'S2_5', 23, 'ree', 4),\n ('src2', 'S2_5', 23, '901', 5),\n ('src2', 'S2_5', 23, 'hua', 6),\n ('src2', 'S2_5', 23, 'jos', 7),\n ('src2', 'S2_5', 23, 'osh', 8),\n ('src2', 'S2_6', 27, ' hy', 1),\n ('src2', 'S2_6', 27, 'hyl', 2),\n ('src2', 'S2_6', 27, 'lan', 3),\n ('src2', 'S2_6', 27, 'te ', 4),\n ('src2', 'S2_6', 27, 'yla', 5),\n ('src2', 'S2_6', 27, '09#', 6),\n ('src2', 'S2_6', 27, '090', 7),\n ('src2', 'S2_6', 27, '409', 8),\n ('src2', 'S2_6', 27, '909', 9),\n ('src2', 'S2_6', 27, 'and', 10),\n ('src2', 'S2_7', 29, ' do', 1),\n ('src2', 'S2_7', 29, '#el', 2),\n ('src2', 'S2_7', 29, '071', 3),\n ('src2', 'S2_7', 29, '710', 4),\n ('src2', 'S2_7', 29, '907', 5),\n ('src2', 'S2_7', 29, 'abe', 6),\n ('src2', 'S2_7', 29, 'bet', 7),\n ('src2', 'S2_7', 29, 'dom', 8),\n ('src2', 'S2_7', 29, 'eli', 9),\n ('src2', 'S2_7', 29, 'isa', 10),\n ('src1', 'S1_0', 26, 'hua', 1),\n ('src1', 'S1_0', 26, 'jos', 2),\n ('src1', 'S1_0', 26, 'osh', 3),\n ('src1', 'S1_0', 26, 'shu', 4),\n ('src1', 'S1_0', 26, 'ua ', 5),\n ('src1', 'S1_0', 26, '##j', 6),\n ('src1', 'S1_0', 26, '#jo', 7),\n ('src1', 'S1_0', 26, '112', 8),\n ('src1', 'S1_0', 26, 'son', 9),\n ('src1', 'S1_0', 26, 'on ', 11),\n ('src1', 'S1_0', 26, ' 19', 12),\n ('src1', 'S1_1', 23, 'te ', 1),\n ('src1', 'S1_1', 23, '6##', 2),\n ('src1', 'S1_1', 23, '##j', 3),\n ('src1', 'S1_1', 23, '#jo', 4),\n ('src1', 'S1_1', 23, '112', 5),\n ('src1', 'S1_1', 23, '193', 6),\n ('src1', 'S1_1', 23, ' 19', 7),\n ('src1', 'S1_10', 28, ' do', 1),\n ('src1', 'S1_10', 28, '#el', 2),\n ('src1', 'S1_10', 28, 'abe', 3),\n ('src1', 'S1_10', 28, 'bet', 4),\n ('src1', 'S1_10', 28, 'dom', 5),\n ('src1', 'S1_10', 28, 'eli', 6),\n ('src1', 'S1_10', 28, 'en ', 7),\n ('src1', 'S1_10', 28, 'isa', 8),\n ('src1', 'S1_10', 28, 'lis', 9),\n ('src1', 'S1_10', 28, 'mit', 10),\n ('src1', 'S1_10', 28, 'omi', 11),\n ('src1', 'S1_10', 28, 'sab', 12),\n ('src1', 'S1_10', 28, 't d', 13),\n ('src1', 'S1_10', 28, '008', 14),\n ('src1', 'S1_10', 28, '08#', 15),\n ('src1', 'S1_11', 29, ' hy', 1),\n ('src1', 'S1_11', 29, '071', 2),\n ('src1', 'S1_11', 29, '710', 3),\n ('src1', 'S1_11', 29, '907', 4),\n ('src1', 'S1_11', 29, 'eno', 5),\n ('src1', 'S1_11', 29, 'hyl', 6),\n ('src1', 'S1_11', 29, 'lan', 7),\n ('src1', 'S1_11', 29, 'yla', 8),\n ('src1', 'S1_11', 29, '008', 9),\n ('src1', 'S1_11', 29, '08#', 10),\n ('src1', 'S1_11', 29, '100', 11),\n ('src1', 'S1_11', 29, '8##', 12),\n ('src1', 'S1_11', 29, 'a h', 13),\n ('src1', 'S1_11', 29, 'r 1', 14),\n ('src1', 'S1_11', 29, 'and', 15),\n ('src1', 'S1_2', 24, ' lo', 1),\n ('src1', 'S1_2', 24, '#em', 2),\n ('src1', 'S1_2', 24, '129', 3),\n ('src1', 'S1_2', 24, '211', 4),\n ('src1', 'S1_2', 24, '29#', 5),\n ('src1', 'S1_2', 24, 'emm', 6),\n ('src1', 'S1_2', 24, 'ers', 7),\n ('src1', 'S1_2', 24, 'k 1', 8),\n ('src1', 'S1_2', 24, 'mer', 9),\n ('src1', 'S1_2', 24, 'mme', 10),\n ('src1', 'S1_2', 24, 'n l', 11),\n ('src1', 'S1_2', 24, '112', 12),\n ('src1', 'S1_2', 24, 'son', 13),\n ('src1', 'S1_3', 28, '##a', 1),\n ('src1', 'S1_3', 28, '#al', 2),\n ('src1', 'S1_3', 28, '030', 3),\n ('src1', 'S1_3', 28, '05#', 4),\n ('src1', 'S1_3', 28, '305', 5),\n ('src1', 'S1_3', 28, '5##', 6),\n ('src1', 'S1_3', 28, 'ale', 7),\n ('src1', 'S1_3', 28, 'dra', 8),\n ('src1', 'S1_3', 28, 'exa', 9),\n ('src1', 'S1_3', 28, 'gro', 10),\n ('src1', 'S1_3', 28, 'lex', 11),\n ('src1', 'S1_3', 28, 'ndr', 12),\n ('src1', 'S1_3', 28, 'ra ', 13),\n ('src1', 'S1_3', 28, 'ros', 14),\n ('src1', 'S1_3', 28, 'xan', 15),\n ('src1', 'S1_4', 28, '##m', 1),\n ('src1', 'S1_4', 28, '#mi', 2),\n ('src1', 'S1_4', 28, '901', 3),\n ('src1', 'S1_4', 28, 'ael', 4),\n ('src1', 'S1_4', 28, 'ch ', 5),\n ('src1', 'S1_4', 28, 'el ', 6),\n ('src1', 'S1_4', 28, 'h 1', 7),\n ('src1', 'S1_4', 28, 'hae', 8),\n ('src1', 'S1_4', 28, 'ich', 9),\n ('src1', 'S1_4', 28, 'mic', 10),\n ('src1', 'S1_4', 28, 'cha', 11),\n ('src1', 'S1_4', 28, 'sch', 12),\n ('src1', 'S1_4', 28, '190', 13),\n ('src1', 'S1_4', 28, ' 19', 14),\n ('src1', 'S1_5', 25, 'loy', 1),\n ('src1', 'S1_5', 25, ' lo', 2),\n ('src1', 'S1_5', 25, '#em', 3),\n ('src1', 'S1_5', 25, '129', 4),\n ('src1', 'S1_5', 25, '211', 5),\n ('src1', 'S1_5', 25, '29#', 6),\n ('src1', 'S1_5', 25, 'emm', 7),\n ('src1', 'S1_5', 25, 'ers', 8),\n ('src1', 'S1_5', 25, 'k 1', 9),\n ('src1', 'S1_5', 25, 'mer', 10),\n ('src1', 'S1_5', 25, 'mme', 11),\n ('src1', 'S1_5', 25, 'n l', 12),\n ('src1', 'S1_5', 25, '112', 13),\n ('src1', 'S1_6', 23, ' sc', 1),\n ('src1', 'S1_6', 23, '194', 2),\n ('src1', 'S1_6', 23, '440', 3),\n ('src1', 'S1_6', 23, '944', 4),\n ('src1', 'S1_6', 23, 'chu', 5),\n ('src1', 'S1_6', 23, 'etz', 6),\n ('src1', 'S1_6', 23, 'hue', 7),\n ('src1', 'S1_6', 23, 'tz ', 8),\n ('src1', 'S1_6', 23, 'uet', 9),\n ('src1', 'S1_6', 23, 'z 1', 10),\n ('src1', 'S1_6', 23, '09#', 11),\n ('src1', 'S1_6', 23, '090', 12),\n ('src1', 'S1_7', 24, 'een', 1),\n ('src1', 'S1_7', 24, 'gre', 2),\n ('src1', 'S1_7', 24, 'ree', 3),\n ('src1', 'S1_7', 24, '901', 4),\n ('src1', 'S1_7', 24, 'jos', 6),\n ('src1', 'S1_7', 24, 'osh', 7),\n ('src1', 'S1_7', 24, 'shu', 8),\n ('src1', 'S1_7', 24, 'ua ', 9),\n ('src1', 'S1_7', 24, '##j', 10),\n ('src1', 'S1_7', 24, '#jo', 11),\n ('src1', 'S1_7', 24, '197', 12),\n ('src1', 'S1_7', 24, ' gr', 13),\n ('src1', 'S1_8', 24, ' ho', 1),\n ('src1', 'S1_8', 24, '##o', 2),\n ('src1', 'S1_8', 24, '#ol', 3),\n ('src1', 'S1_8', 24, '12#', 4),\n ('src1', 'S1_8', 24, '2##', 5),\n ('src1', 'S1_8', 24, '760', 6),\n ('src1', 'S1_8', 24, '976', 8),\n ('src1', 'S1_8', 24, 'bso', 9),\n ('src1', 'S1_8', 24, 'hob', 10),\n ('src1', 'S1_8', 24, 'ia ', 11),\n ('src1', 'S1_8', 24, 'ivi', 12),\n ('src1', 'S1_9', 26, ' li', 1),\n ('src1', 'S1_9', 26, '16#', 2),\n ('src1', 'S1_9', 26, '360', 3),\n ('src1', 'S1_9', 26, '816', 4),\n ('src1', 'S1_9', 26, '936', 5),\n ('src1', 'S1_9', 26, 'ier', 6),\n ('src1', 'S1_9', 26, 'l l', 7),\n ('src1', 'S1_9', 26, '##m', 9),\n ('src1', 'S1_9', 26, '#mi', 10),\n ('src1', 'S1_9', 26, '6##', 11),\n ('src1', 'S1_9', 26, 'ael', 12),\n ('src1', 'S1_9', 26, 'ch ', 13),\n ('src1', 'S1_9', 26, 'el ', 14),\n ('src1', 'S1_0', 26, 'n 1', 10),\n ('src1', 'S1_9', 26, 'lie', 8),\n ('src1', 'S1_7', 24, 'hua', 5),\n ('src1', 'S1_8', 24, 'liv', 13),\n ('src1', 'S1_8', 24, '812', 7)]"
     },
     "execution_count": 165,
     "metadata": {},
     "output_type": "execute_result"
    }
   ],
   "source": [
    "con.execute(\"drop view if exists prefixes\").execute(\n",
    "    \"create view prefixes as \"\n",
    "    \"select src, rid, rlen, token, pos \"\n",
    "    \"from (\"\n",
    "    \"SELECT * \"\n",
    "    \"FROM tkdf \"\n",
    "    f\"where src = '{R}' \"\n",
    "    f\"and rlen - pos + 1 >= ceil(rlen * {t}) \"\n",
    "    \") union (\"\n",
    "    \"SELECT * \"\n",
    "    \"FROM tkdf \"\n",
    "    f\"where src = '{S}' \"\n",
    "    f\"and rlen - pos + 1 >= ceil(rlen * 2 * {t} / (1+{t})) \"\n",
    "    \")\"\n",
    ").execute(\"select * from prefixes\").fetchall()"
   ],
   "metadata": {
    "collapsed": false,
    "pycharm": {
     "name": "#%%\n"
    }
   }
  },
  {
   "cell_type": "markdown",
   "source": [
    "## Matches"
   ],
   "metadata": {
    "collapsed": false,
    "pycharm": {
     "name": "#%% md\n"
    }
   }
  },
  {
   "cell_type": "code",
   "execution_count": 135,
   "outputs": [
    {
     "data": {
      "text/plain": "[('S1_0', 'S2_5', 2, 7, 2),\n ('S1_1', 'S2_6', 1, 4, 1),\n ('S1_10', 'S2_7', 8, 10, 7),\n ('S1_10', 'S2_5', 7, 2, 1),\n ('S1_11', 'S2_6', 8, 5, 4),\n ('S1_11', 'S2_7', 4, 5, 3),\n ('S1_11', 'S2_1', 5, 9, 1),\n ('S1_2', 'S2_3', 8, 8, 7),\n ('S1_3', 'S2_1', 9, 10, 9),\n ('S1_4', 'S2_2', 1, 9, 1),\n ('S1_4', 'S2_5', 3, 5, 1),\n ('S1_5', 'S2_3', 9, 8, 8),\n ('S1_6', 'S2_0', 7, 7, 7),\n ('S1_7', 'S2_5', 7, 8, 7),\n ('S1_8', 'S2_4', 9, 9, 9),\n ('S1_9', 'S2_2', 9, 9, 9)]"
     },
     "execution_count": 135,
     "metadata": {},
     "output_type": "execute_result"
    }
   ],
   "source": [
    "con.execute(\"drop view if exists candset\").execute(\n",
    "    \"CREATE VIEW candset AS (\"\n",
    "    \"SELECT pr1.rid AS rid1, pr2.rid AS rid2 \"\n",
    "    \", MAX(pr1.pos) as maxPos1, MAX(pr2.pos) as maxPos2, count(*) as prOverlap \"\n",
    "    \"FROM prefixes pr1, prefixes pr2 \"\n",
    "    \"WHERE pr1.token = pr2.token \"\n",
    "    f\"and pr1.src = '{l_table}' \"\n",
    "    f\"and pr2.src = '{r_table}'\"\n",
    "    # length filter\n",
    "    f\"AND pr1.rlen >= ceil({t} * pr2.rlen)\"\n",
    "    # positional filter\n",
    "    \"AND LEAST((pr1.rlen - pr1.pos + 1), (pr2.rlen - pr2.pos + 1)) >= \"\n",
    "    f\"CEIL((pr1.rlen + pr2.rlen) * {t} / (1 + {t})) \"\n",
    "    \"GROUP BY pr1.rid, pr2.rid \"\n",
    "    \")\"\n",
    ").execute(\"select * from candset\").fetchall()"
   ],
   "metadata": {
    "collapsed": false,
    "pycharm": {
     "name": "#%%\n"
    }
   }
  },
  {
   "cell_type": "code",
   "execution_count": 136,
   "outputs": [
    {
     "data": {
      "text/plain": "[('S1_10', 'S2_7'),\n ('S1_3', 'S2_1'),\n ('S1_5', 'S2_3'),\n ('S1_6', 'S2_0'),\n ('S1_8', 'S2_4'),\n ('S1_9', 'S2_2')]"
     },
     "execution_count": 136,
     "metadata": {},
     "output_type": "execute_result"
    }
   ],
   "source": [
    "con.execute(f\"drop view if exists {out_table_name}\").execute(\n",
    "    f\"create view {out_table_name} as \"\n",
    "    \"select r1.rid as rid1, r2.rid as rid2 \"\n",
    "    \"from tkdf r1, tkdf r2, candset c \"\n",
    "    \"where c.rid1 = r1.rid \"\n",
    "    \"and c.rid2 = r2.rid \"\n",
    "    \"and r1.token = r2.token \"\n",
    "    \"and r1.pos > maxPos1 \"\n",
    "    \"and r2.pos > maxPos2 \"\n",
    "    \"group by r1.rid, r2.rid, r1.rlen, r2.rlen, prOverlap \"\n",
    "    f\"having count(*) + prOverlap >= (r1.rlen + r2.rlen) * {t} / (1+{t})\"\n",
    ").execute(f\"select * from {out_table_name}\").fetchall()"
   ],
   "metadata": {
    "collapsed": false,
    "pycharm": {
     "name": "#%%\n"
    }
   }
  },
  {
   "cell_type": "code",
   "execution_count": null,
   "outputs": [],
   "source": [],
   "metadata": {
    "collapsed": false,
    "pycharm": {
     "name": "#%%\n"
    }
   }
  },
  {
   "cell_type": "markdown",
   "source": [
    "# Self-join"
   ],
   "metadata": {
    "collapsed": false,
    "pycharm": {
     "name": "#%% md\n"
    }
   }
  },
  {
   "cell_type": "code",
   "execution_count": 188,
   "outputs": [
    {
     "data": {
      "text/plain": "[('S1_0', 'S3_9', 22),\n ('S1_2', 'S1_5', 22),\n ('S1_3', 'S2_1', 20),\n ('S1_5', 'S2_3', 16),\n ('S1_6', 'S2_0', 17),\n ('S1_7', 'S3_7', 21),\n ('S1_8', 'S2_4', 24),\n ('S1_9', 'S2_2', 23),\n ('S1_10', 'S2_7', 20),\n ('S1_4', 'S3_1', 25),\n ('S1_6', 'S3_5', 17),\n ('S1_11', 'S3_11', 23),\n ('S2_0', 'S3_5', 23),\n ('S2_2', 'S3_3', 21),\n ('S2_6', 'S3_4', 19),\n ('S1_5', 'S3_0', 25),\n ('S1_2', 'S3_0', 22),\n ('S1_8', 'S3_6', 24),\n ('S1_9', 'S3_3', 18),\n ('S2_3', 'S3_0', 16),\n ('S2_4', 'S3_6', 24),\n ('S2_5', 'S3_7', 16)]"
     },
     "execution_count": 188,
     "metadata": {},
     "output_type": "execute_result"
    }
   ],
   "source": [
    "# brute force join, to get the gold standard\n",
    "con.execute(\"drop view if exists bfjoin\").execute(\n",
    "    \"create view bfjoin as \"\n",
    "    \"select r1.rid as rid1, r2.rid as rid2, count(*) as overlap \"\n",
    "    \"from tokens as r1, tokens as r2 \"\n",
    "    \"where r1.token = r2.token \"\n",
    "    \"and r1.rid < r2.rid \"\n",
    "    \"group by r1.rid, r1.rlen, r2.rid, r2.rlen \"\n",
    "    f\"having count(*) >= ceil({t} / (1+{t}) * (r1.rlen + r2.rlen))\"\n",
    ").execute(\"select * from bfjoin\").fetchall()"
   ],
   "metadata": {
    "collapsed": false,
    "pycharm": {
     "name": "#%%\n"
    }
   }
  },
  {
   "cell_type": "markdown",
   "source": [
    "## Document frequency"
   ],
   "metadata": {
    "collapsed": false,
    "pycharm": {
     "name": "#%% md\n"
    }
   }
  },
  {
   "cell_type": "code",
   "execution_count": 172,
   "outputs": [
    {
     "data": {
      "text/plain": "<duckdb.DuckDBPyConnection at 0x180e8390ab0>"
     },
     "execution_count": 172,
     "metadata": {},
     "output_type": "execute_result"
    }
   ],
   "source": [
    "con.execute(\"drop view if exists df\").execute(\n",
    "    \"CREATE VIEW df AS \"\n",
    "    \"SELECT token, count(*) AS df \"\n",
    "    \"FROM tokens \"\n",
    "    \"GROUP BY token \"\n",
    "    # ORDER BY later!\n",
    ")"
   ],
   "metadata": {
    "collapsed": false,
    "pycharm": {
     "name": "#%%\n"
    }
   }
  },
  {
   "cell_type": "code",
   "execution_count": 173,
   "outputs": [
    {
     "data": {
      "text/plain": "[('##e', 6),\n ('#em', 4),\n ('emm', 4),\n ('mme', 4),\n ('mer', 4),\n ('ers', 5),\n ('rso', 3),\n ('son', 7),\n ('on ', 10),\n ('n l', 4),\n (' lo', 4),\n ('loy', 3),\n ('oyc', 2),\n ('ck ', 3),\n ('k 1', 4),\n (' 19', 30),\n ('192', 3),\n ('921', 3),\n ('211', 4),\n ('111', 3),\n ('112', 7),\n ('129', 4),\n ('29#', 4),\n ('##m', 4),\n ('#mi', 4),\n ('mic', 5),\n ('ich', 5),\n ('che', 1),\n ('hel', 1),\n ('el ', 5),\n ('l w', 2),\n (' wu', 2),\n ('wuc', 2),\n ('uch', 2),\n ('cha', 7),\n ('hat', 2),\n ('ats', 2),\n ('tsc', 2),\n ('sch', 7),\n ('ch ', 5),\n ('h 1', 4),\n ('191', 4),\n ('919', 2),\n ('190', 8),\n ('901', 5),\n ('011', 6),\n ('110', 4),\n ('10#', 5),\n ('0##', 5),\n ('##l', 1),\n ('#li', 1),\n ('lie', 3),\n ('ier', 3),\n ('rsc', 2),\n ('h m', 1),\n (' mi', 1),\n ('hae', 4),\n ('ael', 4),\n ('l 1', 1),\n ('193', 6),\n ('936', 3),\n ('360', 3),\n ('608', 6),\n ('081', 7),\n ('816', 3),\n ('16#', 3),\n ('6##', 4),\n ('##c', 2),\n ('#ch', 2),\n ('har', 2),\n ('arl', 2),\n ('rlo', 2),\n ('lot', 2),\n ('ott', 2),\n ('tte', 2),\n ('te ', 3),\n ('e h', 2),\n (' hy', 4),\n ('hyl', 4),\n ('yla', 3),\n ('lan', 4),\n ('and', 6),\n ('nd ', 2),\n ('d 1', 2),\n ('194', 4),\n ('946', 1),\n ('460', 1),\n ('604', 1),\n ('040', 1),\n ('401', 1),\n ('01#', 1),\n ('1##', 1),\n ('##b', 2),\n ('bra', 2),\n ('rae', 2),\n ('aed', 1),\n ('edo', 1),\n ('don', 1),\n ('n s', 2),\n (' sc', 3),\n ('chu', 3),\n ('hue', 3),\n ('uet', 3),\n ('etz', 3),\n ('tz ', 3),\n ('z 1', 3),\n ('944', 3),\n ('409', 4),\n ('090', 4),\n ('909', 4),\n ('09#', 4),\n ('##o', 3),\n ('#ol', 3),\n ('oli', 3),\n ('liv', 3),\n ('ivi', 3),\n ('via', 3),\n ('ia ', 3),\n ('a h', 5),\n (' ho', 3),\n ('hob', 3),\n ('obs', 3),\n ('bso', 3),\n ('n 1', 9),\n ('197', 6),\n ('976', 3),\n ('760', 3),\n ('812', 3),\n ('12#', 3),\n ('2##', 3),\n ('##j', 6),\n ('#jo', 6),\n ('jos', 5),\n ('osh', 5),\n ('shu', 5),\n ('hua', 5),\n ('ua ', 5),\n ('a g', 5),\n (' gr', 5),\n ('ree', 3),\n ('een', 3),\n ('en ', 3),\n ('979', 2),\n ('#ke', 1),\n ('kee', 1),\n ('eel', 1),\n ('ely', 1),\n ('ly ', 1),\n (' cl', 1),\n ('cla', 1),\n ('lar', 1),\n ('ark', 1),\n ('rke', 1),\n ('ke ', 1),\n ('e 1', 3),\n ('905', 1),\n ('050', 1),\n ('041', 1),\n ('410', 1),\n ('a m', 2),\n (' mo', 2),\n ('mor', 2),\n ('orr', 2),\n ('rri', 2),\n ('rio', 1),\n ('ios', 1),\n ('osn', 1),\n ('910', 2),\n ('101', 2),\n ('23#', 2),\n ('3##', 2),\n ('##g', 2),\n ('#ge', 2),\n ('gen', 2),\n ('eno', 3),\n ('nov', 2),\n ('ove', 2),\n ('vef', 2),\n ('fa ', 2),\n ('yll', 1),\n ('de ', 1),\n ('907', 3),\n ('071', 3),\n ('710', 3),\n ('100', 4),\n ('008', 4),\n ('08#', 4),\n ('8##', 4),\n ('ris', 1),\n ('iso', 1),\n ('jor', 1),\n ('ord', 1),\n ('rda', 1),\n ('dan', 1),\n ('an ', 1),\n ('n w', 1),\n (' wh', 1),\n ('whi', 1),\n ('hit', 1),\n ('ite', 2),\n ('937', 1),\n ('371', 1),\n ('711', 1),\n ('126', 1),\n ('26#', 1),\n ('loc', 1),\n ('ock', 1),\n ('##a', 2),\n ('#al', 2),\n ('ale', 2),\n ('lex', 2),\n ('ndr', 2),\n ('dra', 2),\n ('ra ', 2),\n ('oss', 1),\n ('ser', 1),\n ('er ', 2),\n ('r 1', 3),\n ('972', 1),\n ('720', 1),\n ('203', 1),\n ('030', 2),\n ('305', 2),\n ('05#', 2),\n ('5##', 2),\n ('##r', 1),\n ('#rh', 1),\n ('rhy', 1),\n ('ys ', 1),\n ('s s', 1),\n ('440', 3),\n ('enj', 1),\n ('nj ', 1),\n ('j 1', 1),\n ('790', 2),\n (' li', 2),\n ('era', 1),\n ('rac', 1),\n ('ach', 1),\n ('#el', 2),\n ('eli', 2),\n ('lis', 2),\n ('isa', 2),\n ('sab', 2),\n ('abe', 2),\n ('bet', 2),\n (' do', 2),\n ('dom', 2),\n ('omi', 2),\n ('908', 1),\n ('810', 1),\n ('mit', 2),\n ('ffa', 1),\n ('der', 1),\n ('aec', 1),\n ('eco', 1),\n ('con', 1),\n ('exa', 2),\n ('ros', 2),\n ('osv', 1),\n ('sve', 1),\n ('ven', 1),\n ('nor', 1),\n ('or ', 1),\n ('199', 1),\n ('993', 1),\n ('930', 1),\n ('303', 1),\n ('l l', 2),\n ('ero', 1),\n ('ron', 1),\n ('oyk', 1),\n ('932', 1),\n ('321', 1),\n ('010', 1),\n ('102', 1),\n ('219', 1),\n ('19#', 1),\n ('934', 1),\n ('340', 1),\n ('iti', 1),\n ('tie', 1),\n ('ien', 1),\n ('enn', 1),\n ('nn ', 1),\n ('sn ', 1),\n ('efa', 1),\n ('lla', 1),\n ('xan', 2),\n ('eff', 1),\n ('yk ', 1),\n ('et ', 1),\n ('sse', 1),\n ('t d', 2),\n ('y c', 1),\n ('gre', 3),\n ('##k', 1),\n ('504', 1),\n ('123', 2),\n ('gro', 2),\n ('hys', 1),\n ('ett', 1),\n ('#br', 2),\n ('021', 1),\n ('yck', 2),\n ('9##', 9),\n ('tt ', 1),\n ('nde', 2),\n ('ten', 1)]"
     },
     "execution_count": 173,
     "metadata": {},
     "output_type": "execute_result"
    }
   ],
   "source": [
    "con.execute(\"SELECT * FROM df\").fetchall()"
   ],
   "metadata": {
    "collapsed": false,
    "pycharm": {
     "name": "#%%\n"
    }
   }
  },
  {
   "cell_type": "code",
   "execution_count": 179,
   "outputs": [
    {
     "data": {
      "text/plain": "[('S1_0', 26, 'iso', 1),\n ('S1_0', 26, 'ris', 2),\n ('S1_0', 26, ' mo', 3),\n ('S1_0', 26, '101', 4),\n ('S1_0', 26, '123', 5),\n ('S1_0', 26, '23#', 6),\n ('S1_0', 26, '3##', 7),\n ('S1_0', 26, '910', 8),\n ('S1_0', 26, 'a m', 9),\n ('S1_0', 26, 'mor', 10),\n ('S1_0', 26, 'orr', 11),\n ('S1_0', 26, 'rri', 12),\n ('S1_0', 26, '191', 13),\n ('S1_0', 26, 'hua', 14),\n ('S1_0', 26, 'jos', 15),\n ('S1_0', 26, 'osh', 16),\n ('S1_0', 26, 'shu', 17),\n ('S1_0', 26, 'ua ', 18),\n ('S1_0', 26, '##j', 19),\n ('S1_0', 26, '#jo', 20),\n ('S1_0', 26, '011', 21),\n ('S1_0', 26, '112', 22),\n ('S1_0', 26, 'son', 23),\n ('S1_0', 26, 'n 1', 24),\n ('S1_0', 26, 'on ', 25),\n ('S1_0', 26, ' 19', 26),\n ('S1_1', 23, ' wh', 1),\n ('S1_1', 23, '126', 2),\n ('S1_1', 23, '26#', 3),\n ('S1_1', 23, '371', 4),\n ('S1_1', 23, '711', 5),\n ('S1_1', 23, '937', 6),\n ('S1_1', 23, 'an ', 7),\n ('S1_1', 23, 'dan', 8),\n ('S1_1', 23, 'hit', 9),\n ('S1_1', 23, 'jor', 10),\n ('S1_1', 23, 'n w', 11),\n ('S1_1', 23, 'ord', 12),\n ('S1_1', 23, 'rda', 13),\n ('S1_1', 23, 'whi', 14),\n ('S1_1', 23, 'ite', 15),\n ('S1_1', 23, 'e 1', 16),\n ('S1_1', 23, 'te ', 17),\n ('S1_1', 23, '6##', 18),\n ('S1_1', 23, '##j', 19),\n ('S1_1', 23, '#jo', 20),\n ('S1_1', 23, '193', 21),\n ('S1_1', 23, '112', 22),\n ('S1_1', 23, ' 19', 23),\n ('S1_10', 28, '810', 1),\n ('S1_10', 28, '908', 2),\n ('S1_10', 28, 'ett', 3),\n ('S1_10', 28, 'ten', 4),\n ('S1_10', 28, 'tt ', 5),\n ('S1_10', 28, ' do', 6),\n ('S1_10', 28, '#el', 7),\n ('S1_10', 28, 'abe', 8),\n ('S1_10', 28, 'bet', 9),\n ('S1_10', 28, 'dom', 10),\n ('S1_10', 28, 'eli', 11),\n ('S1_10', 28, 'isa', 12),\n ('S1_10', 28, 'ite', 13),\n ('S1_10', 28, 'lis', 14),\n ('S1_10', 28, 'mit', 15),\n ('S1_10', 28, 'omi', 16),\n ('S1_10', 28, 'sab', 17),\n ('S1_10', 28, 't d', 18),\n ('S1_10', 28, 'en ', 19),\n ('S1_10', 28, '008', 20),\n ('S1_10', 28, '08#', 21),\n ('S1_10', 28, '100', 22),\n ('S1_10', 28, '8##', 23),\n ('S1_10', 28, '##e', 24),\n ('S1_10', 28, '081', 25),\n ('S1_10', 28, '190', 26),\n ('S1_10', 28, 'n 1', 27),\n ('S1_10', 28, ' 19', 28),\n ('S1_11', 29, 'der', 1),\n ('S1_11', 29, 'eff', 2),\n ('S1_11', 29, 'ffa', 3),\n ('S1_11', 29, '##g', 4),\n ('S1_11', 29, '#ge', 5),\n ('S1_11', 29, 'er ', 6),\n ('S1_11', 29, 'fa ', 7),\n ('S1_11', 29, 'gen', 8),\n ('S1_11', 29, 'nde', 9),\n ('S1_11', 29, 'nov', 10),\n ('S1_11', 29, 'ove', 11),\n ('S1_11', 29, 'vef', 12),\n ('S1_11', 29, '071', 13),\n ('S1_11', 29, '710', 14),\n ('S1_11', 29, '907', 15),\n ('S1_11', 29, 'eno', 16),\n ('S1_11', 29, 'r 1', 17),\n ('S1_11', 29, 'yla', 18),\n ('S1_11', 29, ' hy', 19),\n ('S1_11', 29, '008', 20),\n ('S1_11', 29, '08#', 21),\n ('S1_11', 29, '100', 22),\n ('S1_11', 29, '8##', 23),\n ('S1_11', 29, 'hyl', 24),\n ('S1_11', 29, 'lan', 25),\n ('S1_11', 29, 'a h', 26),\n ('S1_11', 29, 'and', 27),\n ('S1_11', 29, '190', 28),\n ('S1_11', 29, ' 19', 29),\n ('S1_2', 24, 'loc', 1),\n ('S1_2', 24, 'ock', 2),\n ('S1_2', 24, '111', 3),\n ('S1_2', 24, '192', 4),\n ('S1_2', 24, '921', 5),\n ('S1_2', 24, 'ck ', 6),\n ('S1_2', 24, 'rso', 7),\n ('S1_2', 24, ' lo', 8),\n ('S1_2', 24, '#em', 9),\n ('S1_2', 24, '129', 10),\n ('S1_2', 24, '211', 11),\n ('S1_2', 24, '29#', 12),\n ('S1_2', 24, 'emm', 13),\n ('S1_2', 24, 'k 1', 14),\n ('S1_2', 24, 'mer', 15),\n ('S1_2', 24, 'mme', 16),\n ('S1_2', 24, 'n l', 17),\n ('S1_2', 24, 'ers', 18),\n ('S1_2', 24, '##e', 19),\n ('S1_2', 24, '112', 20),\n ('S1_2', 24, 'son', 21),\n ('S1_2', 24, '9##', 22),\n ('S1_2', 24, 'on ', 23),\n ('S1_2', 24, ' 19', 24),\n ('S1_3', 28, '203', 1),\n ('S1_3', 28, '720', 2),\n ('S1_3', 28, '972', 3),\n ('S1_3', 28, 'oss', 4),\n ('S1_3', 28, 'ser', 5),\n ('S1_3', 28, 'sse', 6),\n ('S1_3', 28, '##a', 7),\n ('S1_3', 28, '#al', 8),\n ('S1_3', 28, '030', 9),\n ('S1_3', 28, '05#', 10),\n ('S1_3', 28, '305', 11),\n ('S1_3', 28, '5##', 12),\n ('S1_3', 28, 'ale', 13),\n ('S1_3', 28, 'dra', 14),\n ('S1_3', 28, 'er ', 15),\n ('S1_3', 28, 'exa', 16),\n ('S1_3', 28, 'gro', 17),\n ('S1_3', 28, 'lex', 18),\n ('S1_3', 28, 'ndr', 19),\n ('S1_3', 28, 'ra ', 20),\n ('S1_3', 28, 'ros', 21),\n ('S1_3', 28, 'xan', 22),\n ('S1_3', 28, 'r 1', 23),\n ('S1_3', 28, ' gr', 24),\n ('S1_3', 28, 'a g', 25),\n ('S1_3', 28, '197', 26),\n ('S1_3', 28, 'and', 27),\n ('S1_3', 28, ' 19', 28),\n ('S1_4', 28, ' wu', 1),\n ('S1_4', 28, '919', 2),\n ('S1_4', 28, 'ats', 3),\n ('S1_4', 28, 'hat', 4),\n ('S1_4', 28, 'l w', 5),\n ('S1_4', 28, 'tsc', 6),\n ('S1_4', 28, 'uch', 7),\n ('S1_4', 28, 'wuc', 8),\n ('S1_4', 28, '##m', 9),\n ('S1_4', 28, '#mi', 10),\n ('S1_4', 28, '110', 11),\n ('S1_4', 28, '191', 12),\n ('S1_4', 28, 'ael', 13),\n ('S1_4', 28, 'h 1', 14),\n ('S1_4', 28, 'hae', 15),\n ('S1_4', 28, '0##', 16),\n ('S1_4', 28, '10#', 17),\n ('S1_4', 28, '901', 18),\n ('S1_4', 28, 'ch ', 19),\n ('S1_4', 28, 'el ', 20),\n ('S1_4', 28, 'ich', 21),\n ('S1_4', 28, 'mic', 22),\n ('S1_4', 28, '011', 23),\n ('S1_4', 28, 'cha', 24),\n ('S1_4', 28, 'sch', 25),\n ('S1_4', 28, '190', 26),\n ('S1_4', 28, ' 19', 27),\n ('S1_5', 25, 'oyc', 1),\n ('S1_5', 25, 'yck', 2),\n ('S1_5', 25, '111', 3),\n ('S1_5', 25, '192', 4),\n ('S1_5', 25, '921', 5),\n ('S1_5', 25, 'ck ', 6),\n ('S1_5', 25, 'loy', 7),\n ('S1_5', 25, 'rso', 8),\n ('S1_5', 25, ' lo', 9),\n ('S1_5', 25, '#em', 10),\n ('S1_5', 25, '129', 11),\n ('S1_5', 25, '211', 12),\n ('S1_5', 25, '29#', 13),\n ('S1_5', 25, 'emm', 14),\n ('S1_5', 25, 'k 1', 15),\n ('S1_5', 25, 'mer', 16),\n ('S1_5', 25, 'mme', 17),\n ('S1_5', 25, 'n l', 18),\n ('S1_5', 25, 'ers', 19),\n ('S1_5', 25, '##e', 20),\n ('S1_5', 25, '112', 21),\n ('S1_5', 25, 'son', 22),\n ('S1_5', 25, '9##', 23),\n ('S1_5', 25, 'on ', 24),\n ('S1_5', 25, ' 19', 25),\n ('S1_6', 23, '##r', 1),\n ('S1_6', 23, '#rh', 2),\n ('S1_6', 23, 'hys', 3),\n ('S1_6', 23, 'rhy', 4),\n ('S1_6', 23, 's s', 5),\n ('S1_6', 23, 'ys ', 6),\n ('S1_6', 23, ' sc', 7),\n ('S1_6', 23, '440', 8),\n ('S1_6', 23, '944', 9),\n ('S1_6', 23, 'chu', 10),\n ('S1_6', 23, 'etz', 11),\n ('S1_6', 23, 'hue', 12),\n ('S1_6', 23, 'tz ', 13),\n ('S1_6', 23, 'uet', 14),\n ('S1_6', 23, 'z 1', 15),\n ('S1_6', 23, '09#', 16),\n ('S1_6', 23, '090', 17),\n ('S1_6', 23, '194', 18),\n ('S1_6', 23, '409', 19),\n ('S1_6', 23, '909', 20),\n ('S1_6', 23, 'sch', 21),\n ('S1_6', 23, '9##', 22),\n ('S1_6', 23, ' 19', 23),\n ('S1_7', 24, 'enj', 1),\n ('S1_7', 24, 'j 1', 2),\n ('S1_7', 24, 'nj ', 3),\n ('S1_7', 24, '790', 4),\n ('S1_7', 24, '979', 5),\n ('S1_7', 24, 'een', 6),\n ('S1_7', 24, 'gre', 7),\n ('S1_7', 24, 'ree', 8),\n ('S1_7', 24, '110', 9),\n ('S1_7', 24, ' gr', 10),\n ('S1_7', 24, '0##', 11),\n ('S1_7', 24, '10#', 12),\n ('S1_7', 24, '901', 13),\n ('S1_7', 24, 'a g', 14),\n ('S1_7', 24, 'hua', 15),\n ('S1_7', 24, 'jos', 16),\n ('S1_7', 24, 'osh', 17),\n ('S1_7', 24, 'shu', 18),\n ('S1_7', 24, 'ua ', 19),\n ('S1_7', 24, '##j', 20),\n ('S1_7', 24, '#jo', 21),\n ('S1_7', 24, '011', 22),\n ('S1_7', 24, '197', 23),\n ('S1_7', 24, ' 19', 24),\n ('S1_8', 24, ' ho', 1),\n ('S1_8', 24, '##o', 2),\n ('S1_8', 24, '#ol', 3),\n ('S1_8', 24, '12#', 4),\n ('S1_8', 24, '2##', 5),\n ('S1_8', 24, '760', 6),\n ('S1_8', 24, '812', 7),\n ('S1_8', 24, '976', 8),\n ('S1_8', 24, 'bso', 9),\n ('S1_8', 24, 'hob', 10),\n ('S1_8', 24, 'ia ', 11),\n ('S1_8', 24, 'ivi', 12),\n ('S1_8', 24, 'liv', 13),\n ('S1_8', 24, 'obs', 14),\n ('S1_8', 24, 'oli', 15),\n ('S1_8', 24, 'via', 16),\n ('S1_8', 24, 'a h', 17),\n ('S1_8', 24, '197', 18),\n ('S1_8', 24, '608', 19),\n ('S1_8', 24, '081', 20),\n ('S1_8', 24, 'son', 21),\n ('S1_8', 24, 'n 1', 22),\n ('S1_8', 24, 'on ', 23),\n ('S1_8', 24, ' 19', 24),\n ('S1_9', 26, 'ach', 1),\n ('S1_9', 26, 'era', 2),\n ('S1_9', 26, 'rac', 3),\n ('S1_9', 26, ' li', 4),\n ('S1_9', 26, 'l l', 5),\n ('S1_9', 26, '16#', 6),\n ('S1_9', 26, '360', 7),\n ('S1_9', 26, '816', 8),\n ('S1_9', 26, '936', 9),\n ('S1_9', 26, 'ier', 10),\n ('S1_9', 26, 'lie', 11),\n ('S1_9', 26, '##m', 12),\n ('S1_9', 26, '#mi', 13),\n ('S1_9', 26, '6##', 14),\n ('S1_9', 26, 'ael', 15),\n ('S1_9', 26, 'h 1', 16),\n ('S1_9', 26, 'hae', 17),\n ('S1_9', 26, 'ch ', 18),\n ('S1_9', 26, 'el ', 19),\n ('S1_9', 26, 'ich', 20),\n ('S1_9', 26, 'mic', 21),\n ('S1_9', 26, '193', 22),\n ('S1_9', 26, '608', 23),\n ('S1_9', 26, '081', 24),\n ('S1_9', 26, 'cha', 25),\n ('S1_9', 26, ' 19', 26),\n ('S2_0', 26, 'aec', 1),\n ('S2_0', 26, 'con', 2),\n ('S2_0', 26, 'eco', 3),\n ('S2_0', 26, '##b', 4),\n ('S2_0', 26, '#br', 5),\n ('S2_0', 26, 'bra', 6),\n ('S2_0', 26, 'n s', 7),\n ('S2_0', 26, 'rae', 8),\n ('S2_0', 26, ' sc', 9),\n ('S2_0', 26, '440', 10),\n ('S2_0', 26, '944', 11),\n ('S2_0', 26, 'chu', 12),\n ('S2_0', 26, 'etz', 13),\n ('S2_0', 26, 'hue', 14),\n ('S2_0', 26, 'tz ', 15),\n ('S2_0', 26, 'uet', 16),\n ('S2_0', 26, 'z 1', 17),\n ('S2_0', 26, '09#', 18),\n ('S2_0', 26, '090', 19),\n ('S2_0', 26, '194', 20),\n ('S2_0', 26, '409', 21),\n ('S2_0', 26, '909', 22),\n ('S2_0', 26, 'sch', 23),\n ('S2_0', 26, '9##', 24),\n ('S2_0', 26, 'on ', 25),\n ('S2_0', 26, ' 19', 26),\n ('S2_1', 30, '199', 1),\n ('S2_1', 30, '303', 2),\n ('S2_1', 30, '930', 3),\n ('S2_1', 30, '993', 4),\n ('S2_1', 30, 'nor', 5),\n ('S2_1', 30, 'or ', 6),\n ('S2_1', 30, 'osv', 7),\n ('S2_1', 30, 'sve', 8),\n ('S2_1', 30, 'ven', 9),\n ('S2_1', 30, '##a', 10),\n ('S2_1', 30, '#al', 11),\n ('S2_1', 30, '030', 12),\n ('S2_1', 30, '05#', 13),\n ('S2_1', 30, '305', 14),\n ('S2_1', 30, '5##', 15),\n ('S2_1', 30, 'ale', 16),\n ('S2_1', 30, 'dra', 17),\n ('S2_1', 30, 'exa', 18),\n ('S2_1', 30, 'gro', 19),\n ('S2_1', 30, 'lex', 20),\n ('S2_1', 30, 'ndr', 21),\n ('S2_1', 30, 'ra ', 22),\n ('S2_1', 30, 'ros', 23),\n ('S2_1', 30, 'xan', 24),\n ('S2_1', 30, 'eno', 25),\n ('S2_1', 30, 'r 1', 26),\n ('S2_1', 30, ' gr', 27),\n ('S2_1', 30, 'a g', 28),\n ('S2_1', 30, 'and', 29),\n ('S2_1', 30, ' 19', 30),\n ('S2_2', 26, ' li', 1),\n ('S2_2', 26, 'l l', 2),\n ('S2_2', 26, 'rsc', 3),\n ('S2_2', 26, '16#', 4),\n ('S2_2', 26, '360', 5),\n ('S2_2', 26, '816', 6),\n ('S2_2', 26, '936', 7),\n ('S2_2', 26, 'ier', 8),\n ('S2_2', 26, 'lie', 9),\n ('S2_2', 26, '##m', 10),\n ('S2_2', 26, '#mi', 11),\n ('S2_2', 26, '6##', 12),\n ('S2_2', 26, 'ael', 13),\n ('S2_2', 26, 'h 1', 14),\n ('S2_2', 26, 'hae', 15),\n ('S2_2', 26, 'ch ', 16),\n ('S2_2', 26, 'el ', 17),\n ('S2_2', 26, 'ers', 18),\n ('S2_2', 26, 'ich', 19),\n ('S2_2', 26, 'mic', 20),\n ('S2_2', 26, '193', 21),\n ('S2_2', 26, '608', 22),\n ('S2_2', 26, '081', 23),\n ('S2_2', 26, 'cha', 24),\n ('S2_2', 26, 'sch', 25),\n ('S2_2', 26, ' 19', 26),\n ('S2_3', 23, '321', 1),\n ('S2_3', 23, '932', 2),\n ('S2_3', 23, 'ero', 3),\n ('S2_3', 23, 'oyk', 4),\n ('S2_3', 23, 'ron', 5),\n ('S2_3', 23, 'yk ', 6),\n ('S2_3', 23, 'loy', 7),\n ('S2_3', 23, ' lo', 8),\n ('S2_3', 23, '#em', 9),\n ('S2_3', 23, '129', 10),\n ('S2_3', 23, '211', 11),\n ('S2_3', 23, '29#', 12),\n ('S2_3', 23, 'emm', 13),\n ('S2_3', 23, 'k 1', 14),\n ('S2_3', 23, 'mer', 15),\n ('S2_3', 23, 'mme', 16),\n ('S2_3', 23, 'n l', 17),\n ('S2_3', 23, '##e', 18),\n ('S2_3', 23, '193', 19),\n ('S2_3', 23, '112', 20),\n ('S2_3', 23, '9##', 21),\n ('S2_3', 23, 'on ', 22),\n ('S2_3', 23, ' 19', 23),\n ('S2_4', 24, ' ho', 1),\n ('S2_4', 24, '##o', 2),\n ('S2_4', 24, '#ol', 3),\n ('S2_4', 24, '12#', 4),\n ('S2_4', 24, '2##', 5),\n ('S2_4', 24, '760', 6),\n ('S2_4', 24, '812', 7),\n ('S2_4', 24, '976', 8),\n ('S2_4', 24, 'bso', 9),\n ('S2_4', 24, 'hob', 10),\n ('S2_4', 24, 'ia ', 11),\n ('S2_4', 24, 'ivi', 12),\n ('S2_4', 24, 'liv', 13),\n ('S2_4', 24, 'obs', 14),\n ('S2_4', 24, 'oli', 15),\n ('S2_4', 24, 'via', 16),\n ('S2_4', 24, 'a h', 17),\n ('S2_4', 24, '197', 18),\n ('S2_4', 24, '608', 19),\n ('S2_4', 24, '081', 20),\n ('S2_4', 24, 'son', 21),\n ('S2_4', 24, 'n 1', 22),\n ('S2_4', 24, 'on ', 23),\n ('S2_4', 24, ' 19', 24),\n ('S2_5', 23, '010', 1),\n ('S2_5', 23, '021', 2),\n ('S2_5', 23, '102', 3),\n ('S2_5', 23, '19#', 4),\n ('S2_5', 23, '219', 5),\n ('S2_5', 23, 'een', 6),\n ('S2_5', 23, 'en ', 7),\n ('S2_5', 23, 'gre', 8),\n ('S2_5', 23, 'ree', 9),\n ('S2_5', 23, ' gr', 10),\n ('S2_5', 23, '901', 11),\n ('S2_5', 23, 'a g', 12),\n ('S2_5', 23, 'hua', 13),\n ('S2_5', 23, 'jos', 14),\n ('S2_5', 23, 'osh', 15),\n ('S2_5', 23, 'shu', 16),\n ('S2_5', 23, 'ua ', 17),\n ('S2_5', 23, '##j', 18),\n ('S2_5', 23, '#jo', 19),\n ('S2_5', 23, '190', 20),\n ('S2_5', 23, '9##', 21),\n ('S2_5', 23, 'n 1', 22),\n ('S2_5', 23, ' 19', 23),\n ('S2_6', 27, '340', 1),\n ('S2_6', 27, '934', 2),\n ('S2_6', 27, '##c', 3),\n ('S2_6', 27, '#ch', 4),\n ('S2_6', 27, 'arl', 5),\n ('S2_6', 27, 'd 1', 6),\n ('S2_6', 27, 'e h', 7),\n ('S2_6', 27, 'har', 8),\n ('S2_6', 27, 'lot', 9),\n ('S2_6', 27, 'nd ', 10),\n ('S2_6', 27, 'ott', 11),\n ('S2_6', 27, 'rlo', 12),\n ('S2_6', 27, 'tte', 13),\n ('S2_6', 27, 'te ', 14),\n ('S2_6', 27, 'yla', 15),\n ('S2_6', 27, ' hy', 16),\n ('S2_6', 27, '09#', 17),\n ('S2_6', 27, '090', 18),\n ('S2_6', 27, '409', 19),\n ('S2_6', 27, '909', 20),\n ('S2_6', 27, 'hyl', 21),\n ('S2_6', 27, 'lan', 22),\n ('S2_6', 27, '193', 23),\n ('S2_6', 27, 'and', 24),\n ('S2_6', 27, 'cha', 25),\n ('S2_6', 27, '9##', 26),\n ('S2_6', 27, ' 19', 27),\n ('S2_7', 29, 'enn', 1),\n ('S2_7', 29, 'et ', 2),\n ('S2_7', 29, 'ien', 3),\n ('S2_7', 29, 'iti', 4),\n ('S2_7', 29, 'nn ', 5),\n ('S2_7', 29, 'tie', 6),\n ('S2_7', 29, ' do', 7),\n ('S2_7', 29, '#el', 8),\n ('S2_7', 29, 'abe', 9),\n ('S2_7', 29, 'bet', 10),\n ('S2_7', 29, 'dom', 11),\n ('S2_7', 29, 'eli', 12),\n ('S2_7', 29, 'isa', 13),\n ('S2_7', 29, 'lis', 14),\n ('S2_7', 29, 'mit', 15),\n ('S2_7', 29, 'omi', 16),\n ('S2_7', 29, 'sab', 17),\n ('S2_7', 29, 't d', 18),\n ('S2_7', 29, '071', 19),\n ('S2_7', 29, '710', 20),\n ('S2_7', 29, '907', 21),\n ('S2_7', 29, '008', 22),\n ('S2_7', 29, '08#', 23),\n ('S2_7', 29, '100', 24),\n ('S2_7', 29, '8##', 25),\n ('S2_7', 29, '##e', 26),\n ('S2_7', 29, '190', 27),\n ('S2_7', 29, 'n 1', 28),\n ('S2_7', 29, ' 19', 29),\n ('S3_0', 25, 'oyc', 1),\n ('S3_0', 25, 'yck', 2),\n ('S3_0', 25, '111', 3),\n ('S3_0', 25, '192', 4),\n ('S3_0', 25, '921', 5),\n ('S3_0', 25, 'ck ', 6),\n ('S3_0', 25, 'loy', 7),\n ('S3_0', 25, 'rso', 8),\n ('S3_0', 25, ' lo', 9),\n ('S3_0', 25, '#em', 10),\n ('S3_0', 25, '129', 11),\n ('S3_0', 25, '211', 12),\n ('S3_0', 25, '29#', 13),\n ('S3_0', 25, 'emm', 14),\n ('S3_0', 25, 'k 1', 15),\n ('S3_0', 25, 'mer', 16),\n ('S3_0', 25, 'mme', 17),\n ('S3_0', 25, 'n l', 18),\n ('S3_0', 25, 'ers', 19),\n ('S3_0', 25, '##e', 20),\n ('S3_0', 25, '112', 21),\n ('S3_0', 25, 'son', 22),\n ('S3_0', 25, '9##', 23),\n ('S3_0', 25, 'on ', 24),\n ('S3_0', 25, ' 19', 25),\n ('S3_1', 27, 'che', 1),\n ('S3_1', 27, 'hel', 2),\n ('S3_1', 27, ' wu', 3),\n ('S3_1', 27, '919', 4),\n ('S3_1', 27, 'ats', 5),\n ('S3_1', 27, 'hat', 6),\n ('S3_1', 27, 'l w', 7),\n ('S3_1', 27, 'tsc', 8),\n ('S3_1', 27, 'uch', 9),\n ('S3_1', 27, 'wuc', 10),\n ('S3_1', 27, '##m', 11),\n ('S3_1', 27, '#mi', 12),\n ('S3_1', 27, '110', 13),\n ('S3_1', 27, '191', 14),\n ('S3_1', 27, 'h 1', 15),\n ('S3_1', 27, '0##', 16),\n ('S3_1', 27, '10#', 17),\n ('S3_1', 27, '901', 18),\n ('S3_1', 27, 'ch ', 19),\n ('S3_1', 27, 'el ', 20),\n ('S3_1', 27, 'ich', 21),\n ('S3_1', 27, 'mic', 22),\n ('S3_1', 27, '011', 23),\n ('S3_1', 27, 'cha', 24),\n ('S3_1', 27, 'sch', 25),\n ('S3_1', 27, '190', 26),\n ('S3_1', 27, ' 19', 27),\n ('S3_11', 28, 'de ', 1),\n ('S3_11', 28, 'efa', 2),\n ('S3_11', 28, 'lla', 3),\n ('S3_11', 28, 'yll', 4),\n ('S3_11', 28, '##g', 5),\n ('S3_11', 28, '#ge', 6),\n ('S3_11', 28, 'fa ', 7),\n ('S3_11', 28, 'gen', 8),\n ('S3_11', 28, 'nde', 9),\n ('S3_11', 28, 'nov', 10),\n ('S3_11', 28, 'ove', 11),\n ('S3_11', 28, 'vef', 12),\n ('S3_11', 28, '071', 13),\n ('S3_11', 28, '710', 14),\n ('S3_11', 28, '907', 15),\n ('S3_11', 28, 'e 1', 16),\n ('S3_11', 28, 'eno', 17),\n ('S3_11', 28, ' hy', 18),\n ('S3_11', 28, '008', 19),\n ('S3_11', 28, '08#', 20),\n ('S3_11', 28, '100', 21),\n ('S3_11', 28, '8##', 22),\n ('S3_11', 28, 'hyl', 23),\n ('S3_11', 28, 'lan', 24),\n ('S3_11', 28, 'a h', 25),\n ('S3_11', 28, 'and', 26),\n ('S3_11', 28, '190', 27),\n ('S3_11', 28, ' 19', 28),\n ('S3_3', 26, ' mi', 1),\n ('S3_3', 26, '##l', 2),\n ('S3_3', 26, '#li', 3),\n ('S3_3', 26, 'h m', 4),\n ('S3_3', 26, 'l 1', 5),\n ('S3_3', 26, 'rsc', 6),\n ('S3_3', 26, '16#', 7),\n ('S3_3', 26, '360', 8),\n ('S3_3', 26, '816', 9),\n ('S3_3', 26, '936', 10),\n ('S3_3', 26, 'ier', 11),\n ('S3_3', 26, 'lie', 12),\n ('S3_3', 26, '6##', 13),\n ('S3_3', 26, 'ael', 14),\n ('S3_3', 26, 'hae', 15),\n ('S3_3', 26, 'ch ', 16),\n ('S3_3', 26, 'el ', 17),\n ('S3_3', 26, 'ers', 18),\n ('S3_3', 26, 'ich', 19),\n ('S3_3', 26, 'mic', 20),\n ('S3_3', 26, '193', 21),\n ('S3_3', 26, '608', 22),\n ('S3_3', 26, '081', 23),\n ('S3_3', 26, 'cha', 24),\n ('S3_3', 26, 'sch', 25),\n ('S3_3', 26, ' 19', 26),\n ('S3_4', 27, '01#', 1),\n ('S3_4', 27, '040', 2),\n ('S3_4', 27, '1##', 3),\n ('S3_4', 27, '401', 4),\n ('S3_4', 27, '460', 5),\n ('S3_4', 27, '604', 6),\n ('S3_4', 27, '946', 7),\n ('S3_4', 27, '##c', 8),\n ('S3_4', 27, '#ch', 9),\n ('S3_4', 27, 'arl', 10),\n ('S3_4', 27, 'd 1', 11),\n ('S3_4', 27, 'e h', 12),\n ('S3_4', 27, 'har', 13),\n ('S3_4', 27, 'lot', 14),\n ('S3_4', 27, 'nd ', 15),\n ('S3_4', 27, 'ott', 16),\n ('S3_4', 27, 'rlo', 17),\n ('S3_4', 27, 'tte', 18),\n ('S3_4', 27, 'te ', 19),\n ('S3_4', 27, 'yla', 20),\n ('S3_4', 27, ' hy', 21),\n ('S3_4', 27, '194', 22),\n ('S3_4', 27, 'hyl', 23),\n ('S3_4', 27, 'lan', 24),\n ('S3_4', 27, 'and', 25),\n ('S3_4', 27, 'cha', 26),\n ('S3_4', 27, ' 19', 27),\n ('S3_5', 26, 'aed', 1),\n ('S3_5', 26, 'don', 2),\n ('S3_5', 26, 'edo', 3),\n ('S3_5', 26, '##b', 4),\n ('S3_5', 26, '#br', 5),\n ('S3_5', 26, 'bra', 6),\n ('S3_5', 26, 'n s', 7),\n ('S3_5', 26, 'rae', 8),\n ('S3_5', 26, ' sc', 9),\n ('S3_5', 26, '440', 10),\n ('S3_5', 26, '944', 11),\n ('S3_5', 26, 'chu', 12),\n ('S3_5', 26, 'etz', 13),\n ('S3_5', 26, 'hue', 14),\n ('S3_5', 26, 'tz ', 15),\n ('S3_5', 26, 'uet', 16),\n ('S3_5', 26, 'z 1', 17),\n ('S3_5', 26, '09#', 18),\n ('S3_5', 26, '090', 19),\n ('S3_5', 26, '194', 20),\n ('S3_5', 26, '409', 21),\n ('S3_5', 26, '909', 22),\n ('S3_5', 26, 'sch', 23),\n ('S3_5', 26, '9##', 24),\n ('S3_5', 26, 'on ', 25),\n ('S3_5', 26, ' 19', 26),\n ('S3_6', 24, ' ho', 1),\n ('S3_6', 24, '##o', 2),\n ('S3_6', 24, '#ol', 3),\n ('S3_6', 24, '12#', 4),\n ('S3_6', 24, '2##', 5),\n ('S3_6', 24, '760', 6),\n ('S3_6', 24, '812', 7),\n ('S3_6', 24, '976', 8),\n ('S3_6', 24, 'bso', 9),\n ('S3_6', 24, 'hob', 10),\n ('S3_6', 24, 'ia ', 11),\n ('S3_6', 24, 'ivi', 12),\n ('S3_6', 24, 'liv', 13),\n ('S3_6', 24, 'obs', 14),\n ('S3_6', 24, 'oli', 15),\n ('S3_6', 24, 'via', 16),\n ('S3_6', 24, 'a h', 17),\n ('S3_6', 24, '197', 18),\n ('S3_6', 24, '608', 19),\n ('S3_6', 24, '081', 20),\n ('S3_6', 24, 'son', 21),\n ('S3_6', 24, 'n 1', 22),\n ('S3_6', 24, 'on ', 23),\n ('S3_6', 24, ' 19', 24),\n ('S3_7', 23, '790', 1),\n ('S3_7', 23, '979', 2),\n ('S3_7', 23, 'een', 3),\n ('S3_7', 23, 'en ', 4),\n ('S3_7', 23, 'gre', 5),\n ('S3_7', 23, 'ree', 6),\n ('S3_7', 23, '110', 7),\n ('S3_7', 23, ' gr', 8),\n ('S3_7', 23, '0##', 9),\n ('S3_7', 23, '10#', 10),\n ('S3_7', 23, '901', 11),\n ('S3_7', 23, 'a g', 12),\n ('S3_7', 23, 'hua', 13),\n ('S3_7', 23, 'jos', 14),\n ('S3_7', 23, 'osh', 15),\n ('S3_7', 23, 'shu', 16),\n ('S3_7', 23, 'ua ', 17),\n ('S3_7', 23, '##j', 18),\n ('S3_7', 23, '#jo', 19),\n ('S3_7', 23, '011', 20),\n ('S3_7', 23, '197', 21),\n ('S3_7', 23, 'n 1', 22),\n ('S3_7', 23, ' 19', 23),\n ('S3_8', 23, ' cl', 1),\n ('S3_8', 23, '##k', 2),\n ('S3_8', 23, '#ke', 3),\n ('S3_8', 23, '041', 4),\n ('S3_8', 23, '050', 5),\n ('S3_8', 23, '410', 6),\n ('S3_8', 23, '504', 7),\n ('S3_8', 23, '905', 8),\n ('S3_8', 23, 'ark', 9),\n ('S3_8', 23, 'cla', 10),\n ('S3_8', 23, 'eel', 11),\n ('S3_8', 23, 'ely', 12),\n ('S3_8', 23, 'ke ', 13),\n ('S3_8', 23, 'kee', 14),\n ('S3_8', 23, 'lar', 15),\n ('S3_8', 23, 'ly ', 16),\n ('S3_8', 23, 'rke', 17),\n ('S3_8', 23, 'y c', 18),\n ('S3_8', 23, 'e 1', 19),\n ('S3_8', 23, '0##', 20),\n ('S3_8', 23, '10#', 21),\n ('S3_8', 23, '190', 22),\n ('S3_8', 23, ' 19', 23),\n ('S3_9', 26, 'ios', 1),\n ('S3_9', 26, 'osn', 2),\n ('S3_9', 26, 'rio', 3),\n ('S3_9', 26, 'sn ', 4),\n ('S3_9', 26, ' mo', 5),\n ('S3_9', 26, '101', 6),\n ('S3_9', 26, '123', 7),\n ('S3_9', 26, '23#', 8),\n ('S3_9', 26, '3##', 9),\n ('S3_9', 26, '910', 10),\n ('S3_9', 26, 'a m', 11),\n ('S3_9', 26, 'mor', 12),\n ('S3_9', 26, 'orr', 13),\n ('S3_9', 26, 'rri', 14),\n ('S3_9', 26, '191', 15),\n ('S3_9', 26, 'hua', 16),\n ('S3_9', 26, 'jos', 17),\n ('S3_9', 26, 'osh', 18),\n ('S3_9', 26, 'shu', 19),\n ('S3_9', 26, 'ua ', 20),\n ('S3_9', 26, '##j', 21),\n ('S3_9', 26, '#jo', 22),\n ('S3_9', 26, '011', 23),\n ('S3_9', 26, '112', 24),\n ('S3_9', 26, 'n 1', 25),\n ('S3_9', 26, ' 19', 26)]"
     },
     "execution_count": 179,
     "metadata": {},
     "output_type": "execute_result"
    }
   ],
   "source": [
    "con.execute(\"drop view if exists tkdf\").execute(\n",
    "    \"CREATE VIEW tkdf AS \"\n",
    "    \"select rid, rlen, tokens.token \"\n",
    "    \", row_number() OVER (PARTITION BY rid ORDER BY df, tokens.token) as pos \"\n",
    "    #\"from (\"\n",
    "    #\"SELECT tt.*, df.df \"\n",
    "    #\"FROM tokens AS tt \"\n",
    "    #\"JOIN doc_frequency AS df ON tt.token = df.token \"\n",
    "    #\")\"\n",
    "    \"from tokens, df \"\n",
    "    \"where tokens.token = df.token\"\n",
    ").execute(\"select * from tkdf\").fetchall()"
   ],
   "metadata": {
    "collapsed": false,
    "pycharm": {
     "name": "#%%\n"
    }
   }
  },
  {
   "cell_type": "markdown",
   "source": [
    "## Prefix"
   ],
   "metadata": {
    "collapsed": false,
    "pycharm": {
     "name": "#%% md\n"
    }
   }
  },
  {
   "cell_type": "code",
   "execution_count": 182,
   "outputs": [
    {
     "data": {
      "text/plain": "[('S1_0', 26, 'iso', 1),\n ('S1_0', 26, 'ris', 2),\n ('S1_0', 26, ' mo', 3),\n ('S1_0', 26, '101', 4),\n ('S1_0', 26, '123', 5),\n ('S1_0', 26, '23#', 6),\n ('S1_0', 26, '3##', 7),\n ('S1_0', 26, '910', 8),\n ('S1_0', 26, 'a m', 9),\n ('S1_0', 26, 'mor', 10),\n ('S1_0', 26, 'orr', 11),\n ('S1_0', 26, 'rri', 12),\n ('S1_0', 26, '191', 13),\n ('S1_0', 26, 'hua', 14),\n ('S1_1', 23, ' wh', 1),\n ('S1_1', 23, '126', 2),\n ('S1_1', 23, '26#', 3),\n ('S1_1', 23, '371', 4),\n ('S1_1', 23, '711', 5),\n ('S1_1', 23, '937', 6),\n ('S1_1', 23, 'an ', 7),\n ('S1_1', 23, 'dan', 8),\n ('S1_1', 23, 'hit', 9),\n ('S1_1', 23, 'jor', 10),\n ('S1_1', 23, 'n w', 11),\n ('S1_1', 23, 'ord', 12),\n ('S1_10', 28, '810', 1),\n ('S1_10', 28, '908', 2),\n ('S1_10', 28, 'ett', 3),\n ('S1_10', 28, 'ten', 4),\n ('S1_10', 28, 'tt ', 5),\n ('S1_10', 28, ' do', 6),\n ('S1_10', 28, '#el', 7),\n ('S1_10', 28, 'abe', 8),\n ('S1_10', 28, 'bet', 9),\n ('S1_10', 28, 'dom', 10),\n ('S1_10', 28, 'eli', 11),\n ('S1_10', 28, 'isa', 12),\n ('S1_10', 28, 'ite', 13),\n ('S1_10', 28, 'lis', 14),\n ('S1_10', 28, 'mit', 15),\n ('S1_11', 29, 'der', 1),\n ('S1_11', 29, 'eff', 2),\n ('S1_11', 29, 'ffa', 3),\n ('S1_11', 29, '##g', 4),\n ('S1_11', 29, '#ge', 5),\n ('S1_11', 29, 'er ', 6),\n ('S1_11', 29, 'fa ', 7),\n ('S1_11', 29, 'gen', 8),\n ('S1_11', 29, 'nde', 9),\n ('S1_11', 29, 'nov', 10),\n ('S1_11', 29, 'ove', 11),\n ('S1_11', 29, 'vef', 12),\n ('S1_11', 29, '071', 13),\n ('S1_11', 29, '710', 14),\n ('S1_11', 29, '907', 15),\n ('S1_2', 24, 'loc', 1),\n ('S1_2', 24, 'ock', 2),\n ('S1_2', 24, '111', 3),\n ('S1_2', 24, '192', 4),\n ('S1_2', 24, '921', 5),\n ('S1_2', 24, 'ck ', 6),\n ('S1_2', 24, 'rso', 7),\n ('S1_2', 24, ' lo', 8),\n ('S1_2', 24, '#em', 9),\n ('S1_2', 24, '129', 10),\n ('S1_2', 24, '211', 11),\n ('S1_2', 24, '29#', 12),\n ('S1_2', 24, 'emm', 13),\n ('S1_3', 28, '203', 1),\n ('S1_3', 28, '720', 2),\n ('S1_3', 28, '972', 3),\n ('S1_3', 28, 'oss', 4),\n ('S1_3', 28, 'ser', 5),\n ('S1_3', 28, 'sse', 6),\n ('S1_3', 28, '##a', 7),\n ('S1_3', 28, '#al', 8),\n ('S1_3', 28, '030', 9),\n ('S1_3', 28, '05#', 10),\n ('S1_3', 28, '305', 11),\n ('S1_3', 28, '5##', 12),\n ('S1_3', 28, 'ale', 13),\n ('S1_3', 28, 'dra', 14),\n ('S1_3', 28, 'er ', 15),\n ('S1_4', 28, ' wu', 1),\n ('S1_4', 28, '919', 2),\n ('S1_4', 28, 'ats', 3),\n ('S1_4', 28, 'hat', 4),\n ('S1_4', 28, 'l w', 5),\n ('S1_4', 28, 'tsc', 6),\n ('S1_4', 28, 'uch', 7),\n ('S1_4', 28, 'wuc', 8),\n ('S1_4', 28, '##m', 9),\n ('S1_4', 28, '#mi', 10),\n ('S1_4', 28, '110', 11),\n ('S1_4', 28, '191', 12),\n ('S1_4', 28, 'ael', 13),\n ('S1_4', 28, 'h 1', 14),\n ('S1_4', 28, 'hae', 15),\n ('S1_5', 25, 'oyc', 1),\n ('S1_5', 25, 'yck', 2),\n ('S1_5', 25, '111', 3),\n ('S1_5', 25, '192', 4),\n ('S1_5', 25, '921', 5),\n ('S1_5', 25, 'ck ', 6),\n ('S1_5', 25, 'loy', 7),\n ('S1_5', 25, 'rso', 8),\n ('S1_5', 25, ' lo', 9),\n ('S1_5', 25, '#em', 10),\n ('S1_5', 25, '129', 11),\n ('S1_5', 25, '211', 12),\n ('S1_5', 25, '29#', 13),\n ('S1_6', 23, '##r', 1),\n ('S1_6', 23, '#rh', 2),\n ('S1_6', 23, 'hys', 3),\n ('S1_6', 23, 'rhy', 4),\n ('S1_6', 23, 's s', 5),\n ('S1_6', 23, 'ys ', 6),\n ('S1_6', 23, ' sc', 7),\n ('S1_6', 23, '440', 8),\n ('S1_6', 23, '944', 9),\n ('S1_6', 23, 'chu', 10),\n ('S1_6', 23, 'etz', 11),\n ('S1_6', 23, 'hue', 12),\n ('S1_7', 24, 'enj', 1),\n ('S1_7', 24, 'j 1', 2),\n ('S1_7', 24, 'nj ', 3),\n ('S1_7', 24, '790', 4),\n ('S1_7', 24, '979', 5),\n ('S1_7', 24, 'een', 6),\n ('S1_7', 24, 'gre', 7),\n ('S1_7', 24, 'ree', 8),\n ('S1_7', 24, '110', 9),\n ('S1_7', 24, ' gr', 10),\n ('S1_7', 24, '0##', 11),\n ('S1_7', 24, '10#', 12),\n ('S1_7', 24, '901', 13),\n ('S1_8', 24, ' ho', 1),\n ('S1_8', 24, '##o', 2),\n ('S1_8', 24, '#ol', 3),\n ('S1_8', 24, '12#', 4),\n ('S1_8', 24, '2##', 5),\n ('S1_8', 24, '760', 6),\n ('S1_8', 24, '812', 7),\n ('S1_8', 24, '976', 8),\n ('S1_8', 24, 'bso', 9),\n ('S1_8', 24, 'hob', 10),\n ('S1_8', 24, 'ia ', 11),\n ('S1_8', 24, 'ivi', 12),\n ('S1_8', 24, 'liv', 13),\n ('S1_9', 26, 'ach', 1),\n ('S1_9', 26, 'era', 2),\n ('S1_9', 26, 'rac', 3),\n ('S1_9', 26, ' li', 4),\n ('S1_9', 26, 'l l', 5),\n ('S1_9', 26, '16#', 6),\n ('S1_9', 26, '360', 7),\n ('S1_9', 26, '816', 8),\n ('S1_9', 26, '936', 9),\n ('S1_9', 26, 'ier', 10),\n ('S1_9', 26, 'lie', 11),\n ('S1_9', 26, '##m', 12),\n ('S1_9', 26, '#mi', 13),\n ('S1_9', 26, '6##', 14),\n ('S2_0', 26, 'aec', 1),\n ('S2_0', 26, 'con', 2),\n ('S2_0', 26, 'eco', 3),\n ('S2_0', 26, '##b', 4),\n ('S2_0', 26, '#br', 5),\n ('S2_0', 26, 'bra', 6),\n ('S2_0', 26, 'n s', 7),\n ('S2_0', 26, 'rae', 8),\n ('S2_0', 26, ' sc', 9),\n ('S2_0', 26, '440', 10),\n ('S2_0', 26, '944', 11),\n ('S2_0', 26, 'chu', 12),\n ('S2_0', 26, 'etz', 13),\n ('S2_0', 26, 'hue', 14),\n ('S2_1', 30, '199', 1),\n ('S2_1', 30, '303', 2),\n ('S2_1', 30, '930', 3),\n ('S2_1', 30, '993', 4),\n ('S2_1', 30, 'nor', 5),\n ('S2_1', 30, 'or ', 6),\n ('S2_1', 30, 'osv', 7),\n ('S2_1', 30, 'sve', 8),\n ('S2_1', 30, 'ven', 9),\n ('S2_1', 30, '##a', 10),\n ('S2_1', 30, '#al', 11),\n ('S2_1', 30, '030', 12),\n ('S2_1', 30, '05#', 13),\n ('S2_1', 30, '305', 14),\n ('S2_1', 30, '5##', 15),\n ('S2_1', 30, 'ale', 16),\n ('S2_2', 26, ' li', 1),\n ('S2_2', 26, 'l l', 2),\n ('S2_2', 26, 'rsc', 3),\n ('S2_2', 26, '16#', 4),\n ('S2_2', 26, '360', 5),\n ('S2_2', 26, '816', 6),\n ('S2_2', 26, '936', 7),\n ('S2_2', 26, 'ier', 8),\n ('S2_2', 26, 'lie', 9),\n ('S2_2', 26, '##m', 10),\n ('S2_2', 26, '#mi', 11),\n ('S2_2', 26, '6##', 12),\n ('S2_2', 26, 'ael', 13),\n ('S2_2', 26, 'h 1', 14),\n ('S2_3', 23, '321', 1),\n ('S2_3', 23, '932', 2),\n ('S2_3', 23, 'ero', 3),\n ('S2_3', 23, 'oyk', 4),\n ('S2_3', 23, 'ron', 5),\n ('S2_3', 23, 'yk ', 6),\n ('S2_3', 23, 'loy', 7),\n ('S2_3', 23, ' lo', 8),\n ('S2_3', 23, '#em', 9),\n ('S2_3', 23, '129', 10),\n ('S2_3', 23, '211', 11),\n ('S2_3', 23, '29#', 12),\n ('S2_4', 24, ' ho', 1),\n ('S2_4', 24, '##o', 2),\n ('S2_4', 24, '#ol', 3),\n ('S2_4', 24, '12#', 4),\n ('S2_4', 24, '2##', 5),\n ('S2_4', 24, '760', 6),\n ('S2_4', 24, '812', 7),\n ('S2_4', 24, '976', 8),\n ('S2_4', 24, 'bso', 9),\n ('S2_4', 24, 'hob', 10),\n ('S2_4', 24, 'ia ', 11),\n ('S2_4', 24, 'ivi', 12),\n ('S2_4', 24, 'liv', 13),\n ('S2_5', 23, '010', 1),\n ('S2_5', 23, '021', 2),\n ('S2_5', 23, '102', 3),\n ('S2_5', 23, '19#', 4),\n ('S2_5', 23, '219', 5),\n ('S2_5', 23, 'een', 6),\n ('S2_5', 23, 'en ', 7),\n ('S2_5', 23, 'gre', 8),\n ('S2_5', 23, 'ree', 9),\n ('S2_5', 23, ' gr', 10),\n ('S2_5', 23, '901', 11),\n ('S2_5', 23, 'a g', 12),\n ('S2_6', 27, '340', 1),\n ('S2_6', 27, '934', 2),\n ('S2_6', 27, '##c', 3),\n ('S2_6', 27, '#ch', 4),\n ('S2_6', 27, 'arl', 5),\n ('S2_6', 27, 'd 1', 6),\n ('S2_6', 27, 'e h', 7),\n ('S2_6', 27, 'har', 8),\n ('S2_6', 27, 'lot', 9),\n ('S2_6', 27, 'nd ', 10),\n ('S2_6', 27, 'ott', 11),\n ('S2_6', 27, 'rlo', 12),\n ('S2_6', 27, 'tte', 13),\n ('S2_6', 27, 'te ', 14),\n ('S2_7', 29, 'enn', 1),\n ('S2_7', 29, 'et ', 2),\n ('S2_7', 29, 'ien', 3),\n ('S2_7', 29, 'iti', 4),\n ('S2_7', 29, 'nn ', 5),\n ('S2_7', 29, 'tie', 6),\n ('S2_7', 29, ' do', 7),\n ('S2_7', 29, '#el', 8),\n ('S2_7', 29, 'abe', 9),\n ('S2_7', 29, 'bet', 10),\n ('S2_7', 29, 'dom', 11),\n ('S2_7', 29, 'eli', 12),\n ('S2_7', 29, 'isa', 13),\n ('S2_7', 29, 'lis', 14),\n ('S2_7', 29, 'mit', 15),\n ('S3_0', 25, 'oyc', 1),\n ('S3_0', 25, 'yck', 2),\n ('S3_0', 25, '111', 3),\n ('S3_0', 25, '192', 4),\n ('S3_0', 25, '921', 5),\n ('S3_0', 25, 'ck ', 6),\n ('S3_0', 25, 'loy', 7),\n ('S3_0', 25, 'rso', 8),\n ('S3_0', 25, ' lo', 9),\n ('S3_0', 25, '#em', 10),\n ('S3_0', 25, '129', 11),\n ('S3_0', 25, '211', 12),\n ('S3_0', 25, '29#', 13),\n ('S3_1', 27, 'che', 1),\n ('S3_1', 27, 'hel', 2),\n ('S3_1', 27, ' wu', 3),\n ('S3_1', 27, '919', 4),\n ('S3_1', 27, 'ats', 5),\n ('S3_1', 27, 'hat', 6),\n ('S3_1', 27, 'l w', 7),\n ('S3_1', 27, 'tsc', 8),\n ('S3_1', 27, 'uch', 9),\n ('S3_1', 27, 'wuc', 10),\n ('S3_1', 27, '##m', 11),\n ('S3_1', 27, '#mi', 12),\n ('S3_1', 27, '110', 13),\n ('S3_1', 27, '191', 14),\n ('S3_11', 28, 'de ', 1),\n ('S3_11', 28, 'efa', 2),\n ('S3_11', 28, 'lla', 3),\n ('S3_11', 28, 'yll', 4),\n ('S3_11', 28, '##g', 5),\n ('S3_11', 28, '#ge', 6),\n ('S3_11', 28, 'fa ', 7),\n ('S3_11', 28, 'gen', 8),\n ('S3_11', 28, 'nde', 9),\n ('S3_11', 28, 'nov', 10),\n ('S3_11', 28, 'ove', 11),\n ('S3_11', 28, 'vef', 12),\n ('S3_11', 28, '071', 13),\n ('S3_11', 28, '710', 14),\n ('S3_11', 28, '907', 15),\n ('S3_3', 26, ' mi', 1),\n ('S3_3', 26, '##l', 2),\n ('S3_3', 26, '#li', 3),\n ('S3_3', 26, 'h m', 4),\n ('S3_3', 26, 'l 1', 5),\n ('S3_3', 26, 'rsc', 6),\n ('S3_3', 26, '16#', 7),\n ('S3_3', 26, '360', 8),\n ('S3_3', 26, '816', 9),\n ('S3_3', 26, '936', 10),\n ('S3_3', 26, 'ier', 11),\n ('S3_3', 26, 'lie', 12),\n ('S3_3', 26, '6##', 13),\n ('S3_3', 26, 'ael', 14),\n ('S3_4', 27, '01#', 1),\n ('S3_4', 27, '040', 2),\n ('S3_4', 27, '1##', 3),\n ('S3_4', 27, '401', 4),\n ('S3_4', 27, '460', 5),\n ('S3_4', 27, '604', 6),\n ('S3_4', 27, '946', 7),\n ('S3_4', 27, '##c', 8),\n ('S3_4', 27, '#ch', 9),\n ('S3_4', 27, 'arl', 10),\n ('S3_4', 27, 'd 1', 11),\n ('S3_4', 27, 'e h', 12),\n ('S3_4', 27, 'har', 13),\n ('S3_4', 27, 'lot', 14),\n ('S3_5', 26, 'aed', 1),\n ('S3_5', 26, 'don', 2),\n ('S3_5', 26, 'edo', 3),\n ('S3_5', 26, '##b', 4),\n ('S3_5', 26, '#br', 5),\n ('S3_5', 26, 'bra', 6),\n ('S3_5', 26, 'n s', 7),\n ('S3_5', 26, 'rae', 8),\n ('S3_5', 26, ' sc', 9),\n ('S3_5', 26, '440', 10),\n ('S3_5', 26, '944', 11),\n ('S3_5', 26, 'chu', 12),\n ('S3_5', 26, 'etz', 13),\n ('S3_5', 26, 'hue', 14),\n ('S3_6', 24, ' ho', 1),\n ('S3_6', 24, '##o', 2),\n ('S3_6', 24, '#ol', 3),\n ('S3_6', 24, '12#', 4),\n ('S3_6', 24, '2##', 5),\n ('S3_6', 24, '760', 6),\n ('S3_6', 24, '812', 7),\n ('S3_6', 24, '976', 8),\n ('S3_6', 24, 'bso', 9),\n ('S3_6', 24, 'hob', 10),\n ('S3_6', 24, 'ia ', 11),\n ('S3_6', 24, 'ivi', 12),\n ('S3_6', 24, 'liv', 13),\n ('S3_7', 23, '790', 1),\n ('S3_7', 23, '979', 2),\n ('S3_7', 23, 'een', 3),\n ('S3_7', 23, 'en ', 4),\n ('S3_7', 23, 'gre', 5),\n ('S3_7', 23, 'ree', 6),\n ('S3_7', 23, '110', 7),\n ('S3_7', 23, ' gr', 8),\n ('S3_7', 23, '0##', 9),\n ('S3_7', 23, '10#', 10),\n ('S3_7', 23, '901', 11),\n ('S3_7', 23, 'a g', 12),\n ('S3_8', 23, ' cl', 1),\n ('S3_8', 23, '##k', 2),\n ('S3_8', 23, '#ke', 3),\n ('S3_8', 23, '041', 4),\n ('S3_8', 23, '050', 5),\n ('S3_8', 23, '410', 6),\n ('S3_8', 23, '504', 7),\n ('S3_8', 23, '905', 8),\n ('S3_8', 23, 'ark', 9),\n ('S3_8', 23, 'cla', 10),\n ('S3_8', 23, 'eel', 11),\n ('S3_8', 23, 'ely', 12),\n ('S3_9', 26, 'ios', 1),\n ('S3_9', 26, 'osn', 2),\n ('S3_9', 26, 'rio', 3),\n ('S3_9', 26, 'sn ', 4),\n ('S3_9', 26, ' mo', 5),\n ('S3_9', 26, '101', 6),\n ('S3_9', 26, '123', 7),\n ('S3_9', 26, '23#', 8),\n ('S3_9', 26, '3##', 9),\n ('S3_9', 26, '910', 10),\n ('S3_9', 26, 'a m', 11),\n ('S3_9', 26, 'mor', 12),\n ('S3_9', 26, 'orr', 13),\n ('S3_9', 26, 'rri', 14)]"
     },
     "execution_count": 182,
     "metadata": {},
     "output_type": "execute_result"
    }
   ],
   "source": [
    "con.execute(\"drop view if exists prefixes\").execute(\n",
    "    \"create view prefixes as \"\n",
    "    \"select rid, rlen, token, pos \"\n",
    "    \"from tkdf \"\n",
    "    f\"where rlen - pos + 1 >= ceil(rlen * {t}) \"\n",
    ").execute(\"select * from prefixes\").fetchall()"
   ],
   "metadata": {
    "collapsed": false,
    "pycharm": {
     "name": "#%%\n"
    }
   }
  },
  {
   "cell_type": "markdown",
   "source": [
    "## Matches"
   ],
   "metadata": {
    "collapsed": false,
    "pycharm": {
     "name": "#%% md\n"
    }
   }
  },
  {
   "cell_type": "code",
   "execution_count": 184,
   "outputs": [
    {
     "data": {
      "text/plain": "[('S1_0', 'S3_9', 7, 9, 5),\n ('S1_10', 'S2_7', 10, 11, 5),\n ('S1_11', 'S3_11', 10, 10, 6),\n ('S1_2', 'S3_0', 8, 9, 6),\n ('S1_3', 'S2_1', 8, 11, 2),\n ('S1_4', 'S3_1', 7, 9, 7),\n ('S1_5', 'S3_0', 9, 9, 9),\n ('S1_7', 'S3_7', 9, 7, 6),\n ('S1_8', 'S3_6', 9, 9, 9),\n ('S1_9', 'S2_2', 9, 7, 6),\n ('S1_9', 'S3_3', 8, 9, 3),\n ('S2_0', 'S3_5', 9, 9, 6),\n ('S2_2', 'S3_3', 6, 9, 4),\n ('S2_3', 'S3_0', 8, 9, 2),\n ('S2_4', 'S3_6', 9, 9, 9),\n ('S2_5', 'S3_7', 8, 5, 3),\n ('S2_6', 'S3_4', 5, 10, 3),\n ('S1_2', 'S1_5', 8, 9, 6),\n ('S1_5', 'S2_3', 9, 8, 2),\n ('S1_6', 'S3_5', 7, 9, 1),\n ('S1_7', 'S2_5', 7, 8, 2),\n ('S1_8', 'S2_4', 9, 9, 9),\n ('S1_2', 'S2_3', 8, 8, 1),\n ('S1_6', 'S2_0', 7, 9, 1)]"
     },
     "execution_count": 184,
     "metadata": {},
     "output_type": "execute_result"
    }
   ],
   "source": [
    "con.execute(\"drop view if exists candset\").execute(\n",
    "    \"CREATE VIEW candset AS (\"\n",
    "    \"SELECT pr1.rid AS rid1, pr2.rid AS rid2 \"\n",
    "    \", MAX(pr1.pos) as maxPos1, MAX(pr2.pos) as maxPos2, count(*) as prOverlap \"\n",
    "    \"FROM prefixes pr1, prefixes pr2 \"\n",
    "    \"WHERE pr1.rid < pr2.rid \"\n",
    "    \"AND pr1.token = pr2.token \"\n",
    "    # length filter\n",
    "    f\"AND pr1.rlen >= ceil({t} * pr2.rlen)\"\n",
    "    # prefix filter\n",
    "    f\"AND pr1.rlen - pr1.pos + 1 >= CEIL(pr1.rlen * 2 * {t} / (1+{t})) \"\n",
    "    # positional filter\n",
    "    \"AND LEAST((pr1.rlen - pr1.pos + 1), (pr2.rlen - pr2.pos + 1)) >= \"\n",
    "    f\"CEIL((pr1.rlen + pr2.rlen) * {t} / (1 + {t})) \"\n",
    "    \"GROUP BY pr1.rid, pr2.rid \"\n",
    "    \")\"\n",
    ").execute(\"select * from candset\").fetchall()"
   ],
   "metadata": {
    "collapsed": false,
    "pycharm": {
     "name": "#%%\n"
    }
   }
  },
  {
   "cell_type": "code",
   "execution_count": 190,
   "outputs": [
    {
     "data": {
      "text/plain": "[('S1_0', 'S3_9'),\n ('S1_10', 'S2_7'),\n ('S1_11', 'S3_11'),\n ('S1_2', 'S3_0'),\n ('S1_3', 'S2_1'),\n ('S1_4', 'S3_1'),\n ('S1_5', 'S3_0'),\n ('S1_6', 'S3_5'),\n ('S1_7', 'S3_7'),\n ('S1_8', 'S3_6'),\n ('S1_9', 'S3_3'),\n ('S1_9', 'S2_2'),\n ('S2_0', 'S3_5'),\n ('S2_2', 'S3_3'),\n ('S2_3', 'S3_0'),\n ('S2_4', 'S3_6'),\n ('S2_5', 'S3_7'),\n ('S2_6', 'S3_4'),\n ('S1_2', 'S1_5'),\n ('S1_5', 'S2_3'),\n ('S1_6', 'S2_0'),\n ('S1_8', 'S2_4')]"
     },
     "execution_count": 190,
     "metadata": {},
     "output_type": "execute_result"
    }
   ],
   "source": [
    "con.execute(f\"drop view if exists {out_table_name}\").execute(\n",
    "    f\"create view {out_table_name} as \"\n",
    "    \"select r1.rid as rid1, r2.rid as rid2 \"\n",
    "    \"from tkdf r1, tkdf r2, candset c \"\n",
    "    \"where c.rid1 = r1.rid \"\n",
    "    \"and c.rid2 = r2.rid \"\n",
    "    \"and r1.token = r2.token \"\n",
    "    \"and r1.pos > maxPos1 \"\n",
    "    \"and r2.pos > maxPos2 \"\n",
    "    \"group by r1.rid, r2.rid, r1.rlen, r2.rlen, prOverlap \"\n",
    "    f\"having count(*) + prOverlap >= (r1.rlen + r2.rlen) * {t} / (1+{t})\"\n",
    ").execute(f\"select * from {out_table_name}\").fetchall()"
   ],
   "metadata": {
    "collapsed": false,
    "pycharm": {
     "name": "#%%\n"
    }
   }
  },
  {
   "cell_type": "markdown",
   "source": [
    "# Test"
   ],
   "metadata": {
    "collapsed": false,
    "pycharm": {
     "name": "#%% md\n"
    }
   }
  },
  {
   "cell_type": "code",
   "execution_count": 191,
   "outputs": [
    {
     "data": {
      "text/plain": "[]"
     },
     "execution_count": 191,
     "metadata": {},
     "output_type": "execute_result"
    }
   ],
   "source": [
    "con.execute(\n",
    "    \"select * \"\n",
    "    f\"from {out_table_name} m \"\n",
    "    \"full outer join bfjoin b on b.rid1 = m.rid1 and b.rid2 = m.rid2 \"\n",
    "    \"where m.rid1 is null \"\n",
    ").fetchall()"
   ],
   "metadata": {
    "collapsed": false,
    "pycharm": {
     "name": "#%%\n"
    }
   }
  },
  {
   "cell_type": "code",
   "execution_count": 214,
   "outputs": [],
   "source": [],
   "metadata": {
    "collapsed": false,
    "pycharm": {
     "name": "#%%\n"
    }
   }
  }
 ],
 "metadata": {
  "kernelspec": {
   "display_name": "Python 3",
   "language": "python",
   "name": "python3"
  },
  "language_info": {
   "codemirror_mode": {
    "name": "ipython",
    "version": 2
   },
   "file_extension": ".py",
   "mimetype": "text/x-python",
   "name": "python",
   "nbconvert_exporter": "python",
   "pygments_lexer": "ipython2",
   "version": "2.7.6"
  }
 },
 "nbformat": 4,
 "nbformat_minor": 0
}