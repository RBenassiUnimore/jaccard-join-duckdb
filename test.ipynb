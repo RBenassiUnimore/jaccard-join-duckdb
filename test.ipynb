{
 "cells": [
  {
   "cell_type": "code",
   "execution_count": 1,
   "outputs": [
    {
     "name": "stdout",
     "output_type": "stream",
     "text": [
      "Requirement already satisfied: duckdb in c:\\python39\\lib\\site-packages (0.6.1)\n",
      "Requirement already satisfied: numpy>=1.14 in c:\\python39\\lib\\site-packages (from duckdb) (1.23.5)\n"
     ]
    }
   ],
   "source": [
    "!pip install duckdb"
   ],
   "metadata": {
    "collapsed": false,
    "pycharm": {
     "name": "#%%\n"
    }
   }
  },
  {
   "cell_type": "code",
   "execution_count": 2,
   "outputs": [],
   "source": [
    "import duckdb\n",
    "import pandas as pd"
   ],
   "metadata": {
    "collapsed": false,
    "pycharm": {
     "name": "#%%\n"
    }
   }
  },
  {
   "cell_type": "code",
   "execution_count": 3,
   "outputs": [],
   "source": [
    "%load_ext autoreload\n",
    "%autoreload 2"
   ],
   "metadata": {
    "collapsed": false,
    "pycharm": {
     "name": "#%%\n"
    }
   }
  },
  {
   "cell_type": "code",
   "execution_count": 4,
   "outputs": [],
   "source": [
    "from py_duckdb.similarity_join import tokenizers\n",
    "from py_duckdb.similarity_join import jaccard_join\n",
    "from py_duckdb.similarity_join import jaccard_join_brute_force\n",
    "from py_duckdb.similarity_join.default_names import *"
   ],
   "metadata": {
    "collapsed": false,
    "pycharm": {
     "name": "#%%\n"
    }
   }
  },
  {
   "cell_type": "code",
   "execution_count": 5,
   "outputs": [],
   "source": [
    "_con = duckdb.connect(database=':memory:')"
   ],
   "metadata": {
    "collapsed": false,
    "pycharm": {
     "name": "#%%\n"
    }
   }
  },
  {
   "cell_type": "code",
   "execution_count": 6,
   "outputs": [
    {
     "data": {
      "text/plain": "\"select src, rid, len(tks) as rlen, lower(unnest(tks)) as token from ( select src, rid, list_distinct(list_filter(str_split_regex(val, '\\\\|'), x -> trim(x) != '')) as tks from input ) \""
     },
     "execution_count": 6,
     "metadata": {},
     "output_type": "execute_result"
    }
   ],
   "source": [
    "l_key_attr = 'rid'\n",
    "r_key_attr = 'rid'\n",
    "l_join_attr = 'val'\n",
    "r_join_attr = 'val'\n",
    "tokenizer = tokenizers.WordsTokzr(\"'\\|'\")\n",
    "# tokenizer = tokenizers.QGramsTokzr(3)\n",
    "threshold = 0.5\n",
    "out_table_name = 'matches'\n",
    "tokenizer.query()"
   ],
   "metadata": {
    "collapsed": false,
    "pycharm": {
     "name": "#%%\n"
    }
   }
  },
  {
   "cell_type": "code",
   "execution_count": 7,
   "outputs": [
    {
     "data": {
      "text/plain": "   realProfileID  date_of_birth  surname         address_1  soc_sec_id  \\\n0           4606     19450219.0    birmn  etheridb estreet     4842352   \n1           9317     19450219.0   burman  etheridge street     4842352   \n2           3521     19810822.0  carmody   rosebery street     4898086   \n3           4023     19751726.0  carmody   rosebery street     4898886   \n4             14     19881101.0   rastar   mccubbib street     9482905   \n\n   postcode  street_number     suburb phone_number state given_name  age  \\\n0      2179             39    nedlnyb  07 85883235   qld   mitchelk   39   \n1      2197             39   nedlands  07 85883235   qld   mitchell   39   \n2      2079             23  deer park  04 42275386   nsw     sarsha   23   \n3      2006             23  deer park  04 42257386   nsw     sarsjs   23   \n4      3950             82   milperra  02 84052052   qld        jax   34   \n\n                   address_2  \n0                        NaN  \n1                        NaN  \n2                        NaN  \n3                        NaN  \n4  summerdale medical centre  ",
      "text/html": "<div>\n<style scoped>\n    .dataframe tbody tr th:only-of-type {\n        vertical-align: middle;\n    }\n\n    .dataframe tbody tr th {\n        vertical-align: top;\n    }\n\n    .dataframe thead th {\n        text-align: right;\n    }\n</style>\n<table border=\"1\" class=\"dataframe\">\n  <thead>\n    <tr style=\"text-align: right;\">\n      <th></th>\n      <th>realProfileID</th>\n      <th>date_of_birth</th>\n      <th>surname</th>\n      <th>address_1</th>\n      <th>soc_sec_id</th>\n      <th>postcode</th>\n      <th>street_number</th>\n      <th>suburb</th>\n      <th>phone_number</th>\n      <th>state</th>\n      <th>given_name</th>\n      <th>age</th>\n      <th>address_2</th>\n    </tr>\n  </thead>\n  <tbody>\n    <tr>\n      <th>0</th>\n      <td>4606</td>\n      <td>19450219.0</td>\n      <td>birmn</td>\n      <td>etheridb estreet</td>\n      <td>4842352</td>\n      <td>2179</td>\n      <td>39</td>\n      <td>nedlnyb</td>\n      <td>07 85883235</td>\n      <td>qld</td>\n      <td>mitchelk</td>\n      <td>39</td>\n      <td>NaN</td>\n    </tr>\n    <tr>\n      <th>1</th>\n      <td>9317</td>\n      <td>19450219.0</td>\n      <td>burman</td>\n      <td>etheridge street</td>\n      <td>4842352</td>\n      <td>2197</td>\n      <td>39</td>\n      <td>nedlands</td>\n      <td>07 85883235</td>\n      <td>qld</td>\n      <td>mitchell</td>\n      <td>39</td>\n      <td>NaN</td>\n    </tr>\n    <tr>\n      <th>2</th>\n      <td>3521</td>\n      <td>19810822.0</td>\n      <td>carmody</td>\n      <td>rosebery street</td>\n      <td>4898086</td>\n      <td>2079</td>\n      <td>23</td>\n      <td>deer park</td>\n      <td>04 42275386</td>\n      <td>nsw</td>\n      <td>sarsha</td>\n      <td>23</td>\n      <td>NaN</td>\n    </tr>\n    <tr>\n      <th>3</th>\n      <td>4023</td>\n      <td>19751726.0</td>\n      <td>carmody</td>\n      <td>rosebery street</td>\n      <td>4898886</td>\n      <td>2006</td>\n      <td>23</td>\n      <td>deer park</td>\n      <td>04 42257386</td>\n      <td>nsw</td>\n      <td>sarsjs</td>\n      <td>23</td>\n      <td>NaN</td>\n    </tr>\n    <tr>\n      <th>4</th>\n      <td>14</td>\n      <td>19881101.0</td>\n      <td>rastar</td>\n      <td>mccubbib street</td>\n      <td>9482905</td>\n      <td>3950</td>\n      <td>82</td>\n      <td>milperra</td>\n      <td>02 84052052</td>\n      <td>qld</td>\n      <td>jax</td>\n      <td>34</td>\n      <td>summerdale medical centre</td>\n    </tr>\n  </tbody>\n</table>\n</div>"
     },
     "execution_count": 7,
     "metadata": {},
     "output_type": "execute_result"
    }
   ],
   "source": [
    "df = pd.read_json(\"data/test.json\", lines=True, orient='records', typ='frame')\n",
    "df.head()"
   ],
   "metadata": {
    "collapsed": false,
    "pycharm": {
     "name": "#%%\n"
    }
   }
  },
  {
   "cell_type": "code",
   "execution_count": 8,
   "outputs": [
    {
     "data": {
      "text/plain": "[(4606,\n  '19450219.0|birmn|etheridb estreet|39|2179|4842352|nedlnyb|07 85883235|qld|mitchelk|39|'),\n (9317,\n  '19450219.0|burman|etheridge street|39|2197|4842352|nedlands|07 85883235|qld|mitchell|39|'),\n (3521,\n  '19810822.0|carmody|rosebery street|23|2079|4898086|deer park|04 42275386|nsw|sarsha|23|'),\n (4023,\n  '19751726.0|carmody|rosebery street|23|2006|4898886|deer park|04 42257386|nsw|sarsjs|23|'),\n (14,\n  '19881101.0|rastar|mccubbib street|82|3950|9482905|milperra|02 84052052|qld|jax|34|summerdale medical centre'),\n (3290,\n  '19387806.0|dichrera|investigatot street|41|6021|4921302|seven hills|07 37899004|vic|phillip|34|'),\n (7370,\n  '|dichivfa|investigarvo street|41|6021|4921302|seven hills|02 31281441|vic|phillip|34|'),\n (6300,\n  '19120912.0|bayden|mackerras crescent|60|2511|5842127|glenwood|07 79176904|qld|mildnre|8|'),\n (6859,\n  '19120912.0|mildren|mackerras crescent|60|2153|5846577|glenwood||qld|bayden|8|')]"
     },
     "execution_count": 8,
     "metadata": {},
     "output_type": "execute_result"
    }
   ],
   "source": [
    "_con.execute(\"drop table if exists data\").execute(\n",
    "    \"CREATE TABLE data AS \"\n",
    "    \"SELECT realProfileID as rid, concat (date_of_birth, '|', surname, '|', address_1, '|', street_number, '|', postcode, '|',soc_sec_id, '|',\"\n",
    "    \"suburb, '|',phone_number, '|', state, '|', given_name, '|',age, '|',address_2 ) as val \"\n",
    "    \"FROM df\"\n",
    ").execute(\"select * from data\").fetchall()"
   ],
   "metadata": {
    "collapsed": false,
    "pycharm": {
     "name": "#%%\n"
    }
   }
  },
  {
   "cell_type": "code",
   "execution_count": 9,
   "outputs": [
    {
     "data": {
      "text/plain": "[(3290, 7370), (6300, 6859)]"
     },
     "execution_count": 9,
     "metadata": {},
     "output_type": "execute_result"
    }
   ],
   "source": [
    "jaccard_join(\n",
    "    _con, 'data', '', l_key_attr, r_key_attr, l_join_attr, r_join_attr, tokenizer, threshold, out_table_name\n",
    ").execute(f\"select * from {out_table_name}\").fetchall()"
   ],
   "metadata": {
    "collapsed": false,
    "pycharm": {
     "name": "#%%\n"
    }
   }
  },
  {
   "cell_type": "code",
   "execution_count": 10,
   "outputs": [
    {
     "data": {
      "text/plain": "[(3290, 7370), (6300, 6859)]"
     },
     "execution_count": 10,
     "metadata": {},
     "output_type": "execute_result"
    }
   ],
   "source": [
    "jaccard_join_brute_force(\n",
    "    _con, 'data', '', l_key_attr, r_key_attr, l_join_attr, r_join_attr, tokenizer, threshold, out_table_name\n",
    ").execute(f\"select * from {out_table_name}\").fetchall()"
   ],
   "metadata": {
    "collapsed": false,
    "pycharm": {
     "name": "#%%\n"
    }
   }
  },
  {
   "cell_type": "code",
   "execution_count": 11,
   "outputs": [],
   "source": [
    "l_table = \"data\""
   ],
   "metadata": {
    "collapsed": false,
    "pycharm": {
     "name": "#%%\n"
    }
   }
  },
  {
   "cell_type": "code",
   "execution_count": 12,
   "outputs": [
    {
     "data": {
      "text/plain": "[('data',\n  4606,\n  '19450219.0|birmn|etheridb estreet|39|2179|4842352|nedlnyb|07 85883235|qld|mitchelk|39|'),\n ('data',\n  9317,\n  '19450219.0|burman|etheridge street|39|2197|4842352|nedlands|07 85883235|qld|mitchell|39|'),\n ('data',\n  3521,\n  '19810822.0|carmody|rosebery street|23|2079|4898086|deer park|04 42275386|nsw|sarsha|23|'),\n ('data',\n  4023,\n  '19751726.0|carmody|rosebery street|23|2006|4898886|deer park|04 42257386|nsw|sarsjs|23|'),\n ('data',\n  14,\n  '19881101.0|rastar|mccubbib street|82|3950|9482905|milperra|02 84052052|qld|jax|34|summerdale medical centre'),\n ('data',\n  3290,\n  '19387806.0|dichrera|investigatot street|41|6021|4921302|seven hills|07 37899004|vic|phillip|34|'),\n ('data',\n  7370,\n  '|dichivfa|investigarvo street|41|6021|4921302|seven hills|02 31281441|vic|phillip|34|'),\n ('data',\n  6300,\n  '19120912.0|bayden|mackerras crescent|60|2511|5842127|glenwood|07 79176904|qld|mildnre|8|'),\n ('data',\n  6859,\n  '19120912.0|mildren|mackerras crescent|60|2153|5846577|glenwood||qld|bayden|8|')]"
     },
     "execution_count": 12,
     "metadata": {},
     "output_type": "execute_result"
    }
   ],
   "source": [
    "_con.execute(f\"drop table if exists {INPUT_TABLE}\").execute(\n",
    "    f\"create table {INPUT_TABLE} as (\"\n",
    "    f\"select '{l_table}' as src, {l_key_attr} as rid, {l_join_attr} as val \"\n",
    "    f\"from '{l_table}' )\"\n",
    ").execute(f\"select * from {INPUT_TABLE}\").fetchall()"
   ],
   "metadata": {
    "collapsed": false,
    "pycharm": {
     "name": "#%%\n"
    }
   }
  },
  {
   "cell_type": "code",
   "execution_count": 14,
   "outputs": [
    {
     "data": {
      "text/plain": "[('data', 4606, 10, '19450219.0'),\n ('data', 4606, 10, '39'),\n ('data', 4606, 10, 'birmn'),\n ('data', 4606, 10, 'etheridb estreet'),\n ('data', 4606, 10, '2179'),\n ('data', 4606, 10, '4842352'),\n ('data', 4606, 10, 'nedlnyb'),\n ('data', 4606, 10, '07 85883235'),\n ('data', 4606, 10, 'qld'),\n ('data', 4606, 10, 'mitchelk'),\n ('data', 9317, 10, '19450219.0'),\n ('data', 9317, 10, 'nedlands'),\n ('data', 9317, 10, '07 85883235'),\n ('data', 9317, 10, 'burman'),\n ('data', 9317, 10, 'etheridge street'),\n ('data', 9317, 10, '39'),\n ('data', 9317, 10, '2197'),\n ('data', 9317, 10, '4842352'),\n ('data', 9317, 10, 'qld'),\n ('data', 9317, 10, 'mitchell'),\n ('data', 3521, 10, '19810822.0'),\n ('data', 3521, 10, '4898086'),\n ('data', 3521, 10, '23'),\n ('data', 3521, 10, 'carmody'),\n ('data', 3521, 10, 'rosebery street'),\n ('data', 3521, 10, 'deer park'),\n ('data', 3521, 10, '2079'),\n ('data', 3521, 10, '04 42275386'),\n ('data', 3521, 10, 'nsw'),\n ('data', 3521, 10, 'sarsha'),\n ('data', 4023, 10, '19751726.0'),\n ('data', 4023, 10, 'carmody'),\n ('data', 4023, 10, '4898886'),\n ('data', 4023, 10, '23'),\n ('data', 4023, 10, '2006'),\n ('data', 4023, 10, 'rosebery street'),\n ('data', 4023, 10, 'deer park'),\n ('data', 4023, 10, '04 42257386'),\n ('data', 4023, 10, 'nsw'),\n ('data', 4023, 10, 'sarsjs'),\n ('data', 14, 12, '19881101.0'),\n ('data', 14, 12, 'rastar'),\n ('data', 14, 12, '3950'),\n ('data', 14, 12, 'milperra'),\n ('data', 14, 12, 'mccubbib street'),\n ('data', 14, 12, '82'),\n ('data', 14, 12, '02 84052052'),\n ('data', 14, 12, '9482905'),\n ('data', 14, 12, 'qld'),\n ('data', 14, 12, 'jax'),\n ('data', 14, 12, '34'),\n ('data', 14, 12, 'summerdale medical centre'),\n ('data', 3290, 11, '19387806.0'),\n ('data', 3290, 11, 'investigatot street'),\n ('data', 3290, 11, 'dichrera'),\n ('data', 3290, 11, '6021'),\n ('data', 3290, 11, '41'),\n ('data', 3290, 11, 'seven hills'),\n ('data', 3290, 11, '4921302'),\n ('data', 3290, 11, '07 37899004'),\n ('data', 3290, 11, 'vic'),\n ('data', 3290, 11, 'phillip'),\n ('data', 3290, 11, '34'),\n ('data', 7370, 10, 'investigarvo street'),\n ('data', 7370, 10, 'dichivfa'),\n ('data', 7370, 10, '6021'),\n ('data', 7370, 10, '41'),\n ('data', 7370, 10, 'seven hills'),\n ('data', 7370, 10, '4921302'),\n ('data', 7370, 10, '02 31281441'),\n ('data', 7370, 10, 'vic'),\n ('data', 7370, 10, 'phillip'),\n ('data', 7370, 10, '34'),\n ('data', 6300, 11, '5842127'),\n ('data', 6300, 11, '19120912.0'),\n ('data', 6300, 11, '2511'),\n ('data', 6300, 11, 'bayden'),\n ('data', 6300, 11, 'mackerras crescent'),\n ('data', 6300, 11, '60'),\n ('data', 6300, 11, 'glenwood'),\n ('data', 6300, 11, '07 79176904'),\n ('data', 6300, 11, 'qld'),\n ('data', 6300, 11, 'mildnre'),\n ('data', 6300, 11, '8'),\n ('data', 6859, 10, '19120912.0'),\n ('data', 6859, 10, 'qld'),\n ('data', 6859, 10, 'mildren'),\n ('data', 6859, 10, '8'),\n ('data', 6859, 10, '5846577'),\n ('data', 6859, 10, 'mackerras crescent'),\n ('data', 6859, 10, '60'),\n ('data', 6859, 10, 'glenwood'),\n ('data', 6859, 10, '2153'),\n ('data', 6859, 10, 'bayden')]"
     },
     "execution_count": 14,
     "metadata": {},
     "output_type": "execute_result"
    }
   ],
   "source": [
    "_con.execute(f\"drop table if exists {TOKENS_VIEW}\").execute(\n",
    "    f\"create table {TOKENS_VIEW} as \"\n",
    "    + tokenizer.query()\n",
    ").execute(f\"select * from {TOKENS_VIEW}\").fetchall()"
   ],
   "metadata": {
    "collapsed": false,
    "pycharm": {
     "name": "#%%\n"
    }
   }
  },
  {
   "cell_type": "code",
   "execution_count": 15,
   "outputs": [
    {
     "data": {
      "text/plain": "<duckdb.DuckDBPyConnection at 0x163f0c0b030>"
     },
     "execution_count": 15,
     "metadata": {},
     "output_type": "execute_result"
    }
   ],
   "source": [
    "_con.execute(f\"drop table if exists {DOC_FREQ_VIEW}\").execute(\n",
    "    f\"CREATE table {DOC_FREQ_VIEW} AS \"\n",
    "    \"SELECT token, count(*) AS df \"\n",
    "    f\"FROM {TOKENS_VIEW} \"\n",
    "    \"GROUP BY token \"\n",
    ").execute(f\"drop table if exists {TOKENS_DOC_FREQ_VIEW}\").execute(\n",
    "    f\"CREATE table {TOKENS_DOC_FREQ_VIEW} AS \"\n",
    "    f\"select rid, rlen, {TOKENS_VIEW}.token, df \"\n",
    "    f\", row_number() OVER (PARTITION BY rid ORDER BY df, {TOKENS_VIEW}.token) as pos \"\n",
    "    f\"from {TOKENS_VIEW}, {DOC_FREQ_VIEW} \"\n",
    "    f\"where {TOKENS_VIEW}.token = {DOC_FREQ_VIEW}.token\"\n",
    ")"
   ],
   "metadata": {
    "collapsed": false,
    "pycharm": {
     "name": "#%%\n"
    }
   }
  },
  {
   "cell_type": "code",
   "execution_count": 16,
   "outputs": [
    {
     "data": {
      "text/plain": "[(14, 12, '02 84052052', 1, 1),\n (14, 12, '19881101.0', 1, 2),\n (14, 12, '3950', 1, 3),\n (14, 12, '82', 1, 4),\n (14, 12, '9482905', 1, 5),\n (14, 12, 'jax', 1, 6),\n (14, 12, 'mccubbib street', 1, 7),\n (14, 12, 'milperra', 1, 8),\n (14, 12, 'rastar', 1, 9),\n (14, 12, 'summerdale medical centre', 1, 10),\n (14, 12, '34', 3, 11),\n (14, 12, 'qld', 5, 12),\n (3290, 11, '07 37899004', 1, 1),\n (3290, 11, '19387806.0', 1, 2),\n (3290, 11, 'dichrera', 1, 3),\n (3290, 11, 'investigatot street', 1, 4),\n (3290, 11, '41', 2, 5),\n (3290, 11, '4921302', 2, 6),\n (3290, 11, '6021', 2, 7),\n (3290, 11, 'phillip', 2, 8),\n (3290, 11, 'seven hills', 2, 9),\n (3290, 11, 'vic', 2, 10),\n (3290, 11, '34', 3, 11),\n (3521, 10, '04 42275386', 1, 1),\n (3521, 10, '19810822.0', 1, 2),\n (3521, 10, '2079', 1, 3),\n (3521, 10, '4898086', 1, 4),\n (3521, 10, 'sarsha', 1, 5),\n (3521, 10, '23', 2, 6),\n (3521, 10, 'carmody', 2, 7),\n (3521, 10, 'deer park', 2, 8),\n (3521, 10, 'nsw', 2, 9),\n (3521, 10, 'rosebery street', 2, 10),\n (4023, 10, '04 42257386', 1, 1),\n (4023, 10, '19751726.0', 1, 2),\n (4023, 10, '2006', 1, 3),\n (4023, 10, '4898886', 1, 4),\n (4023, 10, 'sarsjs', 1, 5),\n (4023, 10, '23', 2, 6),\n (4023, 10, 'carmody', 2, 7),\n (4023, 10, 'deer park', 2, 8),\n (4023, 10, 'nsw', 2, 9),\n (4023, 10, 'rosebery street', 2, 10),\n (4606, 10, '2179', 1, 1),\n (4606, 10, 'birmn', 1, 2),\n (4606, 10, 'etheridb estreet', 1, 3),\n (4606, 10, 'mitchelk', 1, 4),\n (4606, 10, 'nedlnyb', 1, 5),\n (4606, 10, '07 85883235', 2, 6),\n (4606, 10, '19450219.0', 2, 7),\n (4606, 10, '39', 2, 8),\n (4606, 10, '4842352', 2, 9),\n (4606, 10, 'qld', 5, 10),\n (6300, 11, '07 79176904', 1, 1),\n (6300, 11, '2511', 1, 2),\n (6300, 11, '5842127', 1, 3),\n (6300, 11, 'mildnre', 1, 4),\n (6300, 11, '19120912.0', 2, 5),\n (6300, 11, '60', 2, 6),\n (6300, 11, '8', 2, 7),\n (6300, 11, 'bayden', 2, 8),\n (6300, 11, 'glenwood', 2, 9),\n (6300, 11, 'mackerras crescent', 2, 10),\n (6300, 11, 'qld', 5, 11),\n (6859, 10, '2153', 1, 1),\n (6859, 10, '5846577', 1, 2),\n (6859, 10, 'mildren', 1, 3),\n (6859, 10, '19120912.0', 2, 4),\n (6859, 10, '60', 2, 5),\n (6859, 10, '8', 2, 6),\n (6859, 10, 'bayden', 2, 7),\n (6859, 10, 'glenwood', 2, 8),\n (6859, 10, 'mackerras crescent', 2, 9),\n (6859, 10, 'qld', 5, 10),\n (7370, 10, '02 31281441', 1, 1),\n (7370, 10, 'dichivfa', 1, 2),\n (7370, 10, 'investigarvo street', 1, 3),\n (7370, 10, '41', 2, 4),\n (7370, 10, '4921302', 2, 5),\n (7370, 10, '6021', 2, 6),\n (7370, 10, 'phillip', 2, 7),\n (7370, 10, 'seven hills', 2, 8),\n (7370, 10, 'vic', 2, 9),\n (7370, 10, '34', 3, 10),\n (9317, 10, '2197', 1, 1),\n (9317, 10, 'burman', 1, 2),\n (9317, 10, 'etheridge street', 1, 3),\n (9317, 10, 'mitchell', 1, 4),\n (9317, 10, 'nedlands', 1, 5),\n (9317, 10, '07 85883235', 2, 6),\n (9317, 10, '19450219.0', 2, 7),\n (9317, 10, '39', 2, 8),\n (9317, 10, '4842352', 2, 9),\n (9317, 10, 'qld', 5, 10)]"
     },
     "execution_count": 16,
     "metadata": {},
     "output_type": "execute_result"
    }
   ],
   "source": [
    "_con.execute(f\"select * from {TOKENS_DOC_FREQ_VIEW}\").fetchall()"
   ],
   "metadata": {
    "collapsed": false,
    "pycharm": {
     "name": "#%%\n"
    }
   }
  },
  {
   "cell_type": "code",
   "execution_count": 17,
   "outputs": [],
   "source": [
    "t = threshold"
   ],
   "metadata": {
    "collapsed": false,
    "pycharm": {
     "name": "#%%\n"
    }
   }
  },
  {
   "cell_type": "code",
   "execution_count": 18,
   "outputs": [
    {
     "data": {
      "text/plain": "[(14, 12, '02 84052052', 1, 1),\n (14, 12, '19881101.0', 2, 1),\n (14, 12, '3950', 3, 1),\n (14, 12, '82', 4, 1),\n (14, 12, '9482905', 5, 1),\n (14, 12, 'jax', 6, 1),\n (14, 12, 'mccubbib street', 7, 1),\n (3290, 11, '07 37899004', 1, 1),\n (3290, 11, '19387806.0', 2, 1),\n (3290, 11, 'dichrera', 3, 1),\n (3290, 11, 'investigatot street', 4, 1),\n (3290, 11, '41', 5, 2),\n (3290, 11, '4921302', 6, 2),\n (3521, 10, '04 42275386', 1, 1),\n (3521, 10, '19810822.0', 2, 1),\n (3521, 10, '2079', 3, 1),\n (3521, 10, '4898086', 4, 1),\n (3521, 10, 'sarsha', 5, 1),\n (3521, 10, '23', 6, 2),\n (4023, 10, '04 42257386', 1, 1),\n (4023, 10, '19751726.0', 2, 1),\n (4023, 10, '2006', 3, 1),\n (4023, 10, '4898886', 4, 1),\n (4023, 10, 'sarsjs', 5, 1),\n (4023, 10, '23', 6, 2),\n (4606, 10, '2179', 1, 1),\n (4606, 10, 'birmn', 2, 1),\n (4606, 10, 'etheridb estreet', 3, 1),\n (4606, 10, 'mitchelk', 4, 1),\n (4606, 10, 'nedlnyb', 5, 1),\n (4606, 10, '07 85883235', 6, 2),\n (6300, 11, '07 79176904', 1, 1),\n (6300, 11, '2511', 2, 1),\n (6300, 11, '5842127', 3, 1),\n (6300, 11, 'mildnre', 4, 1),\n (6300, 11, '19120912.0', 5, 2),\n (6300, 11, '60', 6, 2),\n (6859, 10, '2153', 1, 1),\n (6859, 10, '5846577', 2, 1),\n (6859, 10, 'mildren', 3, 1),\n (6859, 10, '19120912.0', 4, 2),\n (6859, 10, '60', 5, 2),\n (6859, 10, '8', 6, 2),\n (7370, 10, '02 31281441', 1, 1),\n (7370, 10, 'dichivfa', 2, 1),\n (7370, 10, 'investigarvo street', 3, 1),\n (7370, 10, '41', 4, 2),\n (7370, 10, '4921302', 5, 2),\n (7370, 10, '6021', 6, 2),\n (9317, 10, '2197', 1, 1),\n (9317, 10, 'burman', 2, 1),\n (9317, 10, 'etheridge street', 3, 1),\n (9317, 10, 'mitchell', 4, 1),\n (9317, 10, 'nedlands', 5, 1),\n (9317, 10, '07 85883235', 6, 2)]"
     },
     "execution_count": 18,
     "metadata": {},
     "output_type": "execute_result"
    }
   ],
   "source": [
    "_con.execute(f\"drop table if exists {PREFIXES_VIEW}\").execute(\n",
    "    f\"create table {PREFIXES_VIEW} as \"\n",
    "    \"select rid, rlen, token, pos, df \"\n",
    "    f\"from {TOKENS_DOC_FREQ_VIEW} \"\n",
    "    f\"where rlen - pos + 1 >= ceil(rlen * {t}) \"\n",
    ").execute(f\"select * from {PREFIXES_VIEW}\").fetchall()"
   ],
   "metadata": {
    "collapsed": false,
    "pycharm": {
     "name": "#%%\n"
    }
   }
  },
  {
   "cell_type": "code",
   "execution_count": 19,
   "outputs": [
    {
     "data": {
      "text/plain": "[(3290, 7370, 5, 4, 1), (6300, 6859, 5, 4, 1)]"
     },
     "execution_count": 19,
     "metadata": {},
     "output_type": "execute_result"
    }
   ],
   "source": [
    "_con.execute(f\"drop table if exists {CANDIDATE_SET_VIEW}\").execute(\n",
    "    f\"CREATE table {CANDIDATE_SET_VIEW} AS \"\n",
    "    \"SELECT pr1.rid AS rid1, pr2.rid AS rid2 \"\n",
    "    \", MAX(pr1.pos) as maxPos1, MAX(pr2.pos) as maxPos2, count(*) as prOverlap \"\n",
    "    f\"FROM {PREFIXES_VIEW} pr1, {PREFIXES_VIEW} pr2 \"\n",
    "    \"WHERE pr1.rid < pr2.rid \"\n",
    "    \"AND pr1.token = pr2.token \"\n",
    "    # length filter\n",
    "    f\"AND pr1.rlen >= ceil({t} * pr2.rlen)\"\n",
    "    # prefix filter\n",
    "    # f\"AND pr1.rlen - pr1.pos + 1 >= CEIL(pr1.rlen * 2 * {t} / (1+{t})) \"\n",
    "    # positional filter\n",
    "    \"AND LEAST((pr1.rlen - pr1.pos + 1), (pr2.rlen - pr2.pos + 1)) >= \"\n",
    "    f\"CEIL((pr1.rlen + pr2.rlen) * {t} / (1 + {t})) \"\n",
    "    \"GROUP BY pr1.rid, pr2.rid \"\n",
    ").execute(f\"select * from {CANDIDATE_SET_VIEW}\").fetchall()"
   ],
   "metadata": {
    "collapsed": false,
    "pycharm": {
     "name": "#%%\n"
    }
   }
  },
  {
   "cell_type": "code",
   "execution_count": 22,
   "outputs": [
    {
     "data": {
      "text/plain": "[(3290, 7370, 7), (6300, 6859, 7)]"
     },
     "execution_count": 22,
     "metadata": {},
     "output_type": "execute_result"
    }
   ],
   "source": [
    "_con.execute(\n",
    "    \"select r1.rid as rid1, r2.rid as rid2 \"\n",
    "    f\", count(*) as overlap \"\n",
    "    f\"from {TOKENS_VIEW} as r1, {TOKENS_VIEW} as r2 \"\n",
    "    \"where r1.token = r2.token \"\n",
    "    \"and r1.rid < r2.rid \"\n",
    "    \"group by r1.rid, r1.rlen, r2.rid, r2.rlen \"\n",
    "    f\"having count(*) >= ceil({t} / (1+{t}) * (r1.rlen + r2.rlen))\"\n",
    ").fetchall()"
   ],
   "metadata": {
    "collapsed": false,
    "pycharm": {
     "name": "#%%\n"
    }
   }
  },
  {
   "cell_type": "code",
   "execution_count": null,
   "outputs": [],
   "source": [],
   "metadata": {
    "collapsed": false,
    "pycharm": {
     "name": "#%%\n"
    }
   }
  }
 ],
 "metadata": {
  "kernelspec": {
   "display_name": "Python 3",
   "language": "python",
   "name": "python3"
  },
  "language_info": {
   "codemirror_mode": {
    "name": "ipython",
    "version": 2
   },
   "file_extension": ".py",
   "mimetype": "text/x-python",
   "name": "python",
   "nbconvert_exporter": "python",
   "pygments_lexer": "ipython2",
   "version": "2.7.6"
  }
 },
 "nbformat": 4,
 "nbformat_minor": 0
}